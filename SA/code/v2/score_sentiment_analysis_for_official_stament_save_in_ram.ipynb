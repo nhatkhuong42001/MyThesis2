{
 "cells": [
  {
   "cell_type": "code",
   "execution_count": 1,
   "id": "81a96768",
   "metadata": {},
   "outputs": [
    {
     "name": "stdout",
     "output_type": "stream",
     "text": [
      "Requirement already satisfied: pdf2image in c:\\users\\nhatk\\appdata\\local\\programs\\python\\python37\\lib\\site-packages (1.17.0)\n",
      "Requirement already satisfied: pillow in c:\\users\\nhatk\\appdata\\local\\programs\\python\\python37\\lib\\site-packages (from pdf2image) (9.5.0)\n",
      "Note: you may need to restart the kernel to use updated packages.\n"
     ]
    }
   ],
   "source": [
    "pip install pdf2image"
   ]
  },
  {
   "cell_type": "code",
   "execution_count": 2,
   "id": "cb22115d",
   "metadata": {},
   "outputs": [],
   "source": [
    "from pdf2image import convert_from_path"
   ]
  },
  {
   "cell_type": "code",
   "execution_count": 3,
   "id": "8f866839",
   "metadata": {},
   "outputs": [],
   "source": [
    "import base64, os, gc, re\n",
    "import pandas as pd\n",
    "from pdf2image import convert_from_path\n",
    "from io import BytesIO\n",
    "from PIL import Image\n",
    "from openai import OpenAI\n",
    "from tqdm import tqdm\n",
    "import openai"
   ]
  },
  {
   "cell_type": "code",
   "execution_count": null,
   "id": "a6e8c633",
   "metadata": {},
   "outputs": [],
   "source": [
    "# Cài đặt OpenAI Client\n",
    "client = openai.OpenAI(\n",
    "    api_key=\"\",  # Thay API key\n",
    ")"
   ]
  },
  {
   "cell_type": "code",
   "execution_count": 5,
   "id": "073d002a",
   "metadata": {},
   "outputs": [],
   "source": [
    "# --- CONVERT PDF PAGES TO IMAGES IN RAM ---\n",
    "def convert_pdf_to_images_in_memory(pdf_path, dpi=200):\n",
    "    return convert_from_path(pdf_path, dpi=dpi)"
   ]
  },
  {
   "cell_type": "code",
   "execution_count": 6,
   "id": "da099500",
   "metadata": {},
   "outputs": [],
   "source": [
    "# --- CONVERT PIL IMAGE TO BASE64 ---\n",
    "def image_to_base64_pil(pil_image):\n",
    "    buffered = BytesIO()\n",
    "    pil_image.save(buffered, format=\"PNG\")\n",
    "    return base64.b64encode(buffered.getvalue()).decode('utf-8')"
   ]
  },
  {
   "cell_type": "code",
   "execution_count": 7,
   "id": "e5b97711",
   "metadata": {},
   "outputs": [],
   "source": [
    "# --- BUILD EXAMPLE FOR GPT FROM PDF IN MEMORY ---\n",
    "def create_image_content_from_pdf(pdf_path):\n",
    "    images = convert_pdf_to_images_in_memory(pdf_path)\n",
    "    image_contents = []\n",
    "    for img in images:\n",
    "        base64_img = image_to_base64_pil(img)\n",
    "        image_contents.append({\n",
    "            \"type\": \"image_url\",\n",
    "            \"image_url\": {\"url\": f\"data:image/png;base64,{base64_img}\"}\n",
    "        })\n",
    "    return image_contents"
   ]
  },
  {
   "cell_type": "code",
   "execution_count": 8,
   "id": "41ae70f5",
   "metadata": {},
   "outputs": [],
   "source": [
    "# --- PARSE GPT RESULT ---\n",
    "def parse_sentiment_string(sentiment_str):\n",
    "    pattern = r\"#([\\w\\s&\\-]+)\\s(-?\\d+\\.?\\d*)\"\n",
    "    return {match[0].strip(): float(match[1]) for match in re.findall(pattern, sentiment_str)}"
   ]
  },
  {
   "cell_type": "code",
   "execution_count": 9,
   "id": "52792246",
   "metadata": {},
   "outputs": [],
   "source": [
    "init_system_prompt = f'''Bạn là trợ lý hữu ích giúp tạo các cặp 'khía cạnh' - 'cảm xúc' từ một 'văn bản chính thức', 'văn bản pháp lý', 'nghị quyết', 'báo cáo chính thức' của công ty do công ty công bố. Dưới đây là các yêu cầu khi trích xuất khía cạnh và cảm xúc:\n",
    "1. Chúng tôi đã chuyển file pdf scan thành danh sách các ảnh. Bạn cần dùng khả năng xử lý ảnh (vision) của mình để “nhìn”, “đọc” và hiểu rõ nội dung trong các ảnh PNG để chấm điểm các khía cạnh cảm xúc.\n",
    "2. Các khía cạnh được trích xuất bao gồm: Reputation (Danh tiếng của công ty); Company Communication (Truyền thông của công ty); Appointment (Bổ nhiệm); Financial (Tài chính); Regulatory (Cơ quan quản lí, chính sách); Sales (Bán hàng); M&A (Merge & Acquisition): Sáp nhập; Legal (Luật, tính hợp pháp); Dividend Policy (Chính sách cổ tức); Risks (rủi ro - ví dụ operation risk, credit risk - rủi ro tín dụng, reputation risk); Rumors (tin đồn); Strategy (chiến lược); Options (quyền chọn); IPO (initial public offering): lên sàn, niêm yết; Signal (tín hiệu để mua bán cổ phiếu); Coverage (báo cáo khuyến nghị buy sell hold của analysts); Fundamentals (các chỉ số trong phân tích cơ bản như P/E, P/B, Liabilites to Asset ratio); Insider Activity (các hoạt động nội bộ của công ty); Price Action (biến động giá); Buyside (các quĩ đầu tư, công ty nhỏ) ngược với sellside IB (Investment Banks); Technical Analysis (Phân tích kĩ thuật); Trade (thương mại, xuất nhập khẩu); Central Banks (Ngân hàng Trung ương, ở VN: Ngân hàng nhà nước, SBV); Currency (tiền tệ, tỉ giá); Conditions (điều kiện); Market (thị trường); Volatility (độ biến động, rủi ro); Investor Sentiment (Tâm lý chung của nhà đầu tư) lạc quan, lo lắng, chờ đợi...; Retail Investor Behavior (Hành vi của nhà đầu tư cá nhân) FOMO, hoảng loạn, giữ tiền mặt…; Speculation (Đầu cơ, hành vi đầu tư theo tin đồn hoặc kỳ vọng ngắn hạn); Domestic Institutional Behavior (Hành vi của tổ chức trong nước: tự doanh, bảo hiểm, quỹ trong nước) mua ròng, bán ròng, giảm tỷ trọng, rút khỏi cổ phiếu, các giao dịch thỏa thuận lớn giữa các tổ chức nội bộ; Foreign Institutional Behavior (Hành vi của nhà đầu tư tổ chức nước ngoài: ETF, quỹ ngoại, nhà đầu tư nước ngoài) mua ròng, bán ròng, tin tức đưa cổ phiếu vào, ra danh mục ETF, cảnh báo rủi ro, hạ mức xếp hạng cổ phiếu từ các tổ chức nước ngoài; Black Swan Event (Sự kiện thiên nga đen: hiếm gặp, khó dự đoán, gây ảnh hưởng nghiêm trọng như khủng hoảng, chiến tranh, dịch bệnh...).\n",
    "3. Ảnh hưởng nội dung đến các khía cạnh tương ứng. Với mỗi chỉ số ảnh hưởng nên là số thực trong khoảng từ -1 (thật sự tiêu cực) đến 1 (thật sự tích cực)\n",
    "4. Đảm bảo rằng các khía cạnh mà bạn trích xuất liên quan đến vấn đề của văn bản trên. Và khía cạnh nào bạn phân vân hãy xem không ảnh hưởng thì đánh là 0.\n",
    "5. Chú ý là dựa vào ảnh hưởng của nội dung đến các khía cạnh. Khi cho tôi kết quả hãy theo format: có kí tự '#' trước khía cạnh, phía sau khía cạnh là con số ảnh hưởng nội dung, ví dụ về format '#khía cạnh1 1#khía cạnh2 -1#khía cạnh3 0'. Tuân thủ theo format của tôi, không làm khác.'''"
   ]
  },
  {
   "cell_type": "code",
   "execution_count": 10,
   "id": "040126d5",
   "metadata": {},
   "outputs": [],
   "source": [
    "query = \"Dựa vào các hình ảnh sau, hãy đánh giá ảnh hưởng của nội dung trong ảnh đến từng khía cạnh theo yêu cầu đã mô tả.\""
   ]
  },
  {
   "cell_type": "code",
   "execution_count": 11,
   "id": "d51da69d",
   "metadata": {},
   "outputs": [],
   "source": [
    "\n",
    "init_assistant = \"\"\"#Reputation 0.1#Company Communication 0.3#Appointment 0.0#Financial 0.5#Regulatory 0.0#Sales 0.0#M&A 0.0#Legal 0.0#Dividend Policy 0.0#Risks -0.1#Rumors 0.0#Strategy 0.0#Options 0.0#IPO 0.0#Signal 0.1#Coverage 0.0#Fundamentals 0.4#Insider Activity 0.0#Price Action 0.0#Buyside 0.0#Technical Analysis 0.0#Trade 0.0#Central Banks 0.0#Currency 0.0#Conditions 0.1#Market 0.0#Volatility 0.1#Investor Sentiment 0.2#Retail Investor Behavior 0.0#Speculation 0.0#Domestic Institutional Behavior 0.0#Foreign Institutional Behavior 0.0#Black Swan Event 0.0\"\"\""
   ]
  },
  {
   "cell_type": "code",
   "execution_count": 12,
   "id": "72975102",
   "metadata": {},
   "outputs": [],
   "source": [
    "# --- GỬI GPT ---\n",
    "def analyze_pdf_scan_in_memory(pdf_path, init_user_prompt):\n",
    "    image_contents = create_image_content_from_pdf(pdf_path)\n",
    "    try:\n",
    "        response = client.chat.completions.create(\n",
    "            model=\"gpt-4o\",\n",
    "            messages=[\n",
    "                {\"role\": \"system\", \"content\": init_system_prompt},\n",
    "                {\"role\": \"user\", \"content\": [{\"type\": \"text\", \"text\": query}] + init_user_prompt},\n",
    "                {\"role\": \"assistant\", \"content\": init_assistant},\n",
    "                {\"role\": \"user\", \"content\": [{\"type\": \"text\", \"text\": query}] + image_contents},\n",
    "            ],\n",
    "            max_tokens=2048,\n",
    "        )\n",
    "        result = response.choices[0].message.content\n",
    "        return result\n",
    "    except Exception as e:\n",
    "        print(f\"❌ GPT lỗi: {e}\")\n",
    "        return None\n",
    "    finally:\n",
    "        del image_contents\n",
    "        gc.collect()"
   ]
  },
  {
   "cell_type": "code",
   "execution_count": null,
   "id": "27560b55",
   "metadata": {},
   "outputs": [
    {
     "name": "stdout",
     "output_type": "stream",
     "text": [
      "#Reputation 0.2#Company Communication 0.3#Appointment 0.0#Financial 0.5#Regulatory 0.1#Sales 0.0#M&A 0.0#Legal 0.0#Dividend Policy 0.4#Risks 0.0#Rumors 0.0#Strategy 0.0#Options 0.0#IPO 0.0#Signal 0.1#Coverage 0.0#Fundamentals 0.3#Insider Activity 0.0#Price Action 0.0#Buyside 0.0#Technical Analysis 0.0#Trade 0.0#Central Banks 0.0#Currency 0.0#Conditions 0.0#Market 0.0#Volatility 0.0#Investor Sentiment 0.2#Retail Investor Behavior 0.0#Speculation 0.0#Domestic Institutional Behavior 0.0#Foreign Institutional Behavior 0.0#Black Swan Event 0.0\n"
     ]
    }
   ],
   "source": [
    "pdf_path = r\"D:\\thacsi\\TAILIEULUANVAN\\code\\PredictStock_TA_FA_SA\\SA\\data\\v2\\sentiment_score_data\\official_statement\\v2\\official_statement_pdf\\ACB\\acb-thong-bao-giao-dich-co-phieu-cua-to-chuc-co-lien-quan-den-nguoi-noi-bo_0.pdf\"\n",
    "pdf_path_init_user_prompt = r\"D:\\thacsi\\TAILIEULUANVAN\\code\\PredictStock_TA_FA_SA\\SA\\data\\v2\\sentiment_score_data\\official_statement\\example_pdf_score\\acb-giai-trinh-chenh-lech-lnst-quy-1-2023-so-voi-cung-ky-nam-truoc-0.pdf\"\n",
    "init_user_prompt = create_image_content_from_pdf(pdf_path_init_user_prompt)\n",
    "sentiment_analysis_result = analyze_pdf_scan_in_memory(pdf_path, init_user_prompt)\n",
    "print(sentiment_analysis_result)"
   ]
  },
  {
   "cell_type": "code",
   "execution_count": 21,
   "id": "a2917903",
   "metadata": {},
   "outputs": [
    {
     "name": "stdout",
     "output_type": "stream",
     "text": [
      "#Reputation 0.0#Company Communication 0.2#Appointment 0.0#Financial 0.0#Regulatory 0.0#Sales 0.0#M&A 0.0#Legal 0.0#Dividend Policy 0.0#Risks 0.0#Rumors 0.0#Strategy 0.0#Options 0.3#IPO 0.0#Signal 0.1#Coverage 0.0#Fundamentals 0.0#Insider Activity 0.4#Price Action 0.0#Buyside 0.0#Technical Analysis 0.0#Trade 0.0#Central Banks 0.0#Currency 0.0#Conditions 0.0#Market 0.0#Volatility 0.0#Investor Sentiment 0.0#Retail Investor Behavior 0.0#Speculation 0.0#Domestic Institutional Behavior 0.0#Foreign Institutional Behavior 0.0#Black Swan Event 0.0\n"
     ]
    }
   ],
   "source": [
    "pdf_path = r\"D:\\thacsi\\TAILIEULUANVAN\\code\\PredictStock_TA_FA_SA\\SA\\data\\v2\\sentiment_score_data\\official_statement\\v2\\official_statement_pdf\\ACB\\acb-bao-cao-ket-qua-giao-dich-co-phieu-cua-nguoi-co-lien-quan-den-nguoi-noi-bo-nguyen-hong-nga.pdf\"\n",
    "pdf_path_init_user_prompt = r\"D:\\thacsi\\TAILIEULUANVAN\\code\\PredictStock_TA_FA_SA\\SA\\data\\v2\\sentiment_score_data\\official_statement\\example_pdf_score\\acb-giai-trinh-chenh-lech-lnst-quy-1-2023-so-voi-cung-ky-nam-truoc-0.pdf\"\n",
    "init_user_prompt = create_image_content_from_pdf(pdf_path_init_user_prompt)\n",
    "sentiment_analysis_result = analyze_pdf_scan_in_memory(pdf_path, init_user_prompt)\n",
    "print(sentiment_analysis_result)"
   ]
  },
  {
   "cell_type": "code",
   "execution_count": 13,
   "id": "4c052629",
   "metadata": {},
   "outputs": [],
   "source": [
    "# --- ANALYZE TỪNG FILE PDF TRONG EXCEL ---\n",
    "def analyze_official_statements_for_stock(ticker):\n",
    "    # folder_excel_input = rf\"D:\\...{ticker}\"\n",
    "    # folder_pdf_input = rf\"D:\\...{ticker}\"\n",
    "    # folder_excel_output = rf\"D:\\...{ticker}\"\n",
    "    folder_excel_input = rf\"D:\\thacsi\\TAILIEULUANVAN\\code\\PredictStock_TA_FA_SA\\SA\\data\\v2\\news_official_statement\\train_data\\{ticker}\"\n",
    "    folder_pdf_input = rf\"D:\\thacsi\\TAILIEULUANVAN\\code\\PredictStock_TA_FA_SA\\SA\\data\\v2\\sentiment_score_data\\official_statement\\v2\\official_statement_pdf\\{ticker}\"\n",
    "    folder_excel_output = rf\"D:\\thacsi\\TAILIEULUANVAN\\code\\PredictStock_TA_FA_SA\\SA\\data\\v2\\sentiment_score_data\\official_statement\\v2\\train_data\"\n",
    "\n",
    "    excel_path = os.path.join(folder_excel_input, f\"{ticker}_filtered_news.xlsx\")\n",
    "    print(excel_path)\n",
    "    df = pd.read_excel(excel_path)\n",
    "\n",
    "    sentiment_columns = [\n",
    "        'Reputation', 'Company Communication', 'Appointment', 'Financial', 'Regulatory',\n",
    "        'Sales', 'M&A', 'Legal', 'Dividend Policy', 'Risks', 'Rumors', 'Strategy',\n",
    "        'Options', 'IPO', 'Signal', 'Coverage', 'Fundamentals', 'Insider Activity',\n",
    "        'Price Action', 'Buyside', 'Technical Analysis', 'Trade', 'Central Banks',\n",
    "        'Currency', 'Conditions', 'Market', 'Volatility', 'Investor Sentiment', 'Retail Investor Behavior',\n",
    "        'Speculation', 'Domestic Institutional Behavior', 'Foreign Institutional Behavior', 'Black Swan Event',\n",
    "    ]\n",
    "    for col in sentiment_columns:\n",
    "        df[col] = None\n",
    "\n",
    "    for i, row in tqdm(df.iterrows(), total=len(df)):\n",
    "        try:\n",
    "            pdf_name = row.get(\"official_statement_pdf_name\", \"\")\n",
    "            if not isinstance(pdf_name, str) or not pdf_name.endswith(\".pdf\"):\n",
    "                continue\n",
    "            pdf_path = os.path.join(folder_pdf_input, pdf_name)\n",
    "            if not os.path.exists(pdf_path):\n",
    "                print(f\"❌ Mất file: {pdf_name}\")\n",
    "                continue\n",
    "            \n",
    "            pdf_path_init_user_prompt = r\"D:\\thacsi\\TAILIEULUANVAN\\code\\PredictStock_TA_FA_SA\\SA\\data\\v2\\sentiment_score_data\\official_statement\\example_pdf_score\\acb-giai-trinh-chenh-lech-lnst-quy-1-2023-so-voi-cung-ky-nam-truoc-0.pdf\"\n",
    "            init_user_prompt = create_image_content_from_pdf(pdf_path_init_user_prompt)\n",
    "            sentiment_str = analyze_pdf_scan_in_memory(pdf_path, init_user_prompt)\n",
    "            if sentiment_str is None:\n",
    "                continue\n",
    "\n",
    "            sentiment_data = parse_sentiment_string(sentiment_str)\n",
    "            for col in sentiment_columns:\n",
    "                if col in sentiment_data:\n",
    "                    df.at[i, col] = sentiment_data[col]\n",
    "\n",
    "        except Exception as e:\n",
    "            print(f\"❌ Lỗi ở {pdf_name}: {e}\")\n",
    "            continue\n",
    "\n",
    "    os.makedirs(folder_excel_output, exist_ok=True)\n",
    "    output_path = os.path.join(folder_excel_output, f\"{ticker}.xlsx\")\n",
    "    df.to_excel(output_path, index=False)\n",
    "    print(f\"✅ Đã lưu tại: {output_path}\")"
   ]
  },
  {
   "cell_type": "code",
   "execution_count": 24,
   "id": "103949fb",
   "metadata": {},
   "outputs": [
    {
     "name": "stdout",
     "output_type": "stream",
     "text": [
      "D:\\thacsi\\TAILIEULUANVAN\\code\\PredictStock_TA_FA_SA\\SA\\data\\v2\\news_official_statement\\test_data\\ACB\\ACB_filtered_news.xlsx\n"
     ]
    },
    {
     "name": "stderr",
     "output_type": "stream",
     "text": [
      "100%|██████████| 12/12 [03:26<00:00, 17.20s/it]"
     ]
    },
    {
     "name": "stdout",
     "output_type": "stream",
     "text": [
      "✅ Đã lưu tại: D:\\thacsi\\TAILIEULUANVAN\\code\\PredictStock_TA_FA_SA\\SA\\data\\v2\\sentiment_score_data\\official_statement\\v2\\test_data\\ACB.xlsx\n"
     ]
    },
    {
     "name": "stderr",
     "output_type": "stream",
     "text": [
      "\n"
     ]
    }
   ],
   "source": [
    "analyze_official_statements_for_stock(\"ACB\")"
   ]
  },
  {
   "cell_type": "code",
   "execution_count": 14,
   "id": "dc77f101",
   "metadata": {},
   "outputs": [],
   "source": [
    "def analyze_official_statements_for_vn30(tickers):\n",
    "    for ticker in tickers:\n",
    "        try:\n",
    "            print(f\"Đang xử lý cổ phiếu {ticker} test\")\n",
    "            analyze_official_statements_for_stock(ticker)\n",
    "            print(f\"Đã xử lý xong cổ phiếu {ticker} test\")\n",
    "        except Exception as e:\n",
    "            print(f\"Loi xu ly co phieu {ticker} test {e}\")\n",
    "            continue"
   ]
  },
  {
   "cell_type": "code",
   "execution_count": null,
   "id": "52b49706",
   "metadata": {},
   "outputs": [
    {
     "name": "stdout",
     "output_type": "stream",
     "text": [
      "Đang xử lý cổ phiếu SSI test\n",
      "D:\\thacsi\\TAILIEULUANVAN\\code\\PredictStock_TA_FA_SA\\SA\\data\\v2\\news_official_statement\\train_data\\SSI\\SSI_filtered_news.xlsx\n"
     ]
    },
    {
     "name": "stderr",
     "output_type": "stream",
     "text": [
      "100%|██████████| 141/141 [40:26<00:00, 17.21s/it]\n"
     ]
    },
    {
     "name": "stdout",
     "output_type": "stream",
     "text": [
      "✅ Đã lưu tại: D:\\thacsi\\TAILIEULUANVAN\\code\\PredictStock_TA_FA_SA\\SA\\data\\v2\\sentiment_score_data\\official_statement\\v2\\train_data\\SSI.xlsx\n",
      "Đã xử lý xong cổ phiếu SSI test\n",
      "Đang xử lý cổ phiếu STB test\n",
      "D:\\thacsi\\TAILIEULUANVAN\\code\\PredictStock_TA_FA_SA\\SA\\data\\v2\\news_official_statement\\train_data\\STB\\STB_filtered_news.xlsx\n"
     ]
    },
    {
     "name": "stderr",
     "output_type": "stream",
     "text": [
      "100%|██████████| 211/211 [50:38<00:00, 14.40s/it]\n"
     ]
    },
    {
     "name": "stdout",
     "output_type": "stream",
     "text": [
      "✅ Đã lưu tại: D:\\thacsi\\TAILIEULUANVAN\\code\\PredictStock_TA_FA_SA\\SA\\data\\v2\\sentiment_score_data\\official_statement\\v2\\train_data\\STB.xlsx\n",
      "Đã xử lý xong cổ phiếu STB test\n",
      "Đang xử lý cổ phiếu TCB test\n",
      "D:\\thacsi\\TAILIEULUANVAN\\code\\PredictStock_TA_FA_SA\\SA\\data\\v2\\news_official_statement\\train_data\\TCB\\TCB_filtered_news.xlsx\n"
     ]
    },
    {
     "name": "stderr",
     "output_type": "stream",
     "text": [
      "100%|██████████| 206/206 [48:43<00:00, 14.19s/it]\n"
     ]
    },
    {
     "name": "stdout",
     "output_type": "stream",
     "text": [
      "✅ Đã lưu tại: D:\\thacsi\\TAILIEULUANVAN\\code\\PredictStock_TA_FA_SA\\SA\\data\\v2\\sentiment_score_data\\official_statement\\v2\\train_data\\TCB.xlsx\n",
      "Đã xử lý xong cổ phiếu TCB test\n",
      "Đang xử lý cổ phiếu TPB test\n",
      "D:\\thacsi\\TAILIEULUANVAN\\code\\PredictStock_TA_FA_SA\\SA\\data\\v2\\news_official_statement\\train_data\\TPB\\TPB_filtered_news.xlsx\n"
     ]
    },
    {
     "name": "stderr",
     "output_type": "stream",
     "text": [
      "100%|██████████| 115/115 [26:19<00:00, 13.73s/it]\n"
     ]
    },
    {
     "name": "stdout",
     "output_type": "stream",
     "text": [
      "✅ Đã lưu tại: D:\\thacsi\\TAILIEULUANVAN\\code\\PredictStock_TA_FA_SA\\SA\\data\\v2\\sentiment_score_data\\official_statement\\v2\\train_data\\TPB.xlsx\n",
      "Đã xử lý xong cổ phiếu TPB test\n",
      "Đang xử lý cổ phiếu VCB test\n",
      "D:\\thacsi\\TAILIEULUANVAN\\code\\PredictStock_TA_FA_SA\\SA\\data\\v2\\news_official_statement\\train_data\\VCB\\VCB_filtered_news.xlsx\n"
     ]
    },
    {
     "name": "stderr",
     "output_type": "stream",
     "text": [
      "  0%|          | 0/95 [00:00<?, ?it/s]"
     ]
    },
    {
     "name": "stdout",
     "output_type": "stream",
     "text": [
      "❌ Mất file: vcb-cbtt-link-bao-cao-tai-chinh-rieng-le-va-hop-nhat-q3-2023-va-giai-trinh-bien-dong-lnst-q3-2023-so-voi-cung-ky-nam-truoc-0.pdf\n"
     ]
    },
    {
     "name": "stderr",
     "output_type": "stream",
     "text": [
      "100%|██████████| 95/95 [20:40<00:00, 13.06s/it]\n"
     ]
    },
    {
     "name": "stdout",
     "output_type": "stream",
     "text": [
      "✅ Đã lưu tại: D:\\thacsi\\TAILIEULUANVAN\\code\\PredictStock_TA_FA_SA\\SA\\data\\v2\\sentiment_score_data\\official_statement\\v2\\train_data\\VCB.xlsx\n",
      "Đã xử lý xong cổ phiếu VCB test\n",
      "Đang xử lý cổ phiếu VHM test\n",
      "D:\\thacsi\\TAILIEULUANVAN\\code\\PredictStock_TA_FA_SA\\SA\\data\\v2\\news_official_statement\\train_data\\VHM\\VHM_filtered_news.xlsx\n"
     ]
    },
    {
     "name": "stderr",
     "output_type": "stream",
     "text": [
      "100%|██████████| 160/160 [37:10<00:00, 13.94s/it]\n"
     ]
    },
    {
     "name": "stdout",
     "output_type": "stream",
     "text": [
      "✅ Đã lưu tại: D:\\thacsi\\TAILIEULUANVAN\\code\\PredictStock_TA_FA_SA\\SA\\data\\v2\\sentiment_score_data\\official_statement\\v2\\train_data\\VHM.xlsx\n",
      "Đã xử lý xong cổ phiếu VHM test\n",
      "Đang xử lý cổ phiếu VIB test\n",
      "D:\\thacsi\\TAILIEULUANVAN\\code\\PredictStock_TA_FA_SA\\SA\\data\\v2\\news_official_statement\\train_data\\VIB\\VIB_filtered_news.xlsx\n"
     ]
    },
    {
     "name": "stderr",
     "output_type": "stream",
     "text": [
      " 65%|██████▍   | 100/155 [32:52<41:48, 45.60s/it]"
     ]
    },
    {
     "name": "stdout",
     "output_type": "stream",
     "text": [
      "❌ GPT lỗi: Connection error.\n"
     ]
    },
    {
     "name": "stderr",
     "output_type": "stream",
     "text": [
      "100%|██████████| 155/155 [45:23<00:00, 17.57s/it]\n"
     ]
    },
    {
     "name": "stdout",
     "output_type": "stream",
     "text": [
      "✅ Đã lưu tại: D:\\thacsi\\TAILIEULUANVAN\\code\\PredictStock_TA_FA_SA\\SA\\data\\v2\\sentiment_score_data\\official_statement\\v2\\train_data\\VIB.xlsx\n",
      "Đã xử lý xong cổ phiếu VIB test\n",
      "Đang xử lý cổ phiếu VIC test\n",
      "D:\\thacsi\\TAILIEULUANVAN\\code\\PredictStock_TA_FA_SA\\SA\\data\\v2\\news_official_statement\\train_data\\VIC\\VIC_filtered_news.xlsx\n"
     ]
    },
    {
     "name": "stderr",
     "output_type": "stream",
     "text": [
      "100%|██████████| 183/183 [39:44<00:00, 13.03s/it]\n"
     ]
    },
    {
     "name": "stdout",
     "output_type": "stream",
     "text": [
      "✅ Đã lưu tại: D:\\thacsi\\TAILIEULUANVAN\\code\\PredictStock_TA_FA_SA\\SA\\data\\v2\\sentiment_score_data\\official_statement\\v2\\train_data\\VIC.xlsx\n",
      "Đã xử lý xong cổ phiếu VIC test\n",
      "Đang xử lý cổ phiếu VJC test\n",
      "D:\\thacsi\\TAILIEULUANVAN\\code\\PredictStock_TA_FA_SA\\SA\\data\\v2\\news_official_statement\\train_data\\VJC\\VJC_filtered_news.xlsx\n"
     ]
    },
    {
     "name": "stderr",
     "output_type": "stream",
     "text": [
      "100%|██████████| 81/81 [18:58<00:00, 14.06s/it]\n"
     ]
    },
    {
     "name": "stdout",
     "output_type": "stream",
     "text": [
      "✅ Đã lưu tại: D:\\thacsi\\TAILIEULUANVAN\\code\\PredictStock_TA_FA_SA\\SA\\data\\v2\\sentiment_score_data\\official_statement\\v2\\train_data\\VJC.xlsx\n",
      "Đã xử lý xong cổ phiếu VJC test\n",
      "Đang xử lý cổ phiếu VNM test\n",
      "D:\\thacsi\\TAILIEULUANVAN\\code\\PredictStock_TA_FA_SA\\SA\\data\\v2\\news_official_statement\\train_data\\VNM\\VNM_filtered_news.xlsx\n"
     ]
    },
    {
     "name": "stderr",
     "output_type": "stream",
     "text": [
      "100%|██████████| 174/174 [41:07<00:00, 14.18s/it]\n"
     ]
    },
    {
     "name": "stdout",
     "output_type": "stream",
     "text": [
      "✅ Đã lưu tại: D:\\thacsi\\TAILIEULUANVAN\\code\\PredictStock_TA_FA_SA\\SA\\data\\v2\\sentiment_score_data\\official_statement\\v2\\train_data\\VNM.xlsx\n",
      "Đã xử lý xong cổ phiếu VNM test\n",
      "Đang xử lý cổ phiếu VPB test\n",
      "D:\\thacsi\\TAILIEULUANVAN\\code\\PredictStock_TA_FA_SA\\SA\\data\\v2\\news_official_statement\\train_data\\VPB\\VPB_filtered_news.xlsx\n"
     ]
    },
    {
     "name": "stderr",
     "output_type": "stream",
     "text": [
      "100%|██████████| 227/227 [57:01<00:00, 15.07s/it]\n"
     ]
    },
    {
     "name": "stdout",
     "output_type": "stream",
     "text": [
      "✅ Đã lưu tại: D:\\thacsi\\TAILIEULUANVAN\\code\\PredictStock_TA_FA_SA\\SA\\data\\v2\\sentiment_score_data\\official_statement\\v2\\train_data\\VPB.xlsx\n",
      "Đã xử lý xong cổ phiếu VPB test\n",
      "Đang xử lý cổ phiếu VRE test\n",
      "D:\\thacsi\\TAILIEULUANVAN\\code\\PredictStock_TA_FA_SA\\SA\\data\\v2\\news_official_statement\\train_data\\VRE\\VRE_filtered_news.xlsx\n"
     ]
    },
    {
     "name": "stderr",
     "output_type": "stream",
     "text": [
      "100%|██████████| 128/128 [29:25<00:00, 13.79s/it]"
     ]
    },
    {
     "name": "stdout",
     "output_type": "stream",
     "text": [
      "✅ Đã lưu tại: D:\\thacsi\\TAILIEULUANVAN\\code\\PredictStock_TA_FA_SA\\SA\\data\\v2\\sentiment_score_data\\official_statement\\v2\\train_data\\VRE.xlsx\n",
      "Đã xử lý xong cổ phiếu VRE test\n"
     ]
    },
    {
     "name": "stderr",
     "output_type": "stream",
     "text": [
      "\n"
     ]
    }
   ],
   "source": [
    "tickers = ['ACB','BCM', 'BID','BVH','CTG','FPT','GAS','GVR','HDB','HPG','LPB','MBB','MSN','MWG','PLX','SAB','SHB','SSB','SSI','STB','TCB','TPB','VCB','VHM','VIB','VIC','VJC','VNM','VPB','VRE']\n",
    "analyze_official_statements_for_vn30(tickers)"
   ]
  },
  {
   "cell_type": "code",
   "execution_count": null,
   "id": "ffdbaf71",
   "metadata": {},
   "outputs": [],
   "source": []
  }
 ],
 "metadata": {
  "kernelspec": {
   "display_name": "Python 3",
   "language": "python",
   "name": "python3"
  },
  "language_info": {
   "codemirror_mode": {
    "name": "ipython",
    "version": 3
   },
   "file_extension": ".py",
   "mimetype": "text/x-python",
   "name": "python",
   "nbconvert_exporter": "python",
   "pygments_lexer": "ipython3",
   "version": "3.7.9"
  }
 },
 "nbformat": 4,
 "nbformat_minor": 5
}
