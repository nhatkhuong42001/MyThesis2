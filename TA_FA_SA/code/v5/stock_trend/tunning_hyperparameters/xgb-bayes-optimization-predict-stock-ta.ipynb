{
 "cells": [
  {
   "cell_type": "code",
   "execution_count": 1,
   "metadata": {
    "execution": {
     "iopub.execute_input": "2025-07-24T11:12:24.120824Z",
     "iopub.status.busy": "2025-07-24T11:12:24.120549Z",
     "iopub.status.idle": "2025-07-24T11:12:29.430695Z",
     "shell.execute_reply": "2025-07-24T11:12:29.429782Z",
     "shell.execute_reply.started": "2025-07-24T11:12:24.120798Z"
    },
    "id": "Okm4_Fz0m1-2",
    "outputId": "b9912095-2811-4d6c-cff5-720d10001a10",
    "trusted": true
   },
   "outputs": [
    {
     "name": "stdout",
     "output_type": "stream",
     "text": [
      "Collecting vnstock\n",
      "  Downloading vnstock-3.2.6-py3-none-any.whl.metadata (42 kB)\n",
      "\u001b[2K     \u001b[90m━━━━━━━━━━━━━━━━━━━━━━━━━━━━━━━━━━━━━━━━\u001b[0m \u001b[32m42.5/42.5 kB\u001b[0m \u001b[31m1.9 MB/s\u001b[0m eta \u001b[36m0:00:00\u001b[0m\n",
      "\u001b[?25hRequirement already satisfied: requests in /usr/local/lib/python3.11/dist-packages (from vnstock) (2.32.3)\n",
      "Requirement already satisfied: beautifulsoup4 in /usr/local/lib/python3.11/dist-packages (from vnstock) (4.13.3)\n",
      "Requirement already satisfied: pandas in /usr/local/lib/python3.11/dist-packages (from vnstock) (2.2.3)\n",
      "Requirement already satisfied: seaborn in /usr/local/lib/python3.11/dist-packages (from vnstock) (0.12.2)\n",
      "Requirement already satisfied: openpyxl in /usr/local/lib/python3.11/dist-packages (from vnstock) (3.1.5)\n",
      "Requirement already satisfied: pydantic in /usr/local/lib/python3.11/dist-packages (from vnstock) (2.11.4)\n",
      "Requirement already satisfied: psutil in /usr/local/lib/python3.11/dist-packages (from vnstock) (7.0.0)\n",
      "Collecting fake_useragent (from vnstock)\n",
      "  Downloading fake_useragent-2.2.0-py3-none-any.whl.metadata (17 kB)\n",
      "Collecting vnstock_ezchart (from vnstock)\n",
      "  Downloading vnstock_ezchart-0.0.2-py3-none-any.whl.metadata (6.6 kB)\n",
      "Requirement already satisfied: click in /usr/local/lib/python3.11/dist-packages (from vnstock) (8.1.8)\n",
      "Requirement already satisfied: packaging>=20.0 in /usr/local/lib/python3.11/dist-packages (from vnstock) (25.0)\n",
      "Requirement already satisfied: importlib-metadata>=1.0 in /usr/local/lib/python3.11/dist-packages (from vnstock) (8.7.0)\n",
      "Requirement already satisfied: tenacity in /usr/local/lib/python3.11/dist-packages (from vnstock) (9.1.2)\n",
      "Collecting vnai>=2.0.3 (from vnstock)\n",
      "  Downloading vnai-2.1.9-py3-none-any.whl.metadata (662 bytes)\n",
      "Requirement already satisfied: zipp>=3.20 in /usr/local/lib/python3.11/dist-packages (from importlib-metadata>=1.0->vnstock) (3.21.0)\n",
      "Requirement already satisfied: charset-normalizer<4,>=2 in /usr/local/lib/python3.11/dist-packages (from requests->vnstock) (3.4.2)\n",
      "Requirement already satisfied: idna<4,>=2.5 in /usr/local/lib/python3.11/dist-packages (from requests->vnstock) (3.10)\n",
      "Requirement already satisfied: urllib3<3,>=1.21.1 in /usr/local/lib/python3.11/dist-packages (from requests->vnstock) (2.4.0)\n",
      "Requirement already satisfied: certifi>=2017.4.17 in /usr/local/lib/python3.11/dist-packages (from requests->vnstock) (2025.4.26)\n",
      "Requirement already satisfied: soupsieve>1.2 in /usr/local/lib/python3.11/dist-packages (from beautifulsoup4->vnstock) (2.6)\n",
      "Requirement already satisfied: typing-extensions>=4.0.0 in /usr/local/lib/python3.11/dist-packages (from beautifulsoup4->vnstock) (4.13.2)\n",
      "Requirement already satisfied: et-xmlfile in /usr/local/lib/python3.11/dist-packages (from openpyxl->vnstock) (2.0.0)\n",
      "Requirement already satisfied: numpy>=1.23.2 in /usr/local/lib/python3.11/dist-packages (from pandas->vnstock) (1.26.4)\n",
      "Requirement already satisfied: python-dateutil>=2.8.2 in /usr/local/lib/python3.11/dist-packages (from pandas->vnstock) (2.9.0.post0)\n",
      "Requirement already satisfied: pytz>=2020.1 in /usr/local/lib/python3.11/dist-packages (from pandas->vnstock) (2025.2)\n",
      "Requirement already satisfied: tzdata>=2022.7 in /usr/local/lib/python3.11/dist-packages (from pandas->vnstock) (2025.2)\n",
      "Requirement already satisfied: annotated-types>=0.6.0 in /usr/local/lib/python3.11/dist-packages (from pydantic->vnstock) (0.7.0)\n",
      "Requirement already satisfied: pydantic-core==2.33.2 in /usr/local/lib/python3.11/dist-packages (from pydantic->vnstock) (2.33.2)\n",
      "Requirement already satisfied: typing-inspection>=0.4.0 in /usr/local/lib/python3.11/dist-packages (from pydantic->vnstock) (0.4.0)\n",
      "Requirement already satisfied: matplotlib!=3.6.1,>=3.1 in /usr/local/lib/python3.11/dist-packages (from seaborn->vnstock) (3.7.2)\n",
      "Requirement already satisfied: squarify in /usr/local/lib/python3.11/dist-packages (from vnstock_ezchart->vnstock) (0.4.4)\n",
      "Requirement already satisfied: wordcloud in /usr/local/lib/python3.11/dist-packages (from vnstock_ezchart->vnstock) (1.9.4)\n",
      "Requirement already satisfied: contourpy>=1.0.1 in /usr/local/lib/python3.11/dist-packages (from matplotlib!=3.6.1,>=3.1->seaborn->vnstock) (1.3.1)\n",
      "Requirement already satisfied: cycler>=0.10 in /usr/local/lib/python3.11/dist-packages (from matplotlib!=3.6.1,>=3.1->seaborn->vnstock) (0.12.1)\n",
      "Requirement already satisfied: fonttools>=4.22.0 in /usr/local/lib/python3.11/dist-packages (from matplotlib!=3.6.1,>=3.1->seaborn->vnstock) (4.57.0)\n",
      "Requirement already satisfied: kiwisolver>=1.0.1 in /usr/local/lib/python3.11/dist-packages (from matplotlib!=3.6.1,>=3.1->seaborn->vnstock) (1.4.8)\n",
      "Requirement already satisfied: pillow>=6.2.0 in /usr/local/lib/python3.11/dist-packages (from matplotlib!=3.6.1,>=3.1->seaborn->vnstock) (11.1.0)\n",
      "Requirement already satisfied: pyparsing<3.1,>=2.3.1 in /usr/local/lib/python3.11/dist-packages (from matplotlib!=3.6.1,>=3.1->seaborn->vnstock) (3.0.9)\n",
      "Requirement already satisfied: mkl_fft in /usr/local/lib/python3.11/dist-packages (from numpy>=1.23.2->pandas->vnstock) (1.3.8)\n",
      "Requirement already satisfied: mkl_random in /usr/local/lib/python3.11/dist-packages (from numpy>=1.23.2->pandas->vnstock) (1.2.4)\n",
      "Requirement already satisfied: mkl_umath in /usr/local/lib/python3.11/dist-packages (from numpy>=1.23.2->pandas->vnstock) (0.1.1)\n",
      "Requirement already satisfied: mkl in /usr/local/lib/python3.11/dist-packages (from numpy>=1.23.2->pandas->vnstock) (2025.1.0)\n",
      "Requirement already satisfied: tbb4py in /usr/local/lib/python3.11/dist-packages (from numpy>=1.23.2->pandas->vnstock) (2022.1.0)\n",
      "Requirement already satisfied: mkl-service in /usr/local/lib/python3.11/dist-packages (from numpy>=1.23.2->pandas->vnstock) (2.4.1)\n",
      "Requirement already satisfied: six>=1.5 in /usr/local/lib/python3.11/dist-packages (from python-dateutil>=2.8.2->pandas->vnstock) (1.17.0)\n",
      "Requirement already satisfied: intel-openmp<2026,>=2024 in /usr/local/lib/python3.11/dist-packages (from mkl->numpy>=1.23.2->pandas->vnstock) (2024.2.0)\n",
      "Requirement already satisfied: tbb==2022.* in /usr/local/lib/python3.11/dist-packages (from mkl->numpy>=1.23.2->pandas->vnstock) (2022.1.0)\n",
      "Requirement already satisfied: tcmlib==1.* in /usr/local/lib/python3.11/dist-packages (from tbb==2022.*->mkl->numpy>=1.23.2->pandas->vnstock) (1.3.0)\n",
      "Requirement already satisfied: intel-cmplr-lib-rt in /usr/local/lib/python3.11/dist-packages (from mkl_umath->numpy>=1.23.2->pandas->vnstock) (2024.2.0)\n",
      "Requirement already satisfied: intel-cmplr-lib-ur==2024.2.0 in /usr/local/lib/python3.11/dist-packages (from intel-openmp<2026,>=2024->mkl->numpy>=1.23.2->pandas->vnstock) (2024.2.0)\n",
      "Downloading vnstock-3.2.6-py3-none-any.whl (121 kB)\n",
      "\u001b[2K   \u001b[90m━━━━━━━━━━━━━━━━━━━━━━━━━━━━━━━━━━━━━━━━\u001b[0m \u001b[32m121.8/121.8 kB\u001b[0m \u001b[31m6.9 MB/s\u001b[0m eta \u001b[36m0:00:00\u001b[0m\n",
      "\u001b[?25hDownloading vnai-2.1.9-py3-none-any.whl (25 kB)\n",
      "Downloading fake_useragent-2.2.0-py3-none-any.whl (161 kB)\n",
      "\u001b[2K   \u001b[90m━━━━━━━━━━━━━━━━━━━━━━━━━━━━━━━━━━━━━━━━\u001b[0m \u001b[32m161.7/161.7 kB\u001b[0m \u001b[31m9.8 MB/s\u001b[0m eta \u001b[36m0:00:00\u001b[0m\n",
      "\u001b[?25hDownloading vnstock_ezchart-0.0.2-py3-none-any.whl (14 kB)\n",
      "Installing collected packages: fake_useragent, vnai, vnstock_ezchart, vnstock\n",
      "Successfully installed fake_useragent-2.2.0 vnai-2.1.9 vnstock-3.2.6 vnstock_ezchart-0.0.2\n",
      "Note: you may need to restart the kernel to use updated packages.\n"
     ]
    }
   ],
   "source": [
    "pip install -U vnstock"
   ]
  },
  {
   "cell_type": "code",
   "execution_count": 2,
   "metadata": {
    "execution": {
     "iopub.execute_input": "2025-07-24T11:14:09.436527Z",
     "iopub.status.busy": "2025-07-24T11:14:09.436217Z",
     "iopub.status.idle": "2025-07-24T11:14:12.433102Z",
     "shell.execute_reply": "2025-07-24T11:14:12.432182Z",
     "shell.execute_reply.started": "2025-07-24T11:14:09.436497Z"
    },
    "id": "a50KDExwzi2l",
    "outputId": "4169dd5a-71f6-40a8-dc0f-0c4f8d67600b",
    "trusted": true
   },
   "outputs": [
    {
     "name": "stdout",
     "output_type": "stream",
     "text": [
      "Requirement already satisfied: optuna in /usr/local/lib/python3.11/dist-packages (4.3.0)\n",
      "Requirement already satisfied: alembic>=1.5.0 in /usr/local/lib/python3.11/dist-packages (from optuna) (1.15.2)\n",
      "Requirement already satisfied: colorlog in /usr/local/lib/python3.11/dist-packages (from optuna) (6.9.0)\n",
      "Requirement already satisfied: numpy in /usr/local/lib/python3.11/dist-packages (from optuna) (1.26.4)\n",
      "Requirement already satisfied: packaging>=20.0 in /usr/local/lib/python3.11/dist-packages (from optuna) (25.0)\n",
      "Requirement already satisfied: sqlalchemy>=1.4.2 in /usr/local/lib/python3.11/dist-packages (from optuna) (2.0.40)\n",
      "Requirement already satisfied: tqdm in /usr/local/lib/python3.11/dist-packages (from optuna) (4.67.1)\n",
      "Requirement already satisfied: PyYAML in /usr/local/lib/python3.11/dist-packages (from optuna) (6.0.2)\n",
      "Requirement already satisfied: Mako in /usr/local/lib/python3.11/dist-packages (from alembic>=1.5.0->optuna) (1.3.10)\n",
      "Requirement already satisfied: typing-extensions>=4.12 in /usr/local/lib/python3.11/dist-packages (from alembic>=1.5.0->optuna) (4.13.2)\n",
      "Requirement already satisfied: greenlet>=1 in /usr/local/lib/python3.11/dist-packages (from sqlalchemy>=1.4.2->optuna) (3.1.1)\n",
      "Requirement already satisfied: mkl_fft in /usr/local/lib/python3.11/dist-packages (from numpy->optuna) (1.3.8)\n",
      "Requirement already satisfied: mkl_random in /usr/local/lib/python3.11/dist-packages (from numpy->optuna) (1.2.4)\n",
      "Requirement already satisfied: mkl_umath in /usr/local/lib/python3.11/dist-packages (from numpy->optuna) (0.1.1)\n",
      "Requirement already satisfied: mkl in /usr/local/lib/python3.11/dist-packages (from numpy->optuna) (2025.1.0)\n",
      "Requirement already satisfied: tbb4py in /usr/local/lib/python3.11/dist-packages (from numpy->optuna) (2022.1.0)\n",
      "Requirement already satisfied: mkl-service in /usr/local/lib/python3.11/dist-packages (from numpy->optuna) (2.4.1)\n",
      "Requirement already satisfied: MarkupSafe>=0.9.2 in /usr/local/lib/python3.11/dist-packages (from Mako->alembic>=1.5.0->optuna) (3.0.2)\n",
      "Requirement already satisfied: intel-openmp<2026,>=2024 in /usr/local/lib/python3.11/dist-packages (from mkl->numpy->optuna) (2024.2.0)\n",
      "Requirement already satisfied: tbb==2022.* in /usr/local/lib/python3.11/dist-packages (from mkl->numpy->optuna) (2022.1.0)\n",
      "Requirement already satisfied: tcmlib==1.* in /usr/local/lib/python3.11/dist-packages (from tbb==2022.*->mkl->numpy->optuna) (1.3.0)\n",
      "Requirement already satisfied: intel-cmplr-lib-rt in /usr/local/lib/python3.11/dist-packages (from mkl_umath->numpy->optuna) (2024.2.0)\n",
      "Requirement already satisfied: intel-cmplr-lib-ur==2024.2.0 in /usr/local/lib/python3.11/dist-packages (from intel-openmp<2026,>=2024->mkl->numpy->optuna) (2024.2.0)\n",
      "Note: you may need to restart the kernel to use updated packages.\n"
     ]
    }
   ],
   "source": [
    "pip install optuna"
   ]
  },
  {
   "cell_type": "code",
   "execution_count": 3,
   "metadata": {
    "execution": {
     "iopub.execute_input": "2025-07-24T11:14:14.944390Z",
     "iopub.status.busy": "2025-07-24T11:14:14.944099Z",
     "iopub.status.idle": "2025-07-24T11:14:19.805934Z",
     "shell.execute_reply": "2025-07-24T11:14:19.805043Z",
     "shell.execute_reply.started": "2025-07-24T11:14:14.944363Z"
    },
    "id": "wh4DI2CwnSEF",
    "outputId": "30b2a971-16a7-4931-d041-cddba828a1e7",
    "trusted": true
   },
   "outputs": [
    {
     "name": "stdout",
     "output_type": "stream",
     "text": [
      "Collecting ta\n",
      "  Downloading ta-0.11.0.tar.gz (25 kB)\n",
      "  Preparing metadata (setup.py) ... \u001b[?25l\u001b[?25hdone\n",
      "Requirement already satisfied: numpy in /usr/local/lib/python3.11/dist-packages (from ta) (1.26.4)\n",
      "Requirement already satisfied: pandas in /usr/local/lib/python3.11/dist-packages (from ta) (2.2.3)\n",
      "Requirement already satisfied: mkl_fft in /usr/local/lib/python3.11/dist-packages (from numpy->ta) (1.3.8)\n",
      "Requirement already satisfied: mkl_random in /usr/local/lib/python3.11/dist-packages (from numpy->ta) (1.2.4)\n",
      "Requirement already satisfied: mkl_umath in /usr/local/lib/python3.11/dist-packages (from numpy->ta) (0.1.1)\n",
      "Requirement already satisfied: mkl in /usr/local/lib/python3.11/dist-packages (from numpy->ta) (2025.1.0)\n",
      "Requirement already satisfied: tbb4py in /usr/local/lib/python3.11/dist-packages (from numpy->ta) (2022.1.0)\n",
      "Requirement already satisfied: mkl-service in /usr/local/lib/python3.11/dist-packages (from numpy->ta) (2.4.1)\n",
      "Requirement already satisfied: python-dateutil>=2.8.2 in /usr/local/lib/python3.11/dist-packages (from pandas->ta) (2.9.0.post0)\n",
      "Requirement already satisfied: pytz>=2020.1 in /usr/local/lib/python3.11/dist-packages (from pandas->ta) (2025.2)\n",
      "Requirement already satisfied: tzdata>=2022.7 in /usr/local/lib/python3.11/dist-packages (from pandas->ta) (2025.2)\n",
      "Requirement already satisfied: six>=1.5 in /usr/local/lib/python3.11/dist-packages (from python-dateutil>=2.8.2->pandas->ta) (1.17.0)\n",
      "Requirement already satisfied: intel-openmp<2026,>=2024 in /usr/local/lib/python3.11/dist-packages (from mkl->numpy->ta) (2024.2.0)\n",
      "Requirement already satisfied: tbb==2022.* in /usr/local/lib/python3.11/dist-packages (from mkl->numpy->ta) (2022.1.0)\n",
      "Requirement already satisfied: tcmlib==1.* in /usr/local/lib/python3.11/dist-packages (from tbb==2022.*->mkl->numpy->ta) (1.3.0)\n",
      "Requirement already satisfied: intel-cmplr-lib-rt in /usr/local/lib/python3.11/dist-packages (from mkl_umath->numpy->ta) (2024.2.0)\n",
      "Requirement already satisfied: intel-cmplr-lib-ur==2024.2.0 in /usr/local/lib/python3.11/dist-packages (from intel-openmp<2026,>=2024->mkl->numpy->ta) (2024.2.0)\n",
      "Building wheels for collected packages: ta\n",
      "  Building wheel for ta (setup.py) ... \u001b[?25l\u001b[?25hdone\n",
      "  Created wheel for ta: filename=ta-0.11.0-py3-none-any.whl size=29412 sha256=89e35d6e6268ba4aaae6f5b5c196bbd076323b8c36cd62a540c5b70585557e42\n",
      "  Stored in directory: /root/.cache/pip/wheels/a1/d7/29/7781cc5eb9a3659d032d7d15bdd0f49d07d2b24fec29f44bc4\n",
      "Successfully built ta\n",
      "Installing collected packages: ta\n",
      "Successfully installed ta-0.11.0\n",
      "Note: you may need to restart the kernel to use updated packages.\n"
     ]
    }
   ],
   "source": [
    "pip install ta"
   ]
  },
  {
   "cell_type": "code",
   "execution_count": 4,
   "metadata": {
    "execution": {
     "iopub.execute_input": "2025-07-24T11:14:21.882869Z",
     "iopub.status.busy": "2025-07-24T11:14:21.882306Z",
     "iopub.status.idle": "2025-07-24T11:14:24.917262Z",
     "shell.execute_reply": "2025-07-24T11:14:24.916344Z",
     "shell.execute_reply.started": "2025-07-24T11:14:21.882835Z"
    },
    "id": "bh2_oFeynbcj",
    "outputId": "7a177a51-6d71-4930-8d26-de06d003a32f",
    "trusted": true
   },
   "outputs": [
    {
     "name": "stdout",
     "output_type": "stream",
     "text": [
      "Requirement already satisfied: tensorflow in /usr/local/lib/python3.11/dist-packages (2.18.0)\n",
      "Requirement already satisfied: absl-py>=1.0.0 in /usr/local/lib/python3.11/dist-packages (from tensorflow) (1.4.0)\n",
      "Requirement already satisfied: astunparse>=1.6.0 in /usr/local/lib/python3.11/dist-packages (from tensorflow) (1.6.3)\n",
      "Requirement already satisfied: flatbuffers>=24.3.25 in /usr/local/lib/python3.11/dist-packages (from tensorflow) (25.2.10)\n",
      "Requirement already satisfied: gast!=0.5.0,!=0.5.1,!=0.5.2,>=0.2.1 in /usr/local/lib/python3.11/dist-packages (from tensorflow) (0.6.0)\n",
      "Requirement already satisfied: google-pasta>=0.1.1 in /usr/local/lib/python3.11/dist-packages (from tensorflow) (0.2.0)\n",
      "Requirement already satisfied: libclang>=13.0.0 in /usr/local/lib/python3.11/dist-packages (from tensorflow) (18.1.1)\n",
      "Requirement already satisfied: opt-einsum>=2.3.2 in /usr/local/lib/python3.11/dist-packages (from tensorflow) (3.4.0)\n",
      "Requirement already satisfied: packaging in /usr/local/lib/python3.11/dist-packages (from tensorflow) (25.0)\n",
      "Requirement already satisfied: protobuf!=4.21.0,!=4.21.1,!=4.21.2,!=4.21.3,!=4.21.4,!=4.21.5,<6.0.0dev,>=3.20.3 in /usr/local/lib/python3.11/dist-packages (from tensorflow) (3.20.3)\n",
      "Requirement already satisfied: requests<3,>=2.21.0 in /usr/local/lib/python3.11/dist-packages (from tensorflow) (2.32.3)\n",
      "Requirement already satisfied: setuptools in /usr/local/lib/python3.11/dist-packages (from tensorflow) (75.2.0)\n",
      "Requirement already satisfied: six>=1.12.0 in /usr/local/lib/python3.11/dist-packages (from tensorflow) (1.17.0)\n",
      "Requirement already satisfied: termcolor>=1.1.0 in /usr/local/lib/python3.11/dist-packages (from tensorflow) (3.0.1)\n",
      "Requirement already satisfied: typing-extensions>=3.6.6 in /usr/local/lib/python3.11/dist-packages (from tensorflow) (4.13.2)\n",
      "Requirement already satisfied: wrapt>=1.11.0 in /usr/local/lib/python3.11/dist-packages (from tensorflow) (1.17.2)\n",
      "Requirement already satisfied: grpcio<2.0,>=1.24.3 in /usr/local/lib/python3.11/dist-packages (from tensorflow) (1.72.0rc1)\n",
      "Requirement already satisfied: tensorboard<2.19,>=2.18 in /usr/local/lib/python3.11/dist-packages (from tensorflow) (2.18.0)\n",
      "Requirement already satisfied: keras>=3.5.0 in /usr/local/lib/python3.11/dist-packages (from tensorflow) (3.8.0)\n",
      "Requirement already satisfied: numpy<2.1.0,>=1.26.0 in /usr/local/lib/python3.11/dist-packages (from tensorflow) (1.26.4)\n",
      "Requirement already satisfied: h5py>=3.11.0 in /usr/local/lib/python3.11/dist-packages (from tensorflow) (3.13.0)\n",
      "Requirement already satisfied: ml-dtypes<0.5.0,>=0.4.0 in /usr/local/lib/python3.11/dist-packages (from tensorflow) (0.4.1)\n",
      "Requirement already satisfied: tensorflow-io-gcs-filesystem>=0.23.1 in /usr/local/lib/python3.11/dist-packages (from tensorflow) (0.37.1)\n",
      "Requirement already satisfied: wheel<1.0,>=0.23.0 in /usr/local/lib/python3.11/dist-packages (from astunparse>=1.6.0->tensorflow) (0.45.1)\n",
      "Requirement already satisfied: rich in /usr/local/lib/python3.11/dist-packages (from keras>=3.5.0->tensorflow) (14.0.0)\n",
      "Requirement already satisfied: namex in /usr/local/lib/python3.11/dist-packages (from keras>=3.5.0->tensorflow) (0.0.8)\n",
      "Requirement already satisfied: optree in /usr/local/lib/python3.11/dist-packages (from keras>=3.5.0->tensorflow) (0.14.1)\n",
      "Requirement already satisfied: mkl_fft in /usr/local/lib/python3.11/dist-packages (from numpy<2.1.0,>=1.26.0->tensorflow) (1.3.8)\n",
      "Requirement already satisfied: mkl_random in /usr/local/lib/python3.11/dist-packages (from numpy<2.1.0,>=1.26.0->tensorflow) (1.2.4)\n",
      "Requirement already satisfied: mkl_umath in /usr/local/lib/python3.11/dist-packages (from numpy<2.1.0,>=1.26.0->tensorflow) (0.1.1)\n",
      "Requirement already satisfied: mkl in /usr/local/lib/python3.11/dist-packages (from numpy<2.1.0,>=1.26.0->tensorflow) (2025.1.0)\n",
      "Requirement already satisfied: tbb4py in /usr/local/lib/python3.11/dist-packages (from numpy<2.1.0,>=1.26.0->tensorflow) (2022.1.0)\n",
      "Requirement already satisfied: mkl-service in /usr/local/lib/python3.11/dist-packages (from numpy<2.1.0,>=1.26.0->tensorflow) (2.4.1)\n",
      "Requirement already satisfied: charset-normalizer<4,>=2 in /usr/local/lib/python3.11/dist-packages (from requests<3,>=2.21.0->tensorflow) (3.4.2)\n",
      "Requirement already satisfied: idna<4,>=2.5 in /usr/local/lib/python3.11/dist-packages (from requests<3,>=2.21.0->tensorflow) (3.10)\n",
      "Requirement already satisfied: urllib3<3,>=1.21.1 in /usr/local/lib/python3.11/dist-packages (from requests<3,>=2.21.0->tensorflow) (2.4.0)\n",
      "Requirement already satisfied: certifi>=2017.4.17 in /usr/local/lib/python3.11/dist-packages (from requests<3,>=2.21.0->tensorflow) (2025.4.26)\n",
      "Requirement already satisfied: markdown>=2.6.8 in /usr/local/lib/python3.11/dist-packages (from tensorboard<2.19,>=2.18->tensorflow) (3.7)\n",
      "Requirement already satisfied: tensorboard-data-server<0.8.0,>=0.7.0 in /usr/local/lib/python3.11/dist-packages (from tensorboard<2.19,>=2.18->tensorflow) (0.7.2)\n",
      "Requirement already satisfied: werkzeug>=1.0.1 in /usr/local/lib/python3.11/dist-packages (from tensorboard<2.19,>=2.18->tensorflow) (3.1.3)\n",
      "Requirement already satisfied: MarkupSafe>=2.1.1 in /usr/local/lib/python3.11/dist-packages (from werkzeug>=1.0.1->tensorboard<2.19,>=2.18->tensorflow) (3.0.2)\n",
      "Requirement already satisfied: intel-openmp<2026,>=2024 in /usr/local/lib/python3.11/dist-packages (from mkl->numpy<2.1.0,>=1.26.0->tensorflow) (2024.2.0)\n",
      "Requirement already satisfied: tbb==2022.* in /usr/local/lib/python3.11/dist-packages (from mkl->numpy<2.1.0,>=1.26.0->tensorflow) (2022.1.0)\n",
      "Requirement already satisfied: tcmlib==1.* in /usr/local/lib/python3.11/dist-packages (from tbb==2022.*->mkl->numpy<2.1.0,>=1.26.0->tensorflow) (1.3.0)\n",
      "Requirement already satisfied: intel-cmplr-lib-rt in /usr/local/lib/python3.11/dist-packages (from mkl_umath->numpy<2.1.0,>=1.26.0->tensorflow) (2024.2.0)\n",
      "Requirement already satisfied: markdown-it-py>=2.2.0 in /usr/local/lib/python3.11/dist-packages (from rich->keras>=3.5.0->tensorflow) (3.0.0)\n",
      "Requirement already satisfied: pygments<3.0.0,>=2.13.0 in /usr/local/lib/python3.11/dist-packages (from rich->keras>=3.5.0->tensorflow) (2.19.1)\n",
      "Requirement already satisfied: intel-cmplr-lib-ur==2024.2.0 in /usr/local/lib/python3.11/dist-packages (from intel-openmp<2026,>=2024->mkl->numpy<2.1.0,>=1.26.0->tensorflow) (2024.2.0)\n",
      "Requirement already satisfied: mdurl~=0.1 in /usr/local/lib/python3.11/dist-packages (from markdown-it-py>=2.2.0->rich->keras>=3.5.0->tensorflow) (0.1.2)\n",
      "Note: you may need to restart the kernel to use updated packages.\n"
     ]
    }
   ],
   "source": [
    "pip install tensorflow"
   ]
  },
  {
   "cell_type": "code",
   "execution_count": 5,
   "metadata": {
    "execution": {
     "iopub.execute_input": "2025-07-24T11:14:26.072506Z",
     "iopub.status.busy": "2025-07-24T11:14:26.072216Z",
     "iopub.status.idle": "2025-07-24T11:14:30.806196Z",
     "shell.execute_reply": "2025-07-24T11:14:30.805446Z",
     "shell.execute_reply.started": "2025-07-24T11:14:26.072478Z"
    },
    "id": "mC0cd0c0ngqo",
    "outputId": "1730e9f2-e1c7-4acd-d969-cfa173befde9",
    "trusted": true
   },
   "outputs": [
    {
     "name": "stdout",
     "output_type": "stream",
     "text": [
      "Collecting keras-self-attention\n",
      "  Downloading keras-self-attention-0.51.0.tar.gz (11 kB)\n",
      "  Preparing metadata (setup.py) ... \u001b[?25l\u001b[?25hdone\n",
      "Requirement already satisfied: numpy in /usr/local/lib/python3.11/dist-packages (from keras-self-attention) (1.26.4)\n",
      "Requirement already satisfied: mkl_fft in /usr/local/lib/python3.11/dist-packages (from numpy->keras-self-attention) (1.3.8)\n",
      "Requirement already satisfied: mkl_random in /usr/local/lib/python3.11/dist-packages (from numpy->keras-self-attention) (1.2.4)\n",
      "Requirement already satisfied: mkl_umath in /usr/local/lib/python3.11/dist-packages (from numpy->keras-self-attention) (0.1.1)\n",
      "Requirement already satisfied: mkl in /usr/local/lib/python3.11/dist-packages (from numpy->keras-self-attention) (2025.1.0)\n",
      "Requirement already satisfied: tbb4py in /usr/local/lib/python3.11/dist-packages (from numpy->keras-self-attention) (2022.1.0)\n",
      "Requirement already satisfied: mkl-service in /usr/local/lib/python3.11/dist-packages (from numpy->keras-self-attention) (2.4.1)\n",
      "Requirement already satisfied: intel-openmp<2026,>=2024 in /usr/local/lib/python3.11/dist-packages (from mkl->numpy->keras-self-attention) (2024.2.0)\n",
      "Requirement already satisfied: tbb==2022.* in /usr/local/lib/python3.11/dist-packages (from mkl->numpy->keras-self-attention) (2022.1.0)\n",
      "Requirement already satisfied: tcmlib==1.* in /usr/local/lib/python3.11/dist-packages (from tbb==2022.*->mkl->numpy->keras-self-attention) (1.3.0)\n",
      "Requirement already satisfied: intel-cmplr-lib-rt in /usr/local/lib/python3.11/dist-packages (from mkl_umath->numpy->keras-self-attention) (2024.2.0)\n",
      "Requirement already satisfied: intel-cmplr-lib-ur==2024.2.0 in /usr/local/lib/python3.11/dist-packages (from intel-openmp<2026,>=2024->mkl->numpy->keras-self-attention) (2024.2.0)\n",
      "Building wheels for collected packages: keras-self-attention\n",
      "  Building wheel for keras-self-attention (setup.py) ... \u001b[?25l\u001b[?25hdone\n",
      "  Created wheel for keras-self-attention: filename=keras_self_attention-0.51.0-py3-none-any.whl size=18895 sha256=dbf9e6f035a5450a373103d08a7992d2b06aad31409451117d58b3a4f34f433d\n",
      "  Stored in directory: /root/.cache/pip/wheels/46/f9/96/709295c836133071c12a300729fed4027757f889c01695feea\n",
      "Successfully built keras-self-attention\n",
      "Installing collected packages: keras-self-attention\n",
      "Successfully installed keras-self-attention-0.51.0\n",
      "Note: you may need to restart the kernel to use updated packages.\n"
     ]
    }
   ],
   "source": [
    "pip install keras-self-attention"
   ]
  },
  {
   "cell_type": "code",
   "execution_count": 6,
   "metadata": {
    "execution": {
     "iopub.execute_input": "2025-07-24T11:14:34.737505Z",
     "iopub.status.busy": "2025-07-24T11:14:34.737224Z",
     "iopub.status.idle": "2025-07-24T11:14:37.744651Z",
     "shell.execute_reply": "2025-07-24T11:14:37.743956Z",
     "shell.execute_reply.started": "2025-07-24T11:14:34.737479Z"
    },
    "id": "G8llwhZWnj0i",
    "outputId": "cc6a76fe-1f85-4c33-d240-04d13c4e38dd",
    "trusted": true
   },
   "outputs": [
    {
     "name": "stdout",
     "output_type": "stream",
     "text": [
      "Requirement already satisfied: keras-tuner in /usr/local/lib/python3.11/dist-packages (1.4.7)\n",
      "Requirement already satisfied: keras in /usr/local/lib/python3.11/dist-packages (from keras-tuner) (3.8.0)\n",
      "Requirement already satisfied: packaging in /usr/local/lib/python3.11/dist-packages (from keras-tuner) (25.0)\n",
      "Requirement already satisfied: requests in /usr/local/lib/python3.11/dist-packages (from keras-tuner) (2.32.3)\n",
      "Requirement already satisfied: kt-legacy in /usr/local/lib/python3.11/dist-packages (from keras-tuner) (1.0.5)\n",
      "Requirement already satisfied: absl-py in /usr/local/lib/python3.11/dist-packages (from keras->keras-tuner) (1.4.0)\n",
      "Requirement already satisfied: numpy in /usr/local/lib/python3.11/dist-packages (from keras->keras-tuner) (1.26.4)\n",
      "Requirement already satisfied: rich in /usr/local/lib/python3.11/dist-packages (from keras->keras-tuner) (14.0.0)\n",
      "Requirement already satisfied: namex in /usr/local/lib/python3.11/dist-packages (from keras->keras-tuner) (0.0.8)\n",
      "Requirement already satisfied: h5py in /usr/local/lib/python3.11/dist-packages (from keras->keras-tuner) (3.13.0)\n",
      "Requirement already satisfied: optree in /usr/local/lib/python3.11/dist-packages (from keras->keras-tuner) (0.14.1)\n",
      "Requirement already satisfied: ml-dtypes in /usr/local/lib/python3.11/dist-packages (from keras->keras-tuner) (0.4.1)\n",
      "Requirement already satisfied: charset-normalizer<4,>=2 in /usr/local/lib/python3.11/dist-packages (from requests->keras-tuner) (3.4.2)\n",
      "Requirement already satisfied: idna<4,>=2.5 in /usr/local/lib/python3.11/dist-packages (from requests->keras-tuner) (3.10)\n",
      "Requirement already satisfied: urllib3<3,>=1.21.1 in /usr/local/lib/python3.11/dist-packages (from requests->keras-tuner) (2.4.0)\n",
      "Requirement already satisfied: certifi>=2017.4.17 in /usr/local/lib/python3.11/dist-packages (from requests->keras-tuner) (2025.4.26)\n",
      "Requirement already satisfied: mkl_fft in /usr/local/lib/python3.11/dist-packages (from numpy->keras->keras-tuner) (1.3.8)\n",
      "Requirement already satisfied: mkl_random in /usr/local/lib/python3.11/dist-packages (from numpy->keras->keras-tuner) (1.2.4)\n",
      "Requirement already satisfied: mkl_umath in /usr/local/lib/python3.11/dist-packages (from numpy->keras->keras-tuner) (0.1.1)\n",
      "Requirement already satisfied: mkl in /usr/local/lib/python3.11/dist-packages (from numpy->keras->keras-tuner) (2025.1.0)\n",
      "Requirement already satisfied: tbb4py in /usr/local/lib/python3.11/dist-packages (from numpy->keras->keras-tuner) (2022.1.0)\n",
      "Requirement already satisfied: mkl-service in /usr/local/lib/python3.11/dist-packages (from numpy->keras->keras-tuner) (2.4.1)\n",
      "Requirement already satisfied: typing-extensions>=4.5.0 in /usr/local/lib/python3.11/dist-packages (from optree->keras->keras-tuner) (4.13.2)\n",
      "Requirement already satisfied: markdown-it-py>=2.2.0 in /usr/local/lib/python3.11/dist-packages (from rich->keras->keras-tuner) (3.0.0)\n",
      "Requirement already satisfied: pygments<3.0.0,>=2.13.0 in /usr/local/lib/python3.11/dist-packages (from rich->keras->keras-tuner) (2.19.1)\n",
      "Requirement already satisfied: mdurl~=0.1 in /usr/local/lib/python3.11/dist-packages (from markdown-it-py>=2.2.0->rich->keras->keras-tuner) (0.1.2)\n",
      "Requirement already satisfied: intel-openmp<2026,>=2024 in /usr/local/lib/python3.11/dist-packages (from mkl->numpy->keras->keras-tuner) (2024.2.0)\n",
      "Requirement already satisfied: tbb==2022.* in /usr/local/lib/python3.11/dist-packages (from mkl->numpy->keras->keras-tuner) (2022.1.0)\n",
      "Requirement already satisfied: tcmlib==1.* in /usr/local/lib/python3.11/dist-packages (from tbb==2022.*->mkl->numpy->keras->keras-tuner) (1.3.0)\n",
      "Requirement already satisfied: intel-cmplr-lib-rt in /usr/local/lib/python3.11/dist-packages (from mkl_umath->numpy->keras->keras-tuner) (2024.2.0)\n",
      "Requirement already satisfied: intel-cmplr-lib-ur==2024.2.0 in /usr/local/lib/python3.11/dist-packages (from intel-openmp<2026,>=2024->mkl->numpy->keras->keras-tuner) (2024.2.0)\n",
      "Note: you may need to restart the kernel to use updated packages.\n"
     ]
    }
   ],
   "source": [
    "pip install keras-tuner"
   ]
  },
  {
   "cell_type": "code",
   "execution_count": 7,
   "metadata": {
    "execution": {
     "iopub.execute_input": "2025-07-24T11:14:42.031788Z",
     "iopub.status.busy": "2025-07-24T11:14:42.031478Z",
     "iopub.status.idle": "2025-07-24T11:15:04.124527Z",
     "shell.execute_reply": "2025-07-24T11:15:04.123988Z",
     "shell.execute_reply.started": "2025-07-24T11:14:42.031741Z"
    },
    "id": "h22olX_0nnuK",
    "outputId": "f901db33-9d0a-4a33-9a59-a9c36fb728ec",
    "trusted": true
   },
   "outputs": [
    {
     "name": "stderr",
     "output_type": "stream",
     "text": [
      "2025-07-24 11:14:44.695969: E external/local_xla/xla/stream_executor/cuda/cuda_fft.cc:477] Unable to register cuFFT factory: Attempting to register factory for plugin cuFFT when one has already been registered\n",
      "WARNING: All log messages before absl::InitializeLog() is called are written to STDERR\n",
      "E0000 00:00:1753355684.937078      35 cuda_dnn.cc:8310] Unable to register cuDNN factory: Attempting to register factory for plugin cuDNN when one has already been registered\n",
      "E0000 00:00:1753355685.005613      35 cuda_blas.cc:1418] Unable to register cuBLAS factory: Attempting to register factory for plugin cuBLAS when one has already been registered\n"
     ]
    }
   ],
   "source": [
    "import numpy as np\n",
    "import pandas as pd\n",
    "from ta.momentum import RSIIndicator\n",
    "from sklearn.preprocessing import RobustScaler\n",
    "from sklearn.model_selection import train_test_split\n",
    "import tensorflow as tf\n",
    "from tensorflow.keras.models import Sequential\n",
    "from tensorflow.keras.layers import LSTM, Dropout, Dense, RNN, concatenate\n",
    "from tensorflow.keras.optimizers import RMSprop\n",
    "from vnstock import *\n",
    "from ta.volatility import BollingerBands\n",
    "from tensorflow.keras.layers import Layer\n",
    "import tensorflow as tf\n",
    "from keras.layers import Input, Conv1D, MaxPooling1D, Bidirectional, Flatten, BatchNormalization\n",
    "from sklearn.model_selection import RandomizedSearchCV\n",
    "# from scikeras.wrappers import KerasClassifier\n",
    "\n",
    "from ta.momentum import StochasticOscillator\n",
    "from ta.volume import OnBalanceVolumeIndicator\n",
    "from ta.trend import CCIIndicator\n",
    "from sklearn.preprocessing import StandardScaler\n",
    "from ta.volume import ChaikinMoneyFlowIndicator\n",
    "from tensorflow.keras.regularizers import l2\n",
    "from tensorflow.keras.regularizers import l1\n",
    "from tensorflow.keras.regularizers import l1_l2\n",
    "from tensorflow.keras import regularizers\n",
    "from keras_self_attention import SeqSelfAttention\n",
    "from tensorflow.keras.models import Model\n",
    "from sklearn.preprocessing import MinMaxScaler\n",
    "from sklearn.metrics import roc_auc_score\n",
    "import keras_tuner as kt\n",
    "from tensorflow.keras.optimizers import Adam\n",
    "from sklearn.feature_selection import SequentialFeatureSelector\n",
    "from sklearn.base import BaseEstimator, ClassifierMixin\n",
    "from tensorflow.keras.saving import register_keras_serializable\n",
    "import matplotlib.pyplot as plt\n",
    "# from imblearn.over_sampling import SMOTE\n",
    "from sklearn.metrics import confusion_matrix, ConfusionMatrixDisplay\n",
    "from tensorflow.keras.utils import to_categorical\n",
    "from tensorflow.keras.callbacks import EarlyStopping, ModelCheckpoint, ReduceLROnPlateau\n",
    "from sklearn.metrics import f1_score\n",
    "from sklearn.ensemble import RandomForestClassifier, AdaBoostClassifier\n",
    "from xgboost import XGBClassifier\n",
    "from lightgbm import LGBMClassifier\n",
    "from catboost import CatBoostClassifier\n",
    "from sklearn.model_selection import cross_val_score\n",
    "from vnstock import *\n",
    "import pandas as pd\n",
    "import os\n",
    "from collections import Counter\n",
    "from tensorflow.keras.models import load_model\n",
    "from sklearn.metrics import classification_report\n",
    "from sklearn.utils.class_weight import compute_class_weight\n",
    "from sklearn.ensemble import RandomForestClassifier # Import RandomForestClassifier\n",
    "from sklearn.metrics import accuracy_score # Import accuracy\n",
    "from sklearn.metrics import log_loss\n",
    "from sklearn.linear_model import LinearRegression\n",
    "from xgboost import XGBClassifier\n",
    "import optuna\n",
    "import joblib\n",
    "from sklearn.metrics import (\n",
    "    f1_score, accuracy_score, classification_report, roc_auc_score,\n",
    "    roc_curve, auc\n",
    ")\n",
    "from sklearn.preprocessing import label_binarize\n",
    "from sklearn.model_selection import TimeSeriesSplit"
   ]
  },
  {
   "cell_type": "code",
   "execution_count": 8,
   "metadata": {
    "execution": {
     "iopub.execute_input": "2025-07-24T11:15:27.264288Z",
     "iopub.status.busy": "2025-07-24T11:15:27.263467Z",
     "iopub.status.idle": "2025-07-24T11:15:30.202197Z",
     "shell.execute_reply": "2025-07-24T11:15:30.201396Z",
     "shell.execute_reply.started": "2025-07-24T11:15:27.264259Z"
    },
    "id": "DhOiC4ER62Ea",
    "outputId": "d91e008e-1516-4723-f38e-904e79a53423",
    "trusted": true
   },
   "outputs": [
    {
     "name": "stdout",
     "output_type": "stream",
     "text": [
      "Requirement already satisfied: xgboost in /usr/local/lib/python3.11/dist-packages (2.0.3)\n",
      "Requirement already satisfied: numpy in /usr/local/lib/python3.11/dist-packages (from xgboost) (1.26.4)\n",
      "Requirement already satisfied: scipy in /usr/local/lib/python3.11/dist-packages (from xgboost) (1.15.2)\n",
      "Requirement already satisfied: mkl_fft in /usr/local/lib/python3.11/dist-packages (from numpy->xgboost) (1.3.8)\n",
      "Requirement already satisfied: mkl_random in /usr/local/lib/python3.11/dist-packages (from numpy->xgboost) (1.2.4)\n",
      "Requirement already satisfied: mkl_umath in /usr/local/lib/python3.11/dist-packages (from numpy->xgboost) (0.1.1)\n",
      "Requirement already satisfied: mkl in /usr/local/lib/python3.11/dist-packages (from numpy->xgboost) (2025.1.0)\n",
      "Requirement already satisfied: tbb4py in /usr/local/lib/python3.11/dist-packages (from numpy->xgboost) (2022.1.0)\n",
      "Requirement already satisfied: mkl-service in /usr/local/lib/python3.11/dist-packages (from numpy->xgboost) (2.4.1)\n",
      "Requirement already satisfied: intel-openmp<2026,>=2024 in /usr/local/lib/python3.11/dist-packages (from mkl->numpy->xgboost) (2024.2.0)\n",
      "Requirement already satisfied: tbb==2022.* in /usr/local/lib/python3.11/dist-packages (from mkl->numpy->xgboost) (2022.1.0)\n",
      "Requirement already satisfied: tcmlib==1.* in /usr/local/lib/python3.11/dist-packages (from tbb==2022.*->mkl->numpy->xgboost) (1.3.0)\n",
      "Requirement already satisfied: intel-cmplr-lib-rt in /usr/local/lib/python3.11/dist-packages (from mkl_umath->numpy->xgboost) (2024.2.0)\n",
      "Requirement already satisfied: intel-cmplr-lib-ur==2024.2.0 in /usr/local/lib/python3.11/dist-packages (from intel-openmp<2026,>=2024->mkl->numpy->xgboost) (2024.2.0)\n",
      "Note: you may need to restart the kernel to use updated packages.\n"
     ]
    }
   ],
   "source": [
    "pip install xgboost"
   ]
  },
  {
   "cell_type": "code",
   "execution_count": 9,
   "metadata": {
    "execution": {
     "iopub.execute_input": "2025-07-24T11:15:35.546837Z",
     "iopub.status.busy": "2025-07-24T11:15:35.546136Z",
     "iopub.status.idle": "2025-07-24T11:15:35.551851Z",
     "shell.execute_reply": "2025-07-24T11:15:35.551075Z",
     "shell.execute_reply.started": "2025-07-24T11:15:35.546805Z"
    },
    "id": "krdyQYcda4pU",
    "trusted": true
   },
   "outputs": [],
   "source": [
    "def dataframe_to_x_y(df, feature, target):\n",
    "  X_train, y_train = [], []\n",
    "  X_val, y_val = [], []\n",
    "  n = len(df)\n",
    "  split_index = int(n * 0.8)\n",
    "  X_train = df[feature][:split_index]\n",
    "  y_train = df[target][:split_index]\n",
    "  X_val = df[feature][split_index:]\n",
    "  y_val = df[target][split_index:]\n",
    "  return X_train, y_train, X_val, y_val"
   ]
  },
  {
   "cell_type": "code",
   "execution_count": 10,
   "metadata": {
    "execution": {
     "iopub.execute_input": "2025-07-24T11:16:25.003178Z",
     "iopub.status.busy": "2025-07-24T11:16:25.002486Z",
     "iopub.status.idle": "2025-07-24T11:16:25.014636Z",
     "shell.execute_reply": "2025-07-24T11:16:25.014089Z",
     "shell.execute_reply.started": "2025-07-24T11:16:25.003153Z"
    },
    "id": "Mwbwp8-Wa5mj",
    "trusted": true
   },
   "outputs": [],
   "source": [
    "\n",
    "sentiment_columns = [\n",
    "        'Reputation', 'Company Communication', 'Appointment', 'Financial', 'Regulatory',\n",
    "        'Sales', 'M&A', 'Legal', 'Dividend Policy', 'Risks', 'Rumors', 'Strategy',\n",
    "        'Options', 'IPO', 'Signal', 'Coverage', 'Fundamentals', 'Insider Activity',\n",
    "        'Price Action', 'Buyside', 'Technical Analysis', 'Trade', 'Central Banks',\n",
    "        'Currency', 'Conditions', 'Market', 'Volatility', 'Investor Sentiment', 'Retail Investor Behavior',\n",
    "        'Speculation', 'Domestic Institutional Behavior', 'Foreign Institutional Behavior', 'Black Swan Event',\n",
    "    ]\n",
    "\n",
    "sentiment_p1d_columns = [\n",
    "        'reputation_p1d', 'company_communication_p1d', 'appointment_p1d', 'financial_p1d', 'regulatory_p1d',\n",
    "        'sales_p1d', 'm&a_p1d', 'legal_p1d', 'dividend_policy_p1d', 'risks_p1d', 'rumors_p1d', 'strategy_p1d',\n",
    "        'options_p1d', 'ipo_p1d', 'signal_p1d', 'coverage_p1d', 'fundamentals_p1d', 'insider_activity_p1d',\n",
    "        'price_action_p1d', 'buyside_p1d', 'technical_analysis_p1d', 'trade_p1d', 'central_banks_p1d',\n",
    "        'currency_p1d', 'conditions_p1d', 'market_p1d', 'volatility_p1d', 'investor_sentiment_p1d', 'retail_investor_behavior_p1d',\n",
    "        'speculation_p1d', 'domestic_institutional_behavior_p1d', 'foreign_institutional_behavior_p1d', 'black_swan_event_p1d',\n",
    "    ]\n",
    "meta_cols = ['num_sa_news', 'mean_sentiment_norm', 'max_sentiment_norm', 'std_sentiment_score', 'sum_positive_sa', 'sum_negative_sa', 'time_distance_from_sa_to_close_minutes']\n",
    "meta_p1d_cols = ['num_sa_news_p1d', 'mean_sentiment_norm_p1d', 'max_sentiment_norm_p1d', 'std_sentiment_score_p1d', 'sum_positive_sa_p1d', 'sum_negative_sa_p1d', 'time_distance_from_sa_to_close_minutes_p1d']\n",
    "\n",
    "sentiment_feature_selected =  sentiment_columns + sentiment_p1d_columns + meta_cols + meta_p1d_cols\n",
    "ta_features = ['volume_ma','volume_to_volume_ma_ratio','ema_12','ema_26','sma_20','sma_50','roc_5','roc_1','roc_9','%K','%R','cci','obv','macd','signal_line','macd_histogram','rsi','rsi_base_ma','rsi_rsi_base_ma_ratio','bb_bbm','bb_bbh','bb_bbl','bb_bbp','bb_bbh_bb_bbl_ratio','hl_ratio', 'co_ratio', 'price_range', 'sma_ratio_20_50', 'ema_ratio_12_26', 'bb_width', 'bb_position', 'rsi_overbought', 'rsi_oversold', 'rsi_neutral', 'macd_bullish', 'momentum_5', 'momentum_10','log_return','volatility_5d','volatility_10d','volatility_20d','volatility_30d','mean_log_return_5d','mean_log_return_10d','mean_log_return_20d','mean_log_return_30d','sharpe_like_5d','sharpe_like_10d','sharpe_like_20d','sharpe_like_30d','up_streak','pos_log_return_ratio_20d','z_score_5d','z_score_10d','z_score_20d','z_score_30d','annual_return','daily_return','sharpe_ratio',\n",
    "               'rsi_vn30','rsi_base_ma_vn30','rsi_rsi_base_ma_ratio_vn30','volume_ma_vn30','volume_to_volume_ma_ratio_vn30','bb_bbm_vn30','bb_bbh_vn30','bb_bbl_vn30','bb_bbp_vn30','bb_bbh_bb_bbl_ratio_vn30','roc_1_vn30', 'roc_5_vn30', 'roc_9_vn30','%K_vn30','%R_vn30','cci_vn30','obv_vn30','ema_12_vn30','ema_26_vn30','sma_20_vn30','sma_50_vn30', 'hl_ratio_vn30', 'co_ratio_vn30', 'price_range_vn30', 'sma_ratio_20_50_vn30', 'ema_ratio_12_26_vn30', 'bb_width_vn30', 'bb_position_vn30', 'rsi_overbought_vn30', 'rsi_oversold_vn30', 'rsi_neutral_vn30', 'momentum_5_vn30', 'momentum_10_vn30', 'log_return_vn30','volatility_5d_vn30','volatility_10d_vn30','volatility_20d_vn30','volatility_30d_vn30','mean_log_return_5d_vn30','mean_log_return_10d_vn30','mean_log_return_20d_vn30','mean_log_return_30d_vn30','sharpe_like_5d_vn30','sharpe_like_10d_vn30','sharpe_like_20d_vn30','sharpe_like_30d_vn30','up_streak_vn30','pos_log_return_ratio_20d_vn30','z_score_5d_vn30','z_score_10d_vn30','z_score_20d_vn30','z_score_30d_vn30','annual_return_vn30','daily_return_vn30','sharpe_ratio_vn30',\n",
    "               'rsi_vni','rsi_base_ma_vni','rsi_rsi_base_ma_ratio_vni','volume_ma_vni','volume_to_volume_ma_ratio_vni','bb_bbm_vni','bb_bbh_vni','bb_bbl_vni','bb_bbp_vni','bb_bbh_bb_bbl_ratio_vni','roc_1_vni', 'roc_5_vni', 'roc_9_vni','%K_vni','%R_vni','cci_vni','obv_vni','ema_12_vni','ema_26_vni','sma_20_vni','sma_50_vni', 'hl_ratio_vni', 'co_ratio_vni', 'price_range_vni', 'sma_ratio_20_50_vni', 'ema_ratio_12_26_vni', 'bb_width_vni', 'bb_position_vni', 'rsi_overbought_vni', 'rsi_oversold_vni', 'rsi_neutral_vni', 'momentum_5_vni', 'momentum_10_vni','log_return_vni','volatility_5d_vni','volatility_10d_vni','volatility_20d_vni','volatility_30d_vni','mean_log_return_5d_vni','mean_log_return_10d_vni','mean_log_return_20d_vni','mean_log_return_30d_vni','sharpe_like_5d_vni','sharpe_like_10d_vni','sharpe_like_20d_vni','sharpe_like_30d_vni','up_streak_vni','pos_log_return_ratio_20d_vni','z_score_5d_vni','z_score_10d_vni','z_score_20d_vni','z_score_30d_vni','annual_return_vni','daily_return_vni','sharpe_ratio_vni']\n",
    "fa_features = ['p/b_previous_quarter', 'p/b_change_rate','p/b_change_rate_flag','p/e_previous_quarter','p/e_change_rate','p/e_change_rate_flag','p/s_previous_quarter','p/s_change_rate','p/s_change_rate_flag','p/cash_flow_previous_quarter','p/cash_flow_change_rate','p/cash_flow_change_rate_flag','eps_previous_quarter','eps_change_rate', 'eps_change_rate_flag','bvps_previous_quarter','bvps_change_rate', 'bvps_change_rate_flag','roe_previous_quarter','roe_change_rate','roe_change_rate_flag','roa_previous_quarter','roa_change_rate','roa_change_rate_flag','coefficient_p/b','coefficient_p/e','coefficient_p/s','coefficient_p/cash_flow','coefficient_eps','coefficient_bvps','coefficient_roe','coefficient_roa','distance_to_nearest_quarter']\n",
    "ta_fa_feature_selected = ta_features + fa_features\n",
    "# features = ta_fa_feature_selected + sentiment_feature_selected\n",
    "features = ta_features\n",
    "target = 'target'\n",
    "scaler = StandardScaler()"
   ]
  },
  {
   "cell_type": "code",
   "execution_count": 11,
   "metadata": {
    "execution": {
     "iopub.execute_input": "2025-07-24T11:16:31.274172Z",
     "iopub.status.busy": "2025-07-24T11:16:31.273375Z",
     "iopub.status.idle": "2025-07-24T11:16:31.280141Z",
     "shell.execute_reply": "2025-07-24T11:16:31.279443Z",
     "shell.execute_reply.started": "2025-07-24T11:16:31.274134Z"
    },
    "trusted": true
   },
   "outputs": [],
   "source": [
    "def load_data_for_analysis(tickers, folder_path):\n",
    "\n",
    "    df_all = []\n",
    "\n",
    "    for ticker in tickers:\n",
    "        file_path = os.path.join(folder_path, f\"{ticker}.xlsx\")\n",
    "        if os.path.exists(file_path):\n",
    "            df = pd.read_excel(file_path)\n",
    "            df[\"ticker\"] = ticker  # thêm cột ticker\n",
    "            df_all.append(df)\n",
    "        else:\n",
    "            print(f\"⚠️ Không tìm thấy: {file_path}\")\n",
    "\n",
    "    # Gộp lại thành 1 DataFrame\n",
    "    df_global = pd.concat(df_all, ignore_index=True)\n",
    "    print(f\"✅ Đã load xong {len(df_global)} dòng dữ liệu từ {len(df_all)} cổ phiếu.\")\n",
    "    return df_global"
   ]
  },
  {
   "cell_type": "code",
   "execution_count": 12,
   "metadata": {
    "execution": {
     "iopub.execute_input": "2025-07-24T11:16:50.429994Z",
     "iopub.status.busy": "2025-07-24T11:16:50.429698Z",
     "iopub.status.idle": "2025-07-24T11:19:32.447536Z",
     "shell.execute_reply": "2025-07-24T11:19:32.446771Z",
     "shell.execute_reply.started": "2025-07-24T11:16:50.429971Z"
    },
    "id": "O76XzdDDfyOI",
    "trusted": true
   },
   "outputs": [
    {
     "name": "stdout",
     "output_type": "stream",
     "text": [
      "✅ Đã load xong 35865 dòng dữ liệu từ 30 cổ phiếu.\n",
      "✅ Đã load xong 7380 dòng dữ liệu từ 30 cổ phiếu.\n"
     ]
    }
   ],
   "source": [
    "tickers = ['ACB', 'BCM', 'BID','BVH','CTG','FPT','GAS','GVR','HDB','HPG',\n",
    "                    'LPB','MBB','MSN','MWG','PLX','SAB','SHB','SSB','SSI','STB',\n",
    "                    'TCB','TPB','VCB','VHM','VIB','VIC','VJC','VNM','VPB','VRE']\n",
    "folder_path_train = \"/kaggle/input/vn30-dataset/v6 - Copy/stock_trend/train_data\" \n",
    "folder_path_test = \"/kaggle/input/vn30-dataset/v6 - Copy/stock_trend/test_data\" \n",
    "df_global_train = load_data_for_analysis(tickers, folder_path_train)\n",
    "df_global_test = load_data_for_analysis(tickers, folder_path_test)\n"
   ]
  },
  {
   "cell_type": "code",
   "execution_count": 13,
   "metadata": {
    "execution": {
     "iopub.execute_input": "2025-07-24T11:21:06.898041Z",
     "iopub.status.busy": "2025-07-24T11:21:06.897696Z",
     "iopub.status.idle": "2025-07-24T11:21:06.904492Z",
     "shell.execute_reply": "2025-07-24T11:21:06.903736Z",
     "shell.execute_reply.started": "2025-07-24T11:21:06.898019Z"
    },
    "trusted": true
   },
   "outputs": [],
   "source": [
    "# Danh sách các mô hình\n",
    "models = {\n",
    "    \"Random Forest\": RandomForestClassifier(n_jobs=-1, random_state=42, class_weight='balanced'),\n",
    "    \"XGBoost\": XGBClassifier(n_jobs=-1, random_state=42, use_label_encoder=False, eval_metric='mlogloss'),\n",
    "    \"LightGBM\": LGBMClassifier(n_jobs=-1, random_state=42),\n",
    "    \"CatBoost\": CatBoostClassifier(verbose=0, random_state=42),\n",
    "    \"AdaBoost\": AdaBoostClassifier(random_state=42),\n",
    "}"
   ]
  },
  {
   "cell_type": "code",
   "execution_count": 14,
   "metadata": {
    "execution": {
     "iopub.execute_input": "2025-07-24T11:21:41.530633Z",
     "iopub.status.busy": "2025-07-24T11:21:41.530386Z",
     "iopub.status.idle": "2025-07-24T11:21:41.718451Z",
     "shell.execute_reply": "2025-07-24T11:21:41.717663Z",
     "shell.execute_reply.started": "2025-07-24T11:21:41.530615Z"
    },
    "trusted": true
   },
   "outputs": [],
   "source": [
    "X_train_no_sa = df_global_train[ta_features]\n",
    "X_test_no_sa = df_global_test[ta_features]\n",
    "y_train = df_global_train[target]\n",
    "y_test = df_global_test[target]\n",
    "scaler = StandardScaler()\n",
    "X_train_no_sa_scaled = scaler.fit_transform(X_train_no_sa)\n",
    "X_test_no_sa_scaled = scaler.transform(X_test_no_sa) "
   ]
  },
  {
   "cell_type": "code",
   "execution_count": null,
   "metadata": {
    "execution": {
     "iopub.execute_input": "2025-06-20T06:33:39.381220Z",
     "iopub.status.busy": "2025-06-20T06:33:39.380964Z",
     "iopub.status.idle": "2025-06-20T06:33:39.384695Z",
     "shell.execute_reply": "2025-06-20T06:33:39.384121Z",
     "shell.execute_reply.started": "2025-06-20T06:33:39.381199Z"
    },
    "trusted": true
   },
   "outputs": [],
   "source": [
    "# ==============================================Tuning with Optuna + TimeSeriesSplit validate (AUC macro) ==============================================="
   ]
  },
  {
   "cell_type": "markdown",
   "metadata": {},
   "source": [
    "Divide 5 fold to cross validation though tuning parameters"
   ]
  },
  {
   "cell_type": "code",
   "execution_count": 15,
   "metadata": {
    "execution": {
     "iopub.execute_input": "2025-07-24T11:22:01.373432Z",
     "iopub.status.busy": "2025-07-24T11:22:01.372724Z",
     "iopub.status.idle": "2025-07-24T11:22:01.378932Z",
     "shell.execute_reply": "2025-07-24T11:22:01.378147Z",
     "shell.execute_reply.started": "2025-07-24T11:22:01.373409Z"
    },
    "trusted": true
   },
   "outputs": [],
   "source": [
    "def get_grouped_time_series_folds(df, ticker_col='ticker', n_splits=5):\n",
    "    tickers = df[ticker_col].unique()\n",
    "    fold_indices = [[] for _ in range(n_splits)]  # List chứa n_splits fold tổng\n",
    "    for ticker in tickers:\n",
    "        idx = df[df[ticker_col] == ticker].index.values\n",
    "        tscv = TimeSeriesSplit(n_splits=n_splits)\n",
    "        for fold_num, (train_idx, val_idx) in enumerate(tscv.split(idx)):\n",
    "            # Gộp index thực tế vào fold tổng tương ứng\n",
    "            fold_indices[fold_num].append((idx[train_idx], idx[val_idx]))\n",
    "    # Gộp index của từng fold tổng lại thành mảng train/val duy nhất\n",
    "    grouped_folds = []\n",
    "    for fold in fold_indices:\n",
    "        train_idx = np.concatenate([item[0] for item in fold])\n",
    "        val_idx = np.concatenate([item[1] for item in fold])\n",
    "        grouped_folds.append((train_idx, val_idx))\n",
    "    return grouped_folds"
   ]
  },
  {
   "cell_type": "code",
   "execution_count": 16,
   "metadata": {
    "execution": {
     "iopub.execute_input": "2025-07-24T11:22:04.654230Z",
     "iopub.status.busy": "2025-07-24T11:22:04.653960Z",
     "iopub.status.idle": "2025-07-24T11:22:04.799634Z",
     "shell.execute_reply": "2025-07-24T11:22:04.799095Z",
     "shell.execute_reply.started": "2025-07-24T11:22:04.654210Z"
    },
    "trusted": true
   },
   "outputs": [],
   "source": [
    "folds = get_grouped_time_series_folds(df_global_train, ticker_col='ticker', n_splits=5)"
   ]
  },
  {
   "cell_type": "markdown",
   "metadata": {},
   "source": [
    "Tuning random forest for stock trend with ta + fa data"
   ]
  },
  {
   "cell_type": "code",
   "execution_count": 17,
   "metadata": {
    "execution": {
     "iopub.execute_input": "2025-07-24T11:22:06.937846Z",
     "iopub.status.busy": "2025-07-24T11:22:06.937175Z",
     "iopub.status.idle": "2025-07-24T11:22:06.942012Z",
     "shell.execute_reply": "2025-07-24T11:22:06.941318Z",
     "shell.execute_reply.started": "2025-07-24T11:22:06.937815Z"
    },
    "trusted": true
   },
   "outputs": [],
   "source": [
    "X_no_sa = X_train_no_sa_scaled  # hoặc X_train_with_sa_scaled nếu dùng cả SA\n",
    "y = y_train"
   ]
  },
  {
   "cell_type": "code",
   "execution_count": 18,
   "metadata": {
    "execution": {
     "iopub.execute_input": "2025-07-24T11:22:38.565088Z",
     "iopub.status.busy": "2025-07-24T11:22:38.564787Z",
     "iopub.status.idle": "2025-07-24T12:58:18.826604Z",
     "shell.execute_reply": "2025-07-24T12:58:18.825862Z",
     "shell.execute_reply.started": "2025-07-24T11:22:38.565069Z"
    },
    "trusted": true
   },
   "outputs": [
    {
     "name": "stderr",
     "output_type": "stream",
     "text": [
      "[I 2025-07-24 11:22:38,569] A new study created in memory with name: no-name-cb1b5874-d48e-40f0-b1e6-c338cd3d742f\n"
     ]
    },
    {
     "name": "stdout",
     "output_type": "stream",
     "text": [
      "Tuning XGBClassifier with Optuna (AUC macro) ta features only\n"
     ]
    },
    {
     "name": "stderr",
     "output_type": "stream",
     "text": [
      "[11:22:44] WARNING: /workspace/src/common/error_msg.cc:58: Falling back to prediction using DMatrix due to mismatched devices. This might lead to higher memory usage and slower performance. XGBoost is running on: cuda:0, while the input data is on: cpu.\n",
      "Potential solutions:\n",
      "- Use a data structure that matches the device ordinal in the booster.\n",
      "- Set the device for booster before call to inplace_predict.\n",
      "\n",
      "This warning will only be shown once.\n",
      "\n",
      "[I 2025-07-24 11:23:12,757] Trial 0 finished with value: -0.6285140174378022 and parameters: {'n_estimators': 569, 'max_depth': 7, 'learning_rate': 0.14648346632809353, 'subsample': 0.8383279763926275, 'colsample_bytree': 0.8546042445503335}. Best is trial 0 with value: -0.6285140174378022.\n"
     ]
    },
    {
     "name": "stdout",
     "output_type": "stream",
     "text": [
      "Trial 0: AUC macro=0.62851, params={'n_estimators': 569, 'max_depth': 7, 'learning_rate': 0.14648346632809353, 'subsample': 0.8383279763926275, 'colsample_bytree': 0.8546042445503335}\n"
     ]
    },
    {
     "name": "stderr",
     "output_type": "stream",
     "text": [
      "[I 2025-07-24 11:23:53,197] Trial 1 finished with value: -0.6315451950273566 and parameters: {'n_estimators': 374, 'max_depth': 10, 'learning_rate': 0.20279129175756427, 'subsample': 0.969923687702231, 'colsample_bytree': 0.7311599746930189}. Best is trial 1 with value: -0.6315451950273566.\n"
     ]
    },
    {
     "name": "stdout",
     "output_type": "stream",
     "text": [
      "Trial 1: AUC macro=0.63155, params={'n_estimators': 374, 'max_depth': 10, 'learning_rate': 0.20279129175756427, 'subsample': 0.969923687702231, 'colsample_bytree': 0.7311599746930189}\n"
     ]
    },
    {
     "name": "stderr",
     "output_type": "stream",
     "text": [
      "[I 2025-07-24 11:24:05,707] Trial 2 finished with value: -0.635675875111514 and parameters: {'n_estimators': 380, 'max_depth': 5, 'learning_rate': 0.09199177400441307, 'subsample': 0.9532660977175462, 'colsample_bytree': 0.5127165666950274}. Best is trial 2 with value: -0.635675875111514.\n"
     ]
    },
    {
     "name": "stdout",
     "output_type": "stream",
     "text": [
      "Trial 2: AUC macro=0.63568, params={'n_estimators': 380, 'max_depth': 5, 'learning_rate': 0.09199177400441307, 'subsample': 0.9532660977175462, 'colsample_bytree': 0.5127165666950274}\n"
     ]
    },
    {
     "name": "stderr",
     "output_type": "stream",
     "text": [
      "[I 2025-07-24 11:25:50,713] Trial 3 finished with value: -0.647694095176339 and parameters: {'n_estimators': 627, 'max_depth': 11, 'learning_rate': 0.036899464542299976, 'subsample': 0.8128992637965508, 'colsample_bytree': 0.3387435381819686}. Best is trial 3 with value: -0.647694095176339.\n"
     ]
    },
    {
     "name": "stdout",
     "output_type": "stream",
     "text": [
      "Trial 3: AUC macro=0.64769, params={'n_estimators': 627, 'max_depth': 11, 'learning_rate': 0.036899464542299976, 'subsample': 0.8128992637965508, 'colsample_bytree': 0.3387435381819686}\n"
     ]
    },
    {
     "name": "stderr",
     "output_type": "stream",
     "text": [
      "[I 2025-07-24 11:28:04,762] Trial 4 finished with value: -0.6348106724620872 and parameters: {'n_estimators': 931, 'max_depth': 14, 'learning_rate': 0.13349849805410013, 'subsample': 0.7490673101782354, 'colsample_bytree': 0.4935875219535828}. Best is trial 3 with value: -0.647694095176339.\n"
     ]
    },
    {
     "name": "stdout",
     "output_type": "stream",
     "text": [
      "Trial 4: AUC macro=0.63481, params={'n_estimators': 931, 'max_depth': 14, 'learning_rate': 0.13349849805410013, 'subsample': 0.7490673101782354, 'colsample_bytree': 0.4935875219535828}\n"
     ]
    },
    {
     "name": "stderr",
     "output_type": "stream",
     "text": [
      "[I 2025-07-24 11:28:21,270] Trial 5 finished with value: -0.6323527399979862 and parameters: {'n_estimators': 275, 'max_depth': 7, 'learning_rate': 0.14685088036854127, 'subsample': 0.9045814578320795, 'colsample_bytree': 0.7760358277075546}. Best is trial 3 with value: -0.647694095176339.\n"
     ]
    },
    {
     "name": "stdout",
     "output_type": "stream",
     "text": [
      "Trial 5: AUC macro=0.63235, params={'n_estimators': 275, 'max_depth': 7, 'learning_rate': 0.14685088036854127, 'subsample': 0.9045814578320795, 'colsample_bytree': 0.7760358277075546}\n"
     ]
    },
    {
     "name": "stderr",
     "output_type": "stream",
     "text": [
      "[I 2025-07-24 11:28:38,343] Trial 6 finished with value: -0.6163490583653268 and parameters: {'n_estimators': 668, 'max_depth': 4, 'learning_rate': 0.2738218348536992, 'subsample': 0.9024209951145545, 'colsample_bytree': 0.7945711920476183}. Best is trial 3 with value: -0.647694095176339.\n"
     ]
    },
    {
     "name": "stdout",
     "output_type": "stream",
     "text": [
      "Trial 6: AUC macro=0.61635, params={'n_estimators': 668, 'max_depth': 4, 'learning_rate': 0.2738218348536992, 'subsample': 0.9024209951145545, 'colsample_bytree': 0.7945711920476183}\n"
     ]
    },
    {
     "name": "stderr",
     "output_type": "stream",
     "text": [
      "[I 2025-07-24 11:30:29,326] Trial 7 finished with value: -0.6255870193012887 and parameters: {'n_estimators': 951, 'max_depth': 14, 'learning_rate': 0.2623204184194952, 'subsample': 0.7827238822589783, 'colsample_bytree': 0.7185195629495786}. Best is trial 3 with value: -0.647694095176339.\n"
     ]
    },
    {
     "name": "stdout",
     "output_type": "stream",
     "text": [
      "Trial 7: AUC macro=0.62559, params={'n_estimators': 951, 'max_depth': 14, 'learning_rate': 0.2623204184194952, 'subsample': 0.7827238822589783, 'colsample_bytree': 0.7185195629495786}\n"
     ]
    },
    {
     "name": "stderr",
     "output_type": "stream",
     "text": [
      "[I 2025-07-24 11:30:44,217] Trial 8 finished with value: -0.6173362250550989 and parameters: {'n_estimators': 475, 'max_depth': 5, 'learning_rate': 0.2617516245198419, 'subsample': 0.9388088949622742, 'colsample_bytree': 0.3596786750418844}. Best is trial 3 with value: -0.647694095176339.\n"
     ]
    },
    {
     "name": "stdout",
     "output_type": "stream",
     "text": [
      "Trial 8: AUC macro=0.61734, params={'n_estimators': 475, 'max_depth': 5, 'learning_rate': 0.2617516245198419, 'subsample': 0.9388088949622742, 'colsample_bytree': 0.3596786750418844}\n"
     ]
    },
    {
     "name": "stderr",
     "output_type": "stream",
     "text": [
      "[I 2025-07-24 11:31:34,757] Trial 9 finished with value: -0.6371639010521344 and parameters: {'n_estimators': 238, 'max_depth': 13, 'learning_rate': 0.1273892809548303, 'subsample': 0.8175372998743101, 'colsample_bytree': 0.40738479455885185}. Best is trial 3 with value: -0.647694095176339.\n"
     ]
    },
    {
     "name": "stdout",
     "output_type": "stream",
     "text": [
      "Trial 9: AUC macro=0.63716, params={'n_estimators': 238, 'max_depth': 13, 'learning_rate': 0.1273892809548303, 'subsample': 0.8175372998743101, 'colsample_bytree': 0.40738479455885185}\n"
     ]
    },
    {
     "name": "stderr",
     "output_type": "stream",
     "text": [
      "[I 2025-07-24 11:33:51,249] Trial 10 finished with value: -0.6468282114224142 and parameters: {'n_estimators': 746, 'max_depth': 11, 'learning_rate': 0.022753045165940074, 'subsample': 0.7255911572470072, 'colsample_bytree': 0.6176911453915058}. Best is trial 3 with value: -0.647694095176339.\n"
     ]
    },
    {
     "name": "stdout",
     "output_type": "stream",
     "text": [
      "Trial 10: AUC macro=0.64683, params={'n_estimators': 746, 'max_depth': 11, 'learning_rate': 0.022753045165940074, 'subsample': 0.7255911572470072, 'colsample_bytree': 0.6176911453915058}\n"
     ]
    },
    {
     "name": "stderr",
     "output_type": "stream",
     "text": [
      "[I 2025-07-24 11:36:18,609] Trial 11 finished with value: -0.649595309626494 and parameters: {'n_estimators': 750, 'max_depth': 11, 'learning_rate': 0.010842186525229903, 'subsample': 0.7042699635859213, 'colsample_bytree': 0.542079621259901}. Best is trial 11 with value: -0.649595309626494.\n"
     ]
    },
    {
     "name": "stdout",
     "output_type": "stream",
     "text": [
      "Trial 11: AUC macro=0.64960, params={'n_estimators': 750, 'max_depth': 11, 'learning_rate': 0.010842186525229903, 'subsample': 0.7042699635859213, 'colsample_bytree': 0.542079621259901}\n"
     ]
    },
    {
     "name": "stderr",
     "output_type": "stream",
     "text": [
      "[I 2025-07-24 11:39:22,455] Trial 12 finished with value: -0.6512426387754884 and parameters: {'n_estimators': 794, 'max_depth': 12, 'learning_rate': 0.011137357517182185, 'subsample': 0.7133408583477188, 'colsample_bytree': 0.3011380525314675}. Best is trial 12 with value: -0.6512426387754884.\n"
     ]
    },
    {
     "name": "stdout",
     "output_type": "stream",
     "text": [
      "Trial 12: AUC macro=0.65124, params={'n_estimators': 794, 'max_depth': 12, 'learning_rate': 0.011137357517182185, 'subsample': 0.7133408583477188, 'colsample_bytree': 0.3011380525314675}\n"
     ]
    },
    {
     "name": "stderr",
     "output_type": "stream",
     "text": [
      "[I 2025-07-24 11:40:20,718] Trial 13 finished with value: -0.6370439744232728 and parameters: {'n_estimators': 803, 'max_depth': 8, 'learning_rate': 0.07261752644293329, 'subsample': 0.7014053888475051, 'colsample_bytree': 0.5945372927977313}. Best is trial 12 with value: -0.6512426387754884.\n"
     ]
    },
    {
     "name": "stdout",
     "output_type": "stream",
     "text": [
      "Trial 13: AUC macro=0.63704, params={'n_estimators': 803, 'max_depth': 8, 'learning_rate': 0.07261752644293329, 'subsample': 0.7014053888475051, 'colsample_bytree': 0.5945372927977313}\n"
     ]
    },
    {
     "name": "stderr",
     "output_type": "stream",
     "text": [
      "[I 2025-07-24 11:43:40,100] Trial 14 finished with value: -0.6502159194711498 and parameters: {'n_estimators': 832, 'max_depth': 12, 'learning_rate': 0.010742934433268264, 'subsample': 0.7595434838316995, 'colsample_bytree': 0.4538679390853619}. Best is trial 12 with value: -0.6512426387754884.\n"
     ]
    },
    {
     "name": "stdout",
     "output_type": "stream",
     "text": [
      "Trial 14: AUC macro=0.65022, params={'n_estimators': 832, 'max_depth': 12, 'learning_rate': 0.010742934433268264, 'subsample': 0.7595434838316995, 'colsample_bytree': 0.4538679390853619}\n"
     ]
    },
    {
     "name": "stderr",
     "output_type": "stream",
     "text": [
      "[I 2025-07-24 11:46:28,263] Trial 15 finished with value: -0.6415982237625503 and parameters: {'n_estimators': 853, 'max_depth': 15, 'learning_rate': 0.06905046885553669, 'subsample': 0.7658062575612224, 'colsample_bytree': 0.42242937913406303}. Best is trial 12 with value: -0.6512426387754884.\n"
     ]
    },
    {
     "name": "stdout",
     "output_type": "stream",
     "text": [
      "Trial 15: AUC macro=0.64160, params={'n_estimators': 853, 'max_depth': 15, 'learning_rate': 0.06905046885553669, 'subsample': 0.7658062575612224, 'colsample_bytree': 0.42242937913406303}\n"
     ]
    },
    {
     "name": "stderr",
     "output_type": "stream",
     "text": [
      "[I 2025-07-24 11:47:58,874] Trial 16 finished with value: -0.6287971482850742 and parameters: {'n_estimators': 874, 'max_depth': 12, 'learning_rate': 0.2076054736046478, 'subsample': 0.784385691466604, 'colsample_bytree': 0.31298220801713206}. Best is trial 12 with value: -0.6512426387754884.\n"
     ]
    },
    {
     "name": "stdout",
     "output_type": "stream",
     "text": [
      "Trial 16: AUC macro=0.62880, params={'n_estimators': 874, 'max_depth': 12, 'learning_rate': 0.2076054736046478, 'subsample': 0.784385691466604, 'colsample_bytree': 0.31298220801713206}\n"
     ]
    },
    {
     "name": "stderr",
     "output_type": "stream",
     "text": [
      "[I 2025-07-24 11:49:08,585] Trial 17 finished with value: -0.6388857951295436 and parameters: {'n_estimators': 725, 'max_depth': 9, 'learning_rate': 0.05061408478460602, 'subsample': 0.7412527516077536, 'colsample_bytree': 0.4330118109547457}. Best is trial 12 with value: -0.6512426387754884.\n"
     ]
    },
    {
     "name": "stdout",
     "output_type": "stream",
     "text": [
      "Trial 17: AUC macro=0.63889, params={'n_estimators': 725, 'max_depth': 9, 'learning_rate': 0.05061408478460602, 'subsample': 0.7412527516077536, 'colsample_bytree': 0.4330118109547457}\n"
     ]
    },
    {
     "name": "stderr",
     "output_type": "stream",
     "text": [
      "[I 2025-07-24 11:50:42,796] Trial 18 finished with value: -0.6391067470132646 and parameters: {'n_estimators': 535, 'max_depth': 13, 'learning_rate': 0.09637898523888101, 'subsample': 0.8633898137749034, 'colsample_bytree': 0.30864268457248534}. Best is trial 12 with value: -0.6512426387754884.\n"
     ]
    },
    {
     "name": "stdout",
     "output_type": "stream",
     "text": [
      "Trial 18: AUC macro=0.63911, params={'n_estimators': 535, 'max_depth': 13, 'learning_rate': 0.09637898523888101, 'subsample': 0.8633898137749034, 'colsample_bytree': 0.30864268457248534}\n"
     ]
    },
    {
     "name": "stderr",
     "output_type": "stream",
     "text": [
      "[I 2025-07-24 11:51:51,854] Trial 19 finished with value: -0.6297079590240602 and parameters: {'n_estimators': 970, 'max_depth': 9, 'learning_rate': 0.1868247987354363, 'subsample': 0.7285285134931294, 'colsample_bytree': 0.4596393766682252}. Best is trial 12 with value: -0.6512426387754884.\n"
     ]
    },
    {
     "name": "stdout",
     "output_type": "stream",
     "text": [
      "Trial 19: AUC macro=0.62971, params={'n_estimators': 970, 'max_depth': 9, 'learning_rate': 0.1868247987354363, 'subsample': 0.7285285134931294, 'colsample_bytree': 0.4596393766682252}\n"
     ]
    },
    {
     "name": "stderr",
     "output_type": "stream",
     "text": [
      "[I 2025-07-24 11:57:03,929] Trial 20 finished with value: -0.6505074544935214 and parameters: {'n_estimators': 830, 'max_depth': 15, 'learning_rate': 0.011453362274294254, 'subsample': 0.7968673879124862, 'colsample_bytree': 0.37479520967274893}. Best is trial 12 with value: -0.6512426387754884.\n"
     ]
    },
    {
     "name": "stdout",
     "output_type": "stream",
     "text": [
      "Trial 20: AUC macro=0.65051, params={'n_estimators': 830, 'max_depth': 15, 'learning_rate': 0.011453362274294254, 'subsample': 0.7968673879124862, 'colsample_bytree': 0.37479520967274893}\n"
     ]
    },
    {
     "name": "stderr",
     "output_type": "stream",
     "text": [
      "[I 2025-07-24 12:00:16,036] Trial 21 finished with value: -0.6466583931767665 and parameters: {'n_estimators': 841, 'max_depth': 15, 'learning_rate': 0.046788711724519115, 'subsample': 0.792392144364869, 'colsample_bytree': 0.38545530448861587}. Best is trial 12 with value: -0.6512426387754884.\n"
     ]
    },
    {
     "name": "stdout",
     "output_type": "stream",
     "text": [
      "Trial 21: AUC macro=0.64666, params={'n_estimators': 841, 'max_depth': 15, 'learning_rate': 0.046788711724519115, 'subsample': 0.792392144364869, 'colsample_bytree': 0.38545530448861587}\n"
     ]
    },
    {
     "name": "stderr",
     "output_type": "stream",
     "text": [
      "[I 2025-07-24 12:03:46,481] Trial 22 finished with value: -0.6503830155092051 and parameters: {'n_estimators': 788, 'max_depth': 13, 'learning_rate': 0.01595134568423164, 'subsample': 0.7622826756697768, 'colsample_bytree': 0.37189811021953356}. Best is trial 12 with value: -0.6512426387754884.\n"
     ]
    },
    {
     "name": "stdout",
     "output_type": "stream",
     "text": [
      "Trial 22: AUC macro=0.65038, params={'n_estimators': 788, 'max_depth': 13, 'learning_rate': 0.01595134568423164, 'subsample': 0.7622826756697768, 'colsample_bytree': 0.37189811021953356}\n"
     ]
    },
    {
     "name": "stderr",
     "output_type": "stream",
     "text": [
      "[I 2025-07-24 12:06:10,983] Trial 23 finished with value: -0.6413554370678698 and parameters: {'n_estimators': 714, 'max_depth': 14, 'learning_rate': 0.06382382649761105, 'subsample': 0.8573423011037499, 'colsample_bytree': 0.371734638117566}. Best is trial 12 with value: -0.6512426387754884.\n"
     ]
    },
    {
     "name": "stdout",
     "output_type": "stream",
     "text": [
      "Trial 23: AUC macro=0.64136, params={'n_estimators': 714, 'max_depth': 14, 'learning_rate': 0.06382382649761105, 'subsample': 0.8573423011037499, 'colsample_bytree': 0.371734638117566}\n"
     ]
    },
    {
     "name": "stderr",
     "output_type": "stream",
     "text": [
      "[I 2025-07-24 12:08:23,716] Trial 24 finished with value: -0.638111145966712 and parameters: {'n_estimators': 916, 'max_depth': 13, 'learning_rate': 0.10169291530567039, 'subsample': 0.8192312495034311, 'colsample_bytree': 0.305995538421063}. Best is trial 12 with value: -0.6512426387754884.\n"
     ]
    },
    {
     "name": "stdout",
     "output_type": "stream",
     "text": [
      "Trial 24: AUC macro=0.63811, params={'n_estimators': 916, 'max_depth': 13, 'learning_rate': 0.10169291530567039, 'subsample': 0.8192312495034311, 'colsample_bytree': 0.305995538421063}\n"
     ]
    },
    {
     "name": "stderr",
     "output_type": "stream",
     "text": [
      "[I 2025-07-24 12:11:53,048] Trial 25 finished with value: -0.6465906670292978 and parameters: {'n_estimators': 793, 'max_depth': 15, 'learning_rate': 0.034460821576002436, 'subsample': 0.7248173484907351, 'colsample_bytree': 0.5975668551024905}. Best is trial 12 with value: -0.6512426387754884.\n"
     ]
    },
    {
     "name": "stdout",
     "output_type": "stream",
     "text": [
      "Trial 25: AUC macro=0.64659, params={'n_estimators': 793, 'max_depth': 15, 'learning_rate': 0.034460821576002436, 'subsample': 0.7248173484907351, 'colsample_bytree': 0.5975668551024905}\n"
     ]
    },
    {
     "name": "stderr",
     "output_type": "stream",
     "text": [
      "[I 2025-07-24 12:14:04,616] Trial 26 finished with value: -0.6457921618623977 and parameters: {'n_estimators': 650, 'max_depth': 12, 'learning_rate': 0.03164986467817944, 'subsample': 0.7688138271164451, 'colsample_bytree': 0.3618592314465724}. Best is trial 12 with value: -0.6512426387754884.\n"
     ]
    },
    {
     "name": "stdout",
     "output_type": "stream",
     "text": [
      "Trial 26: AUC macro=0.64579, params={'n_estimators': 650, 'max_depth': 12, 'learning_rate': 0.03164986467817944, 'subsample': 0.7688138271164451, 'colsample_bytree': 0.3618592314465724}\n"
     ]
    },
    {
     "name": "stderr",
     "output_type": "stream",
     "text": [
      "[I 2025-07-24 12:17:12,911] Trial 27 finished with value: -0.6411363073599758 and parameters: {'n_estimators': 987, 'max_depth': 14, 'learning_rate': 0.05614737913482365, 'subsample': 0.8034800995060315, 'colsample_bytree': 0.6618937320368018}. Best is trial 12 with value: -0.6512426387754884.\n"
     ]
    },
    {
     "name": "stdout",
     "output_type": "stream",
     "text": [
      "Trial 27: AUC macro=0.64114, params={'n_estimators': 987, 'max_depth': 14, 'learning_rate': 0.05614737913482365, 'subsample': 0.8034800995060315, 'colsample_bytree': 0.6618937320368018}\n"
     ]
    },
    {
     "name": "stderr",
     "output_type": "stream",
     "text": [
      "[I 2025-07-24 12:18:49,289] Trial 28 finished with value: -0.6376587083221803 and parameters: {'n_estimators': 896, 'max_depth': 10, 'learning_rate': 0.08053963580753364, 'subsample': 0.835438634724326, 'colsample_bytree': 0.4853349521501286}. Best is trial 12 with value: -0.6512426387754884.\n"
     ]
    },
    {
     "name": "stdout",
     "output_type": "stream",
     "text": [
      "Trial 28: AUC macro=0.63766, params={'n_estimators': 896, 'max_depth': 10, 'learning_rate': 0.08053963580753364, 'subsample': 0.835438634724326, 'colsample_bytree': 0.4853349521501286}\n"
     ]
    },
    {
     "name": "stderr",
     "output_type": "stream",
     "text": [
      "[I 2025-07-24 12:20:26,229] Trial 29 finished with value: -0.6352264930976131 and parameters: {'n_estimators': 559, 'max_depth': 13, 'learning_rate': 0.11360679441721475, 'subsample': 0.8413437509695355, 'colsample_bytree': 0.891052280140636}. Best is trial 12 with value: -0.6512426387754884.\n"
     ]
    },
    {
     "name": "stdout",
     "output_type": "stream",
     "text": [
      "Trial 29: AUC macro=0.63523, params={'n_estimators': 559, 'max_depth': 13, 'learning_rate': 0.11360679441721475, 'subsample': 0.8413437509695355, 'colsample_bytree': 0.891052280140636}\n"
     ]
    },
    {
     "name": "stderr",
     "output_type": "stream",
     "text": [
      "[I 2025-07-24 12:25:03,061] Trial 30 finished with value: -0.6504072431772006 and parameters: {'n_estimators': 691, 'max_depth': 15, 'learning_rate': 0.010845877279394673, 'subsample': 0.7399829182117043, 'colsample_bytree': 0.5331611404053367}. Best is trial 12 with value: -0.6512426387754884.\n"
     ]
    },
    {
     "name": "stdout",
     "output_type": "stream",
     "text": [
      "Trial 30: AUC macro=0.65041, params={'n_estimators': 691, 'max_depth': 15, 'learning_rate': 0.010845877279394673, 'subsample': 0.7399829182117043, 'colsample_bytree': 0.5331611404053367}\n"
     ]
    },
    {
     "name": "stderr",
     "output_type": "stream",
     "text": [
      "[I 2025-07-24 12:29:19,322] Trial 31 finished with value: -0.649220734623573 and parameters: {'n_estimators': 684, 'max_depth': 15, 'learning_rate': 0.014357855077370838, 'subsample': 0.747283259046109, 'colsample_bytree': 0.545588128511422}. Best is trial 12 with value: -0.6512426387754884.\n"
     ]
    },
    {
     "name": "stdout",
     "output_type": "stream",
     "text": [
      "Trial 31: AUC macro=0.64922, params={'n_estimators': 684, 'max_depth': 15, 'learning_rate': 0.014357855077370838, 'subsample': 0.747283259046109, 'colsample_bytree': 0.545588128511422}\n"
     ]
    },
    {
     "name": "stderr",
     "output_type": "stream",
     "text": [
      "[I 2025-07-24 12:32:30,663] Trial 32 finished with value: -0.6460324933513587 and parameters: {'n_estimators': 782, 'max_depth': 14, 'learning_rate': 0.03256617383750904, 'subsample': 0.7237274183970667, 'colsample_bytree': 0.40511585097434694}. Best is trial 12 with value: -0.6512426387754884.\n"
     ]
    },
    {
     "name": "stdout",
     "output_type": "stream",
     "text": [
      "Trial 32: AUC macro=0.64603, params={'n_estimators': 782, 'max_depth': 14, 'learning_rate': 0.03256617383750904, 'subsample': 0.7237274183970667, 'colsample_bytree': 0.40511585097434694}\n"
     ]
    },
    {
     "name": "stderr",
     "output_type": "stream",
     "text": [
      "[I 2025-07-24 12:35:05,277] Trial 33 finished with value: -0.6448912556480905 and parameters: {'n_estimators': 600, 'max_depth': 15, 'learning_rate': 0.04754242451197404, 'subsample': 0.7754872327713055, 'colsample_bytree': 0.348840988279574}. Best is trial 12 with value: -0.6512426387754884.\n"
     ]
    },
    {
     "name": "stdout",
     "output_type": "stream",
     "text": [
      "Trial 33: AUC macro=0.64489, params={'n_estimators': 600, 'max_depth': 15, 'learning_rate': 0.04754242451197404, 'subsample': 0.7754872327713055, 'colsample_bytree': 0.348840988279574}\n"
     ]
    },
    {
     "name": "stderr",
     "output_type": "stream",
     "text": [
      "[I 2025-07-24 12:36:34,829] Trial 34 finished with value: -0.6317386044058846 and parameters: {'n_estimators': 772, 'max_depth': 12, 'learning_rate': 0.17303800461154534, 'subsample': 0.7108672642548752, 'colsample_bytree': 0.5458509224339785}. Best is trial 12 with value: -0.6512426387754884.\n"
     ]
    },
    {
     "name": "stdout",
     "output_type": "stream",
     "text": [
      "Trial 34: AUC macro=0.63174, params={'n_estimators': 772, 'max_depth': 12, 'learning_rate': 0.17303800461154534, 'subsample': 0.7108672642548752, 'colsample_bytree': 0.5458509224339785}\n"
     ]
    },
    {
     "name": "stderr",
     "output_type": "stream",
     "text": [
      "[I 2025-07-24 12:39:16,577] Trial 35 finished with value: -0.6491589940551427 and parameters: {'n_estimators': 697, 'max_depth': 13, 'learning_rate': 0.02917190320945108, 'subsample': 0.7469248651580659, 'colsample_bytree': 0.33641954224895143}. Best is trial 12 with value: -0.6512426387754884.\n"
     ]
    },
    {
     "name": "stdout",
     "output_type": "stream",
     "text": [
      "Trial 35: AUC macro=0.64916, params={'n_estimators': 697, 'max_depth': 13, 'learning_rate': 0.02917190320945108, 'subsample': 0.7469248651580659, 'colsample_bytree': 0.33641954224895143}\n"
     ]
    },
    {
     "name": "stderr",
     "output_type": "stream",
     "text": [
      "[I 2025-07-24 12:40:08,212] Trial 36 finished with value: -0.6295092493011523 and parameters: {'n_estimators': 625, 'max_depth': 10, 'learning_rate': 0.2996548228031978, 'subsample': 0.9869680918568513, 'colsample_bytree': 0.4640422473046698}. Best is trial 12 with value: -0.6512426387754884.\n"
     ]
    },
    {
     "name": "stdout",
     "output_type": "stream",
     "text": [
      "Trial 36: AUC macro=0.62951, params={'n_estimators': 625, 'max_depth': 10, 'learning_rate': 0.2996548228031978, 'subsample': 0.9869680918568513, 'colsample_bytree': 0.4640422473046698}\n"
     ]
    },
    {
     "name": "stderr",
     "output_type": "stream",
     "text": [
      "[I 2025-07-24 12:41:54,756] Trial 37 finished with value: -0.6409215758818404 and parameters: {'n_estimators': 502, 'max_depth': 14, 'learning_rate': 0.0832742082580572, 'subsample': 0.7978356357826797, 'colsample_bytree': 0.6550510554730691}. Best is trial 12 with value: -0.6512426387754884.\n"
     ]
    },
    {
     "name": "stdout",
     "output_type": "stream",
     "text": [
      "Trial 37: AUC macro=0.64092, params={'n_estimators': 502, 'max_depth': 14, 'learning_rate': 0.0832742082580572, 'subsample': 0.7978356357826797, 'colsample_bytree': 0.6550510554730691}\n"
     ]
    },
    {
     "name": "stderr",
     "output_type": "stream",
     "text": [
      "[I 2025-07-24 12:43:05,857] Trial 38 finished with value: -0.6462114909123841 and parameters: {'n_estimators': 415, 'max_depth': 11, 'learning_rate': 0.04465222194330377, 'subsample': 0.7381432623581737, 'colsample_bytree': 0.33418712814945895}. Best is trial 12 with value: -0.6512426387754884.\n"
     ]
    },
    {
     "name": "stdout",
     "output_type": "stream",
     "text": [
      "Trial 38: AUC macro=0.64621, params={'n_estimators': 415, 'max_depth': 11, 'learning_rate': 0.04465222194330377, 'subsample': 0.7381432623581737, 'colsample_bytree': 0.33418712814945895}\n"
     ]
    },
    {
     "name": "stderr",
     "output_type": "stream",
     "text": [
      "[I 2025-07-24 12:47:04,139] Trial 39 finished with value: -0.6467510327979076 and parameters: {'n_estimators': 815, 'max_depth': 15, 'learning_rate': 0.025724778949604496, 'subsample': 0.7585836251731989, 'colsample_bytree': 0.5179876693691041}. Best is trial 12 with value: -0.6512426387754884.\n"
     ]
    },
    {
     "name": "stdout",
     "output_type": "stream",
     "text": [
      "Trial 39: AUC macro=0.64675, params={'n_estimators': 815, 'max_depth': 15, 'learning_rate': 0.025724778949604496, 'subsample': 0.7585836251731989, 'colsample_bytree': 0.5179876693691041}\n"
     ]
    },
    {
     "name": "stderr",
     "output_type": "stream",
     "text": [
      "[I 2025-07-24 12:47:41,543] Trial 40 finished with value: -0.6507273720590897 and parameters: {'n_estimators': 907, 'max_depth': 6, 'learning_rate': 0.011193052975219431, 'subsample': 0.7168321714555425, 'colsample_bytree': 0.3906269628539928}. Best is trial 12 with value: -0.6512426387754884.\n"
     ]
    },
    {
     "name": "stdout",
     "output_type": "stream",
     "text": [
      "Trial 40: AUC macro=0.65073, params={'n_estimators': 907, 'max_depth': 6, 'learning_rate': 0.011193052975219431, 'subsample': 0.7168321714555425, 'colsample_bytree': 0.3906269628539928}\n"
     ]
    },
    {
     "name": "stderr",
     "output_type": "stream",
     "text": [
      "[I 2025-07-24 12:48:17,612] Trial 41 finished with value: -0.6493417408699702 and parameters: {'n_estimators': 876, 'max_depth': 6, 'learning_rate': 0.01228125420356224, 'subsample': 0.7165926724677798, 'colsample_bytree': 0.38480577387354753}. Best is trial 12 with value: -0.6512426387754884.\n"
     ]
    },
    {
     "name": "stdout",
     "output_type": "stream",
     "text": [
      "Trial 41: AUC macro=0.64934, params={'n_estimators': 876, 'max_depth': 6, 'learning_rate': 0.01228125420356224, 'subsample': 0.7165926724677798, 'colsample_bytree': 0.38480577387354753}\n"
     ]
    },
    {
     "name": "stderr",
     "output_type": "stream",
     "text": [
      "[I 2025-07-24 12:48:36,243] Trial 42 finished with value: -0.6444008363022949 and parameters: {'n_estimators': 943, 'max_depth': 3, 'learning_rate': 0.02325269960788614, 'subsample': 0.7369138522438027, 'colsample_bytree': 0.4037892728534955}. Best is trial 12 with value: -0.6512426387754884.\n"
     ]
    },
    {
     "name": "stdout",
     "output_type": "stream",
     "text": [
      "Trial 42: AUC macro=0.64440, params={'n_estimators': 943, 'max_depth': 3, 'learning_rate': 0.02325269960788614, 'subsample': 0.7369138522438027, 'colsample_bytree': 0.4037892728534955}\n"
     ]
    },
    {
     "name": "stderr",
     "output_type": "stream",
     "text": [
      "[I 2025-07-24 12:49:26,510] Trial 43 finished with value: -0.6336236999024564 and parameters: {'n_estimators': 910, 'max_depth': 7, 'learning_rate': 0.06094774457891951, 'subsample': 0.7580804401900981, 'colsample_bytree': 0.43758202953357517}. Best is trial 12 with value: -0.6512426387754884.\n"
     ]
    },
    {
     "name": "stdout",
     "output_type": "stream",
     "text": [
      "Trial 43: AUC macro=0.63362, params={'n_estimators': 910, 'max_depth': 7, 'learning_rate': 0.06094774457891951, 'subsample': 0.7580804401900981, 'colsample_bytree': 0.43758202953357517}\n"
     ]
    },
    {
     "name": "stderr",
     "output_type": "stream",
     "text": [
      "[I 2025-07-24 12:49:49,879] Trial 44 finished with value: -0.6419840372380584 and parameters: {'n_estimators': 744, 'max_depth': 5, 'learning_rate': 0.04342274193694676, 'subsample': 0.7015042380608697, 'colsample_bytree': 0.4952407512727124}. Best is trial 12 with value: -0.6512426387754884.\n"
     ]
    },
    {
     "name": "stdout",
     "output_type": "stream",
     "text": [
      "Trial 44: AUC macro=0.64198, params={'n_estimators': 744, 'max_depth': 5, 'learning_rate': 0.04342274193694676, 'subsample': 0.7015042380608697, 'colsample_bytree': 0.4952407512727124}\n"
     ]
    },
    {
     "name": "stderr",
     "output_type": "stream",
     "text": [
      "[I 2025-07-24 12:50:38,626] Trial 45 finished with value: -0.6251987416216119 and parameters: {'n_estimators': 841, 'max_depth': 8, 'learning_rate': 0.23280758814419228, 'subsample': 0.8844738166896597, 'colsample_bytree': 0.3270682138986842}. Best is trial 12 with value: -0.6512426387754884.\n"
     ]
    },
    {
     "name": "stdout",
     "output_type": "stream",
     "text": [
      "Trial 45: AUC macro=0.62520, params={'n_estimators': 841, 'max_depth': 8, 'learning_rate': 0.23280758814419228, 'subsample': 0.8844738166896597, 'colsample_bytree': 0.3270682138986842}\n"
     ]
    },
    {
     "name": "stderr",
     "output_type": "stream",
     "text": [
      "[I 2025-07-24 12:50:54,244] Trial 46 finished with value: -0.6460152893095978 and parameters: {'n_estimators': 770, 'max_depth': 3, 'learning_rate': 0.01838881778099929, 'subsample': 0.7757107618112993, 'colsample_bytree': 0.38296527388931934}. Best is trial 12 with value: -0.6512426387754884.\n"
     ]
    },
    {
     "name": "stdout",
     "output_type": "stream",
     "text": [
      "Trial 46: AUC macro=0.64602, params={'n_estimators': 770, 'max_depth': 3, 'learning_rate': 0.01838881778099929, 'subsample': 0.7757107618112993, 'colsample_bytree': 0.38296527388931934}\n"
     ]
    },
    {
     "name": "stderr",
     "output_type": "stream",
     "text": [
      "[I 2025-07-24 12:51:22,726] Trial 47 finished with value: -0.643547394864817 and parameters: {'n_estimators': 659, 'max_depth': 6, 'learning_rate': 0.03018470294653032, 'subsample': 0.7158299829708761, 'colsample_bytree': 0.7262969350092485}. Best is trial 12 with value: -0.6512426387754884.\n"
     ]
    },
    {
     "name": "stdout",
     "output_type": "stream",
     "text": [
      "Trial 47: AUC macro=0.64355, params={'n_estimators': 659, 'max_depth': 6, 'learning_rate': 0.03018470294653032, 'subsample': 0.7158299829708761, 'colsample_bytree': 0.7262969350092485}\n"
     ]
    },
    {
     "name": "stderr",
     "output_type": "stream",
     "text": [
      "[I 2025-07-24 12:56:05,872] Trial 48 finished with value: -0.64881055456694 and parameters: {'n_estimators': 816, 'max_depth': 14, 'learning_rate': 0.011651419272027837, 'subsample': 0.7560763935430721, 'colsample_bytree': 0.7617151556429856}. Best is trial 12 with value: -0.6512426387754884.\n"
     ]
    },
    {
     "name": "stdout",
     "output_type": "stream",
     "text": [
      "Trial 48: AUC macro=0.64881, params={'n_estimators': 816, 'max_depth': 14, 'learning_rate': 0.011651419272027837, 'subsample': 0.7560763935430721, 'colsample_bytree': 0.7617151556429856}\n"
     ]
    },
    {
     "name": "stderr",
     "output_type": "stream",
     "text": [
      "[I 2025-07-24 12:58:18,823] Trial 49 finished with value: -0.6429497742496498 and parameters: {'n_estimators': 872, 'max_depth': 11, 'learning_rate': 0.0387550296249187, 'subsample': 0.9459466455383579, 'colsample_bytree': 0.35199583312098026}. Best is trial 12 with value: -0.6512426387754884.\n"
     ]
    },
    {
     "name": "stdout",
     "output_type": "stream",
     "text": [
      "Trial 49: AUC macro=0.64295, params={'n_estimators': 872, 'max_depth': 11, 'learning_rate': 0.0387550296249187, 'subsample': 0.9459466455383579, 'colsample_bytree': 0.35199583312098026}\n",
      "Best AUC macro (XGBoost): 0.6512426387754884\n",
      "Best params (XGBoost): {'n_estimators': 794, 'max_depth': 12, 'learning_rate': 0.011137357517182185, 'subsample': 0.7133408583477188, 'colsample_bytree': 0.3011380525314675}\n"
     ]
    }
   ],
   "source": [
    "print(\"Tuning XGBClassifier with Optuna (AUC macro) ta features only\")\n",
    "\n",
    "def objective_xgb(trial):\n",
    "    params = {\n",
    "        \"n_estimators\": trial.suggest_int(\"n_estimators\", 200, 1000),\n",
    "        \"max_depth\": trial.suggest_int(\"max_depth\", 3, 15),\n",
    "        \"learning_rate\": trial.suggest_float(\"learning_rate\", 0.01, 0.3),\n",
    "        \"subsample\": trial.suggest_float(\"subsample\", 0.7, 1.0),\n",
    "        \"colsample_bytree\": trial.suggest_float(\"colsample_bytree\", 0.3, 0.9),\n",
    "        \"use_label_encoder\": False,\n",
    "        \"eval_metric\": \"mlogloss\",\n",
    "        \"random_state\": 42,\n",
    "        \"tree_method\": \"hist\",   # Sử dụng GPU\n",
    "        \"device\": \"cuda\",\n",
    "        \"n_jobs\": -1,\n",
    "    }\n",
    "\n",
    "    aucs = []\n",
    "    for train_idx, val_idx in folds:\n",
    "        X_train, X_val = X_no_sa[train_idx], X_no_sa[val_idx]\n",
    "        y_train_fold, y_val_fold = y.iloc[train_idx], y.iloc[val_idx]\n",
    "        model = XGBClassifier(**params)\n",
    "        model.fit(X_train, y_train_fold)\n",
    "        # One-hot encode y_val_fold\n",
    "        y_val_bin = label_binarize(y_val_fold, classes=[0,1,2])\n",
    "        y_pred_proba = model.predict_proba(X_val)\n",
    "        # Nếu predict_proba trả về list (multioutput), cần stack lại\n",
    "        if isinstance(y_pred_proba, list):\n",
    "            y_pred_proba = np.stack([p[:,1] for p in y_pred_proba], axis=1)\n",
    "        auc_macro = roc_auc_score(y_val_bin, y_pred_proba, average=\"macro\", multi_class=\"ovr\")\n",
    "        aucs.append(auc_macro)\n",
    "    mean_auc = np.mean(aucs)\n",
    "    print(f\"Trial {trial.number}: AUC macro={mean_auc:.5f}, params={trial.params}\")\n",
    "    # Optuna sẽ maximize AUC macro\n",
    "    return -mean_auc\n",
    "\n",
    "study = optuna.create_study(direction=\"minimize\")\n",
    "study.optimize(objective_xgb, n_trials=50)\n",
    "\n",
    "print(\"Best AUC macro (XGBoost):\", -study.best_value)\n",
    "print(\"Best params (XGBoost):\", study.best_trial.params)"
   ]
  }
 ],
 "metadata": {
  "colab": {
   "provenance": []
  },
  "kaggle": {
   "accelerator": "gpu",
   "dataSources": [
    {
     "datasetId": 7701584,
     "sourceId": 12224228,
     "sourceType": "datasetVersion"
    }
   ],
   "dockerImageVersionId": 31041,
   "isGpuEnabled": true,
   "isInternetEnabled": true,
   "language": "python",
   "sourceType": "notebook"
  },
  "kernelspec": {
   "display_name": "Python 3",
   "language": "python",
   "name": "python3"
  },
  "language_info": {
   "codemirror_mode": {
    "name": "ipython",
    "version": 3
   },
   "file_extension": ".py",
   "mimetype": "text/x-python",
   "name": "python",
   "nbconvert_exporter": "python",
   "pygments_lexer": "ipython3",
   "version": "3.11.11"
  }
 },
 "nbformat": 4,
 "nbformat_minor": 4
}
