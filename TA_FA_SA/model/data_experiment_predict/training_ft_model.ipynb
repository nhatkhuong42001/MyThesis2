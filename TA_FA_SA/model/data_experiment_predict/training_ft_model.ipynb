{
 "cells": [
  {
   "cell_type": "code",
   "execution_count": 4,
   "id": "93eeb83b",
   "metadata": {},
   "outputs": [],
   "source": [
    "from sklearn.metrics import f1_score\n",
    "from sklearn.ensemble import RandomForestClassifier, AdaBoostClassifier\n",
    "from xgboost import XGBClassifier\n",
    "from lightgbm import LGBMClassifier\n",
    "from catboost import CatBoostClassifier\n",
    "from sklearn.model_selection import cross_val_score\n",
    "from sklearn.metrics import (\n",
    "    f1_score, accuracy_score, classification_report, roc_auc_score,\n",
    "    roc_curve, auc, make_scorer\n",
    ")\n",
    "from sklearn.preprocessing import label_binarize\n",
    "from sklearn.tree import DecisionTreeClassifier\n",
    "from sklearn.base import clone\n",
    "from sklearn.metrics import precision_score, recall_score\n",
    "import shap\n",
    "from sklearn.preprocessing import StandardScaler\n",
    "import pandas as pd\n",
    "import os"
   ]
  },
  {
   "cell_type": "code",
   "execution_count": 5,
   "id": "a372dda1",
   "metadata": {},
   "outputs": [],
   "source": [
    "sentiment_columns = [\n",
    "        'Reputation', 'Company Communication', 'Appointment', 'Financial', 'Regulatory',\n",
    "        'Sales', 'M&A', 'Legal', 'Dividend Policy', 'Risks', 'Rumors', 'Strategy',\n",
    "        'Options', 'IPO', 'Signal', 'Coverage', 'Fundamentals', 'Insider Activity',\n",
    "        'Price Action', 'Buyside', 'Technical Analysis', 'Trade', 'Central Banks',\n",
    "        'Currency', 'Conditions', 'Market', 'Volatility', 'Investor Sentiment', 'Retail Investor Behavior',\n",
    "        'Speculation', 'Domestic Institutional Behavior', 'Foreign Institutional Behavior', 'Black Swan Event',\n",
    "    ]\n",
    "\n",
    "sentiment_p1d_columns = [\n",
    "        'reputation_p1d', 'company_communication_p1d', 'appointment_p1d', 'financial_p1d', 'regulatory_p1d',\n",
    "        'sales_p1d', 'm&a_p1d', 'legal_p1d', 'dividend_policy_p1d', 'risks_p1d', 'rumors_p1d', 'strategy_p1d',\n",
    "        'options_p1d', 'ipo_p1d', 'signal_p1d', 'coverage_p1d', 'fundamentals_p1d', 'insider_activity_p1d',\n",
    "        'price_action_p1d', 'buyside_p1d', 'technical_analysis_p1d', 'trade_p1d', 'central_banks_p1d',\n",
    "        'currency_p1d', 'conditions_p1d', 'market_p1d', 'volatility_p1d', 'investor_sentiment_p1d', 'retail_investor_behavior_p1d',\n",
    "        'speculation_p1d', 'domestic_institutional_behavior_p1d', 'foreign_institutional_behavior_p1d', 'black_swan_event_p1d',\n",
    "    ]\n",
    "meta_cols = ['num_sa_news', 'mean_sentiment_norm', 'max_sentiment_norm', 'std_sentiment_score', 'sum_positive_sa', 'sum_negative_sa', 'time_distance_from_sa_to_close_minutes']\n",
    "meta_p1d_cols = ['num_sa_news_p1d', 'mean_sentiment_norm_p1d', 'max_sentiment_norm_p1d', 'std_sentiment_score_p1d', 'sum_positive_sa_p1d', 'sum_negative_sa_p1d', 'time_distance_from_sa_to_close_minutes_p1d']\n",
    "\n",
    "sentiment_feature_selected =  sentiment_columns + sentiment_p1d_columns + meta_cols + meta_p1d_cols\n",
    "ta_features = ['volume_ma','volume_to_volume_ma_ratio','ema_12','ema_26','sma_20','sma_50','roc_5','roc_1','roc_9','%K','%R','cci','obv','macd','signal_line','macd_histogram','rsi','rsi_base_ma','rsi_rsi_base_ma_ratio','bb_bbm','bb_bbh','bb_bbl','bb_bbp','bb_bbh_bb_bbl_ratio','hl_ratio', 'co_ratio', 'price_range', 'sma_ratio_20_50', 'ema_ratio_12_26', 'bb_width', 'bb_position', 'rsi_overbought', 'rsi_oversold', 'rsi_neutral', 'macd_bullish', 'momentum_5', 'momentum_10','log_return','volatility_5d','volatility_10d','volatility_20d','volatility_30d','mean_log_return_5d','mean_log_return_10d','mean_log_return_20d','mean_log_return_30d','sharpe_like_5d','sharpe_like_10d','sharpe_like_20d','sharpe_like_30d','up_streak','pos_log_return_ratio_20d','z_score_5d','z_score_10d','z_score_20d','z_score_30d','annual_return','daily_return','sharpe_ratio',\n",
    "               'rsi_vn30','rsi_base_ma_vn30','rsi_rsi_base_ma_ratio_vn30','volume_ma_vn30','volume_to_volume_ma_ratio_vn30','bb_bbm_vn30','bb_bbh_vn30','bb_bbl_vn30','bb_bbp_vn30','bb_bbh_bb_bbl_ratio_vn30','roc_1_vn30', 'roc_5_vn30', 'roc_9_vn30','%K_vn30','%R_vn30','cci_vn30','obv_vn30','ema_12_vn30','ema_26_vn30','sma_20_vn30','sma_50_vn30', 'hl_ratio_vn30', 'co_ratio_vn30', 'price_range_vn30', 'sma_ratio_20_50_vn30', 'ema_ratio_12_26_vn30', 'bb_width_vn30', 'bb_position_vn30', 'rsi_overbought_vn30', 'rsi_oversold_vn30', 'rsi_neutral_vn30', 'momentum_5_vn30', 'momentum_10_vn30', 'log_return_vn30','volatility_5d_vn30','volatility_10d_vn30','volatility_20d_vn30','volatility_30d_vn30','mean_log_return_5d_vn30','mean_log_return_10d_vn30','mean_log_return_20d_vn30','mean_log_return_30d_vn30','sharpe_like_5d_vn30','sharpe_like_10d_vn30','sharpe_like_20d_vn30','sharpe_like_30d_vn30','up_streak_vn30','pos_log_return_ratio_20d_vn30','z_score_5d_vn30','z_score_10d_vn30','z_score_20d_vn30','z_score_30d_vn30','annual_return_vn30','daily_return_vn30','sharpe_ratio_vn30',\n",
    "               'rsi_vni','rsi_base_ma_vni','rsi_rsi_base_ma_ratio_vni','volume_ma_vni','volume_to_volume_ma_ratio_vni','bb_bbm_vni','bb_bbh_vni','bb_bbl_vni','bb_bbp_vni','bb_bbh_bb_bbl_ratio_vni','roc_1_vni', 'roc_5_vni', 'roc_9_vni','%K_vni','%R_vni','cci_vni','obv_vni','ema_12_vni','ema_26_vni','sma_20_vni','sma_50_vni', 'hl_ratio_vni', 'co_ratio_vni', 'price_range_vni', 'sma_ratio_20_50_vni', 'ema_ratio_12_26_vni', 'bb_width_vni', 'bb_position_vni', 'rsi_overbought_vni', 'rsi_oversold_vni', 'rsi_neutral_vni', 'momentum_5_vni', 'momentum_10_vni','log_return_vni','volatility_5d_vni','volatility_10d_vni','volatility_20d_vni','volatility_30d_vni','mean_log_return_5d_vni','mean_log_return_10d_vni','mean_log_return_20d_vni','mean_log_return_30d_vni','sharpe_like_5d_vni','sharpe_like_10d_vni','sharpe_like_20d_vni','sharpe_like_30d_vni','up_streak_vni','pos_log_return_ratio_20d_vni','z_score_5d_vni','z_score_10d_vni','z_score_20d_vni','z_score_30d_vni','annual_return_vni','daily_return_vni','sharpe_ratio_vni']\n",
    "fa_features = ['p/b_previous_quarter', 'p/b_change_rate','p/b_change_rate_flag','p/e_previous_quarter','p/e_change_rate','p/e_change_rate_flag','p/s_previous_quarter','p/s_change_rate','p/s_change_rate_flag','p/cash_flow_previous_quarter','p/cash_flow_change_rate','p/cash_flow_change_rate_flag','eps_previous_quarter','eps_change_rate', 'eps_change_rate_flag','bvps_previous_quarter','bvps_change_rate', 'bvps_change_rate_flag','roe_previous_quarter','roe_change_rate','roe_change_rate_flag','roa_previous_quarter','roa_change_rate','roa_change_rate_flag','coefficient_p/b','coefficient_p/e','coefficient_p/s','coefficient_p/cash_flow','coefficient_eps','coefficient_bvps','coefficient_roe','coefficient_roa','distance_to_nearest_quarter']\n",
    "ta_fa_feature_selected = ta_features + fa_features\n",
    "features = ta_fa_feature_selected + sentiment_feature_selected\n",
    "target = 'target'\n",
    "scaler = StandardScaler()"
   ]
  },
  {
   "cell_type": "code",
   "execution_count": 7,
   "id": "cfd7ff16",
   "metadata": {},
   "outputs": [
    {
     "name": "stdout",
     "output_type": "stream",
     "text": [
      "✅ Đã load xong 35865 dòng dữ liệu từ 30 cổ phiếu.\n",
      "✅ Đã load xong 7380 dòng dữ liệu từ 30 cổ phiếu.\n"
     ]
    },
    {
     "name": "stderr",
     "output_type": "stream",
     "text": [
      "c:\\Users\\nhatk\\AppData\\Local\\Programs\\Python\\Python312\\Lib\\site-packages\\xgboost\\core.py:158: UserWarning: [10:43:32] WARNING: C:\\buildkite-agent\\builds\\buildkite-windows-cpu-autoscaling-group-i-0015a694724fa8361-1\\xgboost\\xgboost-ci-windows\\src\\learner.cc:740: \n",
      "Parameters: { \"use_label_encoder\" } are not used.\n",
      "\n",
      "  warnings.warn(smsg, UserWarning)\n"
     ]
    },
    {
     "name": "stdout",
     "output_type": "stream",
     "text": [
      "Accuracy: 0.6317073170731707\n"
     ]
    }
   ],
   "source": [
    "# traning model\n",
    "def dataframe_to_x_y(df, feature, target):\n",
    "  X_train, y_train = [], []\n",
    "  X_val, y_val = [], []\n",
    "  n = len(df)\n",
    "  split_index = int(n * 0.8)\n",
    "  X_train = df[feature][:split_index]\n",
    "  y_train = df[target][:split_index]\n",
    "  X_val = df[feature][split_index:]\n",
    "  y_val = df[target][split_index:]\n",
    "  return X_train, y_train, X_val, y_val\n",
    "\n",
    "\n",
    "def load_data_for_analysis(tickers, folder_path):\n",
    "\n",
    "    df_all = []\n",
    "\n",
    "    for ticker in tickers:\n",
    "        file_path = os.path.join(folder_path, f\"{ticker}.xlsx\")\n",
    "        if os.path.exists(file_path):\n",
    "            df = pd.read_excel(file_path)\n",
    "            df[\"ticker\"] = ticker  # thêm cột ticker\n",
    "            df_all.append(df)\n",
    "        else:\n",
    "            print(f\"⚠️ Không tìm thấy: {file_path}\")\n",
    "\n",
    "    # Gộp lại thành 1 DataFrame\n",
    "    df_global = pd.concat(df_all, ignore_index=True)\n",
    "    print(f\"✅ Đã load xong {len(df_global)} dòng dữ liệu từ {len(df_all)} cổ phiếu.\")\n",
    "    return df_global\n",
    "\n",
    "tickers = ['ACB', 'BCM', 'BID','BVH','CTG','FPT','GAS','GVR','HDB','HPG',\n",
    "                    'LPB','MBB','MSN','MWG','PLX','SAB','SHB','SSB','SSI','STB',\n",
    "                    'TCB','TPB','VCB','VHM','VIB','VIC','VJC','VNM','VPB','VRE']\n",
    "folder_path_train = r\"D:\\thacsi\\TAILIEULUANVAN\\code\\PredictStock_TA_FA_SA - Copy\\TA_FA_SA\\data\\v6\\stock_trend\\train_data\" \n",
    "folder_path_test = r\"D:\\thacsi\\TAILIEULUANVAN\\code\\PredictStock_TA_FA_SA - Copy\\TA_FA_SA\\data\\v6\\stock_trend\\test_data\" \n",
    "df_global_train = load_data_for_analysis(tickers, folder_path_train)\n",
    "df_global_test = load_data_for_analysis(tickers, folder_path_test)\n",
    "\n",
    "X_train_with_ta_sa = df_global_train[ta_fa_feature_selected]  # features = ta + fa\n",
    "X_test_with_ta_sa = df_global_test[ta_fa_feature_selected]\n",
    "y_train = df_global_train[target]\n",
    "y_test = df_global_test[target]\n",
    "\n",
    "scaler = StandardScaler()\n",
    "X_train_with_ta_fa_scaled = scaler.fit_transform(X_train_with_ta_sa)   # Fit scaler trên train, scale train luôn\n",
    "X_test_with_ta_sa_scaled = scaler.transform(X_test_with_ta_sa)\n",
    "ft_xgb_model = XGBClassifier(\n",
    "        n_jobs=-1,\n",
    "        random_state=42, \n",
    "        use_label_encoder=False, \n",
    "        eval_metric='mlogloss',\n",
    "        n_estimators = 746,\n",
    "        max_depth = 12, \n",
    "        learning_rate = 0.010426655483340486, \n",
    "        subsample = 0.7172335199809252, \n",
    "        colsample_bytree = 0.33652334829357333\n",
    "    )\n",
    "ft_xgb_model.fit(X_train_with_ta_fa_scaled, y_train)\n",
    "y_pred = ft_xgb_model.predict(X_test_with_ta_sa_scaled)\n",
    "accuracy = accuracy_score(y_test, y_pred)\n",
    "print(\"Accuracy:\", accuracy)"
   ]
  },
  {
   "cell_type": "code",
   "execution_count": 8,
   "id": "f2c8d078",
   "metadata": {},
   "outputs": [],
   "source": [
    "import joblib"
   ]
  },
  {
   "cell_type": "code",
   "execution_count": 9,
   "id": "8bf10d71",
   "metadata": {},
   "outputs": [
    {
     "data": {
      "text/plain": [
       "['D:\\\\thacsi\\\\TAILIEULUANVAN\\\\code\\\\PredictStock_TA_FA_SA - Copy\\\\TA_FA_SA\\\\model\\\\model_scaler\\\\ft_scaler.pkl']"
      ]
     },
     "execution_count": 9,
     "metadata": {},
     "output_type": "execute_result"
    }
   ],
   "source": [
    "\n",
    "\n",
    "# Lưu model\n",
    "joblib.dump(ft_xgb_model, r\"D:\\thacsi\\TAILIEULUANVAN\\code\\PredictStock_TA_FA_SA - Copy\\TA_FA_SA\\model\\model_scaler\\ft_xgb_model.pkl\")\n",
    "\n",
    "# Lưu scaler\n",
    "joblib.dump(scaler, r\"D:\\thacsi\\TAILIEULUANVAN\\code\\PredictStock_TA_FA_SA - Copy\\TA_FA_SA\\model\\model_scaler\\ft_scaler.pkl\")"
   ]
  },
  {
   "cell_type": "code",
   "execution_count": null,
   "id": "f4d6cff6",
   "metadata": {},
   "outputs": [],
   "source": []
  }
 ],
 "metadata": {
  "kernelspec": {
   "display_name": "Python 3",
   "language": "python",
   "name": "python3"
  },
  "language_info": {
   "codemirror_mode": {
    "name": "ipython",
    "version": 3
   },
   "file_extension": ".py",
   "mimetype": "text/x-python",
   "name": "python",
   "nbconvert_exporter": "python",
   "pygments_lexer": "ipython3",
   "version": "3.12.5"
  }
 },
 "nbformat": 4,
 "nbformat_minor": 5
}
