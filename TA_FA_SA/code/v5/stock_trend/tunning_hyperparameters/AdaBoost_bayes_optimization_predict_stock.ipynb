{
  "cells": [
    {
      "cell_type": "markdown",
      "metadata": {
        "id": "cLNVn_5nAdIT"
      },
      "source": []
    },
    {
      "cell_type": "code",
      "execution_count": null,
      "metadata": {
        "colab": {
          "base_uri": "https://localhost:8080/"
        },
        "execution": {
          "iopub.execute_input": "2025-06-20T14:20:22.678282Z",
          "iopub.status.busy": "2025-06-20T14:20:22.67806Z",
          "iopub.status.idle": "2025-06-20T14:20:28.998393Z",
          "shell.execute_reply": "2025-06-20T14:20:28.997384Z",
          "shell.execute_reply.started": "2025-06-20T14:20:22.678261Z"
        },
        "id": "Okm4_Fz0m1-2",
        "outputId": "b9912095-2811-4d6c-cff5-720d10001a10",
        "trusted": true
      },
      "outputs": [
        {
          "name": "stdout",
          "output_type": "stream",
          "text": [
            "Collecting vnstock\n",
            "  Downloading vnstock-3.2.6-py3-none-any.whl.metadata (42 kB)\n",
            "\u001b[2K     \u001b[90m━━━━━━━━━━━━━━━━━━━━━━━━━━━━━━━━━━━━━━━━\u001b[0m \u001b[32m42.5/42.5 kB\u001b[0m \u001b[31m1.3 MB/s\u001b[0m eta \u001b[36m0:00:00\u001b[0m\n",
            "\u001b[?25hRequirement already satisfied: requests in /usr/local/lib/python3.11/dist-packages (from vnstock) (2.32.3)\n",
            "Requirement already satisfied: beautifulsoup4 in /usr/local/lib/python3.11/dist-packages (from vnstock) (4.13.3)\n",
            "Requirement already satisfied: pandas in /usr/local/lib/python3.11/dist-packages (from vnstock) (2.2.3)\n",
            "Requirement already satisfied: seaborn in /usr/local/lib/python3.11/dist-packages (from vnstock) (0.12.2)\n",
            "Requirement already satisfied: openpyxl in /usr/local/lib/python3.11/dist-packages (from vnstock) (3.1.5)\n",
            "Requirement already satisfied: pydantic in /usr/local/lib/python3.11/dist-packages (from vnstock) (2.11.4)\n",
            "Requirement already satisfied: psutil in /usr/local/lib/python3.11/dist-packages (from vnstock) (7.0.0)\n",
            "Collecting fake_useragent (from vnstock)\n",
            "  Downloading fake_useragent-2.2.0-py3-none-any.whl.metadata (17 kB)\n",
            "Collecting vnstock_ezchart (from vnstock)\n",
            "  Downloading vnstock_ezchart-0.0.2-py3-none-any.whl.metadata (6.6 kB)\n",
            "Requirement already satisfied: click in /usr/local/lib/python3.11/dist-packages (from vnstock) (8.1.8)\n",
            "Requirement already satisfied: packaging>=20.0 in /usr/local/lib/python3.11/dist-packages (from vnstock) (25.0)\n",
            "Requirement already satisfied: importlib-metadata>=1.0 in /usr/local/lib/python3.11/dist-packages (from vnstock) (8.7.0)\n",
            "Requirement already satisfied: tenacity in /usr/local/lib/python3.11/dist-packages (from vnstock) (9.1.2)\n",
            "Collecting vnai>=2.0.3 (from vnstock)\n",
            "  Downloading vnai-2.0.4-py3-none-any.whl.metadata (988 bytes)\n",
            "Requirement already satisfied: zipp>=3.20 in /usr/local/lib/python3.11/dist-packages (from importlib-metadata>=1.0->vnstock) (3.21.0)\n",
            "Requirement already satisfied: charset-normalizer<4,>=2 in /usr/local/lib/python3.11/dist-packages (from requests->vnstock) (3.4.2)\n",
            "Requirement already satisfied: idna<4,>=2.5 in /usr/local/lib/python3.11/dist-packages (from requests->vnstock) (3.10)\n",
            "Requirement already satisfied: urllib3<3,>=1.21.1 in /usr/local/lib/python3.11/dist-packages (from requests->vnstock) (2.4.0)\n",
            "Requirement already satisfied: certifi>=2017.4.17 in /usr/local/lib/python3.11/dist-packages (from requests->vnstock) (2025.4.26)\n",
            "Requirement already satisfied: soupsieve>1.2 in /usr/local/lib/python3.11/dist-packages (from beautifulsoup4->vnstock) (2.6)\n",
            "Requirement already satisfied: typing-extensions>=4.0.0 in /usr/local/lib/python3.11/dist-packages (from beautifulsoup4->vnstock) (4.13.2)\n",
            "Requirement already satisfied: et-xmlfile in /usr/local/lib/python3.11/dist-packages (from openpyxl->vnstock) (2.0.0)\n",
            "Requirement already satisfied: numpy>=1.23.2 in /usr/local/lib/python3.11/dist-packages (from pandas->vnstock) (1.26.4)\n",
            "Requirement already satisfied: python-dateutil>=2.8.2 in /usr/local/lib/python3.11/dist-packages (from pandas->vnstock) (2.9.0.post0)\n",
            "Requirement already satisfied: pytz>=2020.1 in /usr/local/lib/python3.11/dist-packages (from pandas->vnstock) (2025.2)\n",
            "Requirement already satisfied: tzdata>=2022.7 in /usr/local/lib/python3.11/dist-packages (from pandas->vnstock) (2025.2)\n",
            "Requirement already satisfied: annotated-types>=0.6.0 in /usr/local/lib/python3.11/dist-packages (from pydantic->vnstock) (0.7.0)\n",
            "Requirement already satisfied: pydantic-core==2.33.2 in /usr/local/lib/python3.11/dist-packages (from pydantic->vnstock) (2.33.2)\n",
            "Requirement already satisfied: typing-inspection>=0.4.0 in /usr/local/lib/python3.11/dist-packages (from pydantic->vnstock) (0.4.0)\n",
            "Requirement already satisfied: matplotlib!=3.6.1,>=3.1 in /usr/local/lib/python3.11/dist-packages (from seaborn->vnstock) (3.7.2)\n",
            "Requirement already satisfied: squarify in /usr/local/lib/python3.11/dist-packages (from vnstock_ezchart->vnstock) (0.4.4)\n",
            "Requirement already satisfied: wordcloud in /usr/local/lib/python3.11/dist-packages (from vnstock_ezchart->vnstock) (1.9.4)\n",
            "Requirement already satisfied: contourpy>=1.0.1 in /usr/local/lib/python3.11/dist-packages (from matplotlib!=3.6.1,>=3.1->seaborn->vnstock) (1.3.1)\n",
            "Requirement already satisfied: cycler>=0.10 in /usr/local/lib/python3.11/dist-packages (from matplotlib!=3.6.1,>=3.1->seaborn->vnstock) (0.12.1)\n",
            "Requirement already satisfied: fonttools>=4.22.0 in /usr/local/lib/python3.11/dist-packages (from matplotlib!=3.6.1,>=3.1->seaborn->vnstock) (4.57.0)\n",
            "Requirement already satisfied: kiwisolver>=1.0.1 in /usr/local/lib/python3.11/dist-packages (from matplotlib!=3.6.1,>=3.1->seaborn->vnstock) (1.4.8)\n",
            "Requirement already satisfied: pillow>=6.2.0 in /usr/local/lib/python3.11/dist-packages (from matplotlib!=3.6.1,>=3.1->seaborn->vnstock) (11.1.0)\n",
            "Requirement already satisfied: pyparsing<3.1,>=2.3.1 in /usr/local/lib/python3.11/dist-packages (from matplotlib!=3.6.1,>=3.1->seaborn->vnstock) (3.0.9)\n",
            "Requirement already satisfied: mkl_fft in /usr/local/lib/python3.11/dist-packages (from numpy>=1.23.2->pandas->vnstock) (1.3.8)\n",
            "Requirement already satisfied: mkl_random in /usr/local/lib/python3.11/dist-packages (from numpy>=1.23.2->pandas->vnstock) (1.2.4)\n",
            "Requirement already satisfied: mkl_umath in /usr/local/lib/python3.11/dist-packages (from numpy>=1.23.2->pandas->vnstock) (0.1.1)\n",
            "Requirement already satisfied: mkl in /usr/local/lib/python3.11/dist-packages (from numpy>=1.23.2->pandas->vnstock) (2025.1.0)\n",
            "Requirement already satisfied: tbb4py in /usr/local/lib/python3.11/dist-packages (from numpy>=1.23.2->pandas->vnstock) (2022.1.0)\n",
            "Requirement already satisfied: mkl-service in /usr/local/lib/python3.11/dist-packages (from numpy>=1.23.2->pandas->vnstock) (2.4.1)\n",
            "Requirement already satisfied: six>=1.5 in /usr/local/lib/python3.11/dist-packages (from python-dateutil>=2.8.2->pandas->vnstock) (1.17.0)\n",
            "Requirement already satisfied: intel-openmp<2026,>=2024 in /usr/local/lib/python3.11/dist-packages (from mkl->numpy>=1.23.2->pandas->vnstock) (2024.2.0)\n",
            "Requirement already satisfied: tbb==2022.* in /usr/local/lib/python3.11/dist-packages (from mkl->numpy>=1.23.2->pandas->vnstock) (2022.1.0)\n",
            "Requirement already satisfied: tcmlib==1.* in /usr/local/lib/python3.11/dist-packages (from tbb==2022.*->mkl->numpy>=1.23.2->pandas->vnstock) (1.3.0)\n",
            "Requirement already satisfied: intel-cmplr-lib-rt in /usr/local/lib/python3.11/dist-packages (from mkl_umath->numpy>=1.23.2->pandas->vnstock) (2024.2.0)\n",
            "Requirement already satisfied: intel-cmplr-lib-ur==2024.2.0 in /usr/local/lib/python3.11/dist-packages (from intel-openmp<2026,>=2024->mkl->numpy>=1.23.2->pandas->vnstock) (2024.2.0)\n",
            "Downloading vnstock-3.2.6-py3-none-any.whl (121 kB)\n",
            "\u001b[2K   \u001b[90m━━━━━━━━━━━━━━━━━━━━━━━━━━━━━━━━━━━━━━━━\u001b[0m \u001b[32m121.8/121.8 kB\u001b[0m \u001b[31m4.3 MB/s\u001b[0m eta \u001b[36m0:00:00\u001b[0m\n",
            "\u001b[?25hDownloading vnai-2.0.4-py3-none-any.whl (32 kB)\n",
            "Downloading fake_useragent-2.2.0-py3-none-any.whl (161 kB)\n",
            "\u001b[2K   \u001b[90m━━━━━━━━━━━━━━━━━━━━━━━━━━━━━━━━━━━━━━━━\u001b[0m \u001b[32m161.7/161.7 kB\u001b[0m \u001b[31m7.5 MB/s\u001b[0m eta \u001b[36m0:00:00\u001b[0m\n",
            "\u001b[?25hDownloading vnstock_ezchart-0.0.2-py3-none-any.whl (14 kB)\n",
            "Installing collected packages: fake_useragent, vnai, vnstock_ezchart, vnstock\n",
            "Successfully installed fake_useragent-2.2.0 vnai-2.0.4 vnstock-3.2.6 vnstock_ezchart-0.0.2\n",
            "Note: you may need to restart the kernel to use updated packages.\n"
          ]
        }
      ],
      "source": [
        "pip install -U vnstock"
      ]
    },
    {
      "cell_type": "code",
      "execution_count": null,
      "metadata": {
        "colab": {
          "base_uri": "https://localhost:8080/"
        },
        "execution": {
          "iopub.execute_input": "2025-06-20T14:20:44.303878Z",
          "iopub.status.busy": "2025-06-20T14:20:44.303574Z",
          "iopub.status.idle": "2025-06-20T14:20:47.910422Z",
          "shell.execute_reply": "2025-06-20T14:20:47.909179Z",
          "shell.execute_reply.started": "2025-06-20T14:20:44.303847Z"
        },
        "id": "a50KDExwzi2l",
        "outputId": "4169dd5a-71f6-40a8-dc0f-0c4f8d67600b",
        "trusted": true
      },
      "outputs": [
        {
          "name": "stdout",
          "output_type": "stream",
          "text": [
            "Requirement already satisfied: optuna in /usr/local/lib/python3.11/dist-packages (4.3.0)\n",
            "Requirement already satisfied: alembic>=1.5.0 in /usr/local/lib/python3.11/dist-packages (from optuna) (1.15.2)\n",
            "Requirement already satisfied: colorlog in /usr/local/lib/python3.11/dist-packages (from optuna) (6.9.0)\n",
            "Requirement already satisfied: numpy in /usr/local/lib/python3.11/dist-packages (from optuna) (1.26.4)\n",
            "Requirement already satisfied: packaging>=20.0 in /usr/local/lib/python3.11/dist-packages (from optuna) (25.0)\n",
            "Requirement already satisfied: sqlalchemy>=1.4.2 in /usr/local/lib/python3.11/dist-packages (from optuna) (2.0.40)\n",
            "Requirement already satisfied: tqdm in /usr/local/lib/python3.11/dist-packages (from optuna) (4.67.1)\n",
            "Requirement already satisfied: PyYAML in /usr/local/lib/python3.11/dist-packages (from optuna) (6.0.2)\n",
            "Requirement already satisfied: Mako in /usr/local/lib/python3.11/dist-packages (from alembic>=1.5.0->optuna) (1.3.10)\n",
            "Requirement already satisfied: typing-extensions>=4.12 in /usr/local/lib/python3.11/dist-packages (from alembic>=1.5.0->optuna) (4.13.2)\n",
            "Requirement already satisfied: greenlet>=1 in /usr/local/lib/python3.11/dist-packages (from sqlalchemy>=1.4.2->optuna) (3.1.1)\n",
            "Requirement already satisfied: mkl_fft in /usr/local/lib/python3.11/dist-packages (from numpy->optuna) (1.3.8)\n",
            "Requirement already satisfied: mkl_random in /usr/local/lib/python3.11/dist-packages (from numpy->optuna) (1.2.4)\n",
            "Requirement already satisfied: mkl_umath in /usr/local/lib/python3.11/dist-packages (from numpy->optuna) (0.1.1)\n",
            "Requirement already satisfied: mkl in /usr/local/lib/python3.11/dist-packages (from numpy->optuna) (2025.1.0)\n",
            "Requirement already satisfied: tbb4py in /usr/local/lib/python3.11/dist-packages (from numpy->optuna) (2022.1.0)\n",
            "Requirement already satisfied: mkl-service in /usr/local/lib/python3.11/dist-packages (from numpy->optuna) (2.4.1)\n",
            "Requirement already satisfied: MarkupSafe>=0.9.2 in /usr/local/lib/python3.11/dist-packages (from Mako->alembic>=1.5.0->optuna) (3.0.2)\n",
            "Requirement already satisfied: intel-openmp<2026,>=2024 in /usr/local/lib/python3.11/dist-packages (from mkl->numpy->optuna) (2024.2.0)\n",
            "Requirement already satisfied: tbb==2022.* in /usr/local/lib/python3.11/dist-packages (from mkl->numpy->optuna) (2022.1.0)\n",
            "Requirement already satisfied: tcmlib==1.* in /usr/local/lib/python3.11/dist-packages (from tbb==2022.*->mkl->numpy->optuna) (1.3.0)\n",
            "Requirement already satisfied: intel-cmplr-lib-rt in /usr/local/lib/python3.11/dist-packages (from mkl_umath->numpy->optuna) (2024.2.0)\n",
            "Requirement already satisfied: intel-cmplr-lib-ur==2024.2.0 in /usr/local/lib/python3.11/dist-packages (from intel-openmp<2026,>=2024->mkl->numpy->optuna) (2024.2.0)\n",
            "Note: you may need to restart the kernel to use updated packages.\n"
          ]
        }
      ],
      "source": [
        "pip install optuna"
      ]
    },
    {
      "cell_type": "code",
      "execution_count": null,
      "metadata": {
        "colab": {
          "base_uri": "https://localhost:8080/"
        },
        "execution": {
          "iopub.execute_input": "2025-06-20T14:20:54.35009Z",
          "iopub.status.busy": "2025-06-20T14:20:54.349751Z",
          "iopub.status.idle": "2025-06-20T14:21:00.314717Z",
          "shell.execute_reply": "2025-06-20T14:21:00.313754Z",
          "shell.execute_reply.started": "2025-06-20T14:20:54.350058Z"
        },
        "id": "wh4DI2CwnSEF",
        "outputId": "30b2a971-16a7-4931-d041-cddba828a1e7",
        "trusted": true
      },
      "outputs": [
        {
          "name": "stdout",
          "output_type": "stream",
          "text": [
            "Collecting ta\n",
            "  Downloading ta-0.11.0.tar.gz (25 kB)\n",
            "  Preparing metadata (setup.py) ... \u001b[?25l\u001b[?25hdone\n",
            "Requirement already satisfied: numpy in /usr/local/lib/python3.11/dist-packages (from ta) (1.26.4)\n",
            "Requirement already satisfied: pandas in /usr/local/lib/python3.11/dist-packages (from ta) (2.2.3)\n",
            "Requirement already satisfied: mkl_fft in /usr/local/lib/python3.11/dist-packages (from numpy->ta) (1.3.8)\n",
            "Requirement already satisfied: mkl_random in /usr/local/lib/python3.11/dist-packages (from numpy->ta) (1.2.4)\n",
            "Requirement already satisfied: mkl_umath in /usr/local/lib/python3.11/dist-packages (from numpy->ta) (0.1.1)\n",
            "Requirement already satisfied: mkl in /usr/local/lib/python3.11/dist-packages (from numpy->ta) (2025.1.0)\n",
            "Requirement already satisfied: tbb4py in /usr/local/lib/python3.11/dist-packages (from numpy->ta) (2022.1.0)\n",
            "Requirement already satisfied: mkl-service in /usr/local/lib/python3.11/dist-packages (from numpy->ta) (2.4.1)\n",
            "Requirement already satisfied: python-dateutil>=2.8.2 in /usr/local/lib/python3.11/dist-packages (from pandas->ta) (2.9.0.post0)\n",
            "Requirement already satisfied: pytz>=2020.1 in /usr/local/lib/python3.11/dist-packages (from pandas->ta) (2025.2)\n",
            "Requirement already satisfied: tzdata>=2022.7 in /usr/local/lib/python3.11/dist-packages (from pandas->ta) (2025.2)\n",
            "Requirement already satisfied: six>=1.5 in /usr/local/lib/python3.11/dist-packages (from python-dateutil>=2.8.2->pandas->ta) (1.17.0)\n",
            "Requirement already satisfied: intel-openmp<2026,>=2024 in /usr/local/lib/python3.11/dist-packages (from mkl->numpy->ta) (2024.2.0)\n",
            "Requirement already satisfied: tbb==2022.* in /usr/local/lib/python3.11/dist-packages (from mkl->numpy->ta) (2022.1.0)\n",
            "Requirement already satisfied: tcmlib==1.* in /usr/local/lib/python3.11/dist-packages (from tbb==2022.*->mkl->numpy->ta) (1.3.0)\n",
            "Requirement already satisfied: intel-cmplr-lib-rt in /usr/local/lib/python3.11/dist-packages (from mkl_umath->numpy->ta) (2024.2.0)\n",
            "Requirement already satisfied: intel-cmplr-lib-ur==2024.2.0 in /usr/local/lib/python3.11/dist-packages (from intel-openmp<2026,>=2024->mkl->numpy->ta) (2024.2.0)\n",
            "Building wheels for collected packages: ta\n",
            "  Building wheel for ta (setup.py) ... \u001b[?25l\u001b[?25hdone\n",
            "  Created wheel for ta: filename=ta-0.11.0-py3-none-any.whl size=29412 sha256=c7dc40bc09d25688871c53ecb7d457309461f24b4cad7fcb8665c0ef86e1b25f\n",
            "  Stored in directory: /root/.cache/pip/wheels/a1/d7/29/7781cc5eb9a3659d032d7d15bdd0f49d07d2b24fec29f44bc4\n",
            "Successfully built ta\n",
            "Installing collected packages: ta\n",
            "Successfully installed ta-0.11.0\n",
            "Note: you may need to restart the kernel to use updated packages.\n"
          ]
        }
      ],
      "source": [
        "pip install ta"
      ]
    },
    {
      "cell_type": "code",
      "execution_count": null,
      "metadata": {
        "colab": {
          "base_uri": "https://localhost:8080/"
        },
        "execution": {
          "iopub.execute_input": "2025-06-20T14:21:17.255144Z",
          "iopub.status.busy": "2025-06-20T14:21:17.254812Z",
          "iopub.status.idle": "2025-06-20T14:21:20.982902Z",
          "shell.execute_reply": "2025-06-20T14:21:20.981908Z",
          "shell.execute_reply.started": "2025-06-20T14:21:17.255115Z"
        },
        "id": "bh2_oFeynbcj",
        "outputId": "7a177a51-6d71-4930-8d26-de06d003a32f",
        "trusted": true
      },
      "outputs": [
        {
          "name": "stdout",
          "output_type": "stream",
          "text": [
            "Requirement already satisfied: tensorflow in /usr/local/lib/python3.11/dist-packages (2.18.0)\n",
            "Requirement already satisfied: absl-py>=1.0.0 in /usr/local/lib/python3.11/dist-packages (from tensorflow) (1.4.0)\n",
            "Requirement already satisfied: astunparse>=1.6.0 in /usr/local/lib/python3.11/dist-packages (from tensorflow) (1.6.3)\n",
            "Requirement already satisfied: flatbuffers>=24.3.25 in /usr/local/lib/python3.11/dist-packages (from tensorflow) (25.2.10)\n",
            "Requirement already satisfied: gast!=0.5.0,!=0.5.1,!=0.5.2,>=0.2.1 in /usr/local/lib/python3.11/dist-packages (from tensorflow) (0.6.0)\n",
            "Requirement already satisfied: google-pasta>=0.1.1 in /usr/local/lib/python3.11/dist-packages (from tensorflow) (0.2.0)\n",
            "Requirement already satisfied: libclang>=13.0.0 in /usr/local/lib/python3.11/dist-packages (from tensorflow) (18.1.1)\n",
            "Requirement already satisfied: opt-einsum>=2.3.2 in /usr/local/lib/python3.11/dist-packages (from tensorflow) (3.4.0)\n",
            "Requirement already satisfied: packaging in /usr/local/lib/python3.11/dist-packages (from tensorflow) (25.0)\n",
            "Requirement already satisfied: protobuf!=4.21.0,!=4.21.1,!=4.21.2,!=4.21.3,!=4.21.4,!=4.21.5,<6.0.0dev,>=3.20.3 in /usr/local/lib/python3.11/dist-packages (from tensorflow) (3.20.3)\n",
            "Requirement already satisfied: requests<3,>=2.21.0 in /usr/local/lib/python3.11/dist-packages (from tensorflow) (2.32.3)\n",
            "Requirement already satisfied: setuptools in /usr/local/lib/python3.11/dist-packages (from tensorflow) (75.2.0)\n",
            "Requirement already satisfied: six>=1.12.0 in /usr/local/lib/python3.11/dist-packages (from tensorflow) (1.17.0)\n",
            "Requirement already satisfied: termcolor>=1.1.0 in /usr/local/lib/python3.11/dist-packages (from tensorflow) (3.0.1)\n",
            "Requirement already satisfied: typing-extensions>=3.6.6 in /usr/local/lib/python3.11/dist-packages (from tensorflow) (4.13.2)\n",
            "Requirement already satisfied: wrapt>=1.11.0 in /usr/local/lib/python3.11/dist-packages (from tensorflow) (1.17.2)\n",
            "Requirement already satisfied: grpcio<2.0,>=1.24.3 in /usr/local/lib/python3.11/dist-packages (from tensorflow) (1.72.0rc1)\n",
            "Requirement already satisfied: tensorboard<2.19,>=2.18 in /usr/local/lib/python3.11/dist-packages (from tensorflow) (2.18.0)\n",
            "Requirement already satisfied: keras>=3.5.0 in /usr/local/lib/python3.11/dist-packages (from tensorflow) (3.8.0)\n",
            "Requirement already satisfied: numpy<2.1.0,>=1.26.0 in /usr/local/lib/python3.11/dist-packages (from tensorflow) (1.26.4)\n",
            "Requirement already satisfied: h5py>=3.11.0 in /usr/local/lib/python3.11/dist-packages (from tensorflow) (3.13.0)\n",
            "Requirement already satisfied: ml-dtypes<0.5.0,>=0.4.0 in /usr/local/lib/python3.11/dist-packages (from tensorflow) (0.4.1)\n",
            "Requirement already satisfied: tensorflow-io-gcs-filesystem>=0.23.1 in /usr/local/lib/python3.11/dist-packages (from tensorflow) (0.37.1)\n",
            "Requirement already satisfied: wheel<1.0,>=0.23.0 in /usr/local/lib/python3.11/dist-packages (from astunparse>=1.6.0->tensorflow) (0.45.1)\n",
            "Requirement already satisfied: rich in /usr/local/lib/python3.11/dist-packages (from keras>=3.5.0->tensorflow) (14.0.0)\n",
            "Requirement already satisfied: namex in /usr/local/lib/python3.11/dist-packages (from keras>=3.5.0->tensorflow) (0.0.8)\n",
            "Requirement already satisfied: optree in /usr/local/lib/python3.11/dist-packages (from keras>=3.5.0->tensorflow) (0.14.1)\n",
            "Requirement already satisfied: mkl_fft in /usr/local/lib/python3.11/dist-packages (from numpy<2.1.0,>=1.26.0->tensorflow) (1.3.8)\n",
            "Requirement already satisfied: mkl_random in /usr/local/lib/python3.11/dist-packages (from numpy<2.1.0,>=1.26.0->tensorflow) (1.2.4)\n",
            "Requirement already satisfied: mkl_umath in /usr/local/lib/python3.11/dist-packages (from numpy<2.1.0,>=1.26.0->tensorflow) (0.1.1)\n",
            "Requirement already satisfied: mkl in /usr/local/lib/python3.11/dist-packages (from numpy<2.1.0,>=1.26.0->tensorflow) (2025.1.0)\n",
            "Requirement already satisfied: tbb4py in /usr/local/lib/python3.11/dist-packages (from numpy<2.1.0,>=1.26.0->tensorflow) (2022.1.0)\n",
            "Requirement already satisfied: mkl-service in /usr/local/lib/python3.11/dist-packages (from numpy<2.1.0,>=1.26.0->tensorflow) (2.4.1)\n",
            "Requirement already satisfied: charset-normalizer<4,>=2 in /usr/local/lib/python3.11/dist-packages (from requests<3,>=2.21.0->tensorflow) (3.4.2)\n",
            "Requirement already satisfied: idna<4,>=2.5 in /usr/local/lib/python3.11/dist-packages (from requests<3,>=2.21.0->tensorflow) (3.10)\n",
            "Requirement already satisfied: urllib3<3,>=1.21.1 in /usr/local/lib/python3.11/dist-packages (from requests<3,>=2.21.0->tensorflow) (2.4.0)\n",
            "Requirement already satisfied: certifi>=2017.4.17 in /usr/local/lib/python3.11/dist-packages (from requests<3,>=2.21.0->tensorflow) (2025.4.26)\n",
            "Requirement already satisfied: markdown>=2.6.8 in /usr/local/lib/python3.11/dist-packages (from tensorboard<2.19,>=2.18->tensorflow) (3.7)\n",
            "Requirement already satisfied: tensorboard-data-server<0.8.0,>=0.7.0 in /usr/local/lib/python3.11/dist-packages (from tensorboard<2.19,>=2.18->tensorflow) (0.7.2)\n",
            "Requirement already satisfied: werkzeug>=1.0.1 in /usr/local/lib/python3.11/dist-packages (from tensorboard<2.19,>=2.18->tensorflow) (3.1.3)\n",
            "Requirement already satisfied: MarkupSafe>=2.1.1 in /usr/local/lib/python3.11/dist-packages (from werkzeug>=1.0.1->tensorboard<2.19,>=2.18->tensorflow) (3.0.2)\n",
            "Requirement already satisfied: intel-openmp<2026,>=2024 in /usr/local/lib/python3.11/dist-packages (from mkl->numpy<2.1.0,>=1.26.0->tensorflow) (2024.2.0)\n",
            "Requirement already satisfied: tbb==2022.* in /usr/local/lib/python3.11/dist-packages (from mkl->numpy<2.1.0,>=1.26.0->tensorflow) (2022.1.0)\n",
            "Requirement already satisfied: tcmlib==1.* in /usr/local/lib/python3.11/dist-packages (from tbb==2022.*->mkl->numpy<2.1.0,>=1.26.0->tensorflow) (1.3.0)\n",
            "Requirement already satisfied: intel-cmplr-lib-rt in /usr/local/lib/python3.11/dist-packages (from mkl_umath->numpy<2.1.0,>=1.26.0->tensorflow) (2024.2.0)\n",
            "Requirement already satisfied: markdown-it-py>=2.2.0 in /usr/local/lib/python3.11/dist-packages (from rich->keras>=3.5.0->tensorflow) (3.0.0)\n",
            "Requirement already satisfied: pygments<3.0.0,>=2.13.0 in /usr/local/lib/python3.11/dist-packages (from rich->keras>=3.5.0->tensorflow) (2.19.1)\n",
            "Requirement already satisfied: intel-cmplr-lib-ur==2024.2.0 in /usr/local/lib/python3.11/dist-packages (from intel-openmp<2026,>=2024->mkl->numpy<2.1.0,>=1.26.0->tensorflow) (2024.2.0)\n",
            "Requirement already satisfied: mdurl~=0.1 in /usr/local/lib/python3.11/dist-packages (from markdown-it-py>=2.2.0->rich->keras>=3.5.0->tensorflow) (0.1.2)\n",
            "Note: you may need to restart the kernel to use updated packages.\n"
          ]
        }
      ],
      "source": [
        "pip install tensorflow"
      ]
    },
    {
      "cell_type": "code",
      "execution_count": null,
      "metadata": {
        "colab": {
          "base_uri": "https://localhost:8080/"
        },
        "execution": {
          "iopub.execute_input": "2025-06-20T14:21:27.835863Z",
          "iopub.status.busy": "2025-06-20T14:21:27.835529Z",
          "iopub.status.idle": "2025-06-20T14:21:33.637562Z",
          "shell.execute_reply": "2025-06-20T14:21:33.636526Z",
          "shell.execute_reply.started": "2025-06-20T14:21:27.835833Z"
        },
        "id": "mC0cd0c0ngqo",
        "outputId": "1730e9f2-e1c7-4acd-d969-cfa173befde9",
        "trusted": true
      },
      "outputs": [
        {
          "name": "stdout",
          "output_type": "stream",
          "text": [
            "Collecting keras-self-attention\n",
            "  Downloading keras-self-attention-0.51.0.tar.gz (11 kB)\n",
            "  Preparing metadata (setup.py) ... \u001b[?25l\u001b[?25hdone\n",
            "Requirement already satisfied: numpy in /usr/local/lib/python3.11/dist-packages (from keras-self-attention) (1.26.4)\n",
            "Requirement already satisfied: mkl_fft in /usr/local/lib/python3.11/dist-packages (from numpy->keras-self-attention) (1.3.8)\n",
            "Requirement already satisfied: mkl_random in /usr/local/lib/python3.11/dist-packages (from numpy->keras-self-attention) (1.2.4)\n",
            "Requirement already satisfied: mkl_umath in /usr/local/lib/python3.11/dist-packages (from numpy->keras-self-attention) (0.1.1)\n",
            "Requirement already satisfied: mkl in /usr/local/lib/python3.11/dist-packages (from numpy->keras-self-attention) (2025.1.0)\n",
            "Requirement already satisfied: tbb4py in /usr/local/lib/python3.11/dist-packages (from numpy->keras-self-attention) (2022.1.0)\n",
            "Requirement already satisfied: mkl-service in /usr/local/lib/python3.11/dist-packages (from numpy->keras-self-attention) (2.4.1)\n",
            "Requirement already satisfied: intel-openmp<2026,>=2024 in /usr/local/lib/python3.11/dist-packages (from mkl->numpy->keras-self-attention) (2024.2.0)\n",
            "Requirement already satisfied: tbb==2022.* in /usr/local/lib/python3.11/dist-packages (from mkl->numpy->keras-self-attention) (2022.1.0)\n",
            "Requirement already satisfied: tcmlib==1.* in /usr/local/lib/python3.11/dist-packages (from tbb==2022.*->mkl->numpy->keras-self-attention) (1.3.0)\n",
            "Requirement already satisfied: intel-cmplr-lib-rt in /usr/local/lib/python3.11/dist-packages (from mkl_umath->numpy->keras-self-attention) (2024.2.0)\n",
            "Requirement already satisfied: intel-cmplr-lib-ur==2024.2.0 in /usr/local/lib/python3.11/dist-packages (from intel-openmp<2026,>=2024->mkl->numpy->keras-self-attention) (2024.2.0)\n",
            "Building wheels for collected packages: keras-self-attention\n",
            "  Building wheel for keras-self-attention (setup.py) ... \u001b[?25l\u001b[?25hdone\n",
            "  Created wheel for keras-self-attention: filename=keras_self_attention-0.51.0-py3-none-any.whl size=18895 sha256=b5747c163bdbe769446ceee12d46ba66b469328b8eaa45e035580eed97cf8bc0\n",
            "  Stored in directory: /root/.cache/pip/wheels/46/f9/96/709295c836133071c12a300729fed4027757f889c01695feea\n",
            "Successfully built keras-self-attention\n",
            "Installing collected packages: keras-self-attention\n",
            "Successfully installed keras-self-attention-0.51.0\n",
            "Note: you may need to restart the kernel to use updated packages.\n"
          ]
        }
      ],
      "source": [
        "pip install keras-self-attention"
      ]
    },
    {
      "cell_type": "code",
      "execution_count": null,
      "metadata": {
        "colab": {
          "base_uri": "https://localhost:8080/"
        },
        "execution": {
          "iopub.execute_input": "2025-06-20T14:21:41.580993Z",
          "iopub.status.busy": "2025-06-20T14:21:41.580671Z",
          "iopub.status.idle": "2025-06-20T14:21:45.407605Z",
          "shell.execute_reply": "2025-06-20T14:21:45.406506Z",
          "shell.execute_reply.started": "2025-06-20T14:21:41.580963Z"
        },
        "id": "G8llwhZWnj0i",
        "outputId": "cc6a76fe-1f85-4c33-d240-04d13c4e38dd",
        "trusted": true
      },
      "outputs": [
        {
          "name": "stdout",
          "output_type": "stream",
          "text": [
            "Requirement already satisfied: keras-tuner in /usr/local/lib/python3.11/dist-packages (1.4.7)\n",
            "Requirement already satisfied: keras in /usr/local/lib/python3.11/dist-packages (from keras-tuner) (3.8.0)\n",
            "Requirement already satisfied: packaging in /usr/local/lib/python3.11/dist-packages (from keras-tuner) (25.0)\n",
            "Requirement already satisfied: requests in /usr/local/lib/python3.11/dist-packages (from keras-tuner) (2.32.3)\n",
            "Requirement already satisfied: kt-legacy in /usr/local/lib/python3.11/dist-packages (from keras-tuner) (1.0.5)\n",
            "Requirement already satisfied: absl-py in /usr/local/lib/python3.11/dist-packages (from keras->keras-tuner) (1.4.0)\n",
            "Requirement already satisfied: numpy in /usr/local/lib/python3.11/dist-packages (from keras->keras-tuner) (1.26.4)\n",
            "Requirement already satisfied: rich in /usr/local/lib/python3.11/dist-packages (from keras->keras-tuner) (14.0.0)\n",
            "Requirement already satisfied: namex in /usr/local/lib/python3.11/dist-packages (from keras->keras-tuner) (0.0.8)\n",
            "Requirement already satisfied: h5py in /usr/local/lib/python3.11/dist-packages (from keras->keras-tuner) (3.13.0)\n",
            "Requirement already satisfied: optree in /usr/local/lib/python3.11/dist-packages (from keras->keras-tuner) (0.14.1)\n",
            "Requirement already satisfied: ml-dtypes in /usr/local/lib/python3.11/dist-packages (from keras->keras-tuner) (0.4.1)\n",
            "Requirement already satisfied: charset-normalizer<4,>=2 in /usr/local/lib/python3.11/dist-packages (from requests->keras-tuner) (3.4.2)\n",
            "Requirement already satisfied: idna<4,>=2.5 in /usr/local/lib/python3.11/dist-packages (from requests->keras-tuner) (3.10)\n",
            "Requirement already satisfied: urllib3<3,>=1.21.1 in /usr/local/lib/python3.11/dist-packages (from requests->keras-tuner) (2.4.0)\n",
            "Requirement already satisfied: certifi>=2017.4.17 in /usr/local/lib/python3.11/dist-packages (from requests->keras-tuner) (2025.4.26)\n",
            "Requirement already satisfied: mkl_fft in /usr/local/lib/python3.11/dist-packages (from numpy->keras->keras-tuner) (1.3.8)\n",
            "Requirement already satisfied: mkl_random in /usr/local/lib/python3.11/dist-packages (from numpy->keras->keras-tuner) (1.2.4)\n",
            "Requirement already satisfied: mkl_umath in /usr/local/lib/python3.11/dist-packages (from numpy->keras->keras-tuner) (0.1.1)\n",
            "Requirement already satisfied: mkl in /usr/local/lib/python3.11/dist-packages (from numpy->keras->keras-tuner) (2025.1.0)\n",
            "Requirement already satisfied: tbb4py in /usr/local/lib/python3.11/dist-packages (from numpy->keras->keras-tuner) (2022.1.0)\n",
            "Requirement already satisfied: mkl-service in /usr/local/lib/python3.11/dist-packages (from numpy->keras->keras-tuner) (2.4.1)\n",
            "Requirement already satisfied: typing-extensions>=4.5.0 in /usr/local/lib/python3.11/dist-packages (from optree->keras->keras-tuner) (4.13.2)\n",
            "Requirement already satisfied: markdown-it-py>=2.2.0 in /usr/local/lib/python3.11/dist-packages (from rich->keras->keras-tuner) (3.0.0)\n",
            "Requirement already satisfied: pygments<3.0.0,>=2.13.0 in /usr/local/lib/python3.11/dist-packages (from rich->keras->keras-tuner) (2.19.1)\n",
            "Requirement already satisfied: mdurl~=0.1 in /usr/local/lib/python3.11/dist-packages (from markdown-it-py>=2.2.0->rich->keras->keras-tuner) (0.1.2)\n",
            "Requirement already satisfied: intel-openmp<2026,>=2024 in /usr/local/lib/python3.11/dist-packages (from mkl->numpy->keras->keras-tuner) (2024.2.0)\n",
            "Requirement already satisfied: tbb==2022.* in /usr/local/lib/python3.11/dist-packages (from mkl->numpy->keras->keras-tuner) (2022.1.0)\n",
            "Requirement already satisfied: tcmlib==1.* in /usr/local/lib/python3.11/dist-packages (from tbb==2022.*->mkl->numpy->keras->keras-tuner) (1.3.0)\n",
            "Requirement already satisfied: intel-cmplr-lib-rt in /usr/local/lib/python3.11/dist-packages (from mkl_umath->numpy->keras->keras-tuner) (2024.2.0)\n",
            "Requirement already satisfied: intel-cmplr-lib-ur==2024.2.0 in /usr/local/lib/python3.11/dist-packages (from intel-openmp<2026,>=2024->mkl->numpy->keras->keras-tuner) (2024.2.0)\n",
            "Note: you may need to restart the kernel to use updated packages.\n"
          ]
        }
      ],
      "source": [
        "pip install keras-tuner"
      ]
    },
    {
      "cell_type": "code",
      "execution_count": null,
      "metadata": {
        "colab": {
          "base_uri": "https://localhost:8080/",
          "height": 284
        },
        "execution": {
          "iopub.execute_input": "2025-06-20T14:21:51.749722Z",
          "iopub.status.busy": "2025-06-20T14:21:51.749392Z",
          "iopub.status.idle": "2025-06-20T14:22:18.197726Z",
          "shell.execute_reply": "2025-06-20T14:22:18.196857Z",
          "shell.execute_reply.started": "2025-06-20T14:21:51.749693Z"
        },
        "id": "h22olX_0nnuK",
        "outputId": "f901db33-9d0a-4a33-9a59-a9c36fb728ec",
        "trusted": true
      },
      "outputs": [
        {
          "name": "stderr",
          "output_type": "stream",
          "text": [
            "2025-06-20 14:21:55.044735: E external/local_xla/xla/stream_executor/cuda/cuda_fft.cc:477] Unable to register cuFFT factory: Attempting to register factory for plugin cuFFT when one has already been registered\n",
            "WARNING: All log messages before absl::InitializeLog() is called are written to STDERR\n",
            "E0000 00:00:1750429315.300637      35 cuda_dnn.cc:8310] Unable to register cuDNN factory: Attempting to register factory for plugin cuDNN when one has already been registered\n",
            "E0000 00:00:1750429315.376734      35 cuda_blas.cc:1418] Unable to register cuBLAS factory: Attempting to register factory for plugin cuBLAS when one has already been registered\n"
          ]
        },
        {
          "data": {
            "text/html": [
              "<!DOCTYPE html>\n",
              "<html>\n",
              "<head>\n",
              "    <meta charset=\"UTF-8\">\n",
              "    <meta name=\"viewport\" content=\"width=device-width, initial-scale=1.0\">\n",
              "    <link href=\"https://fonts.googleapis.com/css2?family=Lexend:wght@400;500;600;700&display=swap\" rel=\"stylesheet\">\n",
              "    <style>\n",
              "        .vnstock-ad-banner {\n",
              "            all: initial;\n",
              "            font-family: 'Lexend', sans-serif;\n",
              "            display: flex;\n",
              "            flex-wrap: wrap;\n",
              "            max-width: 100%;\n",
              "            margin: 12px 0;\n",
              "            border-radius: 10px;\n",
              "            overflow: hidden;\n",
              "            background: #ffffff;\n",
              "            box-shadow: 0 4px 12px rgba(0,0,0,0.08);\n",
              "            color: #333;\n",
              "        }\n",
              "\n",
              "        .vnstock-ad-content {\n",
              "            flex: 1;\n",
              "            padding: 12px 16px;\n",
              "            display: flex;\n",
              "            flex-direction: column;\n",
              "            justify-content: center;\n",
              "        }\n",
              "\n",
              "        .vnstock-ad-title {\n",
              "            margin: 0 0 10px 0;\n",
              "            line-height: 1.3;\n",
              "            font-size: 18px;\n",
              "            font-weight: 700;\n",
              "            color: #4CAF50;\n",
              "        }\n",
              "\n",
              "        .title-highlight {\n",
              "            color: #8C52FF;\n",
              "        }\n",
              "\n",
              "        .vnstock-ad-features {\n",
              "            list-style: none;\n",
              "            padding-left: 0;\n",
              "            margin: 10px 0 12px 0;\n",
              "            font-size: 13px;\n",
              "            line-height: 1.4;\n",
              "        }\n",
              "\n",
              "        .vnstock-ad-features li {\n",
              "            margin-bottom: 6px;\n",
              "        }\n",
              "\n",
              "        .feature-highlight {\n",
              "            color: #8C52FF;\n",
              "            font-weight: 600;\n",
              "        }\n",
              "\n",
              "        .button-container {\n",
              "            text-align: center;\n",
              "        }\n",
              "\n",
              "        .vnstock-ad-button {\n",
              "            display: inline-block;\n",
              "            background-color: #4CAF50;\n",
              "            color: #fff;\n",
              "            padding: 6px 16px;\n",
              "            text-decoration: none;\n",
              "            font-size: 13px;\n",
              "            border-radius: 20px;\n",
              "            font-weight: 600;\n",
              "            transition: all 0.2s;\n",
              "            box-shadow: 0 2px 6px rgba(76, 175, 80, 0.2);\n",
              "        }\n",
              "\n",
              "        .vnstock-ad-button:hover {\n",
              "            background-color: #8C52FF;\n",
              "            color: white;\n",
              "            transform: translateY(-1px);\n",
              "            box-shadow: 0 4px 8px rgba(140, 82, 255, 0.3);\n",
              "        }\n",
              "\n",
              "        .vnstock-ad-image {\n",
              "            flex: 1;\n",
              "            min-width: 180px;\n",
              "            max-width: 45%;\n",
              "        }\n",
              "\n",
              "        .vnstock-ad-image img {\n",
              "            width: 100%;\n",
              "            height: 100%;\n",
              "            max-height: 250px;\n",
              "            object-fit: cover;\n",
              "            display: block;\n",
              "        }\n",
              "\n",
              "        @media (max-width: 768px) {\n",
              "            .vnstock-ad-banner {\n",
              "                flex-direction: column;\n",
              "            }\n",
              "            \n",
              "            .vnstock-ad-image {\n",
              "                min-width: auto;\n",
              "                max-width: 100%;\n",
              "            }\n",
              "        }\n",
              "    </style>\n",
              "</head>\n",
              "<body>\n",
              "    <div class=\"vnstock-ad-banner\">\n",
              "        <div class=\"vnstock-ad-content\">\n",
              "            <h2 class=\"vnstock-ad-title\">\n",
              "                <span class=\"title-highlight\">🤖 Python Coding với AI:</span> Phân Tích Dữ liệu & Bot Chứng Khoán K11\n",
              "            </h2>\n",
              "            <ul class=\"vnstock-ad-features\">\n",
              "                <li><span class=\"feature-highlight\">⚡ Điều khiển AI viết code Python:</span> Không cần thuộc lòng cú pháp, học cách dùng AI agent</li>\n",
              "                <li><span class=\"feature-highlight\">🎯 Từ ý tưởng đến sản phẩm:</span> 15+ bot & chương trình thực tế hoàn chỉnh trong 10 buổi học</li>\n",
              "                <li><span class=\"feature-highlight\">🚀 Giáo trình mới tập trung vào AI:</span> Áp dụng cách tiếp cận AI thực chiến từ 15/6/2025. Truy cập trước nội dung khóa 10 ngay khi đăng ký.</li>\n",
              "                <li><span class=\"feature-highlight\">💡 Cộng đồng chất lượng cao:</span> 100+ nhà đầu tư, chuyên gia & lập trình viên cùng học hỏi</li>\n",
              "            </ul>\n",
              "            <div class=\"button-container\">\n",
              "                <a href=\"https://vnstocks.com/lp-khoa-hoc-python-chung-khoan\" class=\"vnstock-ad-button\">\n",
              "                    Đăng ký ngay ›\n",
              "                </a>\n",
              "            </div>\n",
              "        </div>\n",
              "        <a href=\"https://vnstocks.com/lp-khoa-hoc-python-chung-khoan\" class=\"vnstock-ad-image\">\n",
              "            <img src=\"https://vnstocks.com/img/cta-python-chung-khoan-k11-start-now.jpg\" alt=\"Khóa học Python Coding với AI\" style=\"width: 100%; height: 100%; max-height: 250px; object-fit: cover; display: block;\">\n",
              "        </a>\n",
              "    </div>\n",
              "</body>\n",
              "</html>"
            ],
            "text/plain": [
              "<IPython.core.display.HTML object>"
            ]
          },
          "metadata": {},
          "output_type": "display_data"
        }
      ],
      "source": [
        "import numpy as np\n",
        "import pandas as pd\n",
        "from ta.momentum import RSIIndicator\n",
        "from sklearn.preprocessing import RobustScaler\n",
        "from sklearn.model_selection import train_test_split\n",
        "import tensorflow as tf\n",
        "from tensorflow.keras.models import Sequential\n",
        "from tensorflow.keras.layers import LSTM, Dropout, Dense, RNN, concatenate\n",
        "from tensorflow.keras.optimizers import RMSprop\n",
        "from vnstock import *\n",
        "from ta.volatility import BollingerBands\n",
        "from tensorflow.keras.layers import Layer\n",
        "import tensorflow as tf\n",
        "from keras.layers import Input, Conv1D, MaxPooling1D, Bidirectional, Flatten, BatchNormalization\n",
        "from sklearn.model_selection import RandomizedSearchCV\n",
        "# from scikeras.wrappers import KerasClassifier\n",
        "\n",
        "from ta.momentum import StochasticOscillator\n",
        "from ta.volume import OnBalanceVolumeIndicator\n",
        "from ta.trend import CCIIndicator\n",
        "from sklearn.preprocessing import StandardScaler\n",
        "from ta.volume import ChaikinMoneyFlowIndicator\n",
        "from tensorflow.keras.regularizers import l2\n",
        "from tensorflow.keras.regularizers import l1\n",
        "from tensorflow.keras.regularizers import l1_l2\n",
        "from tensorflow.keras import regularizers\n",
        "from keras_self_attention import SeqSelfAttention\n",
        "from tensorflow.keras.models import Model\n",
        "from sklearn.preprocessing import MinMaxScaler\n",
        "from sklearn.metrics import roc_auc_score\n",
        "import keras_tuner as kt\n",
        "from tensorflow.keras.optimizers import Adam\n",
        "from sklearn.feature_selection import SequentialFeatureSelector\n",
        "from sklearn.base import BaseEstimator, ClassifierMixin\n",
        "from tensorflow.keras.saving import register_keras_serializable\n",
        "import matplotlib.pyplot as plt\n",
        "# from imblearn.over_sampling import SMOTE\n",
        "from sklearn.metrics import confusion_matrix, ConfusionMatrixDisplay\n",
        "from tensorflow.keras.utils import to_categorical\n",
        "from tensorflow.keras.callbacks import EarlyStopping, ModelCheckpoint, ReduceLROnPlateau\n",
        "from sklearn.metrics import f1_score\n",
        "from sklearn.ensemble import RandomForestClassifier, AdaBoostClassifier\n",
        "from xgboost import XGBClassifier\n",
        "from lightgbm import LGBMClassifier\n",
        "from catboost import CatBoostClassifier\n",
        "from sklearn.model_selection import cross_val_score\n",
        "from vnstock import *\n",
        "import pandas as pd\n",
        "import os\n",
        "from collections import Counter\n",
        "from tensorflow.keras.models import load_model\n",
        "from sklearn.metrics import classification_report\n",
        "from sklearn.utils.class_weight import compute_class_weight\n",
        "from sklearn.ensemble import RandomForestClassifier # Import RandomForestClassifier\n",
        "from sklearn.metrics import accuracy_score # Import accuracy\n",
        "from sklearn.metrics import log_loss\n",
        "from sklearn.linear_model import LinearRegression\n",
        "from xgboost import XGBClassifier\n",
        "import optuna\n",
        "import joblib\n",
        "from sklearn.metrics import (\n",
        "    f1_score, accuracy_score, classification_report, roc_auc_score,\n",
        "    roc_curve, auc\n",
        ")\n",
        "from sklearn.preprocessing import label_binarize\n",
        "from sklearn.model_selection import TimeSeriesSplit\n",
        "from sklearn.tree import DecisionTreeClassifier"
      ]
    },
    {
      "cell_type": "code",
      "execution_count": null,
      "metadata": {
        "colab": {
          "base_uri": "https://localhost:8080/"
        },
        "execution": {
          "iopub.execute_input": "2025-06-20T14:22:28.26877Z",
          "iopub.status.busy": "2025-06-20T14:22:28.267786Z",
          "iopub.status.idle": "2025-06-20T14:22:31.930417Z",
          "shell.execute_reply": "2025-06-20T14:22:31.929113Z",
          "shell.execute_reply.started": "2025-06-20T14:22:28.268736Z"
        },
        "id": "DhOiC4ER62Ea",
        "outputId": "d91e008e-1516-4723-f38e-904e79a53423",
        "trusted": true
      },
      "outputs": [
        {
          "name": "stdout",
          "output_type": "stream",
          "text": [
            "Requirement already satisfied: xgboost in /usr/local/lib/python3.11/dist-packages (2.0.3)\n",
            "Requirement already satisfied: numpy in /usr/local/lib/python3.11/dist-packages (from xgboost) (1.26.4)\n",
            "Requirement already satisfied: scipy in /usr/local/lib/python3.11/dist-packages (from xgboost) (1.15.2)\n",
            "Requirement already satisfied: mkl_fft in /usr/local/lib/python3.11/dist-packages (from numpy->xgboost) (1.3.8)\n",
            "Requirement already satisfied: mkl_random in /usr/local/lib/python3.11/dist-packages (from numpy->xgboost) (1.2.4)\n",
            "Requirement already satisfied: mkl_umath in /usr/local/lib/python3.11/dist-packages (from numpy->xgboost) (0.1.1)\n",
            "Requirement already satisfied: mkl in /usr/local/lib/python3.11/dist-packages (from numpy->xgboost) (2025.1.0)\n",
            "Requirement already satisfied: tbb4py in /usr/local/lib/python3.11/dist-packages (from numpy->xgboost) (2022.1.0)\n",
            "Requirement already satisfied: mkl-service in /usr/local/lib/python3.11/dist-packages (from numpy->xgboost) (2.4.1)\n",
            "Requirement already satisfied: intel-openmp<2026,>=2024 in /usr/local/lib/python3.11/dist-packages (from mkl->numpy->xgboost) (2024.2.0)\n",
            "Requirement already satisfied: tbb==2022.* in /usr/local/lib/python3.11/dist-packages (from mkl->numpy->xgboost) (2022.1.0)\n",
            "Requirement already satisfied: tcmlib==1.* in /usr/local/lib/python3.11/dist-packages (from tbb==2022.*->mkl->numpy->xgboost) (1.3.0)\n",
            "Requirement already satisfied: intel-cmplr-lib-rt in /usr/local/lib/python3.11/dist-packages (from mkl_umath->numpy->xgboost) (2024.2.0)\n",
            "Requirement already satisfied: intel-cmplr-lib-ur==2024.2.0 in /usr/local/lib/python3.11/dist-packages (from intel-openmp<2026,>=2024->mkl->numpy->xgboost) (2024.2.0)\n",
            "Note: you may need to restart the kernel to use updated packages.\n"
          ]
        }
      ],
      "source": [
        "pip install xgboost"
      ]
    },
    {
      "cell_type": "code",
      "execution_count": null,
      "metadata": {
        "execution": {
          "iopub.execute_input": "2025-06-20T14:22:36.671459Z",
          "iopub.status.busy": "2025-06-20T14:22:36.670489Z",
          "iopub.status.idle": "2025-06-20T14:22:36.677315Z",
          "shell.execute_reply": "2025-06-20T14:22:36.676267Z",
          "shell.execute_reply.started": "2025-06-20T14:22:36.67142Z"
        },
        "id": "krdyQYcda4pU",
        "trusted": true
      },
      "outputs": [],
      "source": [
        "def dataframe_to_x_y(df, feature, target):\n",
        "  X_train, y_train = [], []\n",
        "  X_val, y_val = [], []\n",
        "  n = len(df)\n",
        "  split_index = int(n * 0.8)\n",
        "  X_train = df[feature][:split_index]\n",
        "  y_train = df[target][:split_index]\n",
        "  X_val = df[feature][split_index:]\n",
        "  y_val = df[target][split_index:]\n",
        "  return X_train, y_train, X_val, y_val"
      ]
    },
    {
      "cell_type": "code",
      "execution_count": null,
      "metadata": {
        "execution": {
          "iopub.execute_input": "2025-06-20T14:22:40.893262Z",
          "iopub.status.busy": "2025-06-20T14:22:40.892812Z",
          "iopub.status.idle": "2025-06-20T14:22:40.907444Z",
          "shell.execute_reply": "2025-06-20T14:22:40.906515Z",
          "shell.execute_reply.started": "2025-06-20T14:22:40.893237Z"
        },
        "id": "Mwbwp8-Wa5mj",
        "trusted": true
      },
      "outputs": [],
      "source": [
        "\n",
        "sentiment_columns = [\n",
        "        'Reputation', 'Company Communication', 'Appointment', 'Financial', 'Regulatory',\n",
        "        'Sales', 'M&A', 'Legal', 'Dividend Policy', 'Risks', 'Rumors', 'Strategy',\n",
        "        'Options', 'IPO', 'Signal', 'Coverage', 'Fundamentals', 'Insider Activity',\n",
        "        'Price Action', 'Buyside', 'Technical Analysis', 'Trade', 'Central Banks',\n",
        "        'Currency', 'Conditions', 'Market', 'Volatility', 'Investor Sentiment', 'Retail Investor Behavior',\n",
        "        'Speculation', 'Domestic Institutional Behavior', 'Foreign Institutional Behavior', 'Black Swan Event',\n",
        "    ]\n",
        "\n",
        "sentiment_p1d_columns = [\n",
        "        'reputation_p1d', 'company_communication_p1d', 'appointment_p1d', 'financial_p1d', 'regulatory_p1d',\n",
        "        'sales_p1d', 'm&a_p1d', 'legal_p1d', 'dividend_policy_p1d', 'risks_p1d', 'rumors_p1d', 'strategy_p1d',\n",
        "        'options_p1d', 'ipo_p1d', 'signal_p1d', 'coverage_p1d', 'fundamentals_p1d', 'insider_activity_p1d',\n",
        "        'price_action_p1d', 'buyside_p1d', 'technical_analysis_p1d', 'trade_p1d', 'central_banks_p1d',\n",
        "        'currency_p1d', 'conditions_p1d', 'market_p1d', 'volatility_p1d', 'investor_sentiment_p1d', 'retail_investor_behavior_p1d',\n",
        "        'speculation_p1d', 'domestic_institutional_behavior_p1d', 'foreign_institutional_behavior_p1d', 'black_swan_event_p1d',\n",
        "    ]\n",
        "meta_cols = ['num_sa_news', 'mean_sentiment_norm', 'max_sentiment_norm', 'std_sentiment_score', 'sum_positive_sa', 'sum_negative_sa', 'time_distance_from_sa_to_close_minutes']\n",
        "meta_p1d_cols = ['num_sa_news_p1d', 'mean_sentiment_norm_p1d', 'max_sentiment_norm_p1d', 'std_sentiment_score_p1d', 'sum_positive_sa_p1d', 'sum_negative_sa_p1d', 'time_distance_from_sa_to_close_minutes_p1d']\n",
        "\n",
        "sentiment_feature_selected =  sentiment_columns + sentiment_p1d_columns + meta_cols + meta_p1d_cols\n",
        "ta_features = ['volume_ma','volume_to_volume_ma_ratio','ema_12','ema_26','sma_20','sma_50','roc_5','roc_1','roc_9','%K','%R','cci','obv','macd','signal_line','macd_histogram','rsi','rsi_base_ma','rsi_rsi_base_ma_ratio','bb_bbm','bb_bbh','bb_bbl','bb_bbp','bb_bbh_bb_bbl_ratio','hl_ratio', 'co_ratio', 'price_range', 'sma_ratio_20_50', 'ema_ratio_12_26', 'bb_width', 'bb_position', 'rsi_overbought', 'rsi_oversold', 'rsi_neutral', 'macd_bullish', 'momentum_5', 'momentum_10','log_return','volatility_5d','volatility_10d','volatility_20d','volatility_30d','mean_log_return_5d','mean_log_return_10d','mean_log_return_20d','mean_log_return_30d','sharpe_like_5d','sharpe_like_10d','sharpe_like_20d','sharpe_like_30d','up_streak','pos_log_return_ratio_20d','z_score_5d','z_score_10d','z_score_20d','z_score_30d','annual_return','daily_return','sharpe_ratio',\n",
        "               'rsi_vn30','rsi_base_ma_vn30','rsi_rsi_base_ma_ratio_vn30','volume_ma_vn30','volume_to_volume_ma_ratio_vn30','bb_bbm_vn30','bb_bbh_vn30','bb_bbl_vn30','bb_bbp_vn30','bb_bbh_bb_bbl_ratio_vn30','roc_1_vn30', 'roc_5_vn30', 'roc_9_vn30','%K_vn30','%R_vn30','cci_vn30','obv_vn30','ema_12_vn30','ema_26_vn30','sma_20_vn30','sma_50_vn30', 'hl_ratio_vn30', 'co_ratio_vn30', 'price_range_vn30', 'sma_ratio_20_50_vn30', 'ema_ratio_12_26_vn30', 'bb_width_vn30', 'bb_position_vn30', 'rsi_overbought_vn30', 'rsi_oversold_vn30', 'rsi_neutral_vn30', 'momentum_5_vn30', 'momentum_10_vn30', 'log_return_vn30','volatility_5d_vn30','volatility_10d_vn30','volatility_20d_vn30','volatility_30d_vn30','mean_log_return_5d_vn30','mean_log_return_10d_vn30','mean_log_return_20d_vn30','mean_log_return_30d_vn30','sharpe_like_5d_vn30','sharpe_like_10d_vn30','sharpe_like_20d_vn30','sharpe_like_30d_vn30','up_streak_vn30','pos_log_return_ratio_20d_vn30','z_score_5d_vn30','z_score_10d_vn30','z_score_20d_vn30','z_score_30d_vn30','annual_return_vn30','daily_return_vn30','sharpe_ratio_vn30',\n",
        "               'rsi_vni','rsi_base_ma_vni','rsi_rsi_base_ma_ratio_vni','volume_ma_vni','volume_to_volume_ma_ratio_vni','bb_bbm_vni','bb_bbh_vni','bb_bbl_vni','bb_bbp_vni','bb_bbh_bb_bbl_ratio_vni','roc_1_vni', 'roc_5_vni', 'roc_9_vni','%K_vni','%R_vni','cci_vni','obv_vni','ema_12_vni','ema_26_vni','sma_20_vni','sma_50_vni', 'hl_ratio_vni', 'co_ratio_vni', 'price_range_vni', 'sma_ratio_20_50_vni', 'ema_ratio_12_26_vni', 'bb_width_vni', 'bb_position_vni', 'rsi_overbought_vni', 'rsi_oversold_vni', 'rsi_neutral_vni', 'momentum_5_vni', 'momentum_10_vni','log_return_vni','volatility_5d_vni','volatility_10d_vni','volatility_20d_vni','volatility_30d_vni','mean_log_return_5d_vni','mean_log_return_10d_vni','mean_log_return_20d_vni','mean_log_return_30d_vni','sharpe_like_5d_vni','sharpe_like_10d_vni','sharpe_like_20d_vni','sharpe_like_30d_vni','up_streak_vni','pos_log_return_ratio_20d_vni','z_score_5d_vni','z_score_10d_vni','z_score_20d_vni','z_score_30d_vni','annual_return_vni','daily_return_vni','sharpe_ratio_vni']\n",
        "fa_features = ['p/b_previous_quarter', 'p/b_change_rate','p/b_change_rate_flag','p/e_previous_quarter','p/e_change_rate','p/e_change_rate_flag','p/s_previous_quarter','p/s_change_rate','p/s_change_rate_flag','p/cash_flow_previous_quarter','p/cash_flow_change_rate','p/cash_flow_change_rate_flag','eps_previous_quarter','eps_change_rate', 'eps_change_rate_flag','bvps_previous_quarter','bvps_change_rate', 'bvps_change_rate_flag','roe_previous_quarter','roe_change_rate','roe_change_rate_flag','roa_previous_quarter','roa_change_rate','roa_change_rate_flag','coefficient_p/b','coefficient_p/e','coefficient_p/s','coefficient_p/cash_flow','coefficient_eps','coefficient_bvps','coefficient_roe','coefficient_roa','distance_to_nearest_quarter']\n",
        "ta_fa_feature_selected = ta_features + fa_features\n",
        "features = ta_fa_feature_selected + sentiment_feature_selected\n",
        "target = 'target'\n",
        "scaler = StandardScaler()"
      ]
    },
    {
      "cell_type": "code",
      "execution_count": null,
      "metadata": {
        "execution": {
          "iopub.execute_input": "2025-06-20T14:22:50.563003Z",
          "iopub.status.busy": "2025-06-20T14:22:50.562339Z",
          "iopub.status.idle": "2025-06-20T14:22:50.568994Z",
          "shell.execute_reply": "2025-06-20T14:22:50.568019Z",
          "shell.execute_reply.started": "2025-06-20T14:22:50.562977Z"
        },
        "id": "Om4bjGVoAdIX",
        "trusted": true
      },
      "outputs": [],
      "source": [
        "def load_data_for_analysis(tickers, folder_path):\n",
        "\n",
        "    df_all = []\n",
        "\n",
        "    for ticker in tickers:\n",
        "        file_path = os.path.join(folder_path, f\"{ticker}.xlsx\")\n",
        "        if os.path.exists(file_path):\n",
        "            df = pd.read_excel(file_path)\n",
        "            df[\"ticker\"] = ticker  # thêm cột ticker\n",
        "            df_all.append(df)\n",
        "        else:\n",
        "            print(f\"⚠️ Không tìm thấy: {file_path}\")\n",
        "\n",
        "    # Gộp lại thành 1 DataFrame\n",
        "    df_global = pd.concat(df_all, ignore_index=True)\n",
        "    print(f\"✅ Đã load xong {len(df_global)} dòng dữ liệu từ {len(df_all)} cổ phiếu.\")\n",
        "    return df_global"
      ]
    },
    {
      "cell_type": "code",
      "execution_count": null,
      "metadata": {
        "execution": {
          "iopub.execute_input": "2025-06-20T14:23:00.599912Z",
          "iopub.status.busy": "2025-06-20T14:23:00.599583Z",
          "iopub.status.idle": "2025-06-20T14:26:21.378649Z",
          "shell.execute_reply": "2025-06-20T14:26:21.377785Z",
          "shell.execute_reply.started": "2025-06-20T14:23:00.59989Z"
        },
        "id": "O76XzdDDfyOI",
        "outputId": "a80f34a3-96b6-4c58-fc68-3640927af39b",
        "trusted": true
      },
      "outputs": [
        {
          "name": "stdout",
          "output_type": "stream",
          "text": [
            "✅ Đã load xong 35865 dòng dữ liệu từ 30 cổ phiếu.\n",
            "✅ Đã load xong 7380 dòng dữ liệu từ 30 cổ phiếu.\n"
          ]
        }
      ],
      "source": [
        "tickers = ['ACB', 'BCM', 'BID','BVH','CTG','FPT','GAS','GVR','HDB','HPG',\n",
        "                    'LPB','MBB','MSN','MWG','PLX','SAB','SHB','SSB','SSI','STB',\n",
        "                    'TCB','TPB','VCB','VHM','VIB','VIC','VJC','VNM','VPB','VRE']\n",
        "folder_path_train = \"/kaggle/input/vn30-dataset/v6 - Copy/stock_trend/train_data\"\n",
        "folder_path_test = \"/kaggle/input/vn30-dataset/v6 - Copy/stock_trend/test_data\"\n",
        "df_global_train = load_data_for_analysis(tickers, folder_path_train)\n",
        "df_global_test = load_data_for_analysis(tickers, folder_path_test)\n"
      ]
    },
    {
      "cell_type": "code",
      "execution_count": null,
      "metadata": {
        "execution": {
          "iopub.execute_input": "2025-06-20T14:26:43.723075Z",
          "iopub.status.busy": "2025-06-20T14:26:43.72207Z",
          "iopub.status.idle": "2025-06-20T14:26:43.731906Z",
          "shell.execute_reply": "2025-06-20T14:26:43.730928Z",
          "shell.execute_reply.started": "2025-06-20T14:26:43.723014Z"
        },
        "id": "ZvuatiXrAdIY",
        "trusted": true
      },
      "outputs": [],
      "source": [
        "# Danh sách các mô hình\n",
        "models = {\n",
        "    \"Random Forest\": RandomForestClassifier(n_jobs=-1, random_state=42, class_weight='balanced'),\n",
        "    \"XGBoost\": XGBClassifier(n_jobs=-1, random_state=42, use_label_encoder=False, eval_metric='mlogloss'),\n",
        "    \"LightGBM\": LGBMClassifier(n_jobs=-1, random_state=42),\n",
        "    \"CatBoost\": CatBoostClassifier(verbose=0, random_state=42),\n",
        "    \"AdaBoost\": AdaBoostClassifier(random_state=42),\n",
        "}"
      ]
    },
    {
      "cell_type": "code",
      "execution_count": null,
      "metadata": {
        "execution": {
          "iopub.execute_input": "2025-06-20T14:26:49.129008Z",
          "iopub.status.busy": "2025-06-20T14:26:49.128711Z",
          "iopub.status.idle": "2025-06-20T14:26:49.443101Z",
          "shell.execute_reply": "2025-06-20T14:26:49.442132Z",
          "shell.execute_reply.started": "2025-06-20T14:26:49.128985Z"
        },
        "id": "O2Wa5ZrKAdIY",
        "trusted": true
      },
      "outputs": [],
      "source": [
        "X_train_no_sa = df_global_train[ta_fa_feature_selected]\n",
        "X_test_no_sa = df_global_test[ta_fa_feature_selected]\n",
        "y_train = df_global_train[target]\n",
        "y_test = df_global_test[target]\n",
        "scaler = StandardScaler()\n",
        "X_train_no_sa_scaled = scaler.fit_transform(X_train_no_sa)\n",
        "X_test_no_sa_scaled = scaler.transform(X_test_no_sa)"
      ]
    },
    {
      "cell_type": "code",
      "execution_count": null,
      "metadata": {
        "execution": {
          "iopub.execute_input": "2025-06-20T14:26:52.851569Z",
          "iopub.status.busy": "2025-06-20T14:26:52.851254Z",
          "iopub.status.idle": "2025-06-20T14:26:53.247321Z",
          "shell.execute_reply": "2025-06-20T14:26:53.246213Z",
          "shell.execute_reply.started": "2025-06-20T14:26:52.851535Z"
        },
        "id": "VM4ByHLeAdIY",
        "trusted": true
      },
      "outputs": [],
      "source": [
        "X_train_with_sa = df_global_train[features]  # features = ta + fa + sa\n",
        "X_test_with_sa = df_global_test[features]\n",
        "y_train = df_global_train[target]\n",
        "y_test = df_global_test[target]\n",
        "\n",
        "scaler = StandardScaler()\n",
        "X_train_with_sa_scaled = scaler.fit_transform(X_train_with_sa)   # Fit scaler trên train, scale train luôn\n",
        "X_test_with_sa_scaled = scaler.transform(X_test_with_sa)"
      ]
    },
    {
      "cell_type": "code",
      "execution_count": null,
      "metadata": {
        "execution": {
          "iopub.execute_input": "2025-06-20T08:08:49.842793Z",
          "iopub.status.busy": "2025-06-20T08:08:49.842576Z",
          "iopub.status.idle": "2025-06-20T08:08:49.847435Z",
          "shell.execute_reply": "2025-06-20T08:08:49.846843Z",
          "shell.execute_reply.started": "2025-06-20T08:08:49.842774Z"
        },
        "id": "rtd-wPXdAdIY",
        "trusted": true
      },
      "outputs": [],
      "source": [
        "# ==============================================Tuning with Optuna + TimeSeriesSplit validate (AUC macro) ==============================================="
      ]
    },
    {
      "cell_type": "markdown",
      "metadata": {
        "id": "NjLBOHyBAdIY"
      },
      "source": [
        "Divide 5 fold to cross validation though tuning parameters"
      ]
    },
    {
      "cell_type": "code",
      "execution_count": null,
      "metadata": {
        "execution": {
          "iopub.execute_input": "2025-06-20T14:26:59.10001Z",
          "iopub.status.busy": "2025-06-20T14:26:59.099708Z",
          "iopub.status.idle": "2025-06-20T14:26:59.10671Z",
          "shell.execute_reply": "2025-06-20T14:26:59.105809Z",
          "shell.execute_reply.started": "2025-06-20T14:26:59.099988Z"
        },
        "id": "5W9TkJwaAdIY",
        "trusted": true
      },
      "outputs": [],
      "source": [
        "def get_grouped_time_series_folds(df, ticker_col='ticker', n_splits=5):\n",
        "    tickers = df[ticker_col].unique()\n",
        "    fold_indices = [[] for _ in range(n_splits)]  # List chứa n_splits fold tổng\n",
        "    for ticker in tickers:\n",
        "        idx = df[df[ticker_col] == ticker].index.values\n",
        "        tscv = TimeSeriesSplit(n_splits=n_splits)\n",
        "        for fold_num, (train_idx, val_idx) in enumerate(tscv.split(idx)):\n",
        "            # Gộp index thực tế vào fold tổng tương ứng\n",
        "            fold_indices[fold_num].append((idx[train_idx], idx[val_idx]))\n",
        "    # Gộp index của từng fold tổng lại thành mảng train/val duy nhất\n",
        "    grouped_folds = []\n",
        "    for fold in fold_indices:\n",
        "        train_idx = np.concatenate([item[0] for item in fold])\n",
        "        val_idx = np.concatenate([item[1] for item in fold])\n",
        "        grouped_folds.append((train_idx, val_idx))\n",
        "    return grouped_folds"
      ]
    },
    {
      "cell_type": "code",
      "execution_count": null,
      "metadata": {
        "execution": {
          "iopub.execute_input": "2025-06-20T14:27:02.667502Z",
          "iopub.status.busy": "2025-06-20T14:27:02.66722Z",
          "iopub.status.idle": "2025-06-20T14:27:02.851572Z",
          "shell.execute_reply": "2025-06-20T14:27:02.850547Z",
          "shell.execute_reply.started": "2025-06-20T14:27:02.667484Z"
        },
        "id": "e87jj_iCAdIY",
        "trusted": true
      },
      "outputs": [],
      "source": [
        "folds = get_grouped_time_series_folds(df_global_train, ticker_col='ticker', n_splits=5)"
      ]
    },
    {
      "cell_type": "markdown",
      "metadata": {
        "id": "IiqW4wdOAdIZ"
      },
      "source": [
        "Tuning random forest for stock trend with ta + fa data"
      ]
    },
    {
      "cell_type": "code",
      "execution_count": null,
      "metadata": {
        "execution": {
          "iopub.execute_input": "2025-06-20T08:08:50.017426Z",
          "iopub.status.busy": "2025-06-20T08:08:50.017176Z",
          "iopub.status.idle": "2025-06-20T08:08:50.021231Z",
          "shell.execute_reply": "2025-06-20T08:08:50.020517Z",
          "shell.execute_reply.started": "2025-06-20T08:08:50.017405Z"
        },
        "id": "UHrRIj4fAdIZ",
        "trusted": true
      },
      "outputs": [],
      "source": [
        "X_no_sa = X_train_no_sa_scaled  # hoặc X_train_with_sa_scaled nếu dùng cả SA\n",
        "y = y_train"
      ]
    },
    {
      "cell_type": "code",
      "execution_count": null,
      "metadata": {
        "execution": {
          "iopub.execute_input": "2025-06-20T08:08:50.022287Z",
          "iopub.status.busy": "2025-06-20T08:08:50.022083Z"
        },
        "id": "K0O5exwRAdIZ",
        "outputId": "2c6877a2-e2f5-42b1-b6d7-7e03cf823c68",
        "trusted": true
      },
      "outputs": [
        {
          "name": "stderr",
          "output_type": "stream",
          "text": [
            "[I 2025-06-20 08:08:50,037] A new study created in memory with name: no-name-b0192c7d-ebcf-4949-ae16-3f60352e7548\n"
          ]
        },
        {
          "name": "stdout",
          "output_type": "stream",
          "text": [
            "Tuning AdaBoostClassifier with Optuna (AUC macro) ta + fa features only\n"
          ]
        },
        {
          "name": "stderr",
          "output_type": "stream",
          "text": [
            "[I 2025-06-20 08:09:49,556] Trial 0 finished with value: -0.601759234449666 and parameters: {'n_estimators': 208, 'learning_rate': 0.7002615973345998, 'algorithm': 'SAMME', 'max_depth': 5}. Best is trial 0 with value: -0.601759234449666.\n"
          ]
        },
        {
          "name": "stdout",
          "output_type": "stream",
          "text": [
            "Trial 0: AUC macro=0.60176, params={'n_estimators': 208, 'learning_rate': 0.7002615973345998, 'algorithm': 'SAMME', 'max_depth': 5}\n"
          ]
        },
        {
          "name": "stderr",
          "output_type": "stream",
          "text": [
            "[I 2025-06-20 08:10:47,007] Trial 1 finished with value: -0.5971630829577618 and parameters: {'n_estimators': 158, 'learning_rate': 0.6880844747749553, 'algorithm': 'SAMME', 'max_depth': 5}. Best is trial 0 with value: -0.601759234449666.\n"
          ]
        },
        {
          "name": "stdout",
          "output_type": "stream",
          "text": [
            "Trial 1: AUC macro=0.59716, params={'n_estimators': 158, 'learning_rate': 0.6880844747749553, 'algorithm': 'SAMME', 'max_depth': 5}\n"
          ]
        },
        {
          "name": "stderr",
          "output_type": "stream",
          "text": [
            "[I 2025-06-20 08:31:24,085] Trial 2 finished with value: -0.5689061252901205 and parameters: {'n_estimators': 331, 'learning_rate': 0.623442840100267, 'algorithm': 'SAMME.R', 'max_depth': 3}. Best is trial 0 with value: -0.601759234449666.\n"
          ]
        },
        {
          "name": "stdout",
          "output_type": "stream",
          "text": [
            "Trial 2: AUC macro=0.56891, params={'n_estimators': 331, 'learning_rate': 0.623442840100267, 'algorithm': 'SAMME.R', 'max_depth': 3}\n"
          ]
        },
        {
          "name": "stderr",
          "output_type": "stream",
          "text": [
            "[I 2025-06-20 08:31:39,615] Trial 3 finished with value: -0.578551574450589 and parameters: {'n_estimators': 144, 'learning_rate': 0.34384277158114546, 'algorithm': 'SAMME', 'max_depth': 2}. Best is trial 0 with value: -0.601759234449666.\n"
          ]
        },
        {
          "name": "stdout",
          "output_type": "stream",
          "text": [
            "Trial 3: AUC macro=0.57855, params={'n_estimators': 144, 'learning_rate': 0.34384277158114546, 'algorithm': 'SAMME', 'max_depth': 2}\n"
          ]
        },
        {
          "name": "stderr",
          "output_type": "stream",
          "text": [
            "[I 2025-06-20 08:37:53,884] Trial 4 finished with value: -0.6142535521561463 and parameters: {'n_estimators': 285, 'learning_rate': 0.413058339096687, 'algorithm': 'SAMME.R', 'max_depth': 1}. Best is trial 4 with value: -0.6142535521561463.\n"
          ]
        },
        {
          "name": "stdout",
          "output_type": "stream",
          "text": [
            "Trial 4: AUC macro=0.61425, params={'n_estimators': 285, 'learning_rate': 0.413058339096687, 'algorithm': 'SAMME.R', 'max_depth': 1}\n"
          ]
        },
        {
          "name": "stderr",
          "output_type": "stream",
          "text": [
            "[I 2025-06-20 09:10:10,976] Trial 5 finished with value: -0.5580676068307305 and parameters: {'n_estimators': 308, 'learning_rate': 0.5107982219876209, 'algorithm': 'SAMME.R', 'max_depth': 5}. Best is trial 4 with value: -0.6142535521561463.\n"
          ]
        },
        {
          "name": "stdout",
          "output_type": "stream",
          "text": [
            "Trial 5: AUC macro=0.55807, params={'n_estimators': 308, 'learning_rate': 0.5107982219876209, 'algorithm': 'SAMME.R', 'max_depth': 5}\n"
          ]
        },
        {
          "name": "stderr",
          "output_type": "stream",
          "text": [
            "[I 2025-06-20 09:13:04,738] Trial 6 finished with value: -0.6006293717976201 and parameters: {'n_estimators': 169, 'learning_rate': 0.0914639176791743, 'algorithm': 'SAMME', 'max_depth': 4}. Best is trial 4 with value: -0.6142535521561463.\n"
          ]
        },
        {
          "name": "stdout",
          "output_type": "stream",
          "text": [
            "Trial 6: AUC macro=0.60063, params={'n_estimators': 169, 'learning_rate': 0.0914639176791743, 'algorithm': 'SAMME', 'max_depth': 4}\n"
          ]
        },
        {
          "name": "stderr",
          "output_type": "stream",
          "text": [
            "[I 2025-06-20 09:51:33,163] Trial 7 finished with value: -0.5641048359617612 and parameters: {'n_estimators': 375, 'learning_rate': 0.5789716123385398, 'algorithm': 'SAMME.R', 'max_depth': 5}. Best is trial 4 with value: -0.6142535521561463.\n"
          ]
        },
        {
          "name": "stdout",
          "output_type": "stream",
          "text": [
            "Trial 7: AUC macro=0.56410, params={'n_estimators': 375, 'learning_rate': 0.5789716123385398, 'algorithm': 'SAMME.R', 'max_depth': 5}\n"
          ]
        },
        {
          "name": "stderr",
          "output_type": "stream",
          "text": [
            "[I 2025-06-20 10:08:02,304] Trial 8 finished with value: -0.5470375239240287 and parameters: {'n_estimators': 160, 'learning_rate': 0.6908358806555385, 'algorithm': 'SAMME.R', 'max_depth': 5}. Best is trial 4 with value: -0.6142535521561463.\n"
          ]
        },
        {
          "name": "stdout",
          "output_type": "stream",
          "text": [
            "Trial 8: AUC macro=0.54704, params={'n_estimators': 160, 'learning_rate': 0.6908358806555385, 'algorithm': 'SAMME.R', 'max_depth': 5}\n"
          ]
        },
        {
          "name": "stderr",
          "output_type": "stream",
          "text": [
            "[I 2025-06-20 10:08:17,177] Trial 9 finished with value: -0.5769782794792596 and parameters: {'n_estimators': 390, 'learning_rate': 0.14268121706934492, 'algorithm': 'SAMME', 'max_depth': 2}. Best is trial 4 with value: -0.6142535521561463.\n"
          ]
        },
        {
          "name": "stdout",
          "output_type": "stream",
          "text": [
            "Trial 9: AUC macro=0.57698, params={'n_estimators': 390, 'learning_rate': 0.14268121706934492, 'algorithm': 'SAMME', 'max_depth': 2}\n"
          ]
        },
        {
          "name": "stderr",
          "output_type": "stream",
          "text": [
            "[I 2025-06-20 10:09:58,557] Trial 10 finished with value: -0.6089910564449375 and parameters: {'n_estimators': 75, 'learning_rate': 0.9037952333959908, 'algorithm': 'SAMME.R', 'max_depth': 1}. Best is trial 4 with value: -0.6142535521561463.\n"
          ]
        },
        {
          "name": "stdout",
          "output_type": "stream",
          "text": [
            "Trial 10: AUC macro=0.60899, params={'n_estimators': 75, 'learning_rate': 0.9037952333959908, 'algorithm': 'SAMME.R', 'max_depth': 1}\n"
          ]
        },
        {
          "name": "stderr",
          "output_type": "stream",
          "text": [
            "[I 2025-06-20 10:11:18,618] Trial 11 finished with value: -0.6222758167879328 and parameters: {'n_estimators': 59, 'learning_rate': 0.3267850117058064, 'algorithm': 'SAMME.R', 'max_depth': 1}. Best is trial 11 with value: -0.6222758167879328.\n"
          ]
        },
        {
          "name": "stdout",
          "output_type": "stream",
          "text": [
            "Trial 11: AUC macro=0.62228, params={'n_estimators': 59, 'learning_rate': 0.3267850117058064, 'algorithm': 'SAMME.R', 'max_depth': 1}\n"
          ]
        },
        {
          "name": "stderr",
          "output_type": "stream",
          "text": [
            "[I 2025-06-20 10:16:51,328] Trial 12 finished with value: -0.6206901834738037 and parameters: {'n_estimators': 252, 'learning_rate': 0.3121639536399209, 'algorithm': 'SAMME.R', 'max_depth': 1}. Best is trial 11 with value: -0.6222758167879328.\n"
          ]
        },
        {
          "name": "stdout",
          "output_type": "stream",
          "text": [
            "Trial 12: AUC macro=0.62069, params={'n_estimators': 252, 'learning_rate': 0.3121639536399209, 'algorithm': 'SAMME.R', 'max_depth': 1}\n"
          ]
        },
        {
          "name": "stderr",
          "output_type": "stream",
          "text": [
            "[I 2025-06-20 10:19:23,177] Trial 13 finished with value: -0.6197078736294303 and parameters: {'n_estimators': 60, 'learning_rate': 0.26663440382120807, 'algorithm': 'SAMME.R', 'max_depth': 2}. Best is trial 11 with value: -0.6222758167879328.\n"
          ]
        },
        {
          "name": "stdout",
          "output_type": "stream",
          "text": [
            "Trial 13: AUC macro=0.61971, params={'n_estimators': 60, 'learning_rate': 0.26663440382120807, 'algorithm': 'SAMME.R', 'max_depth': 2}\n"
          ]
        },
        {
          "name": "stderr",
          "output_type": "stream",
          "text": [
            "[I 2025-06-20 10:24:52,824] Trial 14 finished with value: -0.622198951148308 and parameters: {'n_estimators': 251, 'learning_rate': 0.23065898101742932, 'algorithm': 'SAMME.R', 'max_depth': 1}. Best is trial 11 with value: -0.6222758167879328.\n"
          ]
        },
        {
          "name": "stdout",
          "output_type": "stream",
          "text": [
            "Trial 14: AUC macro=0.62220, params={'n_estimators': 251, 'learning_rate': 0.23065898101742932, 'algorithm': 'SAMME.R', 'max_depth': 1}\n"
          ]
        },
        {
          "name": "stderr",
          "output_type": "stream",
          "text": [
            "[I 2025-06-20 10:38:57,869] Trial 15 finished with value: -0.6227015935365277 and parameters: {'n_estimators': 226, 'learning_rate': 0.02620898973732963, 'algorithm': 'SAMME.R', 'max_depth': 3}. Best is trial 15 with value: -0.6227015935365277.\n"
          ]
        },
        {
          "name": "stdout",
          "output_type": "stream",
          "text": [
            "Trial 15: AUC macro=0.62270, params={'n_estimators': 226, 'learning_rate': 0.02620898973732963, 'algorithm': 'SAMME.R', 'max_depth': 3}\n"
          ]
        },
        {
          "name": "stderr",
          "output_type": "stream",
          "text": [
            "[I 2025-06-20 10:45:40,565] Trial 16 finished with value: -0.6244397250284 and parameters: {'n_estimators': 107, 'learning_rate': 0.0177009131111438, 'algorithm': 'SAMME.R', 'max_depth': 3}. Best is trial 16 with value: -0.6244397250284.\n"
          ]
        },
        {
          "name": "stdout",
          "output_type": "stream",
          "text": [
            "Trial 16: AUC macro=0.62444, params={'n_estimators': 107, 'learning_rate': 0.0177009131111438, 'algorithm': 'SAMME.R', 'max_depth': 3}\n"
          ]
        },
        {
          "name": "stderr",
          "output_type": "stream",
          "text": [
            "[I 2025-06-20 10:52:28,118] Trial 17 finished with value: -0.6203175916532517 and parameters: {'n_estimators': 109, 'learning_rate': 0.040750420440458505, 'algorithm': 'SAMME.R', 'max_depth': 3}. Best is trial 16 with value: -0.6244397250284.\n"
          ]
        },
        {
          "name": "stdout",
          "output_type": "stream",
          "text": [
            "Trial 17: AUC macro=0.62032, params={'n_estimators': 109, 'learning_rate': 0.040750420440458505, 'algorithm': 'SAMME.R', 'max_depth': 3}\n"
          ]
        },
        {
          "name": "stderr",
          "output_type": "stream",
          "text": [
            "[I 2025-06-20 11:09:22,534] Trial 18 finished with value: -0.612019160727954 and parameters: {'n_estimators': 206, 'learning_rate': 0.01894970353718547, 'algorithm': 'SAMME.R', 'max_depth': 4}. Best is trial 16 with value: -0.6244397250284.\n"
          ]
        },
        {
          "name": "stdout",
          "output_type": "stream",
          "text": [
            "Trial 18: AUC macro=0.61202, params={'n_estimators': 206, 'learning_rate': 0.01894970353718547, 'algorithm': 'SAMME.R', 'max_depth': 4}\n"
          ]
        },
        {
          "name": "stderr",
          "output_type": "stream",
          "text": [
            "[I 2025-06-20 11:18:19,757] Trial 19 finished with value: -0.5698469035394155 and parameters: {'n_estimators': 109, 'learning_rate': 0.18402790434288324, 'algorithm': 'SAMME.R', 'max_depth': 4}. Best is trial 16 with value: -0.6244397250284.\n"
          ]
        },
        {
          "name": "stdout",
          "output_type": "stream",
          "text": [
            "Trial 19: AUC macro=0.56985, params={'n_estimators': 109, 'learning_rate': 0.18402790434288324, 'algorithm': 'SAMME.R', 'max_depth': 4}\n"
          ]
        },
        {
          "name": "stderr",
          "output_type": "stream",
          "text": [
            "[I 2025-06-20 11:32:19,148] Trial 20 finished with value: -0.5401090599317308 and parameters: {'n_estimators': 225, 'learning_rate': 0.895436276686045, 'algorithm': 'SAMME.R', 'max_depth': 3}. Best is trial 16 with value: -0.6244397250284.\n"
          ]
        },
        {
          "name": "stdout",
          "output_type": "stream",
          "text": [
            "Trial 20: AUC macro=0.54011, params={'n_estimators': 225, 'learning_rate': 0.895436276686045, 'algorithm': 'SAMME.R', 'max_depth': 3}\n"
          ]
        },
        {
          "name": "stderr",
          "output_type": "stream",
          "text": [
            "[I 2025-06-20 11:36:25,176] Trial 21 finished with value: -0.6232625048094 and parameters: {'n_estimators': 97, 'learning_rate': 0.11658190705946077, 'algorithm': 'SAMME.R', 'max_depth': 2}. Best is trial 16 with value: -0.6244397250284.\n"
          ]
        },
        {
          "name": "stdout",
          "output_type": "stream",
          "text": [
            "Trial 21: AUC macro=0.62326, params={'n_estimators': 97, 'learning_rate': 0.11658190705946077, 'algorithm': 'SAMME.R', 'max_depth': 2}\n"
          ]
        },
        {
          "name": "stderr",
          "output_type": "stream",
          "text": [
            "[I 2025-06-20 11:41:01,327] Trial 22 finished with value: -0.6244889380999068 and parameters: {'n_estimators': 109, 'learning_rate': 0.10895860778577111, 'algorithm': 'SAMME.R', 'max_depth': 2}. Best is trial 22 with value: -0.6244889380999068.\n"
          ]
        },
        {
          "name": "stdout",
          "output_type": "stream",
          "text": [
            "Trial 22: AUC macro=0.62449, params={'n_estimators': 109, 'learning_rate': 0.10895860778577111, 'algorithm': 'SAMME.R', 'max_depth': 2}\n"
          ]
        },
        {
          "name": "stderr",
          "output_type": "stream",
          "text": [
            "[I 2025-06-20 11:45:27,789] Trial 23 finished with value: -0.6262470204984112 and parameters: {'n_estimators': 104, 'learning_rate': 0.1319039410614862, 'algorithm': 'SAMME.R', 'max_depth': 2}. Best is trial 23 with value: -0.6262470204984112.\n"
          ]
        },
        {
          "name": "stdout",
          "output_type": "stream",
          "text": [
            "Trial 23: AUC macro=0.62625, params={'n_estimators': 104, 'learning_rate': 0.1319039410614862, 'algorithm': 'SAMME.R', 'max_depth': 2}\n"
          ]
        },
        {
          "name": "stderr",
          "output_type": "stream",
          "text": [
            "[I 2025-06-20 11:50:45,343] Trial 24 finished with value: -0.6130403566942333 and parameters: {'n_estimators': 125, 'learning_rate': 0.17243384548608884, 'algorithm': 'SAMME.R', 'max_depth': 2}. Best is trial 23 with value: -0.6262470204984112.\n"
          ]
        },
        {
          "name": "stdout",
          "output_type": "stream",
          "text": [
            "Trial 24: AUC macro=0.61304, params={'n_estimators': 125, 'learning_rate': 0.17243384548608884, 'algorithm': 'SAMME.R', 'max_depth': 2}\n"
          ]
        },
        {
          "name": "stderr",
          "output_type": "stream",
          "text": [
            "[I 2025-06-20 11:54:12,090] Trial 25 finished with value: -0.6140557364367506 and parameters: {'n_estimators': 82, 'learning_rate': 0.43186174105494046, 'algorithm': 'SAMME.R', 'max_depth': 2}. Best is trial 23 with value: -0.6262470204984112.\n"
          ]
        },
        {
          "name": "stdout",
          "output_type": "stream",
          "text": [
            "Trial 25: AUC macro=0.61406, params={'n_estimators': 82, 'learning_rate': 0.43186174105494046, 'algorithm': 'SAMME.R', 'max_depth': 2}\n"
          ]
        },
        {
          "name": "stderr",
          "output_type": "stream",
          "text": [
            "[I 2025-06-20 11:54:36,140] Trial 26 finished with value: -0.5898961336968902 and parameters: {'n_estimators': 133, 'learning_rate': 0.23336147712588085, 'algorithm': 'SAMME', 'max_depth': 3}. Best is trial 23 with value: -0.6262470204984112.\n"
          ]
        },
        {
          "name": "stdout",
          "output_type": "stream",
          "text": [
            "Trial 26: AUC macro=0.58990, params={'n_estimators': 133, 'learning_rate': 0.23336147712588085, 'algorithm': 'SAMME', 'max_depth': 3}\n"
          ]
        },
        {
          "name": "stderr",
          "output_type": "stream",
          "text": [
            "[I 2025-06-20 12:02:12,348] Trial 27 finished with value: -0.6221444042390968 and parameters: {'n_estimators': 180, 'learning_rate': 0.08867009769312803, 'algorithm': 'SAMME.R', 'max_depth': 2}. Best is trial 23 with value: -0.6262470204984112.\n"
          ]
        },
        {
          "name": "stdout",
          "output_type": "stream",
          "text": [
            "Trial 27: AUC macro=0.62214, params={'n_estimators': 180, 'learning_rate': 0.08867009769312803, 'algorithm': 'SAMME.R', 'max_depth': 2}\n"
          ]
        },
        {
          "name": "stderr",
          "output_type": "stream",
          "text": [
            "[I 2025-06-20 12:07:58,679] Trial 28 finished with value: -0.6117731440076377 and parameters: {'n_estimators': 92, 'learning_rate': 0.14873131982978574, 'algorithm': 'SAMME.R', 'max_depth': 3}. Best is trial 23 with value: -0.6262470204984112.\n"
          ]
        },
        {
          "name": "stdout",
          "output_type": "stream",
          "text": [
            "Trial 28: AUC macro=0.61177, params={'n_estimators': 92, 'learning_rate': 0.14873131982978574, 'algorithm': 'SAMME.R', 'max_depth': 3}\n"
          ]
        },
        {
          "name": "stderr",
          "output_type": "stream",
          "text": [
            "[I 2025-06-20 12:08:30,205] Trial 29 finished with value: -0.5827525033050398 and parameters: {'n_estimators': 122, 'learning_rate': 0.9907639526872306, 'algorithm': 'SAMME', 'max_depth': 4}. Best is trial 23 with value: -0.6262470204984112.\n"
          ]
        },
        {
          "name": "stdout",
          "output_type": "stream",
          "text": [
            "Trial 29: AUC macro=0.58275, params={'n_estimators': 122, 'learning_rate': 0.9907639526872306, 'algorithm': 'SAMME', 'max_depth': 4}\n"
          ]
        },
        {
          "name": "stderr",
          "output_type": "stream",
          "text": [
            "[I 2025-06-20 12:20:33,683] Trial 30 finished with value: -0.6025157286871625 and parameters: {'n_estimators': 193, 'learning_rate': 0.0700485032001424, 'algorithm': 'SAMME.R', 'max_depth': 3}. Best is trial 23 with value: -0.6262470204984112.\n"
          ]
        },
        {
          "name": "stdout",
          "output_type": "stream",
          "text": [
            "Trial 30: AUC macro=0.60252, params={'n_estimators': 193, 'learning_rate': 0.0700485032001424, 'algorithm': 'SAMME.R', 'max_depth': 3}\n"
          ]
        }
      ],
      "source": [
        "print(\"Tuning AdaBoostClassifier with Optuna (AUC macro) ta + fa features only\")\n",
        "\n",
        "def objective_adaboost(trial):\n",
        "    params = {\n",
        "        \"n_estimators\": trial.suggest_int(\"n_estimators\", 50, 400),\n",
        "        \"learning_rate\": trial.suggest_float(\"learning_rate\", 0.01, 1.0),\n",
        "        \"algorithm\": trial.suggest_categorical(\"algorithm\", [\"SAMME\", \"SAMME.R\"]),\n",
        "        # Nếu muốn giảm mất cân bằng, có thể dùng estimator có class_weight:\n",
        "        \"estimator\": DecisionTreeClassifier(max_depth=trial.suggest_int(\"max_depth\", 1, 5), class_weight=\"balanced\"),\n",
        "        \"random_state\": 42,\n",
        "    }\n",
        "\n",
        "    aucs = []\n",
        "    for train_idx, val_idx in folds:\n",
        "        X_train, X_val = X_no_sa[train_idx], X_no_sa[val_idx]\n",
        "        y_train_fold, y_val_fold = y.iloc[train_idx], y.iloc[val_idx]\n",
        "        model = AdaBoostClassifier(**params)\n",
        "        model.fit(X_train, y_train_fold)\n",
        "        # One-hot encode y_val_fold\n",
        "        y_val_bin = label_binarize(y_val_fold, classes=[0,1,2])\n",
        "        y_pred_proba = model.predict_proba(X_val)\n",
        "        # Nếu predict_proba trả về list (multioutput), cần stack lại\n",
        "        if isinstance(y_pred_proba, list):\n",
        "            y_pred_proba = np.stack([p[:,1] for p in y_pred_proba], axis=1)\n",
        "        auc_macro = roc_auc_score(y_val_bin, y_pred_proba, average=\"macro\", multi_class=\"ovr\")\n",
        "        aucs.append(auc_macro)\n",
        "    mean_auc = np.mean(aucs)\n",
        "    print(f\"Trial {trial.number}: AUC macro={mean_auc:.5f}, params={trial.params}\")\n",
        "    # Optuna sẽ maximize AUC macro\n",
        "    return -mean_auc\n",
        "\n",
        "study = optuna.create_study(direction=\"minimize\")\n",
        "study.optimize(objective_adaboost, n_trials=50)\n",
        "\n",
        "print(\"Best AUC macro (AdaBoost):\", -study.best_value)\n",
        "print(\"Best params (AdaBoost):\", study.best_trial.params)"
      ]
    },
    {
      "cell_type": "markdown",
      "metadata": {
        "id": "STCdOEMEAdIZ"
      },
      "source": [
        "Tuning random forest for stock trend with ta + fa + sa data"
      ]
    },
    {
      "cell_type": "code",
      "execution_count": null,
      "metadata": {
        "execution": {
          "iopub.execute_input": "2025-06-20T14:27:08.433001Z",
          "iopub.status.busy": "2025-06-20T14:27:08.43271Z",
          "iopub.status.idle": "2025-06-20T14:27:08.437066Z",
          "shell.execute_reply": "2025-06-20T14:27:08.436051Z",
          "shell.execute_reply.started": "2025-06-20T14:27:08.432981Z"
        },
        "id": "as5g4x_NAdIZ",
        "trusted": true
      },
      "outputs": [],
      "source": [
        "X_with_sa = X_train_with_sa_scaled\n",
        "y = y_train"
      ]
    },
    {
      "cell_type": "code",
      "execution_count": null,
      "metadata": {
        "execution": {
          "iopub.execute_input": "2025-06-20T14:27:46.398135Z",
          "iopub.status.busy": "2025-06-20T14:27:46.397796Z",
          "iopub.status.idle": "2025-06-20T17:21:21.947244Z",
          "shell.execute_reply": "2025-06-20T17:21:21.946421Z",
          "shell.execute_reply.started": "2025-06-20T14:27:46.398113Z"
        },
        "id": "KnGazfg4AdIZ",
        "outputId": "e62df98f-23ff-4485-eb7d-bbc525242157",
        "trusted": true
      },
      "outputs": [
        {
          "name": "stderr",
          "output_type": "stream",
          "text": [
            "[I 2025-06-20 14:27:46,404] A new study created in memory with name: no-name-ca6a5a89-ca75-4058-ac04-3c27120c7951\n"
          ]
        },
        {
          "name": "stdout",
          "output_type": "stream",
          "text": [
            "Tuning AdaBoost with Optuna (AUC macro) ta + fa + sa features\n"
          ]
        },
        {
          "name": "stderr",
          "output_type": "stream",
          "text": [
            "[I 2025-06-20 14:28:34,602] Trial 0 finished with value: -0.5960962640782828 and parameters: {'n_estimators': 54, 'learning_rate': 0.7945940526427376, 'algorithm': 'SAMME', 'max_depth': 5}. Best is trial 0 with value: -0.5960962640782828.\n"
          ]
        },
        {
          "name": "stdout",
          "output_type": "stream",
          "text": [
            "Trial 0: AUC macro=0.59610, params={'n_estimators': 54, 'learning_rate': 0.7945940526427376, 'algorithm': 'SAMME', 'max_depth': 5}\n"
          ]
        },
        {
          "name": "stderr",
          "output_type": "stream",
          "text": [
            "[I 2025-06-20 14:50:35,203] Trial 1 finished with value: -0.5938525132169812 and parameters: {'n_estimators': 247, 'learning_rate': 0.21818568719646214, 'algorithm': 'SAMME.R', 'max_depth': 3}. Best is trial 0 with value: -0.5960962640782828.\n"
          ]
        },
        {
          "name": "stdout",
          "output_type": "stream",
          "text": [
            "Trial 1: AUC macro=0.59385, params={'n_estimators': 247, 'learning_rate': 0.21818568719646214, 'algorithm': 'SAMME.R', 'max_depth': 3}\n"
          ]
        },
        {
          "name": "stderr",
          "output_type": "stream",
          "text": [
            "[I 2025-06-20 14:50:59,587] Trial 2 finished with value: -0.5674160496641009 and parameters: {'n_estimators': 318, 'learning_rate': 0.08742789275879129, 'algorithm': 'SAMME', 'max_depth': 2}. Best is trial 0 with value: -0.5960962640782828.\n"
          ]
        },
        {
          "name": "stdout",
          "output_type": "stream",
          "text": [
            "Trial 2: AUC macro=0.56742, params={'n_estimators': 318, 'learning_rate': 0.08742789275879129, 'algorithm': 'SAMME', 'max_depth': 2}\n"
          ]
        },
        {
          "name": "stderr",
          "output_type": "stream",
          "text": [
            "[I 2025-06-20 14:51:53,968] Trial 3 finished with value: -0.5959083176925434 and parameters: {'n_estimators': 364, 'learning_rate': 0.3293221403198711, 'algorithm': 'SAMME', 'max_depth': 4}. Best is trial 0 with value: -0.5960962640782828.\n"
          ]
        },
        {
          "name": "stdout",
          "output_type": "stream",
          "text": [
            "Trial 3: AUC macro=0.59591, params={'n_estimators': 364, 'learning_rate': 0.3293221403198711, 'algorithm': 'SAMME', 'max_depth': 4}\n"
          ]
        },
        {
          "name": "stderr",
          "output_type": "stream",
          "text": [
            "[I 2025-06-20 14:52:13,156] Trial 4 finished with value: -0.582022368348267 and parameters: {'n_estimators': 306, 'learning_rate': 0.39400055641026993, 'algorithm': 'SAMME', 'max_depth': 2}. Best is trial 0 with value: -0.5960962640782828.\n"
          ]
        },
        {
          "name": "stdout",
          "output_type": "stream",
          "text": [
            "Trial 4: AUC macro=0.58202, params={'n_estimators': 306, 'learning_rate': 0.39400055641026993, 'algorithm': 'SAMME', 'max_depth': 2}\n"
          ]
        },
        {
          "name": "stderr",
          "output_type": "stream",
          "text": [
            "[I 2025-06-20 14:52:48,508] Trial 5 finished with value: -0.5885711056707529 and parameters: {'n_estimators': 340, 'learning_rate': 0.9573545475916807, 'algorithm': 'SAMME', 'max_depth': 4}. Best is trial 0 with value: -0.5960962640782828.\n"
          ]
        },
        {
          "name": "stdout",
          "output_type": "stream",
          "text": [
            "Trial 5: AUC macro=0.58857, params={'n_estimators': 340, 'learning_rate': 0.9573545475916807, 'algorithm': 'SAMME', 'max_depth': 4}\n"
          ]
        },
        {
          "name": "stderr",
          "output_type": "stream",
          "text": [
            "[I 2025-06-20 15:08:18,692] Trial 6 finished with value: -0.5642544499532859 and parameters: {'n_estimators': 108, 'learning_rate': 0.6720944924614832, 'algorithm': 'SAMME.R', 'max_depth': 5}. Best is trial 0 with value: -0.5960962640782828.\n"
          ]
        },
        {
          "name": "stdout",
          "output_type": "stream",
          "text": [
            "Trial 6: AUC macro=0.56425, params={'n_estimators': 108, 'learning_rate': 0.6720944924614832, 'algorithm': 'SAMME.R', 'max_depth': 5}\n"
          ]
        },
        {
          "name": "stderr",
          "output_type": "stream",
          "text": [
            "[I 2025-06-20 15:21:01,775] Trial 7 finished with value: -0.5682759981398066 and parameters: {'n_estimators': 142, 'learning_rate': 0.5757050192708926, 'algorithm': 'SAMME.R', 'max_depth': 3}. Best is trial 0 with value: -0.5960962640782828.\n"
          ]
        },
        {
          "name": "stdout",
          "output_type": "stream",
          "text": [
            "Trial 7: AUC macro=0.56828, params={'n_estimators': 142, 'learning_rate': 0.5757050192708926, 'algorithm': 'SAMME.R', 'max_depth': 3}\n"
          ]
        },
        {
          "name": "stderr",
          "output_type": "stream",
          "text": [
            "[I 2025-06-20 15:21:38,753] Trial 8 finished with value: -0.5983255243877377 and parameters: {'n_estimators': 356, 'learning_rate': 0.3468712759387685, 'algorithm': 'SAMME', 'max_depth': 3}. Best is trial 8 with value: -0.5983255243877377.\n"
          ]
        },
        {
          "name": "stdout",
          "output_type": "stream",
          "text": [
            "Trial 8: AUC macro=0.59833, params={'n_estimators': 356, 'learning_rate': 0.3468712759387685, 'algorithm': 'SAMME', 'max_depth': 3}\n"
          ]
        },
        {
          "name": "stderr",
          "output_type": "stream",
          "text": [
            "[I 2025-06-20 15:23:54,694] Trial 9 finished with value: -0.6090174206001532 and parameters: {'n_estimators': 262, 'learning_rate': 0.5585700634377186, 'algorithm': 'SAMME', 'max_depth': 5}. Best is trial 9 with value: -0.6090174206001532.\n"
          ]
        },
        {
          "name": "stdout",
          "output_type": "stream",
          "text": [
            "Trial 9: AUC macro=0.60902, params={'n_estimators': 262, 'learning_rate': 0.5585700634377186, 'algorithm': 'SAMME', 'max_depth': 5}\n"
          ]
        },
        {
          "name": "stderr",
          "output_type": "stream",
          "text": [
            "[I 2025-06-20 15:30:51,500] Trial 10 finished with value: -0.6204847869609382 and parameters: {'n_estimators': 218, 'learning_rate': 0.7961131689554788, 'algorithm': 'SAMME.R', 'max_depth': 1}. Best is trial 10 with value: -0.6204847869609382.\n"
          ]
        },
        {
          "name": "stdout",
          "output_type": "stream",
          "text": [
            "Trial 10: AUC macro=0.62048, params={'n_estimators': 218, 'learning_rate': 0.7961131689554788, 'algorithm': 'SAMME.R', 'max_depth': 1}\n"
          ]
        },
        {
          "name": "stderr",
          "output_type": "stream",
          "text": [
            "[I 2025-06-20 15:37:44,136] Trial 11 finished with value: -0.6217658229045229 and parameters: {'n_estimators': 219, 'learning_rate': 0.7798144206206765, 'algorithm': 'SAMME.R', 'max_depth': 1}. Best is trial 11 with value: -0.6217658229045229.\n"
          ]
        },
        {
          "name": "stdout",
          "output_type": "stream",
          "text": [
            "Trial 11: AUC macro=0.62177, params={'n_estimators': 219, 'learning_rate': 0.7798144206206765, 'algorithm': 'SAMME.R', 'max_depth': 1}\n"
          ]
        },
        {
          "name": "stderr",
          "output_type": "stream",
          "text": [
            "[I 2025-06-20 15:43:35,553] Trial 12 finished with value: -0.6201046927826728 and parameters: {'n_estimators': 186, 'learning_rate': 0.9904261982151201, 'algorithm': 'SAMME.R', 'max_depth': 1}. Best is trial 11 with value: -0.6217658229045229.\n"
          ]
        },
        {
          "name": "stdout",
          "output_type": "stream",
          "text": [
            "Trial 12: AUC macro=0.62010, params={'n_estimators': 186, 'learning_rate': 0.9904261982151201, 'algorithm': 'SAMME.R', 'max_depth': 1}\n"
          ]
        },
        {
          "name": "stderr",
          "output_type": "stream",
          "text": [
            "[I 2025-06-20 15:49:28,805] Trial 13 finished with value: -0.6240105949425938 and parameters: {'n_estimators': 185, 'learning_rate': 0.7816943424809566, 'algorithm': 'SAMME.R', 'max_depth': 1}. Best is trial 13 with value: -0.6240105949425938.\n"
          ]
        },
        {
          "name": "stdout",
          "output_type": "stream",
          "text": [
            "Trial 13: AUC macro=0.62401, params={'n_estimators': 185, 'learning_rate': 0.7816943424809566, 'algorithm': 'SAMME.R', 'max_depth': 1}\n"
          ]
        },
        {
          "name": "stderr",
          "output_type": "stream",
          "text": [
            "[I 2025-06-20 15:55:00,607] Trial 14 finished with value: -0.6240960204059187 and parameters: {'n_estimators': 175, 'learning_rate': 0.7766567723655237, 'algorithm': 'SAMME.R', 'max_depth': 1}. Best is trial 14 with value: -0.6240960204059187.\n"
          ]
        },
        {
          "name": "stdout",
          "output_type": "stream",
          "text": [
            "Trial 14: AUC macro=0.62410, params={'n_estimators': 175, 'learning_rate': 0.7766567723655237, 'algorithm': 'SAMME.R', 'max_depth': 1}\n"
          ]
        },
        {
          "name": "stderr",
          "output_type": "stream",
          "text": [
            "[I 2025-06-20 16:04:10,613] Trial 15 finished with value: -0.5979050372533911 and parameters: {'n_estimators': 152, 'learning_rate': 0.8632530296073959, 'algorithm': 'SAMME.R', 'max_depth': 2}. Best is trial 14 with value: -0.6240960204059187.\n"
          ]
        },
        {
          "name": "stdout",
          "output_type": "stream",
          "text": [
            "Trial 15: AUC macro=0.59791, params={'n_estimators': 152, 'learning_rate': 0.8632530296073959, 'algorithm': 'SAMME.R', 'max_depth': 2}\n"
          ]
        },
        {
          "name": "stderr",
          "output_type": "stream",
          "text": [
            "[I 2025-06-20 16:07:12,879] Trial 16 finished with value: -0.6319812320850715 and parameters: {'n_estimators': 95, 'learning_rate': 0.6838068332848019, 'algorithm': 'SAMME.R', 'max_depth': 1}. Best is trial 16 with value: -0.6319812320850715.\n"
          ]
        },
        {
          "name": "stdout",
          "output_type": "stream",
          "text": [
            "Trial 16: AUC macro=0.63198, params={'n_estimators': 95, 'learning_rate': 0.6838068332848019, 'algorithm': 'SAMME.R', 'max_depth': 1}\n"
          ]
        },
        {
          "name": "stderr",
          "output_type": "stream",
          "text": [
            "[I 2025-06-20 16:10:15,403] Trial 17 finished with value: -0.6167889366026235 and parameters: {'n_estimators': 50, 'learning_rate': 0.6991748006488417, 'algorithm': 'SAMME.R', 'max_depth': 2}. Best is trial 16 with value: -0.6319812320850715.\n"
          ]
        },
        {
          "name": "stdout",
          "output_type": "stream",
          "text": [
            "Trial 17: AUC macro=0.61679, params={'n_estimators': 50, 'learning_rate': 0.6991748006488417, 'algorithm': 'SAMME.R', 'max_depth': 2}\n"
          ]
        },
        {
          "name": "stderr",
          "output_type": "stream",
          "text": [
            "[I 2025-06-20 16:13:24,519] Trial 18 finished with value: -0.6377269050222102 and parameters: {'n_estimators': 99, 'learning_rate': 0.4754315659822388, 'algorithm': 'SAMME.R', 'max_depth': 1}. Best is trial 18 with value: -0.6377269050222102.\n"
          ]
        },
        {
          "name": "stdout",
          "output_type": "stream",
          "text": [
            "Trial 18: AUC macro=0.63773, params={'n_estimators': 99, 'learning_rate': 0.4754315659822388, 'algorithm': 'SAMME.R', 'max_depth': 1}\n"
          ]
        },
        {
          "name": "stderr",
          "output_type": "stream",
          "text": [
            "[I 2025-06-20 16:19:17,319] Trial 19 finished with value: -0.624195320554595 and parameters: {'n_estimators': 97, 'learning_rate': 0.4644892786210595, 'algorithm': 'SAMME.R', 'max_depth': 2}. Best is trial 18 with value: -0.6377269050222102.\n"
          ]
        },
        {
          "name": "stdout",
          "output_type": "stream",
          "text": [
            "Trial 19: AUC macro=0.62420, params={'n_estimators': 97, 'learning_rate': 0.4644892786210595, 'algorithm': 'SAMME.R', 'max_depth': 2}\n"
          ]
        },
        {
          "name": "stderr",
          "output_type": "stream",
          "text": [
            "[I 2025-06-20 16:22:17,354] Trial 20 finished with value: -0.6326455297931307 and parameters: {'n_estimators': 95, 'learning_rate': 0.6276084675354652, 'algorithm': 'SAMME.R', 'max_depth': 1}. Best is trial 18 with value: -0.6377269050222102.\n"
          ]
        },
        {
          "name": "stdout",
          "output_type": "stream",
          "text": [
            "Trial 20: AUC macro=0.63265, params={'n_estimators': 95, 'learning_rate': 0.6276084675354652, 'algorithm': 'SAMME.R', 'max_depth': 1}\n"
          ]
        },
        {
          "name": "stderr",
          "output_type": "stream",
          "text": [
            "[I 2025-06-20 16:25:21,793] Trial 21 finished with value: -0.633972590953902 and parameters: {'n_estimators': 98, 'learning_rate': 0.6209993282873755, 'algorithm': 'SAMME.R', 'max_depth': 1}. Best is trial 18 with value: -0.6377269050222102.\n"
          ]
        },
        {
          "name": "stdout",
          "output_type": "stream",
          "text": [
            "Trial 21: AUC macro=0.63397, params={'n_estimators': 98, 'learning_rate': 0.6209993282873755, 'algorithm': 'SAMME.R', 'max_depth': 1}\n"
          ]
        },
        {
          "name": "stderr",
          "output_type": "stream",
          "text": [
            "[I 2025-06-20 16:29:11,964] Trial 22 finished with value: -0.6365609648738688 and parameters: {'n_estimators': 123, 'learning_rate': 0.5010862263161437, 'algorithm': 'SAMME.R', 'max_depth': 1}. Best is trial 18 with value: -0.6377269050222102.\n"
          ]
        },
        {
          "name": "stdout",
          "output_type": "stream",
          "text": [
            "Trial 22: AUC macro=0.63656, params={'n_estimators': 123, 'learning_rate': 0.5010862263161437, 'algorithm': 'SAMME.R', 'max_depth': 1}\n"
          ]
        },
        {
          "name": "stderr",
          "output_type": "stream",
          "text": [
            "[I 2025-06-20 16:36:59,266] Trial 23 finished with value: -0.6212534257551895 and parameters: {'n_estimators': 131, 'learning_rate': 0.45488660089069155, 'algorithm': 'SAMME.R', 'max_depth': 2}. Best is trial 18 with value: -0.6377269050222102.\n"
          ]
        },
        {
          "name": "stdout",
          "output_type": "stream",
          "text": [
            "Trial 23: AUC macro=0.62125, params={'n_estimators': 131, 'learning_rate': 0.45488660089069155, 'algorithm': 'SAMME.R', 'max_depth': 2}\n"
          ]
        },
        {
          "name": "stderr",
          "output_type": "stream",
          "text": [
            "[I 2025-06-20 16:39:16,986] Trial 24 finished with value: -0.6407892277062596 and parameters: {'n_estimators': 72, 'learning_rate': 0.2583116814147559, 'algorithm': 'SAMME.R', 'max_depth': 1}. Best is trial 24 with value: -0.6407892277062596.\n"
          ]
        },
        {
          "name": "stdout",
          "output_type": "stream",
          "text": [
            "Trial 24: AUC macro=0.64079, params={'n_estimators': 72, 'learning_rate': 0.2583116814147559, 'algorithm': 'SAMME.R', 'max_depth': 1}\n"
          ]
        },
        {
          "name": "stderr",
          "output_type": "stream",
          "text": [
            "[I 2025-06-20 16:43:31,668] Trial 25 finished with value: -0.6525857236330624 and parameters: {'n_estimators': 71, 'learning_rate': 0.26073274783767286, 'algorithm': 'SAMME.R', 'max_depth': 2}. Best is trial 25 with value: -0.6525857236330624.\n"
          ]
        },
        {
          "name": "stdout",
          "output_type": "stream",
          "text": [
            "Trial 25: AUC macro=0.65259, params={'n_estimators': 71, 'learning_rate': 0.26073274783767286, 'algorithm': 'SAMME.R', 'max_depth': 2}\n"
          ]
        },
        {
          "name": "stderr",
          "output_type": "stream",
          "text": [
            "[I 2025-06-20 17:07:24,739] Trial 26 finished with value: -0.5900286348054559 and parameters: {'n_estimators': 400, 'learning_rate': 0.21103741934880166, 'algorithm': 'SAMME.R', 'max_depth': 2}. Best is trial 25 with value: -0.6525857236330624.\n"
          ]
        },
        {
          "name": "stdout",
          "output_type": "stream",
          "text": [
            "Trial 26: AUC macro=0.59003, params={'n_estimators': 400, 'learning_rate': 0.21103741934880166, 'algorithm': 'SAMME.R', 'max_depth': 2}\n"
          ]
        },
        {
          "name": "stderr",
          "output_type": "stream",
          "text": [
            "[I 2025-06-20 17:11:22,529] Trial 27 finished with value: -0.6095794894192648 and parameters: {'n_estimators': 67, 'learning_rate': 0.01216877912198197, 'algorithm': 'SAMME.R', 'max_depth': 2}. Best is trial 25 with value: -0.6525857236330624.\n"
          ]
        },
        {
          "name": "stdout",
          "output_type": "stream",
          "text": [
            "Trial 27: AUC macro=0.60958, params={'n_estimators': 67, 'learning_rate': 0.01216877912198197, 'algorithm': 'SAMME.R', 'max_depth': 2}\n"
          ]
        },
        {
          "name": "stderr",
          "output_type": "stream",
          "text": [
            "[I 2025-06-20 17:15:22,309] Trial 28 finished with value: -0.6397335054195524 and parameters: {'n_estimators': 67, 'learning_rate': 0.23055345403848243, 'algorithm': 'SAMME.R', 'max_depth': 2}. Best is trial 25 with value: -0.6525857236330624.\n"
          ]
        },
        {
          "name": "stdout",
          "output_type": "stream",
          "text": [
            "Trial 28: AUC macro=0.63973, params={'n_estimators': 67, 'learning_rate': 0.23055345403848243, 'algorithm': 'SAMME.R', 'max_depth': 2}\n"
          ]
        },
        {
          "name": "stderr",
          "output_type": "stream",
          "text": [
            "[I 2025-06-20 17:21:21,942] Trial 29 finished with value: -0.6303229909165442 and parameters: {'n_estimators': 69, 'learning_rate': 0.21417332953542356, 'algorithm': 'SAMME.R', 'max_depth': 3}. Best is trial 25 with value: -0.6525857236330624.\n"
          ]
        },
        {
          "name": "stdout",
          "output_type": "stream",
          "text": [
            "Trial 29: AUC macro=0.63032, params={'n_estimators': 69, 'learning_rate': 0.21417332953542356, 'algorithm': 'SAMME.R', 'max_depth': 3}\n",
            "Best AUC macro (AdaBoost): 0.6525857236330624\n",
            "Best params (AdaBoost): {'n_estimators': 71, 'learning_rate': 0.26073274783767286, 'algorithm': 'SAMME.R', 'max_depth': 2}\n"
          ]
        }
      ],
      "source": [
        "print(\"Tuning AdaBoost with Optuna (AUC macro) ta + fa + sa features\")\n",
        "\n",
        "def objective_adaboost(trial):\n",
        "    params = {\n",
        "        \"n_estimators\": trial.suggest_int(\"n_estimators\", 50, 400),\n",
        "        \"learning_rate\": trial.suggest_float(\"learning_rate\", 0.01, 1.0),\n",
        "        \"algorithm\": trial.suggest_categorical(\"algorithm\", [\"SAMME\", \"SAMME.R\"]),\n",
        "        # Nếu muốn giảm mất cân bằng, có thể dùng estimator có class_weight:\n",
        "        \"estimator\": DecisionTreeClassifier(max_depth=trial.suggest_int(\"max_depth\", 1, 5), class_weight=\"balanced\"),\n",
        "        \"random_state\": 42,\n",
        "    }\n",
        "\n",
        "    aucs = []\n",
        "    for train_idx, val_idx in folds:\n",
        "        X_train, X_val = X_with_sa[train_idx], X_with_sa[val_idx]\n",
        "        y_train_fold, y_val_fold = y.iloc[train_idx], y.iloc[val_idx]\n",
        "        model = AdaBoostClassifier(**params)\n",
        "        model.fit(X_train, y_train_fold)\n",
        "        # One-hot encode y_val_fold\n",
        "        y_val_bin = label_binarize(y_val_fold, classes=[0,1,2])\n",
        "        y_pred_proba = model.predict_proba(X_val)\n",
        "        # Nếu predict_proba trả về list (multioutput), cần stack lại\n",
        "        if isinstance(y_pred_proba, list):\n",
        "            y_pred_proba = np.stack([p[:,1] for p in y_pred_proba], axis=1)\n",
        "        auc_macro = roc_auc_score(y_val_bin, y_pred_proba, average=\"macro\", multi_class=\"ovr\")\n",
        "        aucs.append(auc_macro)\n",
        "    mean_auc = np.mean(aucs)\n",
        "    print(f\"Trial {trial.number}: AUC macro={mean_auc:.5f}, params={trial.params}\")\n",
        "    # Optuna sẽ maximize AUC macro\n",
        "    return -mean_auc\n",
        "\n",
        "study = optuna.create_study(direction=\"minimize\")\n",
        "study.optimize(objective_adaboost, n_trials=30)\n",
        "\n",
        "print(\"Best AUC macro (AdaBoost):\", -study.best_value)\n",
        "print(\"Best params (AdaBoost):\", study.best_trial.params)"
      ]
    },
    {
      "cell_type": "markdown",
      "metadata": {
        "id": "fB8JpvL86Xeg"
      },
      "source": []
    }
  ],
  "metadata": {
    "colab": {
      "name": "AdaBoost_bayes_optimization_predict_stock",
      "provenance": []
    },
    "kaggle": {
      "accelerator": "none",
      "dataSources": [
        {
          "datasetId": 7701863,
          "sourceId": 12224622,
          "sourceType": "datasetVersion"
        }
      ],
      "dockerImageVersionId": 31041,
      "isGpuEnabled": false,
      "isInternetEnabled": true,
      "language": "python",
      "sourceType": "notebook"
    },
    "kernelspec": {
      "display_name": "Python 3",
      "language": "python",
      "name": "python3"
    },
    "language_info": {
      "codemirror_mode": {
        "name": "ipython",
        "version": 3
      },
      "file_extension": ".py",
      "mimetype": "text/x-python",
      "name": "python",
      "nbconvert_exporter": "python",
      "pygments_lexer": "ipython3",
      "version": "3.11.11"
    }
  },
  "nbformat": 4,
  "nbformat_minor": 0
}
