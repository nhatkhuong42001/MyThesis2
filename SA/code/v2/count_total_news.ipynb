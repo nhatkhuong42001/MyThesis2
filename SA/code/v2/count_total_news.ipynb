{
 "cells": [
  {
   "cell_type": "code",
   "execution_count": 10,
   "id": "5420fdc5",
   "metadata": {},
   "outputs": [],
   "source": [
    "import pandas as pd\n",
    "\n",
    "def count_total_rows_from_excels(file_paths, ticker_list):\n",
    "    \"\"\"\n",
    "    Reads a list of Excel file paths and returns the total number of rows across all files.\n",
    "    Only counts rows in the first sheet of each file.\n",
    "    \n",
    "    Args:\n",
    "        file_paths (list): List of Excel file paths.\n",
    "        \n",
    "    Returns:\n",
    "        int: Total number of rows across all files.\n",
    "    \"\"\"\n",
    "\n",
    "    total_rows = 0\n",
    "    for path in file_paths:\n",
    "        for ticker in ticker_list:\n",
    "            file_path = os.path.join(path, f\"{ticker}.xlsx\")\n",
    "            df = pd.read_excel(file_path)\n",
    "            total_rows += len(df)\n",
    "    return total_rows"
   ]
  },
  {
   "cell_type": "code",
   "execution_count": 8,
   "id": "86b96dad",
   "metadata": {},
   "outputs": [],
   "source": [
    "import os"
   ]
  },
  {
   "cell_type": "code",
   "execution_count": 2,
   "id": "a9a32bf2",
   "metadata": {},
   "outputs": [],
   "source": [
    "tickers = ['ACB', 'BCM', 'BID','BVH','CTG','FPT','GAS','GVR','HDB','HPG',\n",
    "                    'LPB','MBB','MSN','MWG','PLX','SAB','SHB','SSB','SSI','STB',\n",
    "                    'TCB','TPB','VCB','VHM','VIB','VIC','VJC','VNM','VPB','VRE']\n",
    "\n",
    "\n",
    "\n",
    "\n"
   ]
  },
  {
   "cell_type": "code",
   "execution_count": null,
   "id": "1b096693",
   "metadata": {},
   "outputs": [
    {
     "name": "stdout",
     "output_type": "stream",
     "text": [
      "Total rows in news train data:  10038\n"
     ]
    }
   ],
   "source": [
    "# Count rows news train data\n",
    "news_train_path = [\n",
    "    r'D:\\thacsi\\TAILIEULUANVAN\\code\\PredictStock_TA_FA_SA\\SA\\data\\v2\\sentiment_score_data\\cafef\\v2\\train_data',\n",
    "    r'D:\\thacsi\\TAILIEULUANVAN\\code\\PredictStock_TA_FA_SA\\SA\\data\\v2\\sentiment_score_data\\vnexpress_vietnamnet_tuoitre\\v2\\train_data'\n",
    "]\n",
    "news_train_num_rows = count_total_rows_from_excels(news_train_path, tickers)\n",
    "print('Total rows in news train data: ', news_train_num_rows)"
   ]
  },
  {
   "cell_type": "code",
   "execution_count": 12,
   "id": "daf12d32",
   "metadata": {},
   "outputs": [
    {
     "name": "stdout",
     "output_type": "stream",
     "text": [
      "Total rows in news test data:  1717\n"
     ]
    }
   ],
   "source": [
    "# Count rows news test data\n",
    "news_test_path = [\n",
    "    r'D:\\thacsi\\TAILIEULUANVAN\\code\\PredictStock_TA_FA_SA\\SA\\data\\v2\\sentiment_score_data\\cafef\\v2\\test_data',\n",
    "    r'D:\\thacsi\\TAILIEULUANVAN\\code\\PredictStock_TA_FA_SA\\SA\\data\\v2\\sentiment_score_data\\vnexpress_vietnamnet_tuoitre\\v2\\test_data'\n",
    "]\n",
    "news_test_num_rows = count_total_rows_from_excels(news_test_path, tickers)\n",
    "print('Total rows in news test data: ', news_test_num_rows)"
   ]
  },
  {
   "cell_type": "code",
   "execution_count": 13,
   "id": "4d3fd07f",
   "metadata": {},
   "outputs": [
    {
     "name": "stdout",
     "output_type": "stream",
     "text": [
      "Total rows in news data:  11755\n"
     ]
    }
   ],
   "source": [
    "# Count total rows in news data\n",
    "print('Total rows in news data: ', news_train_num_rows + news_test_num_rows)"
   ]
  },
  {
   "cell_type": "code",
   "execution_count": 14,
   "id": "978241f7",
   "metadata": {},
   "outputs": [
    {
     "name": "stdout",
     "output_type": "stream",
     "text": [
      "Total official stament in news train data:  4440\n"
     ]
    }
   ],
   "source": [
    "# Count rows official stament train data\n",
    "official_stament_train_path = [\n",
    "    r'D:\\thacsi\\TAILIEULUANVAN\\code\\PredictStock_TA_FA_SA\\SA\\data\\v2\\sentiment_score_data\\official_statement\\v2\\train_data',\n",
    "]\n",
    "official_stament_train_num_rows = count_total_rows_from_excels(official_stament_train_path, tickers)\n",
    "print('Total official stament in news train data: ', official_stament_train_num_rows)"
   ]
  },
  {
   "cell_type": "code",
   "execution_count": 15,
   "id": "bfd38ff2",
   "metadata": {},
   "outputs": [
    {
     "name": "stdout",
     "output_type": "stream",
     "text": [
      "Total official stament in news test data:  512\n"
     ]
    }
   ],
   "source": [
    "# Count rows official stament test data\n",
    "official_stament_test_path = [\n",
    "    r'D:\\thacsi\\TAILIEULUANVAN\\code\\PredictStock_TA_FA_SA\\SA\\data\\v2\\sentiment_score_data\\official_statement\\v2\\test_data',\n",
    "]\n",
    "official_stament_test_num_rows = count_total_rows_from_excels(official_stament_test_path, tickers)\n",
    "print('Total official stament in news test data: ', official_stament_test_num_rows)"
   ]
  },
  {
   "cell_type": "code",
   "execution_count": 16,
   "id": "65c4557f",
   "metadata": {},
   "outputs": [
    {
     "name": "stdout",
     "output_type": "stream",
     "text": [
      "Total rows in official stament data:  4952\n"
     ]
    }
   ],
   "source": [
    "# Count total rows in official stament data\n",
    "print('Total rows in official stament data: ', official_stament_train_num_rows + official_stament_test_num_rows)"
   ]
  },
  {
   "cell_type": "code",
   "execution_count": 17,
   "id": "82a28ba8",
   "metadata": {},
   "outputs": [
    {
     "name": "stdout",
     "output_type": "stream",
     "text": [
      "Total sentiment news data:  16707\n"
     ]
    }
   ],
   "source": [
    "total_sentiment_news = news_train_num_rows + news_test_num_rows + official_stament_train_num_rows + official_stament_test_num_rows\n",
    "print('Total sentiment news data: ', total_sentiment_news)"
   ]
  },
  {
   "cell_type": "code",
   "execution_count": null,
   "id": "4a54cb43",
   "metadata": {},
   "outputs": [],
   "source": []
  }
 ],
 "metadata": {
  "kernelspec": {
   "display_name": "Python 3",
   "language": "python",
   "name": "python3"
  },
  "language_info": {
   "codemirror_mode": {
    "name": "ipython",
    "version": 3
   },
   "file_extension": ".py",
   "mimetype": "text/x-python",
   "name": "python",
   "nbconvert_exporter": "python",
   "pygments_lexer": "ipython3",
   "version": "3.12.5"
  }
 },
 "nbformat": 4,
 "nbformat_minor": 5
}
