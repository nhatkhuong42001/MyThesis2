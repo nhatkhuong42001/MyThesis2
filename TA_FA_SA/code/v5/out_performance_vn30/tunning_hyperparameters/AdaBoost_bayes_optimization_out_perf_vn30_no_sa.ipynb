{
  "cells": [
    {
      "cell_type": "markdown",
      "metadata": {
        "id": "cLNVn_5nAdIT"
      },
      "source": []
    },
    {
      "cell_type": "code",
      "execution_count": null,
      "metadata": {
        "colab": {
          "base_uri": "https://localhost:8080/"
        },
        "execution": {
          "iopub.execute_input": "2025-06-20T21:11:16.242124Z",
          "iopub.status.busy": "2025-06-20T21:11:16.241648Z",
          "iopub.status.idle": "2025-06-20T21:11:21.366621Z",
          "shell.execute_reply": "2025-06-20T21:11:21.365667Z",
          "shell.execute_reply.started": "2025-06-20T21:11:16.242103Z"
        },
        "id": "Okm4_Fz0m1-2",
        "outputId": "b9912095-2811-4d6c-cff5-720d10001a10",
        "trusted": true
      },
      "outputs": [
        {
          "name": "stdout",
          "output_type": "stream",
          "text": [
            "Collecting vnstock\n",
            "  Downloading vnstock-3.2.6-py3-none-any.whl.metadata (42 kB)\n",
            "\u001b[2K     \u001b[90m━━━━━━━━━━━━━━━━━━━━━━━━━━━━━━━━━━━━━━━━\u001b[0m \u001b[32m42.5/42.5 kB\u001b[0m \u001b[31m2.1 MB/s\u001b[0m eta \u001b[36m0:00:00\u001b[0m\n",
            "\u001b[?25hRequirement already satisfied: requests in /usr/local/lib/python3.11/dist-packages (from vnstock) (2.32.3)\n",
            "Requirement already satisfied: beautifulsoup4 in /usr/local/lib/python3.11/dist-packages (from vnstock) (4.13.3)\n",
            "Requirement already satisfied: pandas in /usr/local/lib/python3.11/dist-packages (from vnstock) (2.2.3)\n",
            "Requirement already satisfied: seaborn in /usr/local/lib/python3.11/dist-packages (from vnstock) (0.12.2)\n",
            "Requirement already satisfied: openpyxl in /usr/local/lib/python3.11/dist-packages (from vnstock) (3.1.5)\n",
            "Requirement already satisfied: pydantic in /usr/local/lib/python3.11/dist-packages (from vnstock) (2.11.4)\n",
            "Requirement already satisfied: psutil in /usr/local/lib/python3.11/dist-packages (from vnstock) (7.0.0)\n",
            "Collecting fake_useragent (from vnstock)\n",
            "  Downloading fake_useragent-2.2.0-py3-none-any.whl.metadata (17 kB)\n",
            "Collecting vnstock_ezchart (from vnstock)\n",
            "  Downloading vnstock_ezchart-0.0.2-py3-none-any.whl.metadata (6.6 kB)\n",
            "Requirement already satisfied: click in /usr/local/lib/python3.11/dist-packages (from vnstock) (8.1.8)\n",
            "Requirement already satisfied: packaging>=20.0 in /usr/local/lib/python3.11/dist-packages (from vnstock) (25.0)\n",
            "Requirement already satisfied: importlib-metadata>=1.0 in /usr/local/lib/python3.11/dist-packages (from vnstock) (8.7.0)\n",
            "Requirement already satisfied: tenacity in /usr/local/lib/python3.11/dist-packages (from vnstock) (9.1.2)\n",
            "Collecting vnai>=2.0.3 (from vnstock)\n",
            "  Downloading vnai-2.0.4-py3-none-any.whl.metadata (988 bytes)\n",
            "Requirement already satisfied: zipp>=3.20 in /usr/local/lib/python3.11/dist-packages (from importlib-metadata>=1.0->vnstock) (3.21.0)\n",
            "Requirement already satisfied: charset-normalizer<4,>=2 in /usr/local/lib/python3.11/dist-packages (from requests->vnstock) (3.4.2)\n",
            "Requirement already satisfied: idna<4,>=2.5 in /usr/local/lib/python3.11/dist-packages (from requests->vnstock) (3.10)\n",
            "Requirement already satisfied: urllib3<3,>=1.21.1 in /usr/local/lib/python3.11/dist-packages (from requests->vnstock) (2.4.0)\n",
            "Requirement already satisfied: certifi>=2017.4.17 in /usr/local/lib/python3.11/dist-packages (from requests->vnstock) (2025.4.26)\n",
            "Requirement already satisfied: soupsieve>1.2 in /usr/local/lib/python3.11/dist-packages (from beautifulsoup4->vnstock) (2.6)\n",
            "Requirement already satisfied: typing-extensions>=4.0.0 in /usr/local/lib/python3.11/dist-packages (from beautifulsoup4->vnstock) (4.13.2)\n",
            "Requirement already satisfied: et-xmlfile in /usr/local/lib/python3.11/dist-packages (from openpyxl->vnstock) (2.0.0)\n",
            "Requirement already satisfied: numpy>=1.23.2 in /usr/local/lib/python3.11/dist-packages (from pandas->vnstock) (1.26.4)\n",
            "Requirement already satisfied: python-dateutil>=2.8.2 in /usr/local/lib/python3.11/dist-packages (from pandas->vnstock) (2.9.0.post0)\n",
            "Requirement already satisfied: pytz>=2020.1 in /usr/local/lib/python3.11/dist-packages (from pandas->vnstock) (2025.2)\n",
            "Requirement already satisfied: tzdata>=2022.7 in /usr/local/lib/python3.11/dist-packages (from pandas->vnstock) (2025.2)\n",
            "Requirement already satisfied: annotated-types>=0.6.0 in /usr/local/lib/python3.11/dist-packages (from pydantic->vnstock) (0.7.0)\n",
            "Requirement already satisfied: pydantic-core==2.33.2 in /usr/local/lib/python3.11/dist-packages (from pydantic->vnstock) (2.33.2)\n",
            "Requirement already satisfied: typing-inspection>=0.4.0 in /usr/local/lib/python3.11/dist-packages (from pydantic->vnstock) (0.4.0)\n",
            "Requirement already satisfied: matplotlib!=3.6.1,>=3.1 in /usr/local/lib/python3.11/dist-packages (from seaborn->vnstock) (3.7.2)\n",
            "Requirement already satisfied: squarify in /usr/local/lib/python3.11/dist-packages (from vnstock_ezchart->vnstock) (0.4.4)\n",
            "Requirement already satisfied: wordcloud in /usr/local/lib/python3.11/dist-packages (from vnstock_ezchart->vnstock) (1.9.4)\n",
            "Requirement already satisfied: contourpy>=1.0.1 in /usr/local/lib/python3.11/dist-packages (from matplotlib!=3.6.1,>=3.1->seaborn->vnstock) (1.3.1)\n",
            "Requirement already satisfied: cycler>=0.10 in /usr/local/lib/python3.11/dist-packages (from matplotlib!=3.6.1,>=3.1->seaborn->vnstock) (0.12.1)\n",
            "Requirement already satisfied: fonttools>=4.22.0 in /usr/local/lib/python3.11/dist-packages (from matplotlib!=3.6.1,>=3.1->seaborn->vnstock) (4.57.0)\n",
            "Requirement already satisfied: kiwisolver>=1.0.1 in /usr/local/lib/python3.11/dist-packages (from matplotlib!=3.6.1,>=3.1->seaborn->vnstock) (1.4.8)\n",
            "Requirement already satisfied: pillow>=6.2.0 in /usr/local/lib/python3.11/dist-packages (from matplotlib!=3.6.1,>=3.1->seaborn->vnstock) (11.1.0)\n",
            "Requirement already satisfied: pyparsing<3.1,>=2.3.1 in /usr/local/lib/python3.11/dist-packages (from matplotlib!=3.6.1,>=3.1->seaborn->vnstock) (3.0.9)\n",
            "Requirement already satisfied: mkl_fft in /usr/local/lib/python3.11/dist-packages (from numpy>=1.23.2->pandas->vnstock) (1.3.8)\n",
            "Requirement already satisfied: mkl_random in /usr/local/lib/python3.11/dist-packages (from numpy>=1.23.2->pandas->vnstock) (1.2.4)\n",
            "Requirement already satisfied: mkl_umath in /usr/local/lib/python3.11/dist-packages (from numpy>=1.23.2->pandas->vnstock) (0.1.1)\n",
            "Requirement already satisfied: mkl in /usr/local/lib/python3.11/dist-packages (from numpy>=1.23.2->pandas->vnstock) (2025.1.0)\n",
            "Requirement already satisfied: tbb4py in /usr/local/lib/python3.11/dist-packages (from numpy>=1.23.2->pandas->vnstock) (2022.1.0)\n",
            "Requirement already satisfied: mkl-service in /usr/local/lib/python3.11/dist-packages (from numpy>=1.23.2->pandas->vnstock) (2.4.1)\n",
            "Requirement already satisfied: six>=1.5 in /usr/local/lib/python3.11/dist-packages (from python-dateutil>=2.8.2->pandas->vnstock) (1.17.0)\n",
            "Requirement already satisfied: intel-openmp<2026,>=2024 in /usr/local/lib/python3.11/dist-packages (from mkl->numpy>=1.23.2->pandas->vnstock) (2024.2.0)\n",
            "Requirement already satisfied: tbb==2022.* in /usr/local/lib/python3.11/dist-packages (from mkl->numpy>=1.23.2->pandas->vnstock) (2022.1.0)\n",
            "Requirement already satisfied: tcmlib==1.* in /usr/local/lib/python3.11/dist-packages (from tbb==2022.*->mkl->numpy>=1.23.2->pandas->vnstock) (1.3.0)\n",
            "Requirement already satisfied: intel-cmplr-lib-rt in /usr/local/lib/python3.11/dist-packages (from mkl_umath->numpy>=1.23.2->pandas->vnstock) (2024.2.0)\n",
            "Requirement already satisfied: intel-cmplr-lib-ur==2024.2.0 in /usr/local/lib/python3.11/dist-packages (from intel-openmp<2026,>=2024->mkl->numpy>=1.23.2->pandas->vnstock) (2024.2.0)\n",
            "Downloading vnstock-3.2.6-py3-none-any.whl (121 kB)\n",
            "\u001b[2K   \u001b[90m━━━━━━━━━━━━━━━━━━━━━━━━━━━━━━━━━━━━━━━━\u001b[0m \u001b[32m121.8/121.8 kB\u001b[0m \u001b[31m7.6 MB/s\u001b[0m eta \u001b[36m0:00:00\u001b[0m\n",
            "\u001b[?25hDownloading vnai-2.0.4-py3-none-any.whl (32 kB)\n",
            "Downloading fake_useragent-2.2.0-py3-none-any.whl (161 kB)\n",
            "\u001b[2K   \u001b[90m━━━━━━━━━━━━━━━━━━━━━━━━━━━━━━━━━━━━━━━━\u001b[0m \u001b[32m161.7/161.7 kB\u001b[0m \u001b[31m10.5 MB/s\u001b[0m eta \u001b[36m0:00:00\u001b[0m\n",
            "\u001b[?25hDownloading vnstock_ezchart-0.0.2-py3-none-any.whl (14 kB)\n",
            "Installing collected packages: fake_useragent, vnai, vnstock_ezchart, vnstock\n",
            "Successfully installed fake_useragent-2.2.0 vnai-2.0.4 vnstock-3.2.6 vnstock_ezchart-0.0.2\n",
            "Note: you may need to restart the kernel to use updated packages.\n"
          ]
        }
      ],
      "source": [
        "pip install -U vnstock"
      ]
    },
    {
      "cell_type": "code",
      "execution_count": null,
      "metadata": {
        "colab": {
          "base_uri": "https://localhost:8080/"
        },
        "execution": {
          "iopub.execute_input": "2025-06-20T21:11:21.368504Z",
          "iopub.status.busy": "2025-06-20T21:11:21.368257Z",
          "iopub.status.idle": "2025-06-20T21:11:24.337277Z",
          "shell.execute_reply": "2025-06-20T21:11:24.336429Z",
          "shell.execute_reply.started": "2025-06-20T21:11:21.368483Z"
        },
        "id": "a50KDExwzi2l",
        "outputId": "4169dd5a-71f6-40a8-dc0f-0c4f8d67600b",
        "trusted": true
      },
      "outputs": [
        {
          "name": "stdout",
          "output_type": "stream",
          "text": [
            "Requirement already satisfied: optuna in /usr/local/lib/python3.11/dist-packages (4.3.0)\n",
            "Requirement already satisfied: alembic>=1.5.0 in /usr/local/lib/python3.11/dist-packages (from optuna) (1.15.2)\n",
            "Requirement already satisfied: colorlog in /usr/local/lib/python3.11/dist-packages (from optuna) (6.9.0)\n",
            "Requirement already satisfied: numpy in /usr/local/lib/python3.11/dist-packages (from optuna) (1.26.4)\n",
            "Requirement already satisfied: packaging>=20.0 in /usr/local/lib/python3.11/dist-packages (from optuna) (25.0)\n",
            "Requirement already satisfied: sqlalchemy>=1.4.2 in /usr/local/lib/python3.11/dist-packages (from optuna) (2.0.40)\n",
            "Requirement already satisfied: tqdm in /usr/local/lib/python3.11/dist-packages (from optuna) (4.67.1)\n",
            "Requirement already satisfied: PyYAML in /usr/local/lib/python3.11/dist-packages (from optuna) (6.0.2)\n",
            "Requirement already satisfied: Mako in /usr/local/lib/python3.11/dist-packages (from alembic>=1.5.0->optuna) (1.3.10)\n",
            "Requirement already satisfied: typing-extensions>=4.12 in /usr/local/lib/python3.11/dist-packages (from alembic>=1.5.0->optuna) (4.13.2)\n",
            "Requirement already satisfied: greenlet>=1 in /usr/local/lib/python3.11/dist-packages (from sqlalchemy>=1.4.2->optuna) (3.1.1)\n",
            "Requirement already satisfied: mkl_fft in /usr/local/lib/python3.11/dist-packages (from numpy->optuna) (1.3.8)\n",
            "Requirement already satisfied: mkl_random in /usr/local/lib/python3.11/dist-packages (from numpy->optuna) (1.2.4)\n",
            "Requirement already satisfied: mkl_umath in /usr/local/lib/python3.11/dist-packages (from numpy->optuna) (0.1.1)\n",
            "Requirement already satisfied: mkl in /usr/local/lib/python3.11/dist-packages (from numpy->optuna) (2025.1.0)\n",
            "Requirement already satisfied: tbb4py in /usr/local/lib/python3.11/dist-packages (from numpy->optuna) (2022.1.0)\n",
            "Requirement already satisfied: mkl-service in /usr/local/lib/python3.11/dist-packages (from numpy->optuna) (2.4.1)\n",
            "Requirement already satisfied: MarkupSafe>=0.9.2 in /usr/local/lib/python3.11/dist-packages (from Mako->alembic>=1.5.0->optuna) (3.0.2)\n",
            "Requirement already satisfied: intel-openmp<2026,>=2024 in /usr/local/lib/python3.11/dist-packages (from mkl->numpy->optuna) (2024.2.0)\n",
            "Requirement already satisfied: tbb==2022.* in /usr/local/lib/python3.11/dist-packages (from mkl->numpy->optuna) (2022.1.0)\n",
            "Requirement already satisfied: tcmlib==1.* in /usr/local/lib/python3.11/dist-packages (from tbb==2022.*->mkl->numpy->optuna) (1.3.0)\n",
            "Requirement already satisfied: intel-cmplr-lib-rt in /usr/local/lib/python3.11/dist-packages (from mkl_umath->numpy->optuna) (2024.2.0)\n",
            "Requirement already satisfied: intel-cmplr-lib-ur==2024.2.0 in /usr/local/lib/python3.11/dist-packages (from intel-openmp<2026,>=2024->mkl->numpy->optuna) (2024.2.0)\n",
            "Note: you may need to restart the kernel to use updated packages.\n"
          ]
        }
      ],
      "source": [
        "pip install optuna"
      ]
    },
    {
      "cell_type": "code",
      "execution_count": null,
      "metadata": {
        "colab": {
          "base_uri": "https://localhost:8080/"
        },
        "execution": {
          "iopub.execute_input": "2025-06-20T21:11:24.339174Z",
          "iopub.status.busy": "2025-06-20T21:11:24.33839Z",
          "iopub.status.idle": "2025-06-20T21:11:29.151805Z",
          "shell.execute_reply": "2025-06-20T21:11:29.151061Z",
          "shell.execute_reply.started": "2025-06-20T21:11:24.339145Z"
        },
        "id": "wh4DI2CwnSEF",
        "outputId": "30b2a971-16a7-4931-d041-cddba828a1e7",
        "trusted": true
      },
      "outputs": [
        {
          "name": "stdout",
          "output_type": "stream",
          "text": [
            "Collecting ta\n",
            "  Downloading ta-0.11.0.tar.gz (25 kB)\n",
            "  Preparing metadata (setup.py) ... \u001b[?25l\u001b[?25hdone\n",
            "Requirement already satisfied: numpy in /usr/local/lib/python3.11/dist-packages (from ta) (1.26.4)\n",
            "Requirement already satisfied: pandas in /usr/local/lib/python3.11/dist-packages (from ta) (2.2.3)\n",
            "Requirement already satisfied: mkl_fft in /usr/local/lib/python3.11/dist-packages (from numpy->ta) (1.3.8)\n",
            "Requirement already satisfied: mkl_random in /usr/local/lib/python3.11/dist-packages (from numpy->ta) (1.2.4)\n",
            "Requirement already satisfied: mkl_umath in /usr/local/lib/python3.11/dist-packages (from numpy->ta) (0.1.1)\n",
            "Requirement already satisfied: mkl in /usr/local/lib/python3.11/dist-packages (from numpy->ta) (2025.1.0)\n",
            "Requirement already satisfied: tbb4py in /usr/local/lib/python3.11/dist-packages (from numpy->ta) (2022.1.0)\n",
            "Requirement already satisfied: mkl-service in /usr/local/lib/python3.11/dist-packages (from numpy->ta) (2.4.1)\n",
            "Requirement already satisfied: python-dateutil>=2.8.2 in /usr/local/lib/python3.11/dist-packages (from pandas->ta) (2.9.0.post0)\n",
            "Requirement already satisfied: pytz>=2020.1 in /usr/local/lib/python3.11/dist-packages (from pandas->ta) (2025.2)\n",
            "Requirement already satisfied: tzdata>=2022.7 in /usr/local/lib/python3.11/dist-packages (from pandas->ta) (2025.2)\n",
            "Requirement already satisfied: six>=1.5 in /usr/local/lib/python3.11/dist-packages (from python-dateutil>=2.8.2->pandas->ta) (1.17.0)\n",
            "Requirement already satisfied: intel-openmp<2026,>=2024 in /usr/local/lib/python3.11/dist-packages (from mkl->numpy->ta) (2024.2.0)\n",
            "Requirement already satisfied: tbb==2022.* in /usr/local/lib/python3.11/dist-packages (from mkl->numpy->ta) (2022.1.0)\n",
            "Requirement already satisfied: tcmlib==1.* in /usr/local/lib/python3.11/dist-packages (from tbb==2022.*->mkl->numpy->ta) (1.3.0)\n",
            "Requirement already satisfied: intel-cmplr-lib-rt in /usr/local/lib/python3.11/dist-packages (from mkl_umath->numpy->ta) (2024.2.0)\n",
            "Requirement already satisfied: intel-cmplr-lib-ur==2024.2.0 in /usr/local/lib/python3.11/dist-packages (from intel-openmp<2026,>=2024->mkl->numpy->ta) (2024.2.0)\n",
            "Building wheels for collected packages: ta\n",
            "  Building wheel for ta (setup.py) ... \u001b[?25l\u001b[?25hdone\n",
            "  Created wheel for ta: filename=ta-0.11.0-py3-none-any.whl size=29412 sha256=bf4332bf57643b63038ba47864b2d3fdf76789d73d78096e6012c15ce80c9df3\n",
            "  Stored in directory: /root/.cache/pip/wheels/a1/d7/29/7781cc5eb9a3659d032d7d15bdd0f49d07d2b24fec29f44bc4\n",
            "Successfully built ta\n",
            "Installing collected packages: ta\n",
            "Successfully installed ta-0.11.0\n",
            "Note: you may need to restart the kernel to use updated packages.\n"
          ]
        }
      ],
      "source": [
        "pip install ta"
      ]
    },
    {
      "cell_type": "code",
      "execution_count": null,
      "metadata": {
        "colab": {
          "base_uri": "https://localhost:8080/"
        },
        "execution": {
          "iopub.execute_input": "2025-06-20T21:11:29.153692Z",
          "iopub.status.busy": "2025-06-20T21:11:29.153482Z",
          "iopub.status.idle": "2025-06-20T21:11:32.246069Z",
          "shell.execute_reply": "2025-06-20T21:11:32.245083Z",
          "shell.execute_reply.started": "2025-06-20T21:11:29.153671Z"
        },
        "id": "bh2_oFeynbcj",
        "outputId": "7a177a51-6d71-4930-8d26-de06d003a32f",
        "trusted": true
      },
      "outputs": [
        {
          "name": "stdout",
          "output_type": "stream",
          "text": [
            "Requirement already satisfied: tensorflow in /usr/local/lib/python3.11/dist-packages (2.18.0)\n",
            "Requirement already satisfied: absl-py>=1.0.0 in /usr/local/lib/python3.11/dist-packages (from tensorflow) (1.4.0)\n",
            "Requirement already satisfied: astunparse>=1.6.0 in /usr/local/lib/python3.11/dist-packages (from tensorflow) (1.6.3)\n",
            "Requirement already satisfied: flatbuffers>=24.3.25 in /usr/local/lib/python3.11/dist-packages (from tensorflow) (25.2.10)\n",
            "Requirement already satisfied: gast!=0.5.0,!=0.5.1,!=0.5.2,>=0.2.1 in /usr/local/lib/python3.11/dist-packages (from tensorflow) (0.6.0)\n",
            "Requirement already satisfied: google-pasta>=0.1.1 in /usr/local/lib/python3.11/dist-packages (from tensorflow) (0.2.0)\n",
            "Requirement already satisfied: libclang>=13.0.0 in /usr/local/lib/python3.11/dist-packages (from tensorflow) (18.1.1)\n",
            "Requirement already satisfied: opt-einsum>=2.3.2 in /usr/local/lib/python3.11/dist-packages (from tensorflow) (3.4.0)\n",
            "Requirement already satisfied: packaging in /usr/local/lib/python3.11/dist-packages (from tensorflow) (25.0)\n",
            "Requirement already satisfied: protobuf!=4.21.0,!=4.21.1,!=4.21.2,!=4.21.3,!=4.21.4,!=4.21.5,<6.0.0dev,>=3.20.3 in /usr/local/lib/python3.11/dist-packages (from tensorflow) (3.20.3)\n",
            "Requirement already satisfied: requests<3,>=2.21.0 in /usr/local/lib/python3.11/dist-packages (from tensorflow) (2.32.3)\n",
            "Requirement already satisfied: setuptools in /usr/local/lib/python3.11/dist-packages (from tensorflow) (75.2.0)\n",
            "Requirement already satisfied: six>=1.12.0 in /usr/local/lib/python3.11/dist-packages (from tensorflow) (1.17.0)\n",
            "Requirement already satisfied: termcolor>=1.1.0 in /usr/local/lib/python3.11/dist-packages (from tensorflow) (3.0.1)\n",
            "Requirement already satisfied: typing-extensions>=3.6.6 in /usr/local/lib/python3.11/dist-packages (from tensorflow) (4.13.2)\n",
            "Requirement already satisfied: wrapt>=1.11.0 in /usr/local/lib/python3.11/dist-packages (from tensorflow) (1.17.2)\n",
            "Requirement already satisfied: grpcio<2.0,>=1.24.3 in /usr/local/lib/python3.11/dist-packages (from tensorflow) (1.72.0rc1)\n",
            "Requirement already satisfied: tensorboard<2.19,>=2.18 in /usr/local/lib/python3.11/dist-packages (from tensorflow) (2.18.0)\n",
            "Requirement already satisfied: keras>=3.5.0 in /usr/local/lib/python3.11/dist-packages (from tensorflow) (3.8.0)\n",
            "Requirement already satisfied: numpy<2.1.0,>=1.26.0 in /usr/local/lib/python3.11/dist-packages (from tensorflow) (1.26.4)\n",
            "Requirement already satisfied: h5py>=3.11.0 in /usr/local/lib/python3.11/dist-packages (from tensorflow) (3.13.0)\n",
            "Requirement already satisfied: ml-dtypes<0.5.0,>=0.4.0 in /usr/local/lib/python3.11/dist-packages (from tensorflow) (0.4.1)\n",
            "Requirement already satisfied: tensorflow-io-gcs-filesystem>=0.23.1 in /usr/local/lib/python3.11/dist-packages (from tensorflow) (0.37.1)\n",
            "Requirement already satisfied: wheel<1.0,>=0.23.0 in /usr/local/lib/python3.11/dist-packages (from astunparse>=1.6.0->tensorflow) (0.45.1)\n",
            "Requirement already satisfied: rich in /usr/local/lib/python3.11/dist-packages (from keras>=3.5.0->tensorflow) (14.0.0)\n",
            "Requirement already satisfied: namex in /usr/local/lib/python3.11/dist-packages (from keras>=3.5.0->tensorflow) (0.0.8)\n",
            "Requirement already satisfied: optree in /usr/local/lib/python3.11/dist-packages (from keras>=3.5.0->tensorflow) (0.14.1)\n",
            "Requirement already satisfied: mkl_fft in /usr/local/lib/python3.11/dist-packages (from numpy<2.1.0,>=1.26.0->tensorflow) (1.3.8)\n",
            "Requirement already satisfied: mkl_random in /usr/local/lib/python3.11/dist-packages (from numpy<2.1.0,>=1.26.0->tensorflow) (1.2.4)\n",
            "Requirement already satisfied: mkl_umath in /usr/local/lib/python3.11/dist-packages (from numpy<2.1.0,>=1.26.0->tensorflow) (0.1.1)\n",
            "Requirement already satisfied: mkl in /usr/local/lib/python3.11/dist-packages (from numpy<2.1.0,>=1.26.0->tensorflow) (2025.1.0)\n",
            "Requirement already satisfied: tbb4py in /usr/local/lib/python3.11/dist-packages (from numpy<2.1.0,>=1.26.0->tensorflow) (2022.1.0)\n",
            "Requirement already satisfied: mkl-service in /usr/local/lib/python3.11/dist-packages (from numpy<2.1.0,>=1.26.0->tensorflow) (2.4.1)\n",
            "Requirement already satisfied: charset-normalizer<4,>=2 in /usr/local/lib/python3.11/dist-packages (from requests<3,>=2.21.0->tensorflow) (3.4.2)\n",
            "Requirement already satisfied: idna<4,>=2.5 in /usr/local/lib/python3.11/dist-packages (from requests<3,>=2.21.0->tensorflow) (3.10)\n",
            "Requirement already satisfied: urllib3<3,>=1.21.1 in /usr/local/lib/python3.11/dist-packages (from requests<3,>=2.21.0->tensorflow) (2.4.0)\n",
            "Requirement already satisfied: certifi>=2017.4.17 in /usr/local/lib/python3.11/dist-packages (from requests<3,>=2.21.0->tensorflow) (2025.4.26)\n",
            "Requirement already satisfied: markdown>=2.6.8 in /usr/local/lib/python3.11/dist-packages (from tensorboard<2.19,>=2.18->tensorflow) (3.7)\n",
            "Requirement already satisfied: tensorboard-data-server<0.8.0,>=0.7.0 in /usr/local/lib/python3.11/dist-packages (from tensorboard<2.19,>=2.18->tensorflow) (0.7.2)\n",
            "Requirement already satisfied: werkzeug>=1.0.1 in /usr/local/lib/python3.11/dist-packages (from tensorboard<2.19,>=2.18->tensorflow) (3.1.3)\n",
            "Requirement already satisfied: MarkupSafe>=2.1.1 in /usr/local/lib/python3.11/dist-packages (from werkzeug>=1.0.1->tensorboard<2.19,>=2.18->tensorflow) (3.0.2)\n",
            "Requirement already satisfied: intel-openmp<2026,>=2024 in /usr/local/lib/python3.11/dist-packages (from mkl->numpy<2.1.0,>=1.26.0->tensorflow) (2024.2.0)\n",
            "Requirement already satisfied: tbb==2022.* in /usr/local/lib/python3.11/dist-packages (from mkl->numpy<2.1.0,>=1.26.0->tensorflow) (2022.1.0)\n",
            "Requirement already satisfied: tcmlib==1.* in /usr/local/lib/python3.11/dist-packages (from tbb==2022.*->mkl->numpy<2.1.0,>=1.26.0->tensorflow) (1.3.0)\n",
            "Requirement already satisfied: intel-cmplr-lib-rt in /usr/local/lib/python3.11/dist-packages (from mkl_umath->numpy<2.1.0,>=1.26.0->tensorflow) (2024.2.0)\n",
            "Requirement already satisfied: markdown-it-py>=2.2.0 in /usr/local/lib/python3.11/dist-packages (from rich->keras>=3.5.0->tensorflow) (3.0.0)\n",
            "Requirement already satisfied: pygments<3.0.0,>=2.13.0 in /usr/local/lib/python3.11/dist-packages (from rich->keras>=3.5.0->tensorflow) (2.19.1)\n",
            "Requirement already satisfied: intel-cmplr-lib-ur==2024.2.0 in /usr/local/lib/python3.11/dist-packages (from intel-openmp<2026,>=2024->mkl->numpy<2.1.0,>=1.26.0->tensorflow) (2024.2.0)\n",
            "Requirement already satisfied: mdurl~=0.1 in /usr/local/lib/python3.11/dist-packages (from markdown-it-py>=2.2.0->rich->keras>=3.5.0->tensorflow) (0.1.2)\n",
            "Note: you may need to restart the kernel to use updated packages.\n"
          ]
        }
      ],
      "source": [
        "pip install tensorflow"
      ]
    },
    {
      "cell_type": "code",
      "execution_count": null,
      "metadata": {
        "colab": {
          "base_uri": "https://localhost:8080/"
        },
        "execution": {
          "iopub.execute_input": "2025-06-20T21:11:32.247671Z",
          "iopub.status.busy": "2025-06-20T21:11:32.247234Z",
          "iopub.status.idle": "2025-06-20T21:11:36.886189Z",
          "shell.execute_reply": "2025-06-20T21:11:36.885428Z",
          "shell.execute_reply.started": "2025-06-20T21:11:32.247636Z"
        },
        "id": "mC0cd0c0ngqo",
        "outputId": "1730e9f2-e1c7-4acd-d969-cfa173befde9",
        "trusted": true
      },
      "outputs": [
        {
          "name": "stdout",
          "output_type": "stream",
          "text": [
            "Collecting keras-self-attention\n",
            "  Downloading keras-self-attention-0.51.0.tar.gz (11 kB)\n",
            "  Preparing metadata (setup.py) ... \u001b[?25l\u001b[?25hdone\n",
            "Requirement already satisfied: numpy in /usr/local/lib/python3.11/dist-packages (from keras-self-attention) (1.26.4)\n",
            "Requirement already satisfied: mkl_fft in /usr/local/lib/python3.11/dist-packages (from numpy->keras-self-attention) (1.3.8)\n",
            "Requirement already satisfied: mkl_random in /usr/local/lib/python3.11/dist-packages (from numpy->keras-self-attention) (1.2.4)\n",
            "Requirement already satisfied: mkl_umath in /usr/local/lib/python3.11/dist-packages (from numpy->keras-self-attention) (0.1.1)\n",
            "Requirement already satisfied: mkl in /usr/local/lib/python3.11/dist-packages (from numpy->keras-self-attention) (2025.1.0)\n",
            "Requirement already satisfied: tbb4py in /usr/local/lib/python3.11/dist-packages (from numpy->keras-self-attention) (2022.1.0)\n",
            "Requirement already satisfied: mkl-service in /usr/local/lib/python3.11/dist-packages (from numpy->keras-self-attention) (2.4.1)\n",
            "Requirement already satisfied: intel-openmp<2026,>=2024 in /usr/local/lib/python3.11/dist-packages (from mkl->numpy->keras-self-attention) (2024.2.0)\n",
            "Requirement already satisfied: tbb==2022.* in /usr/local/lib/python3.11/dist-packages (from mkl->numpy->keras-self-attention) (2022.1.0)\n",
            "Requirement already satisfied: tcmlib==1.* in /usr/local/lib/python3.11/dist-packages (from tbb==2022.*->mkl->numpy->keras-self-attention) (1.3.0)\n",
            "Requirement already satisfied: intel-cmplr-lib-rt in /usr/local/lib/python3.11/dist-packages (from mkl_umath->numpy->keras-self-attention) (2024.2.0)\n",
            "Requirement already satisfied: intel-cmplr-lib-ur==2024.2.0 in /usr/local/lib/python3.11/dist-packages (from intel-openmp<2026,>=2024->mkl->numpy->keras-self-attention) (2024.2.0)\n",
            "Building wheels for collected packages: keras-self-attention\n",
            "  Building wheel for keras-self-attention (setup.py) ... \u001b[?25l\u001b[?25hdone\n",
            "  Created wheel for keras-self-attention: filename=keras_self_attention-0.51.0-py3-none-any.whl size=18895 sha256=01c96b855bf8c4d37b63c7c377fa684c261cc4efdae32d583d626d1260f309fe\n",
            "  Stored in directory: /root/.cache/pip/wheels/46/f9/96/709295c836133071c12a300729fed4027757f889c01695feea\n",
            "Successfully built keras-self-attention\n",
            "Installing collected packages: keras-self-attention\n",
            "Successfully installed keras-self-attention-0.51.0\n",
            "Note: you may need to restart the kernel to use updated packages.\n"
          ]
        }
      ],
      "source": [
        "pip install keras-self-attention"
      ]
    },
    {
      "cell_type": "code",
      "execution_count": null,
      "metadata": {
        "colab": {
          "base_uri": "https://localhost:8080/"
        },
        "execution": {
          "iopub.execute_input": "2025-06-20T21:11:36.887418Z",
          "iopub.status.busy": "2025-06-20T21:11:36.887122Z",
          "iopub.status.idle": "2025-06-20T21:11:39.823429Z",
          "shell.execute_reply": "2025-06-20T21:11:39.822582Z",
          "shell.execute_reply.started": "2025-06-20T21:11:36.887392Z"
        },
        "id": "G8llwhZWnj0i",
        "outputId": "cc6a76fe-1f85-4c33-d240-04d13c4e38dd",
        "trusted": true
      },
      "outputs": [
        {
          "name": "stdout",
          "output_type": "stream",
          "text": [
            "Requirement already satisfied: keras-tuner in /usr/local/lib/python3.11/dist-packages (1.4.7)\n",
            "Requirement already satisfied: keras in /usr/local/lib/python3.11/dist-packages (from keras-tuner) (3.8.0)\n",
            "Requirement already satisfied: packaging in /usr/local/lib/python3.11/dist-packages (from keras-tuner) (25.0)\n",
            "Requirement already satisfied: requests in /usr/local/lib/python3.11/dist-packages (from keras-tuner) (2.32.3)\n",
            "Requirement already satisfied: kt-legacy in /usr/local/lib/python3.11/dist-packages (from keras-tuner) (1.0.5)\n",
            "Requirement already satisfied: absl-py in /usr/local/lib/python3.11/dist-packages (from keras->keras-tuner) (1.4.0)\n",
            "Requirement already satisfied: numpy in /usr/local/lib/python3.11/dist-packages (from keras->keras-tuner) (1.26.4)\n",
            "Requirement already satisfied: rich in /usr/local/lib/python3.11/dist-packages (from keras->keras-tuner) (14.0.0)\n",
            "Requirement already satisfied: namex in /usr/local/lib/python3.11/dist-packages (from keras->keras-tuner) (0.0.8)\n",
            "Requirement already satisfied: h5py in /usr/local/lib/python3.11/dist-packages (from keras->keras-tuner) (3.13.0)\n",
            "Requirement already satisfied: optree in /usr/local/lib/python3.11/dist-packages (from keras->keras-tuner) (0.14.1)\n",
            "Requirement already satisfied: ml-dtypes in /usr/local/lib/python3.11/dist-packages (from keras->keras-tuner) (0.4.1)\n",
            "Requirement already satisfied: charset-normalizer<4,>=2 in /usr/local/lib/python3.11/dist-packages (from requests->keras-tuner) (3.4.2)\n",
            "Requirement already satisfied: idna<4,>=2.5 in /usr/local/lib/python3.11/dist-packages (from requests->keras-tuner) (3.10)\n",
            "Requirement already satisfied: urllib3<3,>=1.21.1 in /usr/local/lib/python3.11/dist-packages (from requests->keras-tuner) (2.4.0)\n",
            "Requirement already satisfied: certifi>=2017.4.17 in /usr/local/lib/python3.11/dist-packages (from requests->keras-tuner) (2025.4.26)\n",
            "Requirement already satisfied: mkl_fft in /usr/local/lib/python3.11/dist-packages (from numpy->keras->keras-tuner) (1.3.8)\n",
            "Requirement already satisfied: mkl_random in /usr/local/lib/python3.11/dist-packages (from numpy->keras->keras-tuner) (1.2.4)\n",
            "Requirement already satisfied: mkl_umath in /usr/local/lib/python3.11/dist-packages (from numpy->keras->keras-tuner) (0.1.1)\n",
            "Requirement already satisfied: mkl in /usr/local/lib/python3.11/dist-packages (from numpy->keras->keras-tuner) (2025.1.0)\n",
            "Requirement already satisfied: tbb4py in /usr/local/lib/python3.11/dist-packages (from numpy->keras->keras-tuner) (2022.1.0)\n",
            "Requirement already satisfied: mkl-service in /usr/local/lib/python3.11/dist-packages (from numpy->keras->keras-tuner) (2.4.1)\n",
            "Requirement already satisfied: typing-extensions>=4.5.0 in /usr/local/lib/python3.11/dist-packages (from optree->keras->keras-tuner) (4.13.2)\n",
            "Requirement already satisfied: markdown-it-py>=2.2.0 in /usr/local/lib/python3.11/dist-packages (from rich->keras->keras-tuner) (3.0.0)\n",
            "Requirement already satisfied: pygments<3.0.0,>=2.13.0 in /usr/local/lib/python3.11/dist-packages (from rich->keras->keras-tuner) (2.19.1)\n",
            "Requirement already satisfied: mdurl~=0.1 in /usr/local/lib/python3.11/dist-packages (from markdown-it-py>=2.2.0->rich->keras->keras-tuner) (0.1.2)\n",
            "Requirement already satisfied: intel-openmp<2026,>=2024 in /usr/local/lib/python3.11/dist-packages (from mkl->numpy->keras->keras-tuner) (2024.2.0)\n",
            "Requirement already satisfied: tbb==2022.* in /usr/local/lib/python3.11/dist-packages (from mkl->numpy->keras->keras-tuner) (2022.1.0)\n",
            "Requirement already satisfied: tcmlib==1.* in /usr/local/lib/python3.11/dist-packages (from tbb==2022.*->mkl->numpy->keras->keras-tuner) (1.3.0)\n",
            "Requirement already satisfied: intel-cmplr-lib-rt in /usr/local/lib/python3.11/dist-packages (from mkl_umath->numpy->keras->keras-tuner) (2024.2.0)\n",
            "Requirement already satisfied: intel-cmplr-lib-ur==2024.2.0 in /usr/local/lib/python3.11/dist-packages (from intel-openmp<2026,>=2024->mkl->numpy->keras->keras-tuner) (2024.2.0)\n",
            "Note: you may need to restart the kernel to use updated packages.\n"
          ]
        }
      ],
      "source": [
        "pip install keras-tuner"
      ]
    },
    {
      "cell_type": "code",
      "execution_count": null,
      "metadata": {
        "colab": {
          "base_uri": "https://localhost:8080/",
          "height": 284
        },
        "execution": {
          "iopub.execute_input": "2025-06-20T21:11:39.825059Z",
          "iopub.status.busy": "2025-06-20T21:11:39.824555Z",
          "iopub.status.idle": "2025-06-20T21:12:01.43387Z",
          "shell.execute_reply": "2025-06-20T21:12:01.432882Z",
          "shell.execute_reply.started": "2025-06-20T21:11:39.825031Z"
        },
        "id": "h22olX_0nnuK",
        "outputId": "f901db33-9d0a-4a33-9a59-a9c36fb728ec",
        "trusted": true
      },
      "outputs": [
        {
          "name": "stderr",
          "output_type": "stream",
          "text": [
            "2025-06-20 21:11:42.638140: E external/local_xla/xla/stream_executor/cuda/cuda_fft.cc:477] Unable to register cuFFT factory: Attempting to register factory for plugin cuFFT when one has already been registered\n",
            "WARNING: All log messages before absl::InitializeLog() is called are written to STDERR\n",
            "E0000 00:00:1750453902.867272      35 cuda_dnn.cc:8310] Unable to register cuDNN factory: Attempting to register factory for plugin cuDNN when one has already been registered\n",
            "E0000 00:00:1750453902.942203      35 cuda_blas.cc:1418] Unable to register cuBLAS factory: Attempting to register factory for plugin cuBLAS when one has already been registered\n"
          ]
        },
        {
          "data": {
            "text/html": [
              "<!DOCTYPE html>\n",
              "<html>\n",
              "<head>\n",
              "    <meta charset=\"UTF-8\">\n",
              "    <meta name=\"viewport\" content=\"width=device-width, initial-scale=1.0\">\n",
              "    <link href=\"https://fonts.googleapis.com/css2?family=Lexend:wght@400;500;600;700&display=swap\" rel=\"stylesheet\">\n",
              "    <style>\n",
              "        .vnstock-ad-banner {\n",
              "            all: initial;\n",
              "            font-family: 'Lexend', sans-serif;\n",
              "            display: flex;\n",
              "            flex-wrap: wrap;\n",
              "            max-width: 100%;\n",
              "            margin: 12px 0;\n",
              "            border-radius: 10px;\n",
              "            overflow: hidden;\n",
              "            background: #ffffff;\n",
              "            box-shadow: 0 4px 12px rgba(0,0,0,0.08);\n",
              "            color: #333;\n",
              "        }\n",
              "\n",
              "        .vnstock-ad-content {\n",
              "            flex: 1;\n",
              "            padding: 12px 16px;\n",
              "            display: flex;\n",
              "            flex-direction: column;\n",
              "            justify-content: center;\n",
              "        }\n",
              "\n",
              "        .vnstock-ad-title {\n",
              "            margin: 0 0 10px 0;\n",
              "            line-height: 1.3;\n",
              "            font-size: 18px;\n",
              "            font-weight: 700;\n",
              "            color: #4CAF50;\n",
              "        }\n",
              "\n",
              "        .title-highlight {\n",
              "            color: #8C52FF;\n",
              "        }\n",
              "\n",
              "        .vnstock-ad-features {\n",
              "            list-style: none;\n",
              "            padding-left: 0;\n",
              "            margin: 10px 0 12px 0;\n",
              "            font-size: 13px;\n",
              "            line-height: 1.4;\n",
              "        }\n",
              "\n",
              "        .vnstock-ad-features li {\n",
              "            margin-bottom: 6px;\n",
              "        }\n",
              "\n",
              "        .feature-highlight {\n",
              "            color: #8C52FF;\n",
              "            font-weight: 600;\n",
              "        }\n",
              "\n",
              "        .button-container {\n",
              "            text-align: center;\n",
              "        }\n",
              "\n",
              "        .vnstock-ad-button {\n",
              "            display: inline-block;\n",
              "            background-color: #4CAF50;\n",
              "            color: #fff;\n",
              "            padding: 6px 16px;\n",
              "            text-decoration: none;\n",
              "            font-size: 13px;\n",
              "            border-radius: 20px;\n",
              "            font-weight: 600;\n",
              "            transition: all 0.2s;\n",
              "            box-shadow: 0 2px 6px rgba(76, 175, 80, 0.2);\n",
              "        }\n",
              "\n",
              "        .vnstock-ad-button:hover {\n",
              "            background-color: #8C52FF;\n",
              "            color: white;\n",
              "            transform: translateY(-1px);\n",
              "            box-shadow: 0 4px 8px rgba(140, 82, 255, 0.3);\n",
              "        }\n",
              "\n",
              "        .vnstock-ad-image {\n",
              "            flex: 1;\n",
              "            min-width: 180px;\n",
              "            max-width: 45%;\n",
              "        }\n",
              "\n",
              "        .vnstock-ad-image img {\n",
              "            width: 100%;\n",
              "            height: 100%;\n",
              "            max-height: 250px;\n",
              "            object-fit: cover;\n",
              "            display: block;\n",
              "        }\n",
              "\n",
              "        @media (max-width: 768px) {\n",
              "            .vnstock-ad-banner {\n",
              "                flex-direction: column;\n",
              "            }\n",
              "            \n",
              "            .vnstock-ad-image {\n",
              "                min-width: auto;\n",
              "                max-width: 100%;\n",
              "            }\n",
              "        }\n",
              "    </style>\n",
              "</head>\n",
              "<body>\n",
              "    <div class=\"vnstock-ad-banner\">\n",
              "        <div class=\"vnstock-ad-content\">\n",
              "            <h2 class=\"vnstock-ad-title\">\n",
              "                <span class=\"title-highlight\">🤖 Python Coding với AI:</span> Phân Tích Dữ liệu & Bot Chứng Khoán K11\n",
              "            </h2>\n",
              "            <ul class=\"vnstock-ad-features\">\n",
              "                <li><span class=\"feature-highlight\">⚡ Điều khiển AI viết code Python:</span> Không cần thuộc lòng cú pháp, học cách dùng AI agent</li>\n",
              "                <li><span class=\"feature-highlight\">🎯 Từ ý tưởng đến sản phẩm:</span> 15+ bot & chương trình thực tế hoàn chỉnh trong 10 buổi học</li>\n",
              "                <li><span class=\"feature-highlight\">🚀 Giáo trình mới tập trung vào AI:</span> Áp dụng cách tiếp cận AI thực chiến từ 15/6/2025. Truy cập trước nội dung khóa 10 ngay khi đăng ký.</li>\n",
              "                <li><span class=\"feature-highlight\">💡 Cộng đồng chất lượng cao:</span> 100+ nhà đầu tư, chuyên gia & lập trình viên cùng học hỏi</li>\n",
              "            </ul>\n",
              "            <div class=\"button-container\">\n",
              "                <a href=\"https://vnstocks.com/lp-khoa-hoc-python-chung-khoan\" class=\"vnstock-ad-button\">\n",
              "                    Đăng ký ngay ›\n",
              "                </a>\n",
              "            </div>\n",
              "        </div>\n",
              "        <a href=\"https://vnstocks.com/lp-khoa-hoc-python-chung-khoan\" class=\"vnstock-ad-image\">\n",
              "            <img src=\"https://vnstocks.com/img/cta-python-chung-khoan-k11-start-now.jpg\" alt=\"Khóa học Python Coding với AI\" style=\"width: 100%; height: 100%; max-height: 250px; object-fit: cover; display: block;\">\n",
              "        </a>\n",
              "    </div>\n",
              "</body>\n",
              "</html>"
            ],
            "text/plain": [
              "<IPython.core.display.HTML object>"
            ]
          },
          "metadata": {},
          "output_type": "display_data"
        }
      ],
      "source": [
        "import numpy as np\n",
        "import pandas as pd\n",
        "from ta.momentum import RSIIndicator\n",
        "from sklearn.preprocessing import RobustScaler\n",
        "from sklearn.model_selection import train_test_split\n",
        "import tensorflow as tf\n",
        "from tensorflow.keras.models import Sequential\n",
        "from tensorflow.keras.layers import LSTM, Dropout, Dense, RNN, concatenate\n",
        "from tensorflow.keras.optimizers import RMSprop\n",
        "from vnstock import *\n",
        "from ta.volatility import BollingerBands\n",
        "from tensorflow.keras.layers import Layer\n",
        "import tensorflow as tf\n",
        "from keras.layers import Input, Conv1D, MaxPooling1D, Bidirectional, Flatten, BatchNormalization\n",
        "from sklearn.model_selection import RandomizedSearchCV\n",
        "# from scikeras.wrappers import KerasClassifier\n",
        "\n",
        "from ta.momentum import StochasticOscillator\n",
        "from ta.volume import OnBalanceVolumeIndicator\n",
        "from ta.trend import CCIIndicator\n",
        "from sklearn.preprocessing import StandardScaler\n",
        "from ta.volume import ChaikinMoneyFlowIndicator\n",
        "from tensorflow.keras.regularizers import l2\n",
        "from tensorflow.keras.regularizers import l1\n",
        "from tensorflow.keras.regularizers import l1_l2\n",
        "from tensorflow.keras import regularizers\n",
        "from keras_self_attention import SeqSelfAttention\n",
        "from tensorflow.keras.models import Model\n",
        "from sklearn.preprocessing import MinMaxScaler\n",
        "from sklearn.metrics import roc_auc_score\n",
        "import keras_tuner as kt\n",
        "from tensorflow.keras.optimizers import Adam\n",
        "from sklearn.feature_selection import SequentialFeatureSelector\n",
        "from sklearn.base import BaseEstimator, ClassifierMixin\n",
        "from tensorflow.keras.saving import register_keras_serializable\n",
        "import matplotlib.pyplot as plt\n",
        "# from imblearn.over_sampling import SMOTE\n",
        "from sklearn.metrics import confusion_matrix, ConfusionMatrixDisplay\n",
        "from tensorflow.keras.utils import to_categorical\n",
        "from tensorflow.keras.callbacks import EarlyStopping, ModelCheckpoint, ReduceLROnPlateau\n",
        "from sklearn.metrics import f1_score\n",
        "from sklearn.ensemble import RandomForestClassifier, AdaBoostClassifier\n",
        "from xgboost import XGBClassifier\n",
        "from lightgbm import LGBMClassifier\n",
        "from catboost import CatBoostClassifier\n",
        "from sklearn.model_selection import cross_val_score\n",
        "from vnstock import *\n",
        "import pandas as pd\n",
        "import os\n",
        "from collections import Counter\n",
        "from tensorflow.keras.models import load_model\n",
        "from sklearn.metrics import classification_report\n",
        "from sklearn.utils.class_weight import compute_class_weight\n",
        "from sklearn.ensemble import RandomForestClassifier # Import RandomForestClassifier\n",
        "from sklearn.metrics import accuracy_score # Import accuracy\n",
        "from sklearn.metrics import log_loss\n",
        "from sklearn.linear_model import LinearRegression\n",
        "from xgboost import XGBClassifier\n",
        "import optuna\n",
        "import joblib\n",
        "from sklearn.metrics import (\n",
        "    f1_score, accuracy_score, classification_report, roc_auc_score,\n",
        "    roc_curve, auc\n",
        ")\n",
        "from sklearn.preprocessing import label_binarize\n",
        "from sklearn.model_selection import TimeSeriesSplit\n",
        "from sklearn.tree import DecisionTreeClassifier"
      ]
    },
    {
      "cell_type": "code",
      "execution_count": null,
      "metadata": {
        "colab": {
          "base_uri": "https://localhost:8080/"
        },
        "execution": {
          "iopub.execute_input": "2025-06-20T21:12:01.435675Z",
          "iopub.status.busy": "2025-06-20T21:12:01.43495Z",
          "iopub.status.idle": "2025-06-20T21:12:04.513305Z",
          "shell.execute_reply": "2025-06-20T21:12:04.512572Z",
          "shell.execute_reply.started": "2025-06-20T21:12:01.435652Z"
        },
        "id": "DhOiC4ER62Ea",
        "outputId": "d91e008e-1516-4723-f38e-904e79a53423",
        "trusted": true
      },
      "outputs": [
        {
          "name": "stdout",
          "output_type": "stream",
          "text": [
            "Requirement already satisfied: xgboost in /usr/local/lib/python3.11/dist-packages (2.0.3)\n",
            "Requirement already satisfied: numpy in /usr/local/lib/python3.11/dist-packages (from xgboost) (1.26.4)\n",
            "Requirement already satisfied: scipy in /usr/local/lib/python3.11/dist-packages (from xgboost) (1.15.2)\n",
            "Requirement already satisfied: mkl_fft in /usr/local/lib/python3.11/dist-packages (from numpy->xgboost) (1.3.8)\n",
            "Requirement already satisfied: mkl_random in /usr/local/lib/python3.11/dist-packages (from numpy->xgboost) (1.2.4)\n",
            "Requirement already satisfied: mkl_umath in /usr/local/lib/python3.11/dist-packages (from numpy->xgboost) (0.1.1)\n",
            "Requirement already satisfied: mkl in /usr/local/lib/python3.11/dist-packages (from numpy->xgboost) (2025.1.0)\n",
            "Requirement already satisfied: tbb4py in /usr/local/lib/python3.11/dist-packages (from numpy->xgboost) (2022.1.0)\n",
            "Requirement already satisfied: mkl-service in /usr/local/lib/python3.11/dist-packages (from numpy->xgboost) (2.4.1)\n",
            "Requirement already satisfied: intel-openmp<2026,>=2024 in /usr/local/lib/python3.11/dist-packages (from mkl->numpy->xgboost) (2024.2.0)\n",
            "Requirement already satisfied: tbb==2022.* in /usr/local/lib/python3.11/dist-packages (from mkl->numpy->xgboost) (2022.1.0)\n",
            "Requirement already satisfied: tcmlib==1.* in /usr/local/lib/python3.11/dist-packages (from tbb==2022.*->mkl->numpy->xgboost) (1.3.0)\n",
            "Requirement already satisfied: intel-cmplr-lib-rt in /usr/local/lib/python3.11/dist-packages (from mkl_umath->numpy->xgboost) (2024.2.0)\n",
            "Requirement already satisfied: intel-cmplr-lib-ur==2024.2.0 in /usr/local/lib/python3.11/dist-packages (from intel-openmp<2026,>=2024->mkl->numpy->xgboost) (2024.2.0)\n",
            "Note: you may need to restart the kernel to use updated packages.\n"
          ]
        }
      ],
      "source": [
        "pip install xgboost"
      ]
    },
    {
      "cell_type": "code",
      "execution_count": null,
      "metadata": {
        "execution": {
          "iopub.execute_input": "2025-06-20T21:12:04.514568Z",
          "iopub.status.busy": "2025-06-20T21:12:04.514258Z",
          "iopub.status.idle": "2025-06-20T21:12:04.519719Z",
          "shell.execute_reply": "2025-06-20T21:12:04.518995Z",
          "shell.execute_reply.started": "2025-06-20T21:12:04.514543Z"
        },
        "id": "krdyQYcda4pU",
        "trusted": true
      },
      "outputs": [],
      "source": [
        "def dataframe_to_x_y(df, feature, target):\n",
        "  X_train, y_train = [], []\n",
        "  X_val, y_val = [], []\n",
        "  n = len(df)\n",
        "  split_index = int(n * 0.8)\n",
        "  X_train = df[feature][:split_index]\n",
        "  y_train = df[target][:split_index]\n",
        "  X_val = df[feature][split_index:]\n",
        "  y_val = df[target][split_index:]\n",
        "  return X_train, y_train, X_val, y_val"
      ]
    },
    {
      "cell_type": "code",
      "execution_count": null,
      "metadata": {
        "execution": {
          "iopub.execute_input": "2025-06-20T21:12:04.522303Z",
          "iopub.status.busy": "2025-06-20T21:12:04.522049Z",
          "iopub.status.idle": "2025-06-20T21:12:04.539756Z",
          "shell.execute_reply": "2025-06-20T21:12:04.539135Z",
          "shell.execute_reply.started": "2025-06-20T21:12:04.522287Z"
        },
        "id": "Mwbwp8-Wa5mj",
        "trusted": true
      },
      "outputs": [],
      "source": [
        "\n",
        "sentiment_columns = [\n",
        "        'Reputation', 'Company Communication', 'Appointment', 'Financial', 'Regulatory',\n",
        "        'Sales', 'M&A', 'Legal', 'Dividend Policy', 'Risks', 'Rumors', 'Strategy',\n",
        "        'Options', 'IPO', 'Signal', 'Coverage', 'Fundamentals', 'Insider Activity',\n",
        "        'Price Action', 'Buyside', 'Technical Analysis', 'Trade', 'Central Banks',\n",
        "        'Currency', 'Conditions', 'Market', 'Volatility', 'Investor Sentiment', 'Retail Investor Behavior',\n",
        "        'Speculation', 'Domestic Institutional Behavior', 'Foreign Institutional Behavior', 'Black Swan Event',\n",
        "    ]\n",
        "\n",
        "sentiment_p1d_columns = [\n",
        "        'reputation_p1d', 'company_communication_p1d', 'appointment_p1d', 'financial_p1d', 'regulatory_p1d',\n",
        "        'sales_p1d', 'm&a_p1d', 'legal_p1d', 'dividend_policy_p1d', 'risks_p1d', 'rumors_p1d', 'strategy_p1d',\n",
        "        'options_p1d', 'ipo_p1d', 'signal_p1d', 'coverage_p1d', 'fundamentals_p1d', 'insider_activity_p1d',\n",
        "        'price_action_p1d', 'buyside_p1d', 'technical_analysis_p1d', 'trade_p1d', 'central_banks_p1d',\n",
        "        'currency_p1d', 'conditions_p1d', 'market_p1d', 'volatility_p1d', 'investor_sentiment_p1d', 'retail_investor_behavior_p1d',\n",
        "        'speculation_p1d', 'domestic_institutional_behavior_p1d', 'foreign_institutional_behavior_p1d', 'black_swan_event_p1d',\n",
        "    ]\n",
        "meta_cols = ['num_sa_news', 'mean_sentiment_norm', 'max_sentiment_norm', 'std_sentiment_score', 'sum_positive_sa', 'sum_negative_sa', 'time_distance_from_sa_to_close_minutes']\n",
        "meta_p1d_cols = ['num_sa_news_p1d', 'mean_sentiment_norm_p1d', 'max_sentiment_norm_p1d', 'std_sentiment_score_p1d', 'sum_positive_sa_p1d', 'sum_negative_sa_p1d', 'time_distance_from_sa_to_close_minutes_p1d']\n",
        "\n",
        "sentiment_feature_selected =  sentiment_columns + sentiment_p1d_columns + meta_cols + meta_p1d_cols\n",
        "ta_features = ['volume_ma','volume_to_volume_ma_ratio','ema_12','ema_26','sma_20','sma_50','roc_5','roc_1','roc_9','%K','%R','cci','obv','macd','signal_line','macd_histogram','rsi','rsi_base_ma','rsi_rsi_base_ma_ratio','bb_bbm','bb_bbh','bb_bbl','bb_bbp','bb_bbh_bb_bbl_ratio','hl_ratio', 'co_ratio', 'price_range', 'sma_ratio_20_50', 'ema_ratio_12_26', 'bb_width', 'bb_position', 'rsi_overbought', 'rsi_oversold', 'rsi_neutral', 'macd_bullish', 'momentum_5', 'momentum_10','log_return','volatility_5d','volatility_10d','volatility_20d','volatility_30d','mean_log_return_5d','mean_log_return_10d','mean_log_return_20d','mean_log_return_30d','sharpe_like_5d','sharpe_like_10d','sharpe_like_20d','sharpe_like_30d','up_streak','pos_log_return_ratio_20d','z_score_5d','z_score_10d','z_score_20d','z_score_30d','annual_return','daily_return','sharpe_ratio',\n",
        "               'rsi_vn30','rsi_base_ma_vn30','rsi_rsi_base_ma_ratio_vn30','volume_ma_vn30','volume_to_volume_ma_ratio_vn30','bb_bbm_vn30','bb_bbh_vn30','bb_bbl_vn30','bb_bbp_vn30','bb_bbh_bb_bbl_ratio_vn30','roc_1_vn30', 'roc_5_vn30', 'roc_9_vn30','%K_vn30','%R_vn30','cci_vn30','obv_vn30','ema_12_vn30','ema_26_vn30','sma_20_vn30','sma_50_vn30', 'hl_ratio_vn30', 'co_ratio_vn30', 'price_range_vn30', 'sma_ratio_20_50_vn30', 'ema_ratio_12_26_vn30', 'bb_width_vn30', 'bb_position_vn30', 'rsi_overbought_vn30', 'rsi_oversold_vn30', 'rsi_neutral_vn30', 'momentum_5_vn30', 'momentum_10_vn30', 'log_return_vn30','volatility_5d_vn30','volatility_10d_vn30','volatility_20d_vn30','volatility_30d_vn30','mean_log_return_5d_vn30','mean_log_return_10d_vn30','mean_log_return_20d_vn30','mean_log_return_30d_vn30','sharpe_like_5d_vn30','sharpe_like_10d_vn30','sharpe_like_20d_vn30','sharpe_like_30d_vn30','up_streak_vn30','pos_log_return_ratio_20d_vn30','z_score_5d_vn30','z_score_10d_vn30','z_score_20d_vn30','z_score_30d_vn30','annual_return_vn30','daily_return_vn30','sharpe_ratio_vn30',\n",
        "               'rsi_vni','rsi_base_ma_vni','rsi_rsi_base_ma_ratio_vni','volume_ma_vni','volume_to_volume_ma_ratio_vni','bb_bbm_vni','bb_bbh_vni','bb_bbl_vni','bb_bbp_vni','bb_bbh_bb_bbl_ratio_vni','roc_1_vni', 'roc_5_vni', 'roc_9_vni','%K_vni','%R_vni','cci_vni','obv_vni','ema_12_vni','ema_26_vni','sma_20_vni','sma_50_vni', 'hl_ratio_vni', 'co_ratio_vni', 'price_range_vni', 'sma_ratio_20_50_vni', 'ema_ratio_12_26_vni', 'bb_width_vni', 'bb_position_vni', 'rsi_overbought_vni', 'rsi_oversold_vni', 'rsi_neutral_vni', 'momentum_5_vni', 'momentum_10_vni','log_return_vni','volatility_5d_vni','volatility_10d_vni','volatility_20d_vni','volatility_30d_vni','mean_log_return_5d_vni','mean_log_return_10d_vni','mean_log_return_20d_vni','mean_log_return_30d_vni','sharpe_like_5d_vni','sharpe_like_10d_vni','sharpe_like_20d_vni','sharpe_like_30d_vni','up_streak_vni','pos_log_return_ratio_20d_vni','z_score_5d_vni','z_score_10d_vni','z_score_20d_vni','z_score_30d_vni','annual_return_vni','daily_return_vni','sharpe_ratio_vni']\n",
        "fa_features = ['p/b_previous_quarter', 'p/b_change_rate','p/b_change_rate_flag','p/e_previous_quarter','p/e_change_rate','p/e_change_rate_flag','p/s_previous_quarter','p/s_change_rate','p/s_change_rate_flag','p/cash_flow_previous_quarter','p/cash_flow_change_rate','p/cash_flow_change_rate_flag','eps_previous_quarter','eps_change_rate', 'eps_change_rate_flag','bvps_previous_quarter','bvps_change_rate', 'bvps_change_rate_flag','roe_previous_quarter','roe_change_rate','roe_change_rate_flag','roa_previous_quarter','roa_change_rate','roa_change_rate_flag','coefficient_p/b','coefficient_p/e','coefficient_p/s','coefficient_p/cash_flow','coefficient_eps','coefficient_bvps','coefficient_roe','coefficient_roa','distance_to_nearest_quarter']\n",
        "ta_fa_feature_selected = ta_features + fa_features\n",
        "features = ta_fa_feature_selected + sentiment_feature_selected\n",
        "target = 'target'\n",
        "scaler = StandardScaler()"
      ]
    },
    {
      "cell_type": "code",
      "execution_count": null,
      "metadata": {
        "execution": {
          "iopub.execute_input": "2025-06-20T21:12:04.540949Z",
          "iopub.status.busy": "2025-06-20T21:12:04.540702Z",
          "iopub.status.idle": "2025-06-20T21:12:04.560808Z",
          "shell.execute_reply": "2025-06-20T21:12:04.560226Z",
          "shell.execute_reply.started": "2025-06-20T21:12:04.540926Z"
        },
        "id": "Om4bjGVoAdIX",
        "trusted": true
      },
      "outputs": [],
      "source": [
        "def load_data_for_analysis(tickers, folder_path):\n",
        "\n",
        "    df_all = []\n",
        "\n",
        "    for ticker in tickers:\n",
        "        file_path = os.path.join(folder_path, f\"{ticker}.xlsx\")\n",
        "        if os.path.exists(file_path):\n",
        "            df = pd.read_excel(file_path)\n",
        "            df[\"ticker\"] = ticker  # thêm cột ticker\n",
        "            df_all.append(df)\n",
        "        else:\n",
        "            print(f\"⚠️ Không tìm thấy: {file_path}\")\n",
        "\n",
        "    # Gộp lại thành 1 DataFrame\n",
        "    df_global = pd.concat(df_all, ignore_index=True)\n",
        "    print(f\"✅ Đã load xong {len(df_global)} dòng dữ liệu từ {len(df_all)} cổ phiếu.\")\n",
        "    return df_global"
      ]
    },
    {
      "cell_type": "code",
      "execution_count": null,
      "metadata": {
        "execution": {
          "iopub.execute_input": "2025-06-20T21:12:04.561697Z",
          "iopub.status.busy": "2025-06-20T21:12:04.561466Z",
          "iopub.status.idle": "2025-06-20T21:14:48.47565Z",
          "shell.execute_reply": "2025-06-20T21:14:48.474985Z",
          "shell.execute_reply.started": "2025-06-20T21:12:04.561671Z"
        },
        "id": "O76XzdDDfyOI",
        "outputId": "a80f34a3-96b6-4c58-fc68-3640927af39b",
        "trusted": true
      },
      "outputs": [
        {
          "name": "stdout",
          "output_type": "stream",
          "text": [
            "✅ Đã load xong 35865 dòng dữ liệu từ 30 cổ phiếu.\n",
            "✅ Đã load xong 7380 dòng dữ liệu từ 30 cổ phiếu.\n"
          ]
        }
      ],
      "source": [
        "tickers = ['ACB', 'BCM', 'BID','BVH','CTG','FPT','GAS','GVR','HDB','HPG',\n",
        "                    'LPB','MBB','MSN','MWG','PLX','SAB','SHB','SSB','SSI','STB',\n",
        "                    'TCB','TPB','VCB','VHM','VIB','VIC','VJC','VNM','VPB','VRE']\n",
        "folder_path_train = \"/kaggle/input/vn30-dataset/v6 - Copy/out_performance_vn30/train_data\"\n",
        "folder_path_test = \"/kaggle/input/vn30-dataset/v6 - Copy/out_performance_vn30/test_data\"\n",
        "df_global_train = load_data_for_analysis(tickers, folder_path_train)\n",
        "df_global_test = load_data_for_analysis(tickers, folder_path_test)\n"
      ]
    },
    {
      "cell_type": "code",
      "execution_count": null,
      "metadata": {
        "execution": {
          "iopub.execute_input": "2025-06-20T21:14:48.476857Z",
          "iopub.status.busy": "2025-06-20T21:14:48.476576Z",
          "iopub.status.idle": "2025-06-20T21:14:48.482786Z",
          "shell.execute_reply": "2025-06-20T21:14:48.482235Z",
          "shell.execute_reply.started": "2025-06-20T21:14:48.476839Z"
        },
        "id": "ZvuatiXrAdIY",
        "trusted": true
      },
      "outputs": [],
      "source": [
        "# Danh sách các mô hình\n",
        "models = {\n",
        "    \"Random Forest\": RandomForestClassifier(n_jobs=-1, random_state=42, class_weight='balanced'),\n",
        "    \"XGBoost\": XGBClassifier(n_jobs=-1, random_state=42, use_label_encoder=False, eval_metric='mlogloss'),\n",
        "    \"LightGBM\": LGBMClassifier(n_jobs=-1, random_state=42),\n",
        "    \"CatBoost\": CatBoostClassifier(verbose=0, random_state=42),\n",
        "    \"AdaBoost\": AdaBoostClassifier(random_state=42),\n",
        "}"
      ]
    },
    {
      "cell_type": "code",
      "execution_count": null,
      "metadata": {
        "execution": {
          "iopub.execute_input": "2025-06-20T21:14:48.483825Z",
          "iopub.status.busy": "2025-06-20T21:14:48.48361Z",
          "iopub.status.idle": "2025-06-20T21:14:48.715704Z",
          "shell.execute_reply": "2025-06-20T21:14:48.714887Z",
          "shell.execute_reply.started": "2025-06-20T21:14:48.483809Z"
        },
        "id": "O2Wa5ZrKAdIY",
        "trusted": true
      },
      "outputs": [],
      "source": [
        "X_train_no_sa = df_global_train[ta_fa_feature_selected]\n",
        "X_test_no_sa = df_global_test[ta_fa_feature_selected]\n",
        "y_train = df_global_train[target]\n",
        "y_test = df_global_test[target]\n",
        "scaler = StandardScaler()\n",
        "X_train_no_sa_scaled = scaler.fit_transform(X_train_no_sa)\n",
        "X_test_no_sa_scaled = scaler.transform(X_test_no_sa)"
      ]
    },
    {
      "cell_type": "code",
      "execution_count": null,
      "metadata": {
        "execution": {
          "iopub.execute_input": "2025-06-20T21:14:48.716805Z",
          "iopub.status.busy": "2025-06-20T21:14:48.716556Z",
          "iopub.status.idle": "2025-06-20T21:14:49.03481Z",
          "shell.execute_reply": "2025-06-20T21:14:49.034192Z",
          "shell.execute_reply.started": "2025-06-20T21:14:48.716779Z"
        },
        "id": "VM4ByHLeAdIY",
        "trusted": true
      },
      "outputs": [],
      "source": [
        "X_train_with_sa = df_global_train[features]  # features = ta + fa + sa\n",
        "X_test_with_sa = df_global_test[features]\n",
        "y_train = df_global_train[target]\n",
        "y_test = df_global_test[target]\n",
        "\n",
        "scaler = StandardScaler()\n",
        "X_train_with_sa_scaled = scaler.fit_transform(X_train_with_sa)   # Fit scaler trên train, scale train luôn\n",
        "X_test_with_sa_scaled = scaler.transform(X_test_with_sa)"
      ]
    },
    {
      "cell_type": "code",
      "execution_count": null,
      "metadata": {
        "execution": {
          "iopub.execute_input": "2025-06-20T21:14:49.03579Z",
          "iopub.status.busy": "2025-06-20T21:14:49.035574Z",
          "iopub.status.idle": "2025-06-20T21:14:49.039379Z",
          "shell.execute_reply": "2025-06-20T21:14:49.038703Z",
          "shell.execute_reply.started": "2025-06-20T21:14:49.035773Z"
        },
        "id": "rtd-wPXdAdIY",
        "trusted": true
      },
      "outputs": [],
      "source": [
        "# ==============================================Tuning with Optuna + TimeSeriesSplit validate (AUC macro) ==============================================="
      ]
    },
    {
      "cell_type": "markdown",
      "metadata": {
        "id": "NjLBOHyBAdIY"
      },
      "source": [
        "Divide 5 fold to cross validation though tuning parameters"
      ]
    },
    {
      "cell_type": "code",
      "execution_count": null,
      "metadata": {
        "execution": {
          "iopub.execute_input": "2025-06-20T21:14:49.040393Z",
          "iopub.status.busy": "2025-06-20T21:14:49.040127Z",
          "iopub.status.idle": "2025-06-20T21:14:49.057066Z",
          "shell.execute_reply": "2025-06-20T21:14:49.056342Z",
          "shell.execute_reply.started": "2025-06-20T21:14:49.040354Z"
        },
        "id": "5W9TkJwaAdIY",
        "trusted": true
      },
      "outputs": [],
      "source": [
        "def get_grouped_time_series_folds(df, ticker_col='ticker', n_splits=5):\n",
        "    tickers = df[ticker_col].unique()\n",
        "    fold_indices = [[] for _ in range(n_splits)]  # List chứa n_splits fold tổng\n",
        "    for ticker in tickers:\n",
        "        idx = df[df[ticker_col] == ticker].index.values\n",
        "        tscv = TimeSeriesSplit(n_splits=n_splits)\n",
        "        for fold_num, (train_idx, val_idx) in enumerate(tscv.split(idx)):\n",
        "            # Gộp index thực tế vào fold tổng tương ứng\n",
        "            fold_indices[fold_num].append((idx[train_idx], idx[val_idx]))\n",
        "    # Gộp index của từng fold tổng lại thành mảng train/val duy nhất\n",
        "    grouped_folds = []\n",
        "    for fold in fold_indices:\n",
        "        train_idx = np.concatenate([item[0] for item in fold])\n",
        "        val_idx = np.concatenate([item[1] for item in fold])\n",
        "        grouped_folds.append((train_idx, val_idx))\n",
        "    return grouped_folds"
      ]
    },
    {
      "cell_type": "code",
      "execution_count": null,
      "metadata": {
        "execution": {
          "iopub.execute_input": "2025-06-20T21:14:49.058201Z",
          "iopub.status.busy": "2025-06-20T21:14:49.057969Z",
          "iopub.status.idle": "2025-06-20T21:14:49.21204Z",
          "shell.execute_reply": "2025-06-20T21:14:49.211499Z",
          "shell.execute_reply.started": "2025-06-20T21:14:49.058185Z"
        },
        "id": "e87jj_iCAdIY",
        "trusted": true
      },
      "outputs": [],
      "source": [
        "folds = get_grouped_time_series_folds(df_global_train, ticker_col='ticker', n_splits=5)"
      ]
    },
    {
      "cell_type": "markdown",
      "metadata": {
        "id": "IiqW4wdOAdIZ"
      },
      "source": [
        "Tuning random forest for stock trend with ta + fa data"
      ]
    },
    {
      "cell_type": "code",
      "execution_count": null,
      "metadata": {
        "execution": {
          "iopub.execute_input": "2025-06-20T21:14:49.212958Z",
          "iopub.status.busy": "2025-06-20T21:14:49.212773Z",
          "iopub.status.idle": "2025-06-20T21:14:49.216697Z",
          "shell.execute_reply": "2025-06-20T21:14:49.215987Z",
          "shell.execute_reply.started": "2025-06-20T21:14:49.212944Z"
        },
        "id": "UHrRIj4fAdIZ",
        "trusted": true
      },
      "outputs": [],
      "source": [
        "X_no_sa = X_train_no_sa_scaled  # hoặc X_train_with_sa_scaled nếu dùng cả SA\n",
        "y = y_train"
      ]
    },
    {
      "cell_type": "code",
      "execution_count": null,
      "metadata": {
        "execution": {
          "iopub.execute_input": "2025-06-20T21:14:49.217605Z",
          "iopub.status.busy": "2025-06-20T21:14:49.217318Z",
          "iopub.status.idle": "2025-06-21T00:29:18.191496Z",
          "shell.execute_reply": "2025-06-21T00:29:18.190768Z",
          "shell.execute_reply.started": "2025-06-20T21:14:49.217584Z"
        },
        "id": "K0O5exwRAdIZ",
        "outputId": "2c6877a2-e2f5-42b1-b6d7-7e03cf823c68",
        "trusted": true
      },
      "outputs": [
        {
          "name": "stderr",
          "output_type": "stream",
          "text": [
            "[I 2025-06-20 21:14:49,231] A new study created in memory with name: no-name-a4d5ef19-0671-490d-9526-56b2f4ef8ab1\n"
          ]
        },
        {
          "name": "stdout",
          "output_type": "stream",
          "text": [
            "Tuning AdaBoostClassifier with Optuna (AUC macro) ta + fa features only\n"
          ]
        },
        {
          "name": "stderr",
          "output_type": "stream",
          "text": [
            "[I 2025-06-20 21:16:58,127] Trial 0 finished with value: -0.5887698504707943 and parameters: {'n_estimators': 98, 'learning_rate': 0.4642083885125886, 'algorithm': 'SAMME.R', 'max_depth': 1}. Best is trial 0 with value: -0.5887698504707943.\n"
          ]
        },
        {
          "name": "stdout",
          "output_type": "stream",
          "text": [
            "Trial 0: AUC macro=0.58877, params={'n_estimators': 98, 'learning_rate': 0.4642083885125886, 'algorithm': 'SAMME.R', 'max_depth': 1}\n"
          ]
        },
        {
          "name": "stderr",
          "output_type": "stream",
          "text": [
            "[I 2025-06-20 21:17:21,628] Trial 1 finished with value: -0.5604953422976289 and parameters: {'n_estimators': 156, 'learning_rate': 0.64898045870033, 'algorithm': 'SAMME', 'max_depth': 5}. Best is trial 0 with value: -0.5887698504707943.\n"
          ]
        },
        {
          "name": "stdout",
          "output_type": "stream",
          "text": [
            "Trial 1: AUC macro=0.56050, params={'n_estimators': 156, 'learning_rate': 0.64898045870033, 'algorithm': 'SAMME', 'max_depth': 5}\n"
          ]
        },
        {
          "name": "stderr",
          "output_type": "stream",
          "text": [
            "[I 2025-06-20 21:17:53,522] Trial 2 finished with value: -0.5695400199972602 and parameters: {'n_estimators': 314, 'learning_rate': 0.47010630239686935, 'algorithm': 'SAMME', 'max_depth': 5}. Best is trial 0 with value: -0.5887698504707943.\n"
          ]
        },
        {
          "name": "stdout",
          "output_type": "stream",
          "text": [
            "Trial 2: AUC macro=0.56954, params={'n_estimators': 314, 'learning_rate': 0.47010630239686935, 'algorithm': 'SAMME', 'max_depth': 5}\n"
          ]
        },
        {
          "name": "stderr",
          "output_type": "stream",
          "text": [
            "[I 2025-06-20 21:24:18,746] Trial 3 finished with value: -0.5140141523452495 and parameters: {'n_estimators': 78, 'learning_rate': 0.8415140093882649, 'algorithm': 'SAMME.R', 'max_depth': 4}. Best is trial 0 with value: -0.5887698504707943.\n"
          ]
        },
        {
          "name": "stdout",
          "output_type": "stream",
          "text": [
            "Trial 3: AUC macro=0.51401, params={'n_estimators': 78, 'learning_rate': 0.8415140093882649, 'algorithm': 'SAMME.R', 'max_depth': 4}\n"
          ]
        },
        {
          "name": "stderr",
          "output_type": "stream",
          "text": [
            "[I 2025-06-20 21:27:07,859] Trial 4 finished with value: -0.5830685535025147 and parameters: {'n_estimators': 145, 'learning_rate': 0.042615200374380754, 'algorithm': 'SAMME', 'max_depth': 5}. Best is trial 0 with value: -0.5887698504707943.\n"
          ]
        },
        {
          "name": "stdout",
          "output_type": "stream",
          "text": [
            "Trial 4: AUC macro=0.58307, params={'n_estimators': 145, 'learning_rate': 0.042615200374380754, 'algorithm': 'SAMME', 'max_depth': 5}\n"
          ]
        },
        {
          "name": "stderr",
          "output_type": "stream",
          "text": [
            "[I 2025-06-20 21:33:58,516] Trial 5 finished with value: -0.5524933070990474 and parameters: {'n_estimators': 82, 'learning_rate': 0.12145248372924118, 'algorithm': 'SAMME.R', 'max_depth': 4}. Best is trial 0 with value: -0.5887698504707943.\n"
          ]
        },
        {
          "name": "stdout",
          "output_type": "stream",
          "text": [
            "Trial 5: AUC macro=0.55249, params={'n_estimators': 82, 'learning_rate': 0.12145248372924118, 'algorithm': 'SAMME.R', 'max_depth': 4}\n"
          ]
        },
        {
          "name": "stderr",
          "output_type": "stream",
          "text": [
            "[I 2025-06-20 21:50:22,845] Trial 6 finished with value: -0.5083349421003825 and parameters: {'n_estimators': 160, 'learning_rate': 0.8628296852742928, 'algorithm': 'SAMME.R', 'max_depth': 5}. Best is trial 0 with value: -0.5887698504707943.\n"
          ]
        },
        {
          "name": "stdout",
          "output_type": "stream",
          "text": [
            "Trial 6: AUC macro=0.50833, params={'n_estimators': 160, 'learning_rate': 0.8628296852742928, 'algorithm': 'SAMME.R', 'max_depth': 5}\n"
          ]
        },
        {
          "name": "stderr",
          "output_type": "stream",
          "text": [
            "[I 2025-06-20 21:53:48,831] Trial 7 finished with value: -0.5737505801547212 and parameters: {'n_estimators': 154, 'learning_rate': 0.7519411338093598, 'algorithm': 'SAMME.R', 'max_depth': 1}. Best is trial 0 with value: -0.5887698504707943.\n"
          ]
        },
        {
          "name": "stdout",
          "output_type": "stream",
          "text": [
            "Trial 7: AUC macro=0.57375, params={'n_estimators': 154, 'learning_rate': 0.7519411338093598, 'algorithm': 'SAMME.R', 'max_depth': 1}\n"
          ]
        },
        {
          "name": "stderr",
          "output_type": "stream",
          "text": [
            "[I 2025-06-20 21:54:11,346] Trial 8 finished with value: -0.5734661330170037 and parameters: {'n_estimators': 314, 'learning_rate': 0.24503865685290102, 'algorithm': 'SAMME', 'max_depth': 3}. Best is trial 0 with value: -0.5887698504707943.\n"
          ]
        },
        {
          "name": "stdout",
          "output_type": "stream",
          "text": [
            "Trial 8: AUC macro=0.57347, params={'n_estimators': 314, 'learning_rate': 0.24503865685290102, 'algorithm': 'SAMME', 'max_depth': 3}\n"
          ]
        },
        {
          "name": "stderr",
          "output_type": "stream",
          "text": [
            "[I 2025-06-20 22:27:20,419] Trial 9 finished with value: -0.5133203717906353 and parameters: {'n_estimators': 397, 'learning_rate': 0.1253592234085515, 'algorithm': 'SAMME.R', 'max_depth': 4}. Best is trial 0 with value: -0.5887698504707943.\n"
          ]
        },
        {
          "name": "stdout",
          "output_type": "stream",
          "text": [
            "Trial 9: AUC macro=0.51332, params={'n_estimators': 397, 'learning_rate': 0.1253592234085515, 'algorithm': 'SAMME.R', 'max_depth': 4}\n"
          ]
        },
        {
          "name": "stderr",
          "output_type": "stream",
          "text": [
            "[I 2025-06-20 22:32:28,608] Trial 10 finished with value: -0.5797082315051044 and parameters: {'n_estimators': 227, 'learning_rate': 0.3860639554921159, 'algorithm': 'SAMME.R', 'max_depth': 1}. Best is trial 0 with value: -0.5887698504707943.\n"
          ]
        },
        {
          "name": "stdout",
          "output_type": "stream",
          "text": [
            "Trial 10: AUC macro=0.57971, params={'n_estimators': 227, 'learning_rate': 0.3860639554921159, 'algorithm': 'SAMME.R', 'max_depth': 1}\n"
          ]
        },
        {
          "name": "stderr",
          "output_type": "stream",
          "text": [
            "[I 2025-06-20 22:33:33,085] Trial 11 finished with value: -0.5827108396319816 and parameters: {'n_estimators': 51, 'learning_rate': 0.03387779109578576, 'algorithm': 'SAMME', 'max_depth': 2}. Best is trial 0 with value: -0.5887698504707943.\n"
          ]
        },
        {
          "name": "stdout",
          "output_type": "stream",
          "text": [
            "Trial 11: AUC macro=0.58271, params={'n_estimators': 51, 'learning_rate': 0.03387779109578576, 'algorithm': 'SAMME', 'max_depth': 2}\n"
          ]
        },
        {
          "name": "stderr",
          "output_type": "stream",
          "text": [
            "[I 2025-06-20 22:33:43,490] Trial 12 finished with value: -0.5577226956771961 and parameters: {'n_estimators': 123, 'learning_rate': 0.31455277076926086, 'algorithm': 'SAMME', 'max_depth': 2}. Best is trial 0 with value: -0.5887698504707943.\n"
          ]
        },
        {
          "name": "stdout",
          "output_type": "stream",
          "text": [
            "Trial 12: AUC macro=0.55772, params={'n_estimators': 123, 'learning_rate': 0.31455277076926086, 'algorithm': 'SAMME', 'max_depth': 2}\n"
          ]
        },
        {
          "name": "stderr",
          "output_type": "stream",
          "text": [
            "[I 2025-06-20 22:33:51,545] Trial 13 finished with value: -0.5374901643196012 and parameters: {'n_estimators': 210, 'learning_rate': 0.5522023817115899, 'algorithm': 'SAMME', 'max_depth': 2}. Best is trial 0 with value: -0.5887698504707943.\n"
          ]
        },
        {
          "name": "stdout",
          "output_type": "stream",
          "text": [
            "Trial 13: AUC macro=0.53749, params={'n_estimators': 210, 'learning_rate': 0.5522023817115899, 'algorithm': 'SAMME', 'max_depth': 2}\n"
          ]
        },
        {
          "name": "stderr",
          "output_type": "stream",
          "text": [
            "[I 2025-06-20 22:47:28,226] Trial 14 finished with value: -0.528848138737086 and parameters: {'n_estimators': 207, 'learning_rate': 0.23056942397023106, 'algorithm': 'SAMME.R', 'max_depth': 3}. Best is trial 0 with value: -0.5887698504707943.\n"
          ]
        },
        {
          "name": "stdout",
          "output_type": "stream",
          "text": [
            "Trial 14: AUC macro=0.52885, params={'n_estimators': 207, 'learning_rate': 0.23056942397023106, 'algorithm': 'SAMME.R', 'max_depth': 3}\n"
          ]
        },
        {
          "name": "stderr",
          "output_type": "stream",
          "text": [
            "[I 2025-06-20 22:47:39,154] Trial 15 finished with value: -0.5502819189271307 and parameters: {'n_estimators': 114, 'learning_rate': 0.9649425270775939, 'algorithm': 'SAMME', 'max_depth': 3}. Best is trial 0 with value: -0.5887698504707943.\n"
          ]
        },
        {
          "name": "stdout",
          "output_type": "stream",
          "text": [
            "Trial 15: AUC macro=0.55028, params={'n_estimators': 114, 'learning_rate': 0.9649425270775939, 'algorithm': 'SAMME', 'max_depth': 3}\n"
          ]
        },
        {
          "name": "stderr",
          "output_type": "stream",
          "text": [
            "[I 2025-06-20 22:53:21,832] Trial 16 finished with value: -0.5724846722960522 and parameters: {'n_estimators': 254, 'learning_rate': 0.5374234443322538, 'algorithm': 'SAMME.R', 'max_depth': 1}. Best is trial 0 with value: -0.5887698504707943.\n"
          ]
        },
        {
          "name": "stdout",
          "output_type": "stream",
          "text": [
            "Trial 16: AUC macro=0.57248, params={'n_estimators': 254, 'learning_rate': 0.5374234443322538, 'algorithm': 'SAMME.R', 'max_depth': 1}\n"
          ]
        },
        {
          "name": "stderr",
          "output_type": "stream",
          "text": [
            "[I 2025-06-20 22:55:43,023] Trial 17 finished with value: -0.5810552751871212 and parameters: {'n_estimators': 123, 'learning_rate': 0.01588823854481063, 'algorithm': 'SAMME', 'max_depth': 2}. Best is trial 0 with value: -0.5887698504707943.\n"
          ]
        },
        {
          "name": "stdout",
          "output_type": "stream",
          "text": [
            "Trial 17: AUC macro=0.58106, params={'n_estimators': 123, 'learning_rate': 0.01588823854481063, 'algorithm': 'SAMME', 'max_depth': 2}\n"
          ]
        },
        {
          "name": "stderr",
          "output_type": "stream",
          "text": [
            "[I 2025-06-20 23:10:45,373] Trial 18 finished with value: -0.5182696963750363 and parameters: {'n_estimators': 180, 'learning_rate': 0.42581198525511077, 'algorithm': 'SAMME.R', 'max_depth': 4}. Best is trial 0 with value: -0.5887698504707943.\n"
          ]
        },
        {
          "name": "stdout",
          "output_type": "stream",
          "text": [
            "Trial 18: AUC macro=0.51827, params={'n_estimators': 180, 'learning_rate': 0.42581198525511077, 'algorithm': 'SAMME.R', 'max_depth': 4}\n"
          ]
        },
        {
          "name": "stderr",
          "output_type": "stream",
          "text": [
            "[I 2025-06-20 23:10:48,182] Trial 19 finished with value: -0.5443716752084365 and parameters: {'n_estimators': 91, 'learning_rate': 0.6544122995041686, 'algorithm': 'SAMME', 'max_depth': 1}. Best is trial 0 with value: -0.5887698504707943.\n"
          ]
        },
        {
          "name": "stdout",
          "output_type": "stream",
          "text": [
            "Trial 19: AUC macro=0.54437, params={'n_estimators': 91, 'learning_rate': 0.6544122995041686, 'algorithm': 'SAMME', 'max_depth': 1}\n"
          ]
        },
        {
          "name": "stderr",
          "output_type": "stream",
          "text": [
            "[I 2025-06-20 23:11:08,374] Trial 20 finished with value: -0.5625284042212563 and parameters: {'n_estimators': 253, 'learning_rate': 0.3225007858884429, 'algorithm': 'SAMME', 'max_depth': 3}. Best is trial 0 with value: -0.5887698504707943.\n"
          ]
        },
        {
          "name": "stdout",
          "output_type": "stream",
          "text": [
            "Trial 20: AUC macro=0.56253, params={'n_estimators': 253, 'learning_rate': 0.3225007858884429, 'algorithm': 'SAMME', 'max_depth': 3}\n"
          ]
        },
        {
          "name": "stderr",
          "output_type": "stream",
          "text": [
            "[I 2025-06-20 23:12:29,954] Trial 21 finished with value: -0.5840099789242328 and parameters: {'n_estimators': 52, 'learning_rate': 0.02833023451193528, 'algorithm': 'SAMME', 'max_depth': 2}. Best is trial 0 with value: -0.5887698504707943.\n"
          ]
        },
        {
          "name": "stdout",
          "output_type": "stream",
          "text": [
            "Trial 21: AUC macro=0.58401, params={'n_estimators': 52, 'learning_rate': 0.02833023451193528, 'algorithm': 'SAMME', 'max_depth': 2}\n"
          ]
        },
        {
          "name": "stderr",
          "output_type": "stream",
          "text": [
            "[I 2025-06-20 23:12:44,788] Trial 22 finished with value: -0.5738317524685744 and parameters: {'n_estimators': 76, 'learning_rate': 0.14666113513040024, 'algorithm': 'SAMME', 'max_depth': 2}. Best is trial 0 with value: -0.5887698504707943.\n"
          ]
        },
        {
          "name": "stdout",
          "output_type": "stream",
          "text": [
            "Trial 22: AUC macro=0.57383, params={'n_estimators': 76, 'learning_rate': 0.14666113513040024, 'algorithm': 'SAMME', 'max_depth': 2}\n"
          ]
        },
        {
          "name": "stderr",
          "output_type": "stream",
          "text": [
            "[I 2025-06-20 23:12:50,332] Trial 23 finished with value: -0.5722271451778237 and parameters: {'n_estimators': 55, 'learning_rate': 0.20684355421748152, 'algorithm': 'SAMME', 'max_depth': 1}. Best is trial 0 with value: -0.5887698504707943.\n"
          ]
        },
        {
          "name": "stdout",
          "output_type": "stream",
          "text": [
            "Trial 23: AUC macro=0.57223, params={'n_estimators': 55, 'learning_rate': 0.20684355421748152, 'algorithm': 'SAMME', 'max_depth': 1}\n"
          ]
        },
        {
          "name": "stderr",
          "output_type": "stream",
          "text": [
            "[I 2025-06-20 23:14:48,765] Trial 24 finished with value: -0.5764599297591275 and parameters: {'n_estimators': 113, 'learning_rate': 0.08745503637017002, 'algorithm': 'SAMME', 'max_depth': 2}. Best is trial 0 with value: -0.5887698504707943.\n"
          ]
        },
        {
          "name": "stdout",
          "output_type": "stream",
          "text": [
            "Trial 24: AUC macro=0.57646, params={'n_estimators': 113, 'learning_rate': 0.08745503637017002, 'algorithm': 'SAMME', 'max_depth': 2}\n"
          ]
        },
        {
          "name": "stderr",
          "output_type": "stream",
          "text": [
            "[I 2025-06-20 23:14:53,701] Trial 25 finished with value: -0.5700088502660432 and parameters: {'n_estimators': 142, 'learning_rate': 0.2929390683068624, 'algorithm': 'SAMME', 'max_depth': 1}. Best is trial 0 with value: -0.5887698504707943.\n"
          ]
        },
        {
          "name": "stdout",
          "output_type": "stream",
          "text": [
            "Trial 25: AUC macro=0.57001, params={'n_estimators': 142, 'learning_rate': 0.2929390683068624, 'algorithm': 'SAMME', 'max_depth': 1}\n"
          ]
        },
        {
          "name": "stderr",
          "output_type": "stream",
          "text": [
            "[I 2025-06-20 23:17:17,065] Trial 26 finished with value: -0.5948207598501845 and parameters: {'n_estimators': 56, 'learning_rate': 0.02377857941227139, 'algorithm': 'SAMME.R', 'max_depth': 2}. Best is trial 26 with value: -0.5948207598501845.\n"
          ]
        },
        {
          "name": "stdout",
          "output_type": "stream",
          "text": [
            "Trial 26: AUC macro=0.59482, params={'n_estimators': 56, 'learning_rate': 0.02377857941227139, 'algorithm': 'SAMME.R', 'max_depth': 2}\n"
          ]
        },
        {
          "name": "stderr",
          "output_type": "stream",
          "text": [
            "[I 2025-06-20 23:19:37,168] Trial 27 finished with value: -0.5928052047126553 and parameters: {'n_estimators': 54, 'learning_rate': 0.1794519668349274, 'algorithm': 'SAMME.R', 'max_depth': 2}. Best is trial 26 with value: -0.5948207598501845.\n"
          ]
        },
        {
          "name": "stdout",
          "output_type": "stream",
          "text": [
            "Trial 27: AUC macro=0.59281, params={'n_estimators': 54, 'learning_rate': 0.1794519668349274, 'algorithm': 'SAMME.R', 'max_depth': 2}\n"
          ]
        },
        {
          "name": "stderr",
          "output_type": "stream",
          "text": [
            "[I 2025-06-20 23:21:44,495] Trial 28 finished with value: -0.5925491347883183 and parameters: {'n_estimators': 97, 'learning_rate': 0.3817173404718121, 'algorithm': 'SAMME.R', 'max_depth': 1}. Best is trial 26 with value: -0.5948207598501845.\n"
          ]
        },
        {
          "name": "stdout",
          "output_type": "stream",
          "text": [
            "Trial 28: AUC macro=0.59255, params={'n_estimators': 97, 'learning_rate': 0.3817173404718121, 'algorithm': 'SAMME.R', 'max_depth': 1}\n"
          ]
        },
        {
          "name": "stderr",
          "output_type": "stream",
          "text": [
            "[I 2025-06-20 23:26:03,437] Trial 29 finished with value: -0.5879803327793509 and parameters: {'n_estimators': 102, 'learning_rate': 0.17407413860692944, 'algorithm': 'SAMME.R', 'max_depth': 2}. Best is trial 26 with value: -0.5948207598501845.\n"
          ]
        },
        {
          "name": "stdout",
          "output_type": "stream",
          "text": [
            "Trial 29: AUC macro=0.58798, params={'n_estimators': 102, 'learning_rate': 0.17407413860692944, 'algorithm': 'SAMME.R', 'max_depth': 2}\n"
          ]
        },
        {
          "name": "stderr",
          "output_type": "stream",
          "text": [
            "[I 2025-06-20 23:27:36,092] Trial 30 finished with value: -0.5980751682357098 and parameters: {'n_estimators': 70, 'learning_rate': 0.3585353856556902, 'algorithm': 'SAMME.R', 'max_depth': 1}. Best is trial 30 with value: -0.5980751682357098.\n"
          ]
        },
        {
          "name": "stdout",
          "output_type": "stream",
          "text": [
            "Trial 30: AUC macro=0.59808, params={'n_estimators': 70, 'learning_rate': 0.3585353856556902, 'algorithm': 'SAMME.R', 'max_depth': 1}\n"
          ]
        },
        {
          "name": "stderr",
          "output_type": "stream",
          "text": [
            "[I 2025-06-20 23:29:05,610] Trial 31 finished with value: -0.5991008657871941 and parameters: {'n_estimators': 66, 'learning_rate': 0.36255443347549476, 'algorithm': 'SAMME.R', 'max_depth': 1}. Best is trial 31 with value: -0.5991008657871941.\n"
          ]
        },
        {
          "name": "stdout",
          "output_type": "stream",
          "text": [
            "Trial 31: AUC macro=0.59910, params={'n_estimators': 66, 'learning_rate': 0.36255443347549476, 'algorithm': 'SAMME.R', 'max_depth': 1}\n"
          ]
        },
        {
          "name": "stderr",
          "output_type": "stream",
          "text": [
            "[I 2025-06-20 23:30:41,308] Trial 32 finished with value: -0.601777648511093 and parameters: {'n_estimators': 71, 'learning_rate': 0.2653186668471875, 'algorithm': 'SAMME.R', 'max_depth': 1}. Best is trial 32 with value: -0.601777648511093.\n"
          ]
        },
        {
          "name": "stdout",
          "output_type": "stream",
          "text": [
            "Trial 32: AUC macro=0.60178, params={'n_estimators': 71, 'learning_rate': 0.2653186668471875, 'algorithm': 'SAMME.R', 'max_depth': 1}\n"
          ]
        },
        {
          "name": "stderr",
          "output_type": "stream",
          "text": [
            "[I 2025-06-20 23:32:13,732] Trial 33 finished with value: -0.5968231753227119 and parameters: {'n_estimators': 69, 'learning_rate': 0.45377868858953857, 'algorithm': 'SAMME.R', 'max_depth': 1}. Best is trial 32 with value: -0.601777648511093.\n"
          ]
        },
        {
          "name": "stdout",
          "output_type": "stream",
          "text": [
            "Trial 33: AUC macro=0.59682, params={'n_estimators': 69, 'learning_rate': 0.45377868858953857, 'algorithm': 'SAMME.R', 'max_depth': 1}\n"
          ]
        },
        {
          "name": "stderr",
          "output_type": "stream",
          "text": [
            "[I 2025-06-20 23:33:55,128] Trial 34 finished with value: -0.5885254947072491 and parameters: {'n_estimators': 76, 'learning_rate': 0.4984503853381146, 'algorithm': 'SAMME.R', 'max_depth': 1}. Best is trial 32 with value: -0.601777648511093.\n"
          ]
        },
        {
          "name": "stdout",
          "output_type": "stream",
          "text": [
            "Trial 34: AUC macro=0.58853, params={'n_estimators': 76, 'learning_rate': 0.4984503853381146, 'algorithm': 'SAMME.R', 'max_depth': 1}\n"
          ]
        },
        {
          "name": "stderr",
          "output_type": "stream",
          "text": [
            "[I 2025-06-20 23:35:36,540] Trial 35 finished with value: -0.5889216598662621 and parameters: {'n_estimators': 76, 'learning_rate': 0.4293552419274944, 'algorithm': 'SAMME.R', 'max_depth': 1}. Best is trial 32 with value: -0.601777648511093.\n"
          ]
        },
        {
          "name": "stdout",
          "output_type": "stream",
          "text": [
            "Trial 35: AUC macro=0.58892, params={'n_estimators': 76, 'learning_rate': 0.4293552419274944, 'algorithm': 'SAMME.R', 'max_depth': 1}\n"
          ]
        },
        {
          "name": "stderr",
          "output_type": "stream",
          "text": [
            "[I 2025-06-20 23:38:25,031] Trial 36 finished with value: -0.5861058347977547 and parameters: {'n_estimators': 127, 'learning_rate': 0.6031267001847785, 'algorithm': 'SAMME.R', 'max_depth': 1}. Best is trial 32 with value: -0.601777648511093.\n"
          ]
        },
        {
          "name": "stdout",
          "output_type": "stream",
          "text": [
            "Trial 36: AUC macro=0.58611, params={'n_estimators': 127, 'learning_rate': 0.6031267001847785, 'algorithm': 'SAMME.R', 'max_depth': 1}\n"
          ]
        },
        {
          "name": "stderr",
          "output_type": "stream",
          "text": [
            "[I 2025-06-20 23:42:20,050] Trial 37 finished with value: -0.5846342020262679 and parameters: {'n_estimators': 177, 'learning_rate': 0.36813094327877394, 'algorithm': 'SAMME.R', 'max_depth': 1}. Best is trial 32 with value: -0.601777648511093.\n"
          ]
        },
        {
          "name": "stdout",
          "output_type": "stream",
          "text": [
            "Trial 37: AUC macro=0.58463, params={'n_estimators': 177, 'learning_rate': 0.36813094327877394, 'algorithm': 'SAMME.R', 'max_depth': 1}\n"
          ]
        },
        {
          "name": "stderr",
          "output_type": "stream",
          "text": [
            "[I 2025-06-20 23:44:28,764] Trial 38 finished with value: -0.5907063089593177 and parameters: {'n_estimators': 97, 'learning_rate': 0.4595099160102747, 'algorithm': 'SAMME.R', 'max_depth': 1}. Best is trial 32 with value: -0.601777648511093.\n"
          ]
        },
        {
          "name": "stdout",
          "output_type": "stream",
          "text": [
            "Trial 38: AUC macro=0.59071, params={'n_estimators': 97, 'learning_rate': 0.4595099160102747, 'algorithm': 'SAMME.R', 'max_depth': 1}\n"
          ]
        },
        {
          "name": "stderr",
          "output_type": "stream",
          "text": [
            "[I 2025-06-20 23:51:23,840] Trial 39 finished with value: -0.5750689089221127 and parameters: {'n_estimators': 313, 'learning_rate': 0.2967610282973696, 'algorithm': 'SAMME.R', 'max_depth': 1}. Best is trial 32 with value: -0.601777648511093.\n"
          ]
        },
        {
          "name": "stdout",
          "output_type": "stream",
          "text": [
            "Trial 39: AUC macro=0.57507, params={'n_estimators': 313, 'learning_rate': 0.2967610282973696, 'algorithm': 'SAMME.R', 'max_depth': 1}\n"
          ]
        },
        {
          "name": "stderr",
          "output_type": "stream",
          "text": [
            "[I 2025-06-20 23:52:57,303] Trial 40 finished with value: -0.602085084507748 and parameters: {'n_estimators': 70, 'learning_rate': 0.2503319143093598, 'algorithm': 'SAMME.R', 'max_depth': 1}. Best is trial 40 with value: -0.602085084507748.\n"
          ]
        },
        {
          "name": "stdout",
          "output_type": "stream",
          "text": [
            "Trial 40: AUC macro=0.60209, params={'n_estimators': 70, 'learning_rate': 0.2503319143093598, 'algorithm': 'SAMME.R', 'max_depth': 1}\n"
          ]
        },
        {
          "name": "stderr",
          "output_type": "stream",
          "text": [
            "[I 2025-06-20 23:54:38,792] Trial 41 finished with value: -0.6019016508876824 and parameters: {'n_estimators': 76, 'learning_rate': 0.27367690563047514, 'algorithm': 'SAMME.R', 'max_depth': 1}. Best is trial 40 with value: -0.602085084507748.\n"
          ]
        },
        {
          "name": "stdout",
          "output_type": "stream",
          "text": [
            "Trial 41: AUC macro=0.60190, params={'n_estimators': 76, 'learning_rate': 0.27367690563047514, 'algorithm': 'SAMME.R', 'max_depth': 1}\n"
          ]
        },
        {
          "name": "stderr",
          "output_type": "stream",
          "text": [
            "[I 2025-06-20 23:56:35,712] Trial 42 finished with value: -0.6017330488396371 and parameters: {'n_estimators': 87, 'learning_rate': 0.23962211835112646, 'algorithm': 'SAMME.R', 'max_depth': 1}. Best is trial 40 with value: -0.602085084507748.\n"
          ]
        },
        {
          "name": "stdout",
          "output_type": "stream",
          "text": [
            "Trial 42: AUC macro=0.60173, params={'n_estimators': 87, 'learning_rate': 0.23962211835112646, 'algorithm': 'SAMME.R', 'max_depth': 1}\n"
          ]
        },
        {
          "name": "stderr",
          "output_type": "stream",
          "text": [
            "[I 2025-06-20 23:59:40,829] Trial 43 finished with value: -0.5933505609158848 and parameters: {'n_estimators': 137, 'learning_rate': 0.24957627854687578, 'algorithm': 'SAMME.R', 'max_depth': 1}. Best is trial 40 with value: -0.602085084507748.\n"
          ]
        },
        {
          "name": "stdout",
          "output_type": "stream",
          "text": [
            "Trial 43: AUC macro=0.59335, params={'n_estimators': 137, 'learning_rate': 0.24957627854687578, 'algorithm': 'SAMME.R', 'max_depth': 1}\n"
          ]
        },
        {
          "name": "stderr",
          "output_type": "stream",
          "text": [
            "[I 2025-06-21 00:01:45,005] Trial 44 finished with value: -0.5979155246191242 and parameters: {'n_estimators': 90, 'learning_rate': 0.28101201515480995, 'algorithm': 'SAMME.R', 'max_depth': 1}. Best is trial 40 with value: -0.602085084507748.\n"
          ]
        },
        {
          "name": "stdout",
          "output_type": "stream",
          "text": [
            "Trial 44: AUC macro=0.59792, params={'n_estimators': 90, 'learning_rate': 0.28101201515480995, 'algorithm': 'SAMME.R', 'max_depth': 1}\n"
          ]
        },
        {
          "name": "stderr",
          "output_type": "stream",
          "text": [
            "[I 2025-06-21 00:04:14,459] Trial 45 finished with value: -0.6036657196940014 and parameters: {'n_estimators': 110, 'learning_rate': 0.08755262248308043, 'algorithm': 'SAMME.R', 'max_depth': 1}. Best is trial 45 with value: -0.6036657196940014.\n"
          ]
        },
        {
          "name": "stdout",
          "output_type": "stream",
          "text": [
            "Trial 45: AUC macro=0.60367, params={'n_estimators': 110, 'learning_rate': 0.08755262248308043, 'algorithm': 'SAMME.R', 'max_depth': 1}\n"
          ]
        },
        {
          "name": "stderr",
          "output_type": "stream",
          "text": [
            "[I 2025-06-21 00:11:33,767] Trial 46 finished with value: -0.5803295038528683 and parameters: {'n_estimators': 170, 'learning_rate': 0.11732160153964555, 'algorithm': 'SAMME.R', 'max_depth': 2}. Best is trial 45 with value: -0.6036657196940014.\n"
          ]
        },
        {
          "name": "stdout",
          "output_type": "stream",
          "text": [
            "Trial 46: AUC macro=0.58033, params={'n_estimators': 170, 'learning_rate': 0.11732160153964555, 'algorithm': 'SAMME.R', 'max_depth': 2}\n"
          ]
        },
        {
          "name": "stderr",
          "output_type": "stream",
          "text": [
            "[I 2025-06-21 00:13:51,352] Trial 47 finished with value: -0.6032405612414357 and parameters: {'n_estimators': 102, 'learning_rate': 0.08334981132826136, 'algorithm': 'SAMME.R', 'max_depth': 1}. Best is trial 45 with value: -0.6036657196940014.\n"
          ]
        },
        {
          "name": "stdout",
          "output_type": "stream",
          "text": [
            "Trial 47: AUC macro=0.60324, params={'n_estimators': 102, 'learning_rate': 0.08334981132826136, 'algorithm': 'SAMME.R', 'max_depth': 1}\n"
          ]
        },
        {
          "name": "stderr",
          "output_type": "stream",
          "text": [
            "[I 2025-06-21 00:17:25,178] Trial 48 finished with value: -0.6034432276783492 and parameters: {'n_estimators': 158, 'learning_rate': 0.07692797990047558, 'algorithm': 'SAMME.R', 'max_depth': 1}. Best is trial 45 with value: -0.6036657196940014.\n"
          ]
        },
        {
          "name": "stdout",
          "output_type": "stream",
          "text": [
            "Trial 48: AUC macro=0.60344, params={'n_estimators': 158, 'learning_rate': 0.07692797990047558, 'algorithm': 'SAMME.R', 'max_depth': 1}\n"
          ]
        },
        {
          "name": "stderr",
          "output_type": "stream",
          "text": [
            "[I 2025-06-21 00:29:18,187] Trial 49 finished with value: -0.5365992530738202 and parameters: {'n_estimators': 114, 'learning_rate': 0.08101181175928394, 'algorithm': 'SAMME.R', 'max_depth': 5}. Best is trial 45 with value: -0.6036657196940014.\n"
          ]
        },
        {
          "name": "stdout",
          "output_type": "stream",
          "text": [
            "Trial 49: AUC macro=0.53660, params={'n_estimators': 114, 'learning_rate': 0.08101181175928394, 'algorithm': 'SAMME.R', 'max_depth': 5}\n",
            "Best AUC macro (AdaBoost): 0.6036657196940014\n",
            "Best params (AdaBoost): {'n_estimators': 110, 'learning_rate': 0.08755262248308043, 'algorithm': 'SAMME.R', 'max_depth': 1}\n"
          ]
        }
      ],
      "source": [
        "print(\"Tuning AdaBoostClassifier with Optuna (AUC macro) ta + fa features only\")\n",
        "\n",
        "def objective_adaboost(trial):\n",
        "    params = {\n",
        "        \"n_estimators\": trial.suggest_int(\"n_estimators\", 50, 400),\n",
        "        \"learning_rate\": trial.suggest_float(\"learning_rate\", 0.01, 1.0),\n",
        "        \"algorithm\": trial.suggest_categorical(\"algorithm\", [\"SAMME\", \"SAMME.R\"]),\n",
        "        # Nếu muốn giảm mất cân bằng, có thể dùng estimator có class_weight:\n",
        "        \"estimator\": DecisionTreeClassifier(max_depth=trial.suggest_int(\"max_depth\", 1, 5), class_weight=\"balanced\"),\n",
        "        \"random_state\": 42,\n",
        "    }\n",
        "\n",
        "    aucs = []\n",
        "    for train_idx, val_idx in folds:\n",
        "        X_train, X_val = X_no_sa[train_idx], X_no_sa[val_idx]\n",
        "        y_train_fold, y_val_fold = y.iloc[train_idx], y.iloc[val_idx]\n",
        "        model = AdaBoostClassifier(**params)\n",
        "        model.fit(X_train, y_train_fold)\n",
        "        # One-hot encode y_val_fold\n",
        "        y_val_bin = label_binarize(y_val_fold, classes=[0,1,2])\n",
        "        y_pred_proba = model.predict_proba(X_val)\n",
        "        # Nếu predict_proba trả về list (multioutput), cần stack lại\n",
        "        if isinstance(y_pred_proba, list):\n",
        "            y_pred_proba = np.stack([p[:,1] for p in y_pred_proba], axis=1)\n",
        "        auc_macro = roc_auc_score(y_val_bin, y_pred_proba, average=\"macro\", multi_class=\"ovr\")\n",
        "        aucs.append(auc_macro)\n",
        "    mean_auc = np.mean(aucs)\n",
        "    print(f\"Trial {trial.number}: AUC macro={mean_auc:.5f}, params={trial.params}\")\n",
        "    # Optuna sẽ maximize AUC macro\n",
        "    return -mean_auc\n",
        "\n",
        "study = optuna.create_study(direction=\"minimize\")\n",
        "study.optimize(objective_adaboost, n_trials=50)\n",
        "\n",
        "print(\"Best AUC macro (AdaBoost):\", -study.best_value)\n",
        "print(\"Best params (AdaBoost):\", study.best_trial.params)"
      ]
    },
    {
      "cell_type": "markdown",
      "metadata": {
        "id": "STCdOEMEAdIZ"
      },
      "source": [
        "Tuning random forest for stock trend with ta + fa + sa data"
      ]
    },
    {
      "cell_type": "markdown",
      "metadata": {
        "id": "fB8JpvL86Xeg"
      },
      "source": []
    }
  ],
  "metadata": {
    "colab": {
      "name": "AdaBoost_bayes_optimization_out_perf_vn30_no_sa",
      "provenance": []
    },
    "kaggle": {
      "accelerator": "gpu",
      "dataSources": [
        {
          "datasetId": 7701863,
          "sourceId": 12224622,
          "sourceType": "datasetVersion"
        },
        {
          "datasetId": 7693714,
          "sourceId": 12212944,
          "sourceType": "datasetVersion"
        }
      ],
      "dockerImageVersionId": 31041,
      "isGpuEnabled": true,
      "isInternetEnabled": true,
      "language": "python",
      "sourceType": "notebook"
    },
    "kernelspec": {
      "display_name": "Python 3",
      "language": "python",
      "name": "python3"
    },
    "language_info": {
      "codemirror_mode": {
        "name": "ipython",
        "version": 3
      },
      "file_extension": ".py",
      "mimetype": "text/x-python",
      "name": "python",
      "nbconvert_exporter": "python",
      "pygments_lexer": "ipython3",
      "version": "3.11.11"
    }
  },
  "nbformat": 4,
  "nbformat_minor": 0
}
