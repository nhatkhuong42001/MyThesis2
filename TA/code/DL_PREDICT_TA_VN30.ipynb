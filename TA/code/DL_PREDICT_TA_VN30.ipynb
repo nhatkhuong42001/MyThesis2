{
  "nbformat": 4,
  "nbformat_minor": 0,
  "metadata": {
    "colab": {
      "provenance": []
    },
    "kernelspec": {
      "name": "python3",
      "display_name": "Python 3"
    },
    "language_info": {
      "name": "python"
    }
  },
  "cells": [
    {
      "cell_type": "code",
      "execution_count": 1,
      "metadata": {
        "colab": {
          "base_uri": "https://localhost:8080/"
        },
        "id": "Okm4_Fz0m1-2",
        "outputId": "bc3efdf2-7b40-4875-aecd-2a29b17fe07d"
      },
      "outputs": [
        {
          "output_type": "stream",
          "name": "stdout",
          "text": [
            "Collecting vnstock\n",
            "  Downloading vnstock-3.2.3-py3-none-any.whl.metadata (23 kB)\n",
            "Requirement already satisfied: requests in /usr/local/lib/python3.11/dist-packages (from vnstock) (2.32.3)\n",
            "Requirement already satisfied: beautifulsoup4 in /usr/local/lib/python3.11/dist-packages (from vnstock) (4.13.3)\n",
            "Requirement already satisfied: pandas in /usr/local/lib/python3.11/dist-packages (from vnstock) (2.2.2)\n",
            "Collecting vnai>=2.0 (from vnstock)\n",
            "  Downloading vnai-2.0.2-py3-none-any.whl.metadata (1.0 kB)\n",
            "Requirement already satisfied: openpyxl in /usr/local/lib/python3.11/dist-packages (from vnstock) (3.1.5)\n",
            "Requirement already satisfied: pydantic in /usr/local/lib/python3.11/dist-packages (from vnstock) (2.11.3)\n",
            "Requirement already satisfied: psutil in /usr/local/lib/python3.11/dist-packages (from vnstock) (5.9.5)\n",
            "Collecting fake_useragent (from vnstock)\n",
            "  Downloading fake_useragent-2.2.0-py3-none-any.whl.metadata (17 kB)\n",
            "Collecting vnstock_ezchart (from vnstock)\n",
            "  Downloading vnstock_ezchart-0.0.2-py3-none-any.whl.metadata (6.6 kB)\n",
            "Requirement already satisfied: click in /usr/local/lib/python3.11/dist-packages (from vnstock) (8.1.8)\n",
            "Requirement already satisfied: seaborn in /usr/local/lib/python3.11/dist-packages (from vnstock) (0.13.2)\n",
            "Requirement already satisfied: tenacity in /usr/local/lib/python3.11/dist-packages (from vnstock) (9.1.2)\n",
            "Requirement already satisfied: charset-normalizer<4,>=2 in /usr/local/lib/python3.11/dist-packages (from requests->vnstock) (3.4.1)\n",
            "Requirement already satisfied: idna<4,>=2.5 in /usr/local/lib/python3.11/dist-packages (from requests->vnstock) (3.10)\n",
            "Requirement already satisfied: urllib3<3,>=1.21.1 in /usr/local/lib/python3.11/dist-packages (from requests->vnstock) (2.3.0)\n",
            "Requirement already satisfied: certifi>=2017.4.17 in /usr/local/lib/python3.11/dist-packages (from requests->vnstock) (2025.1.31)\n",
            "Requirement already satisfied: soupsieve>1.2 in /usr/local/lib/python3.11/dist-packages (from beautifulsoup4->vnstock) (2.6)\n",
            "Requirement already satisfied: typing-extensions>=4.0.0 in /usr/local/lib/python3.11/dist-packages (from beautifulsoup4->vnstock) (4.13.1)\n",
            "Requirement already satisfied: et-xmlfile in /usr/local/lib/python3.11/dist-packages (from openpyxl->vnstock) (2.0.0)\n",
            "Requirement already satisfied: numpy>=1.23.2 in /usr/local/lib/python3.11/dist-packages (from pandas->vnstock) (2.0.2)\n",
            "Requirement already satisfied: python-dateutil>=2.8.2 in /usr/local/lib/python3.11/dist-packages (from pandas->vnstock) (2.8.2)\n",
            "Requirement already satisfied: pytz>=2020.1 in /usr/local/lib/python3.11/dist-packages (from pandas->vnstock) (2025.2)\n",
            "Requirement already satisfied: tzdata>=2022.7 in /usr/local/lib/python3.11/dist-packages (from pandas->vnstock) (2025.2)\n",
            "Requirement already satisfied: annotated-types>=0.6.0 in /usr/local/lib/python3.11/dist-packages (from pydantic->vnstock) (0.7.0)\n",
            "Requirement already satisfied: pydantic-core==2.33.1 in /usr/local/lib/python3.11/dist-packages (from pydantic->vnstock) (2.33.1)\n",
            "Requirement already satisfied: typing-inspection>=0.4.0 in /usr/local/lib/python3.11/dist-packages (from pydantic->vnstock) (0.4.0)\n",
            "Requirement already satisfied: matplotlib!=3.6.1,>=3.4 in /usr/local/lib/python3.11/dist-packages (from seaborn->vnstock) (3.10.0)\n",
            "Collecting squarify (from vnstock_ezchart->vnstock)\n",
            "  Downloading squarify-0.4.4-py3-none-any.whl.metadata (600 bytes)\n",
            "Requirement already satisfied: wordcloud in /usr/local/lib/python3.11/dist-packages (from vnstock_ezchart->vnstock) (1.9.4)\n",
            "Requirement already satisfied: contourpy>=1.0.1 in /usr/local/lib/python3.11/dist-packages (from matplotlib!=3.6.1,>=3.4->seaborn->vnstock) (1.3.1)\n",
            "Requirement already satisfied: cycler>=0.10 in /usr/local/lib/python3.11/dist-packages (from matplotlib!=3.6.1,>=3.4->seaborn->vnstock) (0.12.1)\n",
            "Requirement already satisfied: fonttools>=4.22.0 in /usr/local/lib/python3.11/dist-packages (from matplotlib!=3.6.1,>=3.4->seaborn->vnstock) (4.57.0)\n",
            "Requirement already satisfied: kiwisolver>=1.3.1 in /usr/local/lib/python3.11/dist-packages (from matplotlib!=3.6.1,>=3.4->seaborn->vnstock) (1.4.8)\n",
            "Requirement already satisfied: packaging>=20.0 in /usr/local/lib/python3.11/dist-packages (from matplotlib!=3.6.1,>=3.4->seaborn->vnstock) (24.2)\n",
            "Requirement already satisfied: pillow>=8 in /usr/local/lib/python3.11/dist-packages (from matplotlib!=3.6.1,>=3.4->seaborn->vnstock) (11.1.0)\n",
            "Requirement already satisfied: pyparsing>=2.3.1 in /usr/local/lib/python3.11/dist-packages (from matplotlib!=3.6.1,>=3.4->seaborn->vnstock) (3.2.3)\n",
            "Requirement already satisfied: six>=1.5 in /usr/local/lib/python3.11/dist-packages (from python-dateutil>=2.8.2->pandas->vnstock) (1.17.0)\n",
            "Downloading vnstock-3.2.3-py3-none-any.whl (120 kB)\n",
            "\u001b[2K   \u001b[90m━━━━━━━━━━━━━━━━━━━━━━━━━━━━━━━━━━━━━━━━\u001b[0m \u001b[32m120.9/120.9 kB\u001b[0m \u001b[31m4.1 MB/s\u001b[0m eta \u001b[36m0:00:00\u001b[0m\n",
            "\u001b[?25hDownloading vnai-2.0.2-py3-none-any.whl (22 kB)\n",
            "Downloading fake_useragent-2.2.0-py3-none-any.whl (161 kB)\n",
            "\u001b[2K   \u001b[90m━━━━━━━━━━━━━━━━━━━━━━━━━━━━━━━━━━━━━━━━\u001b[0m \u001b[32m161.7/161.7 kB\u001b[0m \u001b[31m10.8 MB/s\u001b[0m eta \u001b[36m0:00:00\u001b[0m\n",
            "\u001b[?25hDownloading vnstock_ezchart-0.0.2-py3-none-any.whl (14 kB)\n",
            "Downloading squarify-0.4.4-py3-none-any.whl (4.1 kB)\n",
            "Installing collected packages: squarify, fake_useragent, vnai, vnstock_ezchart, vnstock\n",
            "Successfully installed fake_useragent-2.2.0 squarify-0.4.4 vnai-2.0.2 vnstock-3.2.3 vnstock_ezchart-0.0.2\n"
          ]
        }
      ],
      "source": [
        "!pip install -U vnstock"
      ]
    },
    {
      "cell_type": "code",
      "source": [
        "pip install ta"
      ],
      "metadata": {
        "colab": {
          "base_uri": "https://localhost:8080/"
        },
        "id": "wh4DI2CwnSEF",
        "outputId": "beda3d8a-98bf-4193-cda8-7cda99634b8e"
      },
      "execution_count": 2,
      "outputs": [
        {
          "output_type": "stream",
          "name": "stdout",
          "text": [
            "Collecting ta\n",
            "  Downloading ta-0.11.0.tar.gz (25 kB)\n",
            "  Preparing metadata (setup.py) ... \u001b[?25l\u001b[?25hdone\n",
            "Requirement already satisfied: numpy in /usr/local/lib/python3.11/dist-packages (from ta) (2.0.2)\n",
            "Requirement already satisfied: pandas in /usr/local/lib/python3.11/dist-packages (from ta) (2.2.2)\n",
            "Requirement already satisfied: python-dateutil>=2.8.2 in /usr/local/lib/python3.11/dist-packages (from pandas->ta) (2.8.2)\n",
            "Requirement already satisfied: pytz>=2020.1 in /usr/local/lib/python3.11/dist-packages (from pandas->ta) (2025.2)\n",
            "Requirement already satisfied: tzdata>=2022.7 in /usr/local/lib/python3.11/dist-packages (from pandas->ta) (2025.2)\n",
            "Requirement already satisfied: six>=1.5 in /usr/local/lib/python3.11/dist-packages (from python-dateutil>=2.8.2->pandas->ta) (1.17.0)\n",
            "Building wheels for collected packages: ta\n",
            "  Building wheel for ta (setup.py) ... \u001b[?25l\u001b[?25hdone\n",
            "  Created wheel for ta: filename=ta-0.11.0-py3-none-any.whl size=29412 sha256=cde6dc9ba9a950d22bc6d68487312352236c635897031fa0b0961aef1c469328\n",
            "  Stored in directory: /root/.cache/pip/wheels/a1/d7/29/7781cc5eb9a3659d032d7d15bdd0f49d07d2b24fec29f44bc4\n",
            "Successfully built ta\n",
            "Installing collected packages: ta\n",
            "Successfully installed ta-0.11.0\n"
          ]
        }
      ]
    },
    {
      "cell_type": "code",
      "source": [
        "pip install tensorflow"
      ],
      "metadata": {
        "colab": {
          "base_uri": "https://localhost:8080/"
        },
        "id": "bh2_oFeynbcj",
        "outputId": "c827621d-c139-43f2-e67e-1415a1ade62a"
      },
      "execution_count": 3,
      "outputs": [
        {
          "output_type": "stream",
          "name": "stdout",
          "text": [
            "Requirement already satisfied: tensorflow in /usr/local/lib/python3.11/dist-packages (2.18.0)\n",
            "Requirement already satisfied: absl-py>=1.0.0 in /usr/local/lib/python3.11/dist-packages (from tensorflow) (1.4.0)\n",
            "Requirement already satisfied: astunparse>=1.6.0 in /usr/local/lib/python3.11/dist-packages (from tensorflow) (1.6.3)\n",
            "Requirement already satisfied: flatbuffers>=24.3.25 in /usr/local/lib/python3.11/dist-packages (from tensorflow) (25.2.10)\n",
            "Requirement already satisfied: gast!=0.5.0,!=0.5.1,!=0.5.2,>=0.2.1 in /usr/local/lib/python3.11/dist-packages (from tensorflow) (0.6.0)\n",
            "Requirement already satisfied: google-pasta>=0.1.1 in /usr/local/lib/python3.11/dist-packages (from tensorflow) (0.2.0)\n",
            "Requirement already satisfied: libclang>=13.0.0 in /usr/local/lib/python3.11/dist-packages (from tensorflow) (18.1.1)\n",
            "Requirement already satisfied: opt-einsum>=2.3.2 in /usr/local/lib/python3.11/dist-packages (from tensorflow) (3.4.0)\n",
            "Requirement already satisfied: packaging in /usr/local/lib/python3.11/dist-packages (from tensorflow) (24.2)\n",
            "Requirement already satisfied: protobuf!=4.21.0,!=4.21.1,!=4.21.2,!=4.21.3,!=4.21.4,!=4.21.5,<6.0.0dev,>=3.20.3 in /usr/local/lib/python3.11/dist-packages (from tensorflow) (5.29.4)\n",
            "Requirement already satisfied: requests<3,>=2.21.0 in /usr/local/lib/python3.11/dist-packages (from tensorflow) (2.32.3)\n",
            "Requirement already satisfied: setuptools in /usr/local/lib/python3.11/dist-packages (from tensorflow) (75.2.0)\n",
            "Requirement already satisfied: six>=1.12.0 in /usr/local/lib/python3.11/dist-packages (from tensorflow) (1.17.0)\n",
            "Requirement already satisfied: termcolor>=1.1.0 in /usr/local/lib/python3.11/dist-packages (from tensorflow) (3.0.1)\n",
            "Requirement already satisfied: typing-extensions>=3.6.6 in /usr/local/lib/python3.11/dist-packages (from tensorflow) (4.13.1)\n",
            "Requirement already satisfied: wrapt>=1.11.0 in /usr/local/lib/python3.11/dist-packages (from tensorflow) (1.17.2)\n",
            "Requirement already satisfied: grpcio<2.0,>=1.24.3 in /usr/local/lib/python3.11/dist-packages (from tensorflow) (1.71.0)\n",
            "Requirement already satisfied: tensorboard<2.19,>=2.18 in /usr/local/lib/python3.11/dist-packages (from tensorflow) (2.18.0)\n",
            "Requirement already satisfied: keras>=3.5.0 in /usr/local/lib/python3.11/dist-packages (from tensorflow) (3.8.0)\n",
            "Requirement already satisfied: numpy<2.1.0,>=1.26.0 in /usr/local/lib/python3.11/dist-packages (from tensorflow) (2.0.2)\n",
            "Requirement already satisfied: h5py>=3.11.0 in /usr/local/lib/python3.11/dist-packages (from tensorflow) (3.13.0)\n",
            "Requirement already satisfied: ml-dtypes<0.5.0,>=0.4.0 in /usr/local/lib/python3.11/dist-packages (from tensorflow) (0.4.1)\n",
            "Requirement already satisfied: tensorflow-io-gcs-filesystem>=0.23.1 in /usr/local/lib/python3.11/dist-packages (from tensorflow) (0.37.1)\n",
            "Requirement already satisfied: wheel<1.0,>=0.23.0 in /usr/local/lib/python3.11/dist-packages (from astunparse>=1.6.0->tensorflow) (0.45.1)\n",
            "Requirement already satisfied: rich in /usr/local/lib/python3.11/dist-packages (from keras>=3.5.0->tensorflow) (13.9.4)\n",
            "Requirement already satisfied: namex in /usr/local/lib/python3.11/dist-packages (from keras>=3.5.0->tensorflow) (0.0.8)\n",
            "Requirement already satisfied: optree in /usr/local/lib/python3.11/dist-packages (from keras>=3.5.0->tensorflow) (0.15.0)\n",
            "Requirement already satisfied: charset-normalizer<4,>=2 in /usr/local/lib/python3.11/dist-packages (from requests<3,>=2.21.0->tensorflow) (3.4.1)\n",
            "Requirement already satisfied: idna<4,>=2.5 in /usr/local/lib/python3.11/dist-packages (from requests<3,>=2.21.0->tensorflow) (3.10)\n",
            "Requirement already satisfied: urllib3<3,>=1.21.1 in /usr/local/lib/python3.11/dist-packages (from requests<3,>=2.21.0->tensorflow) (2.3.0)\n",
            "Requirement already satisfied: certifi>=2017.4.17 in /usr/local/lib/python3.11/dist-packages (from requests<3,>=2.21.0->tensorflow) (2025.1.31)\n",
            "Requirement already satisfied: markdown>=2.6.8 in /usr/local/lib/python3.11/dist-packages (from tensorboard<2.19,>=2.18->tensorflow) (3.7)\n",
            "Requirement already satisfied: tensorboard-data-server<0.8.0,>=0.7.0 in /usr/local/lib/python3.11/dist-packages (from tensorboard<2.19,>=2.18->tensorflow) (0.7.2)\n",
            "Requirement already satisfied: werkzeug>=1.0.1 in /usr/local/lib/python3.11/dist-packages (from tensorboard<2.19,>=2.18->tensorflow) (3.1.3)\n",
            "Requirement already satisfied: MarkupSafe>=2.1.1 in /usr/local/lib/python3.11/dist-packages (from werkzeug>=1.0.1->tensorboard<2.19,>=2.18->tensorflow) (3.0.2)\n",
            "Requirement already satisfied: markdown-it-py>=2.2.0 in /usr/local/lib/python3.11/dist-packages (from rich->keras>=3.5.0->tensorflow) (3.0.0)\n",
            "Requirement already satisfied: pygments<3.0.0,>=2.13.0 in /usr/local/lib/python3.11/dist-packages (from rich->keras>=3.5.0->tensorflow) (2.18.0)\n",
            "Requirement already satisfied: mdurl~=0.1 in /usr/local/lib/python3.11/dist-packages (from markdown-it-py>=2.2.0->rich->keras>=3.5.0->tensorflow) (0.1.2)\n"
          ]
        }
      ]
    },
    {
      "cell_type": "code",
      "source": [
        "!pip install keras-self-attention"
      ],
      "metadata": {
        "colab": {
          "base_uri": "https://localhost:8080/"
        },
        "id": "mC0cd0c0ngqo",
        "outputId": "133fc180-d50b-4b9b-a706-4c7a621cd1c9"
      },
      "execution_count": 4,
      "outputs": [
        {
          "output_type": "stream",
          "name": "stdout",
          "text": [
            "Collecting keras-self-attention\n",
            "  Downloading keras-self-attention-0.51.0.tar.gz (11 kB)\n",
            "  Preparing metadata (setup.py) ... \u001b[?25l\u001b[?25hdone\n",
            "Requirement already satisfied: numpy in /usr/local/lib/python3.11/dist-packages (from keras-self-attention) (2.0.2)\n",
            "Building wheels for collected packages: keras-self-attention\n",
            "  Building wheel for keras-self-attention (setup.py) ... \u001b[?25l\u001b[?25hdone\n",
            "  Created wheel for keras-self-attention: filename=keras_self_attention-0.51.0-py3-none-any.whl size=18895 sha256=cb44d2453bdfbc3994ccb9bf7ceae43c5043b8b67fdcc39854aaa135a56196ee\n",
            "  Stored in directory: /root/.cache/pip/wheels/46/f9/96/709295c836133071c12a300729fed4027757f889c01695feea\n",
            "Successfully built keras-self-attention\n",
            "Installing collected packages: keras-self-attention\n",
            "Successfully installed keras-self-attention-0.51.0\n"
          ]
        }
      ]
    },
    {
      "cell_type": "code",
      "source": [
        "!pip install keras-tuner"
      ],
      "metadata": {
        "colab": {
          "base_uri": "https://localhost:8080/"
        },
        "id": "G8llwhZWnj0i",
        "outputId": "b9655a66-0871-4cfd-c2cb-cb37801399b7"
      },
      "execution_count": 5,
      "outputs": [
        {
          "output_type": "stream",
          "name": "stdout",
          "text": [
            "Collecting keras-tuner\n",
            "  Downloading keras_tuner-1.4.7-py3-none-any.whl.metadata (5.4 kB)\n",
            "Requirement already satisfied: keras in /usr/local/lib/python3.11/dist-packages (from keras-tuner) (3.8.0)\n",
            "Requirement already satisfied: packaging in /usr/local/lib/python3.11/dist-packages (from keras-tuner) (24.2)\n",
            "Requirement already satisfied: requests in /usr/local/lib/python3.11/dist-packages (from keras-tuner) (2.32.3)\n",
            "Collecting kt-legacy (from keras-tuner)\n",
            "  Downloading kt_legacy-1.0.5-py3-none-any.whl.metadata (221 bytes)\n",
            "Requirement already satisfied: absl-py in /usr/local/lib/python3.11/dist-packages (from keras->keras-tuner) (1.4.0)\n",
            "Requirement already satisfied: numpy in /usr/local/lib/python3.11/dist-packages (from keras->keras-tuner) (2.0.2)\n",
            "Requirement already satisfied: rich in /usr/local/lib/python3.11/dist-packages (from keras->keras-tuner) (13.9.4)\n",
            "Requirement already satisfied: namex in /usr/local/lib/python3.11/dist-packages (from keras->keras-tuner) (0.0.8)\n",
            "Requirement already satisfied: h5py in /usr/local/lib/python3.11/dist-packages (from keras->keras-tuner) (3.13.0)\n",
            "Requirement already satisfied: optree in /usr/local/lib/python3.11/dist-packages (from keras->keras-tuner) (0.15.0)\n",
            "Requirement already satisfied: ml-dtypes in /usr/local/lib/python3.11/dist-packages (from keras->keras-tuner) (0.4.1)\n",
            "Requirement already satisfied: charset-normalizer<4,>=2 in /usr/local/lib/python3.11/dist-packages (from requests->keras-tuner) (3.4.1)\n",
            "Requirement already satisfied: idna<4,>=2.5 in /usr/local/lib/python3.11/dist-packages (from requests->keras-tuner) (3.10)\n",
            "Requirement already satisfied: urllib3<3,>=1.21.1 in /usr/local/lib/python3.11/dist-packages (from requests->keras-tuner) (2.3.0)\n",
            "Requirement already satisfied: certifi>=2017.4.17 in /usr/local/lib/python3.11/dist-packages (from requests->keras-tuner) (2025.1.31)\n",
            "Requirement already satisfied: typing-extensions>=4.5.0 in /usr/local/lib/python3.11/dist-packages (from optree->keras->keras-tuner) (4.13.1)\n",
            "Requirement already satisfied: markdown-it-py>=2.2.0 in /usr/local/lib/python3.11/dist-packages (from rich->keras->keras-tuner) (3.0.0)\n",
            "Requirement already satisfied: pygments<3.0.0,>=2.13.0 in /usr/local/lib/python3.11/dist-packages (from rich->keras->keras-tuner) (2.18.0)\n",
            "Requirement already satisfied: mdurl~=0.1 in /usr/local/lib/python3.11/dist-packages (from markdown-it-py>=2.2.0->rich->keras->keras-tuner) (0.1.2)\n",
            "Downloading keras_tuner-1.4.7-py3-none-any.whl (129 kB)\n",
            "\u001b[2K   \u001b[90m━━━━━━━━━━━━━━━━━━━━━━━━━━━━━━━━━━━━━━━━\u001b[0m \u001b[32m129.1/129.1 kB\u001b[0m \u001b[31m2.4 MB/s\u001b[0m eta \u001b[36m0:00:00\u001b[0m\n",
            "\u001b[?25hDownloading kt_legacy-1.0.5-py3-none-any.whl (9.6 kB)\n",
            "Installing collected packages: kt-legacy, keras-tuner\n",
            "Successfully installed keras-tuner-1.4.7 kt-legacy-1.0.5\n"
          ]
        }
      ]
    },
    {
      "cell_type": "code",
      "source": [
        "import numpy as np\n",
        "import pandas as pd\n",
        "from ta.momentum import RSIIndicator\n",
        "from sklearn.preprocessing import RobustScaler\n",
        "from sklearn.model_selection import train_test_split\n",
        "import tensorflow as tf\n",
        "from tensorflow.keras.models import Sequential\n",
        "from tensorflow.keras.layers import LSTM, Dropout, Dense, RNN, concatenate\n",
        "from tensorflow.keras.optimizers import RMSprop\n",
        "from vnstock import *\n",
        "from ta.volatility import BollingerBands\n",
        "from tensorflow.keras.layers import Layer\n",
        "import tensorflow as tf\n",
        "from keras.layers import Input, Conv1D, MaxPooling1D, Bidirectional, Flatten, BatchNormalization\n",
        "from sklearn.model_selection import RandomizedSearchCV\n",
        "# from scikeras.wrappers import KerasClassifier\n",
        "\n",
        "from ta.momentum import StochasticOscillator\n",
        "from ta.volume import OnBalanceVolumeIndicator\n",
        "from ta.trend import CCIIndicator\n",
        "from sklearn.preprocessing import StandardScaler\n",
        "from ta.volume import ChaikinMoneyFlowIndicator\n",
        "from tensorflow.keras.regularizers import l2\n",
        "from tensorflow.keras.regularizers import l1\n",
        "from tensorflow.keras.regularizers import l1_l2\n",
        "from tensorflow.keras import regularizers\n",
        "from keras_self_attention import SeqSelfAttention\n",
        "from tensorflow.keras.models import Model\n",
        "from sklearn.preprocessing import MinMaxScaler\n",
        "from sklearn.metrics import roc_auc_score\n",
        "import keras_tuner as kt\n",
        "from tensorflow.keras.optimizers import Adam\n",
        "from sklearn.feature_selection import SequentialFeatureSelector\n",
        "from sklearn.base import BaseEstimator, ClassifierMixin\n",
        "from tensorflow.keras.saving import register_keras_serializable\n",
        "import matplotlib.pyplot as plt\n",
        "from imblearn.over_sampling import SMOTE\n",
        "from sklearn.metrics import confusion_matrix, ConfusionMatrixDisplay\n",
        "from tensorflow.keras.utils import to_categorical\n",
        "from tensorflow.keras.callbacks import EarlyStopping, ModelCheckpoint, ReduceLROnPlateau"
      ],
      "metadata": {
        "id": "h22olX_0nnuK"
      },
      "execution_count": 24,
      "outputs": []
    },
    {
      "cell_type": "code",
      "source": [
        "from vnstock import *\n",
        "import pandas as pd\n",
        "import os\n",
        "from collections import Counter\n",
        "from tensorflow.keras.models import load_model\n",
        "from sklearn.metrics import classification_report"
      ],
      "metadata": {
        "id": "_DJWihFFnr_Y"
      },
      "execution_count": 26,
      "outputs": []
    },
    {
      "cell_type": "code",
      "source": [
        "def load_stock(symbol, folder_path='stock_data'):\n",
        "    \"\"\"\n",
        "    Load dữ liệu cổ phiếu từ mã cổ phiếu, sử dụng đường dẫn thư mục cố định.\n",
        "\n",
        "    Parameters:\n",
        "        symbol (str): Mã cổ phiếu (ví dụ: 'VCB')\n",
        "        folder_path (str): Thư mục chứa file Excel (mặc định là 'stock_data')\n",
        "\n",
        "    Returns:\n",
        "        DataFrame chứa dữ liệu cổ phiếu.\n",
        "    \"\"\"\n",
        "    file_path = os.path.join(folder_path, f\"{symbol}.xlsx\")\n",
        "\n",
        "    if not os.path.exists(file_path):\n",
        "        raise FileNotFoundError(f\"❌ Không tìm thấy file: {file_path}\")\n",
        "\n",
        "    try:\n",
        "        df = pd.read_excel(file_path)\n",
        "        print(f\"✅ Đã load dữ liệu cho mã: {symbol}\")\n",
        "        return df\n",
        "    except Exception as e:\n",
        "        print(f\"❌ Lỗi khi load dữ liệu {symbol}: {e}\")\n",
        "        return pd.DataFrame()"
      ],
      "metadata": {
        "id": "4sA_TRvIoQ7Y"
      },
      "execution_count": 8,
      "outputs": []
    },
    {
      "cell_type": "code",
      "source": [
        "df_vhm = load_stock('VNM','/content/drive/MyDrive/thacsi/LuanVan/PredictStock/TA/v1/train_data')"
      ],
      "metadata": {
        "colab": {
          "base_uri": "https://localhost:8080/"
        },
        "id": "Y3s40GvNoXcb",
        "outputId": "ff1a2f3d-91ff-47fc-da05-97ba8c492f18"
      },
      "execution_count": 10,
      "outputs": [
        {
          "output_type": "stream",
          "name": "stdout",
          "text": [
            "✅ Đã load dữ liệu cho mã: VNM\n"
          ]
        }
      ]
    },
    {
      "cell_type": "code",
      "source": [
        "df_vhm"
      ],
      "metadata": {
        "colab": {
          "base_uri": "https://localhost:8080/",
          "height": 423
        },
        "id": "EGC3zkPdoeBk",
        "outputId": "fca47a05-35ae-475e-d31e-49211db1e6b9"
      },
      "execution_count": 11,
      "outputs": [
        {
          "output_type": "execute_result",
          "data": {
            "text/plain": [
              "           time   open   high    low  close   volume ticket\n",
              "0    2019-01-02  77.47  79.07  77.15  79.07   403570    VNM\n",
              "1    2019-01-03  79.07  79.07  77.54  78.37   449730    VNM\n",
              "2    2019-01-04  78.11  79.70  77.15  79.70   498470    VNM\n",
              "3    2019-01-07  81.43  83.53  80.02  83.53   897430    VNM\n",
              "4    2019-01-08  83.79  83.79  82.06  82.89   448350    VNM\n",
              "...         ...    ...    ...    ...    ...      ...    ...\n",
              "1013 2023-01-19  73.47  74.11  72.75  73.93  2628489    VNM\n",
              "1014 2023-01-27  74.02  74.47  72.38  72.75  2333482    VNM\n",
              "1015 2023-01-30  72.75  72.75  72.20  72.20  1614712    VNM\n",
              "1016 2023-01-31  72.02  72.29  69.93  70.11  4819134    VNM\n",
              "1017 2023-02-01  70.65  70.75  69.93  70.20  1811677    VNM\n",
              "\n",
              "[1018 rows x 7 columns]"
            ],
            "text/html": [
              "\n",
              "  <div id=\"df-02f69cd7-baa1-4e46-b53f-b5e2ab18cb7a\" class=\"colab-df-container\">\n",
              "    <div>\n",
              "<style scoped>\n",
              "    .dataframe tbody tr th:only-of-type {\n",
              "        vertical-align: middle;\n",
              "    }\n",
              "\n",
              "    .dataframe tbody tr th {\n",
              "        vertical-align: top;\n",
              "    }\n",
              "\n",
              "    .dataframe thead th {\n",
              "        text-align: right;\n",
              "    }\n",
              "</style>\n",
              "<table border=\"1\" class=\"dataframe\">\n",
              "  <thead>\n",
              "    <tr style=\"text-align: right;\">\n",
              "      <th></th>\n",
              "      <th>time</th>\n",
              "      <th>open</th>\n",
              "      <th>high</th>\n",
              "      <th>low</th>\n",
              "      <th>close</th>\n",
              "      <th>volume</th>\n",
              "      <th>ticket</th>\n",
              "    </tr>\n",
              "  </thead>\n",
              "  <tbody>\n",
              "    <tr>\n",
              "      <th>0</th>\n",
              "      <td>2019-01-02</td>\n",
              "      <td>77.47</td>\n",
              "      <td>79.07</td>\n",
              "      <td>77.15</td>\n",
              "      <td>79.07</td>\n",
              "      <td>403570</td>\n",
              "      <td>VNM</td>\n",
              "    </tr>\n",
              "    <tr>\n",
              "      <th>1</th>\n",
              "      <td>2019-01-03</td>\n",
              "      <td>79.07</td>\n",
              "      <td>79.07</td>\n",
              "      <td>77.54</td>\n",
              "      <td>78.37</td>\n",
              "      <td>449730</td>\n",
              "      <td>VNM</td>\n",
              "    </tr>\n",
              "    <tr>\n",
              "      <th>2</th>\n",
              "      <td>2019-01-04</td>\n",
              "      <td>78.11</td>\n",
              "      <td>79.70</td>\n",
              "      <td>77.15</td>\n",
              "      <td>79.70</td>\n",
              "      <td>498470</td>\n",
              "      <td>VNM</td>\n",
              "    </tr>\n",
              "    <tr>\n",
              "      <th>3</th>\n",
              "      <td>2019-01-07</td>\n",
              "      <td>81.43</td>\n",
              "      <td>83.53</td>\n",
              "      <td>80.02</td>\n",
              "      <td>83.53</td>\n",
              "      <td>897430</td>\n",
              "      <td>VNM</td>\n",
              "    </tr>\n",
              "    <tr>\n",
              "      <th>4</th>\n",
              "      <td>2019-01-08</td>\n",
              "      <td>83.79</td>\n",
              "      <td>83.79</td>\n",
              "      <td>82.06</td>\n",
              "      <td>82.89</td>\n",
              "      <td>448350</td>\n",
              "      <td>VNM</td>\n",
              "    </tr>\n",
              "    <tr>\n",
              "      <th>...</th>\n",
              "      <td>...</td>\n",
              "      <td>...</td>\n",
              "      <td>...</td>\n",
              "      <td>...</td>\n",
              "      <td>...</td>\n",
              "      <td>...</td>\n",
              "      <td>...</td>\n",
              "    </tr>\n",
              "    <tr>\n",
              "      <th>1013</th>\n",
              "      <td>2023-01-19</td>\n",
              "      <td>73.47</td>\n",
              "      <td>74.11</td>\n",
              "      <td>72.75</td>\n",
              "      <td>73.93</td>\n",
              "      <td>2628489</td>\n",
              "      <td>VNM</td>\n",
              "    </tr>\n",
              "    <tr>\n",
              "      <th>1014</th>\n",
              "      <td>2023-01-27</td>\n",
              "      <td>74.02</td>\n",
              "      <td>74.47</td>\n",
              "      <td>72.38</td>\n",
              "      <td>72.75</td>\n",
              "      <td>2333482</td>\n",
              "      <td>VNM</td>\n",
              "    </tr>\n",
              "    <tr>\n",
              "      <th>1015</th>\n",
              "      <td>2023-01-30</td>\n",
              "      <td>72.75</td>\n",
              "      <td>72.75</td>\n",
              "      <td>72.20</td>\n",
              "      <td>72.20</td>\n",
              "      <td>1614712</td>\n",
              "      <td>VNM</td>\n",
              "    </tr>\n",
              "    <tr>\n",
              "      <th>1016</th>\n",
              "      <td>2023-01-31</td>\n",
              "      <td>72.02</td>\n",
              "      <td>72.29</td>\n",
              "      <td>69.93</td>\n",
              "      <td>70.11</td>\n",
              "      <td>4819134</td>\n",
              "      <td>VNM</td>\n",
              "    </tr>\n",
              "    <tr>\n",
              "      <th>1017</th>\n",
              "      <td>2023-02-01</td>\n",
              "      <td>70.65</td>\n",
              "      <td>70.75</td>\n",
              "      <td>69.93</td>\n",
              "      <td>70.20</td>\n",
              "      <td>1811677</td>\n",
              "      <td>VNM</td>\n",
              "    </tr>\n",
              "  </tbody>\n",
              "</table>\n",
              "<p>1018 rows × 7 columns</p>\n",
              "</div>\n",
              "    <div class=\"colab-df-buttons\">\n",
              "\n",
              "  <div class=\"colab-df-container\">\n",
              "    <button class=\"colab-df-convert\" onclick=\"convertToInteractive('df-02f69cd7-baa1-4e46-b53f-b5e2ab18cb7a')\"\n",
              "            title=\"Convert this dataframe to an interactive table.\"\n",
              "            style=\"display:none;\">\n",
              "\n",
              "  <svg xmlns=\"http://www.w3.org/2000/svg\" height=\"24px\" viewBox=\"0 -960 960 960\">\n",
              "    <path d=\"M120-120v-720h720v720H120Zm60-500h600v-160H180v160Zm220 220h160v-160H400v160Zm0 220h160v-160H400v160ZM180-400h160v-160H180v160Zm440 0h160v-160H620v160ZM180-180h160v-160H180v160Zm440 0h160v-160H620v160Z\"/>\n",
              "  </svg>\n",
              "    </button>\n",
              "\n",
              "  <style>\n",
              "    .colab-df-container {\n",
              "      display:flex;\n",
              "      gap: 12px;\n",
              "    }\n",
              "\n",
              "    .colab-df-convert {\n",
              "      background-color: #E8F0FE;\n",
              "      border: none;\n",
              "      border-radius: 50%;\n",
              "      cursor: pointer;\n",
              "      display: none;\n",
              "      fill: #1967D2;\n",
              "      height: 32px;\n",
              "      padding: 0 0 0 0;\n",
              "      width: 32px;\n",
              "    }\n",
              "\n",
              "    .colab-df-convert:hover {\n",
              "      background-color: #E2EBFA;\n",
              "      box-shadow: 0px 1px 2px rgba(60, 64, 67, 0.3), 0px 1px 3px 1px rgba(60, 64, 67, 0.15);\n",
              "      fill: #174EA6;\n",
              "    }\n",
              "\n",
              "    .colab-df-buttons div {\n",
              "      margin-bottom: 4px;\n",
              "    }\n",
              "\n",
              "    [theme=dark] .colab-df-convert {\n",
              "      background-color: #3B4455;\n",
              "      fill: #D2E3FC;\n",
              "    }\n",
              "\n",
              "    [theme=dark] .colab-df-convert:hover {\n",
              "      background-color: #434B5C;\n",
              "      box-shadow: 0px 1px 3px 1px rgba(0, 0, 0, 0.15);\n",
              "      filter: drop-shadow(0px 1px 2px rgba(0, 0, 0, 0.3));\n",
              "      fill: #FFFFFF;\n",
              "    }\n",
              "  </style>\n",
              "\n",
              "    <script>\n",
              "      const buttonEl =\n",
              "        document.querySelector('#df-02f69cd7-baa1-4e46-b53f-b5e2ab18cb7a button.colab-df-convert');\n",
              "      buttonEl.style.display =\n",
              "        google.colab.kernel.accessAllowed ? 'block' : 'none';\n",
              "\n",
              "      async function convertToInteractive(key) {\n",
              "        const element = document.querySelector('#df-02f69cd7-baa1-4e46-b53f-b5e2ab18cb7a');\n",
              "        const dataTable =\n",
              "          await google.colab.kernel.invokeFunction('convertToInteractive',\n",
              "                                                    [key], {});\n",
              "        if (!dataTable) return;\n",
              "\n",
              "        const docLinkHtml = 'Like what you see? Visit the ' +\n",
              "          '<a target=\"_blank\" href=https://colab.research.google.com/notebooks/data_table.ipynb>data table notebook</a>'\n",
              "          + ' to learn more about interactive tables.';\n",
              "        element.innerHTML = '';\n",
              "        dataTable['output_type'] = 'display_data';\n",
              "        await google.colab.output.renderOutput(dataTable, element);\n",
              "        const docLink = document.createElement('div');\n",
              "        docLink.innerHTML = docLinkHtml;\n",
              "        element.appendChild(docLink);\n",
              "      }\n",
              "    </script>\n",
              "  </div>\n",
              "\n",
              "\n",
              "<div id=\"df-1eaf57bd-fb6c-439d-97ee-fb6722bc5989\">\n",
              "  <button class=\"colab-df-quickchart\" onclick=\"quickchart('df-1eaf57bd-fb6c-439d-97ee-fb6722bc5989')\"\n",
              "            title=\"Suggest charts\"\n",
              "            style=\"display:none;\">\n",
              "\n",
              "<svg xmlns=\"http://www.w3.org/2000/svg\" height=\"24px\"viewBox=\"0 0 24 24\"\n",
              "     width=\"24px\">\n",
              "    <g>\n",
              "        <path d=\"M19 3H5c-1.1 0-2 .9-2 2v14c0 1.1.9 2 2 2h14c1.1 0 2-.9 2-2V5c0-1.1-.9-2-2-2zM9 17H7v-7h2v7zm4 0h-2V7h2v10zm4 0h-2v-4h2v4z\"/>\n",
              "    </g>\n",
              "</svg>\n",
              "  </button>\n",
              "\n",
              "<style>\n",
              "  .colab-df-quickchart {\n",
              "      --bg-color: #E8F0FE;\n",
              "      --fill-color: #1967D2;\n",
              "      --hover-bg-color: #E2EBFA;\n",
              "      --hover-fill-color: #174EA6;\n",
              "      --disabled-fill-color: #AAA;\n",
              "      --disabled-bg-color: #DDD;\n",
              "  }\n",
              "\n",
              "  [theme=dark] .colab-df-quickchart {\n",
              "      --bg-color: #3B4455;\n",
              "      --fill-color: #D2E3FC;\n",
              "      --hover-bg-color: #434B5C;\n",
              "      --hover-fill-color: #FFFFFF;\n",
              "      --disabled-bg-color: #3B4455;\n",
              "      --disabled-fill-color: #666;\n",
              "  }\n",
              "\n",
              "  .colab-df-quickchart {\n",
              "    background-color: var(--bg-color);\n",
              "    border: none;\n",
              "    border-radius: 50%;\n",
              "    cursor: pointer;\n",
              "    display: none;\n",
              "    fill: var(--fill-color);\n",
              "    height: 32px;\n",
              "    padding: 0;\n",
              "    width: 32px;\n",
              "  }\n",
              "\n",
              "  .colab-df-quickchart:hover {\n",
              "    background-color: var(--hover-bg-color);\n",
              "    box-shadow: 0 1px 2px rgba(60, 64, 67, 0.3), 0 1px 3px 1px rgba(60, 64, 67, 0.15);\n",
              "    fill: var(--button-hover-fill-color);\n",
              "  }\n",
              "\n",
              "  .colab-df-quickchart-complete:disabled,\n",
              "  .colab-df-quickchart-complete:disabled:hover {\n",
              "    background-color: var(--disabled-bg-color);\n",
              "    fill: var(--disabled-fill-color);\n",
              "    box-shadow: none;\n",
              "  }\n",
              "\n",
              "  .colab-df-spinner {\n",
              "    border: 2px solid var(--fill-color);\n",
              "    border-color: transparent;\n",
              "    border-bottom-color: var(--fill-color);\n",
              "    animation:\n",
              "      spin 1s steps(1) infinite;\n",
              "  }\n",
              "\n",
              "  @keyframes spin {\n",
              "    0% {\n",
              "      border-color: transparent;\n",
              "      border-bottom-color: var(--fill-color);\n",
              "      border-left-color: var(--fill-color);\n",
              "    }\n",
              "    20% {\n",
              "      border-color: transparent;\n",
              "      border-left-color: var(--fill-color);\n",
              "      border-top-color: var(--fill-color);\n",
              "    }\n",
              "    30% {\n",
              "      border-color: transparent;\n",
              "      border-left-color: var(--fill-color);\n",
              "      border-top-color: var(--fill-color);\n",
              "      border-right-color: var(--fill-color);\n",
              "    }\n",
              "    40% {\n",
              "      border-color: transparent;\n",
              "      border-right-color: var(--fill-color);\n",
              "      border-top-color: var(--fill-color);\n",
              "    }\n",
              "    60% {\n",
              "      border-color: transparent;\n",
              "      border-right-color: var(--fill-color);\n",
              "    }\n",
              "    80% {\n",
              "      border-color: transparent;\n",
              "      border-right-color: var(--fill-color);\n",
              "      border-bottom-color: var(--fill-color);\n",
              "    }\n",
              "    90% {\n",
              "      border-color: transparent;\n",
              "      border-bottom-color: var(--fill-color);\n",
              "    }\n",
              "  }\n",
              "</style>\n",
              "\n",
              "  <script>\n",
              "    async function quickchart(key) {\n",
              "      const quickchartButtonEl =\n",
              "        document.querySelector('#' + key + ' button');\n",
              "      quickchartButtonEl.disabled = true;  // To prevent multiple clicks.\n",
              "      quickchartButtonEl.classList.add('colab-df-spinner');\n",
              "      try {\n",
              "        const charts = await google.colab.kernel.invokeFunction(\n",
              "            'suggestCharts', [key], {});\n",
              "      } catch (error) {\n",
              "        console.error('Error during call to suggestCharts:', error);\n",
              "      }\n",
              "      quickchartButtonEl.classList.remove('colab-df-spinner');\n",
              "      quickchartButtonEl.classList.add('colab-df-quickchart-complete');\n",
              "    }\n",
              "    (() => {\n",
              "      let quickchartButtonEl =\n",
              "        document.querySelector('#df-1eaf57bd-fb6c-439d-97ee-fb6722bc5989 button');\n",
              "      quickchartButtonEl.style.display =\n",
              "        google.colab.kernel.accessAllowed ? 'block' : 'none';\n",
              "    })();\n",
              "  </script>\n",
              "</div>\n",
              "\n",
              "  <div id=\"id_9d77ec15-bb82-496a-8666-24270a3eec5c\">\n",
              "    <style>\n",
              "      .colab-df-generate {\n",
              "        background-color: #E8F0FE;\n",
              "        border: none;\n",
              "        border-radius: 50%;\n",
              "        cursor: pointer;\n",
              "        display: none;\n",
              "        fill: #1967D2;\n",
              "        height: 32px;\n",
              "        padding: 0 0 0 0;\n",
              "        width: 32px;\n",
              "      }\n",
              "\n",
              "      .colab-df-generate:hover {\n",
              "        background-color: #E2EBFA;\n",
              "        box-shadow: 0px 1px 2px rgba(60, 64, 67, 0.3), 0px 1px 3px 1px rgba(60, 64, 67, 0.15);\n",
              "        fill: #174EA6;\n",
              "      }\n",
              "\n",
              "      [theme=dark] .colab-df-generate {\n",
              "        background-color: #3B4455;\n",
              "        fill: #D2E3FC;\n",
              "      }\n",
              "\n",
              "      [theme=dark] .colab-df-generate:hover {\n",
              "        background-color: #434B5C;\n",
              "        box-shadow: 0px 1px 3px 1px rgba(0, 0, 0, 0.15);\n",
              "        filter: drop-shadow(0px 1px 2px rgba(0, 0, 0, 0.3));\n",
              "        fill: #FFFFFF;\n",
              "      }\n",
              "    </style>\n",
              "    <button class=\"colab-df-generate\" onclick=\"generateWithVariable('df_vhm')\"\n",
              "            title=\"Generate code using this dataframe.\"\n",
              "            style=\"display:none;\">\n",
              "\n",
              "  <svg xmlns=\"http://www.w3.org/2000/svg\" height=\"24px\"viewBox=\"0 0 24 24\"\n",
              "       width=\"24px\">\n",
              "    <path d=\"M7,19H8.4L18.45,9,17,7.55,7,17.6ZM5,21V16.75L18.45,3.32a2,2,0,0,1,2.83,0l1.4,1.43a1.91,1.91,0,0,1,.58,1.4,1.91,1.91,0,0,1-.58,1.4L9.25,21ZM18.45,9,17,7.55Zm-12,3A5.31,5.31,0,0,0,4.9,8.1,5.31,5.31,0,0,0,1,6.5,5.31,5.31,0,0,0,4.9,4.9,5.31,5.31,0,0,0,6.5,1,5.31,5.31,0,0,0,8.1,4.9,5.31,5.31,0,0,0,12,6.5,5.46,5.46,0,0,0,6.5,12Z\"/>\n",
              "  </svg>\n",
              "    </button>\n",
              "    <script>\n",
              "      (() => {\n",
              "      const buttonEl =\n",
              "        document.querySelector('#id_9d77ec15-bb82-496a-8666-24270a3eec5c button.colab-df-generate');\n",
              "      buttonEl.style.display =\n",
              "        google.colab.kernel.accessAllowed ? 'block' : 'none';\n",
              "\n",
              "      buttonEl.onclick = () => {\n",
              "        google.colab.notebook.generateWithVariable('df_vhm');\n",
              "      }\n",
              "      })();\n",
              "    </script>\n",
              "  </div>\n",
              "\n",
              "    </div>\n",
              "  </div>\n"
            ],
            "application/vnd.google.colaboratory.intrinsic+json": {
              "type": "dataframe",
              "variable_name": "df_vhm",
              "summary": "{\n  \"name\": \"df_vhm\",\n  \"rows\": 1018,\n  \"fields\": [\n    {\n      \"column\": \"time\",\n      \"properties\": {\n        \"dtype\": \"date\",\n        \"min\": \"2019-01-02 00:00:00\",\n        \"max\": \"2023-02-01 00:00:00\",\n        \"num_unique_values\": 1018,\n        \"samples\": [\n          \"2021-02-09 00:00:00\",\n          \"2022-08-30 00:00:00\",\n          \"2021-05-13 00:00:00\"\n        ],\n        \"semantic_type\": \"\",\n        \"description\": \"\"\n      }\n    },\n    {\n      \"column\": \"open\",\n      \"properties\": {\n        \"dtype\": \"number\",\n        \"std\": 8.477840160413976,\n        \"min\": 55.37,\n        \"max\": 96.06,\n        \"num_unique_values\": 606,\n        \"samples\": [\n          68.96,\n          90.61,\n          80.39\n        ],\n        \"semantic_type\": \"\",\n        \"description\": \"\"\n      }\n    },\n    {\n      \"column\": \"high\",\n      \"properties\": {\n        \"dtype\": \"number\",\n        \"std\": 8.40017797041051,\n        \"min\": 57.42,\n        \"max\": 97.3,\n        \"num_unique_values\": 642,\n        \"samples\": [\n          80.65,\n          70.13,\n          72.53\n        ],\n        \"semantic_type\": \"\",\n        \"description\": \"\"\n      }\n    },\n    {\n      \"column\": \"low\",\n      \"properties\": {\n        \"dtype\": \"number\",\n        \"std\": 8.457730985008801,\n        \"min\": 55.37,\n        \"max\": 95.15,\n        \"num_unique_values\": 611,\n        \"samples\": [\n          80.39,\n          64.5,\n          81.81\n        ],\n        \"semantic_type\": \"\",\n        \"description\": \"\"\n      }\n    },\n    {\n      \"column\": \"close\",\n      \"properties\": {\n        \"dtype\": \"number\",\n        \"std\": 8.44360179465596,\n        \"min\": 55.37,\n        \"max\": 96.67,\n        \"num_unique_values\": 630,\n        \"samples\": [\n          66.57,\n          78.08,\n          63.16\n        ],\n        \"semantic_type\": \"\",\n        \"description\": \"\"\n      }\n    },\n    {\n      \"column\": \"volume\",\n      \"properties\": {\n        \"dtype\": \"number\",\n        \"std\": 1295896,\n        \"min\": 271730,\n        \"max\": 10050100,\n        \"num_unique_values\": 1015,\n        \"samples\": [\n          1885600,\n          3153800,\n          1184100\n        ],\n        \"semantic_type\": \"\",\n        \"description\": \"\"\n      }\n    },\n    {\n      \"column\": \"ticket\",\n      \"properties\": {\n        \"dtype\": \"category\",\n        \"num_unique_values\": 1,\n        \"samples\": [\n          \"VNM\"\n        ],\n        \"semantic_type\": \"\",\n        \"description\": \"\"\n      }\n    }\n  ]\n}"
            }
          },
          "metadata": {},
          "execution_count": 11
        }
      ]
    },
    {
      "cell_type": "code",
      "source": [
        "def load_and_process_data(symbol, drop_na=True, file_path = ''):\n",
        "    data = load_stock(symbol,file_path)\n",
        "    if data.empty:\n",
        "        return None\n",
        "\n",
        "    df = data\n",
        "\n",
        "     # Tính toán khối lượng trung bình\n",
        "    volume_ma_period = 20  # Ví dụ: khối lượng trung bình 20 ngày\n",
        "    df['volume_ma'] = df['volume'].rolling(window=volume_ma_period).mean()\n",
        "\n",
        "\n",
        "    # Tính tỷ lệ khối lượng hiện tại / khối lượng trung bình\n",
        "    df['volume_to_volume_ma_ratio'] = df['volume'] / df['volume_ma']\n",
        "\n",
        "\n",
        "    # Tính toán EMA ngắn hạn (12 ngày)\n",
        "    df['ema_12'] = df['close'].ewm(span=12, adjust=False).mean()\n",
        "\n",
        "\n",
        "    # Tính toán EMA dài hạn (26 ngày)\n",
        "    df['ema_26'] = df['close'].ewm(span=26, adjust=False).mean()\n",
        "\n",
        "    # Tính toán SMA trung hạn (20 ngày)\n",
        "    df['sma_20'] = df['close'].rolling(window=20).mean()\n",
        "\n",
        "    # Tính toán SMA dài hạn (50 ngày)\n",
        "    df['sma_50'] = df['close'].rolling(window=50).mean()\n",
        "\n",
        "     # Tính toán ROC\n",
        "\n",
        "    # df['roc_1'] = ((df['close'] - df['close'].shift(1)) / df['close'].shift(1)) * 100\n",
        "    df['roc_5'] = ((df['close'] - df['close'].shift(5)) / df['close'].shift(5)) * 100\n",
        "    # df['roc_9'] = ((df['close'] - df['close'].shift(9)) / df['close'].shift(9)) * 100\n",
        "\n",
        "    # Tính toán %K (Stochastic Oscillator)\n",
        "    stoch_period = 14\n",
        "    df['%K'] = ((df['close'] - df['low'].rolling(window=stoch_period).min()) /\n",
        "                (df['high'].rolling(window=stoch_period).max() - df['low'].rolling(window=stoch_period).min())) * 100\n",
        "\n",
        "    # Tính toán %R (Williams %R)\n",
        "    df['%R'] = ((df['high'].rolling(window=stoch_period).max() - df['close']) /\n",
        "                (df['high'].rolling(window=stoch_period).max() - df['low'].rolling(window=stoch_period).min())) * -100\n",
        "\n",
        "    # Tính toán CCI (Commodity Channel Index)\n",
        "    cci_period = 20\n",
        "    df['typical_price'] = (df['high'] + df['low'] + df['close']) / 3\n",
        "    df['cci'] = CCIIndicator(high=df['high'], low=df['low'], close=df['close'], window=cci_period).cci()\n",
        "\n",
        "    # Tính toán OBV (On Balance Volume)\n",
        "    df['obv'] = OnBalanceVolumeIndicator(close=df['close'], volume=df['volume']).on_balance_volume()\n",
        "\n",
        "\n",
        "    # Tính toán MACD\n",
        "    df['macd'] = df['ema_12'] - df['ema_26']\n",
        "    # Tính toán Signal line (EMA 9 ngày của MACD)\n",
        "    df['signal_line'] = df['macd'].ewm(span=9, adjust=False).mean()\n",
        "    # Tính toán MACD histogram\n",
        "    df['macd_histogram'] = df['macd'] - df['signal_line']\n",
        "\n",
        "\n",
        "    # Tính toán RSI\n",
        "    rsi_period = 14\n",
        "    df['rsi'] = RSIIndicator(df['close'], window=rsi_period).rsi()\n",
        "\n",
        "\n",
        "    # Bollinger Bands\n",
        "    indicator_bb = BollingerBands(close=df['close'], window=20, window_dev=2)\n",
        "    df['bb_bbm'] = indicator_bb.bollinger_mavg()\n",
        "    df['bb_bbh'] = indicator_bb.bollinger_hband()\n",
        "    df['bb_bbl'] = indicator_bb.bollinger_lband()\n",
        "    df['bb_bbp'] = indicator_bb.bollinger_pband()\n",
        "\n",
        "    df['bb_bbh_bb_bbl_ratio'] = df['bb_bbh'] / df['bb_bbl']\n",
        "\n",
        "\n",
        "    # Xứ lý với VNINDEX\n",
        "    data_time = data['time']\n",
        "\n",
        "    data_vnd = load_stock('VNINDEX', file_path)\n",
        "    data_vnd = data_vnd.drop(columns=['ticket'])\n",
        "    data_vnd.columns = ['time','open_vnd', 'high_vnd', 'low_vnd', 'close_vnd', 'volume_vnd']\n",
        "\n",
        "\n",
        "    # Tính toán RSI\n",
        "    rsi_period = 14\n",
        "    data_vnd['rsi_vnd'] = RSIIndicator(data_vnd['close_vnd'], window=rsi_period).rsi()\n",
        "    # Tính toán RSI-base-MA\n",
        "    ma_period = 9\n",
        "    data_vnd['rsi_base_ma_vnd'] = data_vnd['rsi_vnd'].rolling(window=ma_period).mean()\n",
        "    data_vnd['rsi_rsi_base_ma_ratio_vnd'] = data_vnd['rsi_vnd'] / data_vnd['rsi_base_ma_vnd']\n",
        "\n",
        "    # Tính toán khối lượng trung bình\n",
        "    volume_ma_period = 20  # Ví dụ: khối lượng trung bình 20 ngày\n",
        "    data_vnd['volume_ma_vnd'] = data_vnd['volume_vnd'].rolling(window=volume_ma_period).mean()\n",
        "    # Tính tỷ lệ khối lượng hiện tại / khối lượng trung bình\n",
        "    data_vnd['volume_to_volume_ma_ratio_vnd'] = data_vnd['volume_vnd'] / data_vnd['volume_ma_vnd']\n",
        "\n",
        "    # Bollinger Bands\n",
        "    indicator_bb = BollingerBands(close=data_vnd['close_vnd'], window=20, window_dev=2)\n",
        "    data_vnd['bb_bbm_vnd'] = indicator_bb.bollinger_mavg()\n",
        "    data_vnd['bb_bbh_vnd'] = indicator_bb.bollinger_hband()\n",
        "    data_vnd['bb_bbl_vnd'] = indicator_bb.bollinger_lband()\n",
        "    data_vnd['bb_bbp_vnd'] = indicator_bb.bollinger_pband()\n",
        "\n",
        "    data_vnd['bb_bbh_bb_bbl_ratio_vnd'] = data_vnd['bb_bbh_vnd'] / data_vnd['bb_bbl_vnd']\n",
        "\n",
        "    # Tính toán ROC\n",
        "    roc_period = 9  # Chu kỳ 9 ngày, bạn có thể thay đổi tùy ý\n",
        "    data_vnd['roc_vnd'] = ((data_vnd['close_vnd'] - data_vnd['close_vnd'].shift(roc_period)) / data_vnd['close_vnd'].shift(roc_period)) * 100\n",
        "\n",
        "    # Tính toán %K (Stochastic Oscillator)\n",
        "    stoch_period = 14\n",
        "    data_vnd['%K_vnd'] = ((data_vnd['close_vnd'] - data_vnd['low_vnd'].rolling(window=stoch_period).min()) /\n",
        "                (data_vnd['high_vnd'].rolling(window=stoch_period).max() - data_vnd['low_vnd'].rolling(window=stoch_period).min())) * 100\n",
        "\n",
        "    # Tính toán %R (Williams %R)\n",
        "    data_vnd['%R_vnd'] = ((data_vnd['high_vnd'].rolling(window=stoch_period).max() - data_vnd['close_vnd']) /\n",
        "                (data_vnd['high_vnd'].rolling(window=stoch_period).max() - data_vnd['low_vnd'].rolling(window=stoch_period).min())) * -100\n",
        "\n",
        "    # Tính toán CCI (Commodity Channel Index)\n",
        "    cci_period = 20\n",
        "    data_vnd['typical_price_vnd'] = (data_vnd['high_vnd'] + data_vnd['low_vnd'] + data_vnd['close_vnd']) / 3\n",
        "    data_vnd['cci_vnd'] = CCIIndicator(high=data_vnd['high_vnd'], low=data_vnd['low_vnd'], close=data_vnd['close_vnd'], window=cci_period).cci()\n",
        "\n",
        "    # Tính toán OBV (On Balance Volume)\n",
        "    data_vnd['obv_vnd'] = OnBalanceVolumeIndicator(close=data_vnd['close_vnd'], volume=data_vnd['volume_vnd']).on_balance_volume()\n",
        "\n",
        "    # Tính toán EMA ngắn hạn (12 ngày)\n",
        "    data_vnd['ema_12_vnd'] = data_vnd['close_vnd'].ewm(span=12, adjust=False).mean()\n",
        "\n",
        "    # Tính toán EMA dài hạn (26 ngày)\n",
        "    data_vnd['ema_26_vnd'] = data_vnd['close_vnd'].ewm(span=26, adjust=False).mean()\n",
        "\n",
        "    # Tính toán SMA trung hạn (20 ngày)\n",
        "    data_vnd['sma_20_vnd'] = data_vnd['close_vnd'].rolling(window=20).mean()\n",
        "\n",
        "    # Tính toán SMA dài hạn (50 ngày)\n",
        "    data_vnd['sma_50_vnd'] = data_vnd['close_vnd'].rolling(window=50).mean()\n",
        "\n",
        "    data_vnd['time'] = pd.to_datetime(data_vnd['time']).dt.date\n",
        "    # merge\n",
        "    df['time'] = pd.to_datetime(df['time']).dt.date\n",
        "    df = pd.merge(df, data_vnd, on='time')\n",
        "\n",
        "\n",
        "     # Tính tỷ lệ thay đổi giá\n",
        "    threshold=0.01\n",
        "    df['change'] = (df['close'].shift(-1) - df['close']) / df['close']\n",
        "\n",
        "    # Gán nhãn\n",
        "    df['target'] = 0  # Hold mặc định\n",
        "    df.loc[df['change'] > threshold, 'target'] = 1   # Buy\n",
        "    df.loc[df['change'] < -threshold, 'target'] = 2  # Sell\n",
        "\n",
        "    if drop_na:\n",
        "        df.dropna(inplace=True)\n",
        "\n",
        "    return df"
      ],
      "metadata": {
        "id": "9K5b_XHWpvrg"
      },
      "execution_count": 12,
      "outputs": []
    },
    {
      "cell_type": "code",
      "source": [
        "df_vhm_process = load_and_process_data(\"VHM\", file_path= '/content/drive/MyDrive/thacsi/LuanVan/PredictStock/TA/v1/train_data')"
      ],
      "metadata": {
        "colab": {
          "base_uri": "https://localhost:8080/"
        },
        "id": "9-hM5awJqfmH",
        "outputId": "2d2c2cd6-7402-4e68-ea33-404c9b64803b"
      },
      "execution_count": 14,
      "outputs": [
        {
          "output_type": "stream",
          "name": "stdout",
          "text": [
            "✅ Đã load dữ liệu cho mã: VHM\n",
            "✅ Đã load dữ liệu cho mã: VNINDEX\n"
          ]
        }
      ]
    },
    {
      "cell_type": "code",
      "source": [
        "df_vhm_process"
      ],
      "metadata": {
        "colab": {
          "base_uri": "https://localhost:8080/",
          "height": 617
        },
        "id": "Po6SoCqEqsL5",
        "outputId": "6fef481e-91f3-4f64-aeb4-94a34163eae3"
      },
      "execution_count": 15,
      "outputs": [
        {
          "output_type": "execute_result",
          "data": {
            "text/plain": [
              "            time   open   high    low  close   volume ticket   volume_ma  \\\n",
              "49    2019-03-19  69.17  69.31  68.08  68.44  1100900    VHM  1047159.50   \n",
              "50    2019-03-20  67.79  68.00  66.26  67.13  1061950    VHM  1059478.00   \n",
              "51    2019-03-21  67.71  67.71  64.22  64.22  1009930    VHM  1049481.00   \n",
              "52    2019-03-22  64.80  66.40  64.07  66.33   957080    VHM  1049787.50   \n",
              "53    2019-03-25  65.16  65.16  63.71  64.80   793070    VHM  1047539.00   \n",
              "...          ...    ...    ...    ...    ...      ...    ...         ...   \n",
              "1012  2023-01-18  52.00  52.90  50.90  52.50  1265675    VHM  1484643.60   \n",
              "1013  2023-01-19  52.40  53.40  51.50  52.20  2236566    VHM  1502375.85   \n",
              "1014  2023-01-27  52.40  53.90  51.90  53.30  1283501    VHM  1457968.85   \n",
              "1015  2023-01-30  53.30  53.50  51.50  51.50  1350577    VHM  1458064.10   \n",
              "1016  2023-01-31  51.50  51.80  50.40  50.90  1313510    VHM  1416716.15   \n",
              "\n",
              "      volume_to_volume_ma_ratio     ema_12  ...     %R_vnd  typical_price_vnd  \\\n",
              "49                     1.051320  67.416190  ... -16.150082        1008.440000   \n",
              "50                     1.002333  67.372161  ... -27.768933         999.190000   \n",
              "51                     0.962314  66.887213  ... -98.673500         989.976667   \n",
              "52                     0.911689  66.801488  ... -77.687444         986.693333   \n",
              "53                     0.757079  66.493567  ... -89.326633         970.453333   \n",
              "...                         ...        ...  ...        ...                ...   \n",
              "1012                   0.852511  50.921160  ...  -2.261522        1096.076667   \n",
              "1013                   1.488686  51.117904  ...  -3.478926        1104.753333   \n",
              "1014                   0.880335  51.453611  ...  -6.376196        1117.603333   \n",
              "1015                   0.926281  51.460748  ... -26.262993        1107.866667   \n",
              "1016                   0.927151  51.374479  ... -16.702737        1103.536667   \n",
              "\n",
              "         cci_vnd      obv_vnd   ema_12_vnd   ema_26_vnd  sma_20_vnd  \\\n",
              "49    117.650607   1911916753   997.995388   980.523935    992.3235   \n",
              "50     43.505368   1731871123   998.657636   982.136977    993.9095   \n",
              "51    -34.242716   1549163093   996.061077   982.110534    993.6200   \n",
              "52    -60.237723   1700974173   994.930142   982.599383    993.6100   \n",
              "53   -164.581097   1523341503   991.105504   981.671281    992.3920   \n",
              "...          ...          ...          ...          ...         ...   \n",
              "1012  157.861811  50953764568  1062.052982  1047.166167   1040.7145   \n",
              "1013  161.374773  51571478904  1069.134062  1051.678303   1045.1745   \n",
              "1014  173.107664  52176412304  1076.513437  1056.524355   1049.8990   \n",
              "1015  135.555465  51377736604  1080.522139  1059.935143   1054.0105   \n",
              "1016  112.554359  52126160624  1085.238733  1063.731059   1060.3090   \n",
              "\n",
              "      sma_50_vnd    change  target  \n",
              "49      944.8256 -0.019141       2  \n",
              "50      947.0366 -0.043349       2  \n",
              "51      949.1078  0.032856       1  \n",
              "52      951.2640 -0.023066       2  \n",
              "53      952.8726  0.010185       1  \n",
              "...          ...       ...     ...  \n",
              "1012   1020.0316 -0.005714       0  \n",
              "1013   1022.4814  0.021073       1  \n",
              "1014   1025.8786 -0.033771       2  \n",
              "1015   1028.8394 -0.011650       2  \n",
              "1016   1032.2422 -0.056974       2  \n",
              "\n",
              "[968 rows x 55 columns]"
            ],
            "text/html": [
              "\n",
              "  <div id=\"df-16270ffa-2c08-4f9b-a9a4-e6cc3c8fb5ad\" class=\"colab-df-container\">\n",
              "    <div>\n",
              "<style scoped>\n",
              "    .dataframe tbody tr th:only-of-type {\n",
              "        vertical-align: middle;\n",
              "    }\n",
              "\n",
              "    .dataframe tbody tr th {\n",
              "        vertical-align: top;\n",
              "    }\n",
              "\n",
              "    .dataframe thead th {\n",
              "        text-align: right;\n",
              "    }\n",
              "</style>\n",
              "<table border=\"1\" class=\"dataframe\">\n",
              "  <thead>\n",
              "    <tr style=\"text-align: right;\">\n",
              "      <th></th>\n",
              "      <th>time</th>\n",
              "      <th>open</th>\n",
              "      <th>high</th>\n",
              "      <th>low</th>\n",
              "      <th>close</th>\n",
              "      <th>volume</th>\n",
              "      <th>ticket</th>\n",
              "      <th>volume_ma</th>\n",
              "      <th>volume_to_volume_ma_ratio</th>\n",
              "      <th>ema_12</th>\n",
              "      <th>...</th>\n",
              "      <th>%R_vnd</th>\n",
              "      <th>typical_price_vnd</th>\n",
              "      <th>cci_vnd</th>\n",
              "      <th>obv_vnd</th>\n",
              "      <th>ema_12_vnd</th>\n",
              "      <th>ema_26_vnd</th>\n",
              "      <th>sma_20_vnd</th>\n",
              "      <th>sma_50_vnd</th>\n",
              "      <th>change</th>\n",
              "      <th>target</th>\n",
              "    </tr>\n",
              "  </thead>\n",
              "  <tbody>\n",
              "    <tr>\n",
              "      <th>49</th>\n",
              "      <td>2019-03-19</td>\n",
              "      <td>69.17</td>\n",
              "      <td>69.31</td>\n",
              "      <td>68.08</td>\n",
              "      <td>68.44</td>\n",
              "      <td>1100900</td>\n",
              "      <td>VHM</td>\n",
              "      <td>1047159.50</td>\n",
              "      <td>1.051320</td>\n",
              "      <td>67.416190</td>\n",
              "      <td>...</td>\n",
              "      <td>-16.150082</td>\n",
              "      <td>1008.440000</td>\n",
              "      <td>117.650607</td>\n",
              "      <td>1911916753</td>\n",
              "      <td>997.995388</td>\n",
              "      <td>980.523935</td>\n",
              "      <td>992.3235</td>\n",
              "      <td>944.8256</td>\n",
              "      <td>-0.019141</td>\n",
              "      <td>2</td>\n",
              "    </tr>\n",
              "    <tr>\n",
              "      <th>50</th>\n",
              "      <td>2019-03-20</td>\n",
              "      <td>67.79</td>\n",
              "      <td>68.00</td>\n",
              "      <td>66.26</td>\n",
              "      <td>67.13</td>\n",
              "      <td>1061950</td>\n",
              "      <td>VHM</td>\n",
              "      <td>1059478.00</td>\n",
              "      <td>1.002333</td>\n",
              "      <td>67.372161</td>\n",
              "      <td>...</td>\n",
              "      <td>-27.768933</td>\n",
              "      <td>999.190000</td>\n",
              "      <td>43.505368</td>\n",
              "      <td>1731871123</td>\n",
              "      <td>998.657636</td>\n",
              "      <td>982.136977</td>\n",
              "      <td>993.9095</td>\n",
              "      <td>947.0366</td>\n",
              "      <td>-0.043349</td>\n",
              "      <td>2</td>\n",
              "    </tr>\n",
              "    <tr>\n",
              "      <th>51</th>\n",
              "      <td>2019-03-21</td>\n",
              "      <td>67.71</td>\n",
              "      <td>67.71</td>\n",
              "      <td>64.22</td>\n",
              "      <td>64.22</td>\n",
              "      <td>1009930</td>\n",
              "      <td>VHM</td>\n",
              "      <td>1049481.00</td>\n",
              "      <td>0.962314</td>\n",
              "      <td>66.887213</td>\n",
              "      <td>...</td>\n",
              "      <td>-98.673500</td>\n",
              "      <td>989.976667</td>\n",
              "      <td>-34.242716</td>\n",
              "      <td>1549163093</td>\n",
              "      <td>996.061077</td>\n",
              "      <td>982.110534</td>\n",
              "      <td>993.6200</td>\n",
              "      <td>949.1078</td>\n",
              "      <td>0.032856</td>\n",
              "      <td>1</td>\n",
              "    </tr>\n",
              "    <tr>\n",
              "      <th>52</th>\n",
              "      <td>2019-03-22</td>\n",
              "      <td>64.80</td>\n",
              "      <td>66.40</td>\n",
              "      <td>64.07</td>\n",
              "      <td>66.33</td>\n",
              "      <td>957080</td>\n",
              "      <td>VHM</td>\n",
              "      <td>1049787.50</td>\n",
              "      <td>0.911689</td>\n",
              "      <td>66.801488</td>\n",
              "      <td>...</td>\n",
              "      <td>-77.687444</td>\n",
              "      <td>986.693333</td>\n",
              "      <td>-60.237723</td>\n",
              "      <td>1700974173</td>\n",
              "      <td>994.930142</td>\n",
              "      <td>982.599383</td>\n",
              "      <td>993.6100</td>\n",
              "      <td>951.2640</td>\n",
              "      <td>-0.023066</td>\n",
              "      <td>2</td>\n",
              "    </tr>\n",
              "    <tr>\n",
              "      <th>53</th>\n",
              "      <td>2019-03-25</td>\n",
              "      <td>65.16</td>\n",
              "      <td>65.16</td>\n",
              "      <td>63.71</td>\n",
              "      <td>64.80</td>\n",
              "      <td>793070</td>\n",
              "      <td>VHM</td>\n",
              "      <td>1047539.00</td>\n",
              "      <td>0.757079</td>\n",
              "      <td>66.493567</td>\n",
              "      <td>...</td>\n",
              "      <td>-89.326633</td>\n",
              "      <td>970.453333</td>\n",
              "      <td>-164.581097</td>\n",
              "      <td>1523341503</td>\n",
              "      <td>991.105504</td>\n",
              "      <td>981.671281</td>\n",
              "      <td>992.3920</td>\n",
              "      <td>952.8726</td>\n",
              "      <td>0.010185</td>\n",
              "      <td>1</td>\n",
              "    </tr>\n",
              "    <tr>\n",
              "      <th>...</th>\n",
              "      <td>...</td>\n",
              "      <td>...</td>\n",
              "      <td>...</td>\n",
              "      <td>...</td>\n",
              "      <td>...</td>\n",
              "      <td>...</td>\n",
              "      <td>...</td>\n",
              "      <td>...</td>\n",
              "      <td>...</td>\n",
              "      <td>...</td>\n",
              "      <td>...</td>\n",
              "      <td>...</td>\n",
              "      <td>...</td>\n",
              "      <td>...</td>\n",
              "      <td>...</td>\n",
              "      <td>...</td>\n",
              "      <td>...</td>\n",
              "      <td>...</td>\n",
              "      <td>...</td>\n",
              "      <td>...</td>\n",
              "      <td>...</td>\n",
              "    </tr>\n",
              "    <tr>\n",
              "      <th>1012</th>\n",
              "      <td>2023-01-18</td>\n",
              "      <td>52.00</td>\n",
              "      <td>52.90</td>\n",
              "      <td>50.90</td>\n",
              "      <td>52.50</td>\n",
              "      <td>1265675</td>\n",
              "      <td>VHM</td>\n",
              "      <td>1484643.60</td>\n",
              "      <td>0.852511</td>\n",
              "      <td>50.921160</td>\n",
              "      <td>...</td>\n",
              "      <td>-2.261522</td>\n",
              "      <td>1096.076667</td>\n",
              "      <td>157.861811</td>\n",
              "      <td>50953764568</td>\n",
              "      <td>1062.052982</td>\n",
              "      <td>1047.166167</td>\n",
              "      <td>1040.7145</td>\n",
              "      <td>1020.0316</td>\n",
              "      <td>-0.005714</td>\n",
              "      <td>0</td>\n",
              "    </tr>\n",
              "    <tr>\n",
              "      <th>1013</th>\n",
              "      <td>2023-01-19</td>\n",
              "      <td>52.40</td>\n",
              "      <td>53.40</td>\n",
              "      <td>51.50</td>\n",
              "      <td>52.20</td>\n",
              "      <td>2236566</td>\n",
              "      <td>VHM</td>\n",
              "      <td>1502375.85</td>\n",
              "      <td>1.488686</td>\n",
              "      <td>51.117904</td>\n",
              "      <td>...</td>\n",
              "      <td>-3.478926</td>\n",
              "      <td>1104.753333</td>\n",
              "      <td>161.374773</td>\n",
              "      <td>51571478904</td>\n",
              "      <td>1069.134062</td>\n",
              "      <td>1051.678303</td>\n",
              "      <td>1045.1745</td>\n",
              "      <td>1022.4814</td>\n",
              "      <td>0.021073</td>\n",
              "      <td>1</td>\n",
              "    </tr>\n",
              "    <tr>\n",
              "      <th>1014</th>\n",
              "      <td>2023-01-27</td>\n",
              "      <td>52.40</td>\n",
              "      <td>53.90</td>\n",
              "      <td>51.90</td>\n",
              "      <td>53.30</td>\n",
              "      <td>1283501</td>\n",
              "      <td>VHM</td>\n",
              "      <td>1457968.85</td>\n",
              "      <td>0.880335</td>\n",
              "      <td>51.453611</td>\n",
              "      <td>...</td>\n",
              "      <td>-6.376196</td>\n",
              "      <td>1117.603333</td>\n",
              "      <td>173.107664</td>\n",
              "      <td>52176412304</td>\n",
              "      <td>1076.513437</td>\n",
              "      <td>1056.524355</td>\n",
              "      <td>1049.8990</td>\n",
              "      <td>1025.8786</td>\n",
              "      <td>-0.033771</td>\n",
              "      <td>2</td>\n",
              "    </tr>\n",
              "    <tr>\n",
              "      <th>1015</th>\n",
              "      <td>2023-01-30</td>\n",
              "      <td>53.30</td>\n",
              "      <td>53.50</td>\n",
              "      <td>51.50</td>\n",
              "      <td>51.50</td>\n",
              "      <td>1350577</td>\n",
              "      <td>VHM</td>\n",
              "      <td>1458064.10</td>\n",
              "      <td>0.926281</td>\n",
              "      <td>51.460748</td>\n",
              "      <td>...</td>\n",
              "      <td>-26.262993</td>\n",
              "      <td>1107.866667</td>\n",
              "      <td>135.555465</td>\n",
              "      <td>51377736604</td>\n",
              "      <td>1080.522139</td>\n",
              "      <td>1059.935143</td>\n",
              "      <td>1054.0105</td>\n",
              "      <td>1028.8394</td>\n",
              "      <td>-0.011650</td>\n",
              "      <td>2</td>\n",
              "    </tr>\n",
              "    <tr>\n",
              "      <th>1016</th>\n",
              "      <td>2023-01-31</td>\n",
              "      <td>51.50</td>\n",
              "      <td>51.80</td>\n",
              "      <td>50.40</td>\n",
              "      <td>50.90</td>\n",
              "      <td>1313510</td>\n",
              "      <td>VHM</td>\n",
              "      <td>1416716.15</td>\n",
              "      <td>0.927151</td>\n",
              "      <td>51.374479</td>\n",
              "      <td>...</td>\n",
              "      <td>-16.702737</td>\n",
              "      <td>1103.536667</td>\n",
              "      <td>112.554359</td>\n",
              "      <td>52126160624</td>\n",
              "      <td>1085.238733</td>\n",
              "      <td>1063.731059</td>\n",
              "      <td>1060.3090</td>\n",
              "      <td>1032.2422</td>\n",
              "      <td>-0.056974</td>\n",
              "      <td>2</td>\n",
              "    </tr>\n",
              "  </tbody>\n",
              "</table>\n",
              "<p>968 rows × 55 columns</p>\n",
              "</div>\n",
              "    <div class=\"colab-df-buttons\">\n",
              "\n",
              "  <div class=\"colab-df-container\">\n",
              "    <button class=\"colab-df-convert\" onclick=\"convertToInteractive('df-16270ffa-2c08-4f9b-a9a4-e6cc3c8fb5ad')\"\n",
              "            title=\"Convert this dataframe to an interactive table.\"\n",
              "            style=\"display:none;\">\n",
              "\n",
              "  <svg xmlns=\"http://www.w3.org/2000/svg\" height=\"24px\" viewBox=\"0 -960 960 960\">\n",
              "    <path d=\"M120-120v-720h720v720H120Zm60-500h600v-160H180v160Zm220 220h160v-160H400v160Zm0 220h160v-160H400v160ZM180-400h160v-160H180v160Zm440 0h160v-160H620v160ZM180-180h160v-160H180v160Zm440 0h160v-160H620v160Z\"/>\n",
              "  </svg>\n",
              "    </button>\n",
              "\n",
              "  <style>\n",
              "    .colab-df-container {\n",
              "      display:flex;\n",
              "      gap: 12px;\n",
              "    }\n",
              "\n",
              "    .colab-df-convert {\n",
              "      background-color: #E8F0FE;\n",
              "      border: none;\n",
              "      border-radius: 50%;\n",
              "      cursor: pointer;\n",
              "      display: none;\n",
              "      fill: #1967D2;\n",
              "      height: 32px;\n",
              "      padding: 0 0 0 0;\n",
              "      width: 32px;\n",
              "    }\n",
              "\n",
              "    .colab-df-convert:hover {\n",
              "      background-color: #E2EBFA;\n",
              "      box-shadow: 0px 1px 2px rgba(60, 64, 67, 0.3), 0px 1px 3px 1px rgba(60, 64, 67, 0.15);\n",
              "      fill: #174EA6;\n",
              "    }\n",
              "\n",
              "    .colab-df-buttons div {\n",
              "      margin-bottom: 4px;\n",
              "    }\n",
              "\n",
              "    [theme=dark] .colab-df-convert {\n",
              "      background-color: #3B4455;\n",
              "      fill: #D2E3FC;\n",
              "    }\n",
              "\n",
              "    [theme=dark] .colab-df-convert:hover {\n",
              "      background-color: #434B5C;\n",
              "      box-shadow: 0px 1px 3px 1px rgba(0, 0, 0, 0.15);\n",
              "      filter: drop-shadow(0px 1px 2px rgba(0, 0, 0, 0.3));\n",
              "      fill: #FFFFFF;\n",
              "    }\n",
              "  </style>\n",
              "\n",
              "    <script>\n",
              "      const buttonEl =\n",
              "        document.querySelector('#df-16270ffa-2c08-4f9b-a9a4-e6cc3c8fb5ad button.colab-df-convert');\n",
              "      buttonEl.style.display =\n",
              "        google.colab.kernel.accessAllowed ? 'block' : 'none';\n",
              "\n",
              "      async function convertToInteractive(key) {\n",
              "        const element = document.querySelector('#df-16270ffa-2c08-4f9b-a9a4-e6cc3c8fb5ad');\n",
              "        const dataTable =\n",
              "          await google.colab.kernel.invokeFunction('convertToInteractive',\n",
              "                                                    [key], {});\n",
              "        if (!dataTable) return;\n",
              "\n",
              "        const docLinkHtml = 'Like what you see? Visit the ' +\n",
              "          '<a target=\"_blank\" href=https://colab.research.google.com/notebooks/data_table.ipynb>data table notebook</a>'\n",
              "          + ' to learn more about interactive tables.';\n",
              "        element.innerHTML = '';\n",
              "        dataTable['output_type'] = 'display_data';\n",
              "        await google.colab.output.renderOutput(dataTable, element);\n",
              "        const docLink = document.createElement('div');\n",
              "        docLink.innerHTML = docLinkHtml;\n",
              "        element.appendChild(docLink);\n",
              "      }\n",
              "    </script>\n",
              "  </div>\n",
              "\n",
              "\n",
              "<div id=\"df-17cfe475-7889-4a37-9e64-3ba2e04692ba\">\n",
              "  <button class=\"colab-df-quickchart\" onclick=\"quickchart('df-17cfe475-7889-4a37-9e64-3ba2e04692ba')\"\n",
              "            title=\"Suggest charts\"\n",
              "            style=\"display:none;\">\n",
              "\n",
              "<svg xmlns=\"http://www.w3.org/2000/svg\" height=\"24px\"viewBox=\"0 0 24 24\"\n",
              "     width=\"24px\">\n",
              "    <g>\n",
              "        <path d=\"M19 3H5c-1.1 0-2 .9-2 2v14c0 1.1.9 2 2 2h14c1.1 0 2-.9 2-2V5c0-1.1-.9-2-2-2zM9 17H7v-7h2v7zm4 0h-2V7h2v10zm4 0h-2v-4h2v4z\"/>\n",
              "    </g>\n",
              "</svg>\n",
              "  </button>\n",
              "\n",
              "<style>\n",
              "  .colab-df-quickchart {\n",
              "      --bg-color: #E8F0FE;\n",
              "      --fill-color: #1967D2;\n",
              "      --hover-bg-color: #E2EBFA;\n",
              "      --hover-fill-color: #174EA6;\n",
              "      --disabled-fill-color: #AAA;\n",
              "      --disabled-bg-color: #DDD;\n",
              "  }\n",
              "\n",
              "  [theme=dark] .colab-df-quickchart {\n",
              "      --bg-color: #3B4455;\n",
              "      --fill-color: #D2E3FC;\n",
              "      --hover-bg-color: #434B5C;\n",
              "      --hover-fill-color: #FFFFFF;\n",
              "      --disabled-bg-color: #3B4455;\n",
              "      --disabled-fill-color: #666;\n",
              "  }\n",
              "\n",
              "  .colab-df-quickchart {\n",
              "    background-color: var(--bg-color);\n",
              "    border: none;\n",
              "    border-radius: 50%;\n",
              "    cursor: pointer;\n",
              "    display: none;\n",
              "    fill: var(--fill-color);\n",
              "    height: 32px;\n",
              "    padding: 0;\n",
              "    width: 32px;\n",
              "  }\n",
              "\n",
              "  .colab-df-quickchart:hover {\n",
              "    background-color: var(--hover-bg-color);\n",
              "    box-shadow: 0 1px 2px rgba(60, 64, 67, 0.3), 0 1px 3px 1px rgba(60, 64, 67, 0.15);\n",
              "    fill: var(--button-hover-fill-color);\n",
              "  }\n",
              "\n",
              "  .colab-df-quickchart-complete:disabled,\n",
              "  .colab-df-quickchart-complete:disabled:hover {\n",
              "    background-color: var(--disabled-bg-color);\n",
              "    fill: var(--disabled-fill-color);\n",
              "    box-shadow: none;\n",
              "  }\n",
              "\n",
              "  .colab-df-spinner {\n",
              "    border: 2px solid var(--fill-color);\n",
              "    border-color: transparent;\n",
              "    border-bottom-color: var(--fill-color);\n",
              "    animation:\n",
              "      spin 1s steps(1) infinite;\n",
              "  }\n",
              "\n",
              "  @keyframes spin {\n",
              "    0% {\n",
              "      border-color: transparent;\n",
              "      border-bottom-color: var(--fill-color);\n",
              "      border-left-color: var(--fill-color);\n",
              "    }\n",
              "    20% {\n",
              "      border-color: transparent;\n",
              "      border-left-color: var(--fill-color);\n",
              "      border-top-color: var(--fill-color);\n",
              "    }\n",
              "    30% {\n",
              "      border-color: transparent;\n",
              "      border-left-color: var(--fill-color);\n",
              "      border-top-color: var(--fill-color);\n",
              "      border-right-color: var(--fill-color);\n",
              "    }\n",
              "    40% {\n",
              "      border-color: transparent;\n",
              "      border-right-color: var(--fill-color);\n",
              "      border-top-color: var(--fill-color);\n",
              "    }\n",
              "    60% {\n",
              "      border-color: transparent;\n",
              "      border-right-color: var(--fill-color);\n",
              "    }\n",
              "    80% {\n",
              "      border-color: transparent;\n",
              "      border-right-color: var(--fill-color);\n",
              "      border-bottom-color: var(--fill-color);\n",
              "    }\n",
              "    90% {\n",
              "      border-color: transparent;\n",
              "      border-bottom-color: var(--fill-color);\n",
              "    }\n",
              "  }\n",
              "</style>\n",
              "\n",
              "  <script>\n",
              "    async function quickchart(key) {\n",
              "      const quickchartButtonEl =\n",
              "        document.querySelector('#' + key + ' button');\n",
              "      quickchartButtonEl.disabled = true;  // To prevent multiple clicks.\n",
              "      quickchartButtonEl.classList.add('colab-df-spinner');\n",
              "      try {\n",
              "        const charts = await google.colab.kernel.invokeFunction(\n",
              "            'suggestCharts', [key], {});\n",
              "      } catch (error) {\n",
              "        console.error('Error during call to suggestCharts:', error);\n",
              "      }\n",
              "      quickchartButtonEl.classList.remove('colab-df-spinner');\n",
              "      quickchartButtonEl.classList.add('colab-df-quickchart-complete');\n",
              "    }\n",
              "    (() => {\n",
              "      let quickchartButtonEl =\n",
              "        document.querySelector('#df-17cfe475-7889-4a37-9e64-3ba2e04692ba button');\n",
              "      quickchartButtonEl.style.display =\n",
              "        google.colab.kernel.accessAllowed ? 'block' : 'none';\n",
              "    })();\n",
              "  </script>\n",
              "</div>\n",
              "\n",
              "  <div id=\"id_75ee6859-3737-48b3-aa3c-8cf6e76aa902\">\n",
              "    <style>\n",
              "      .colab-df-generate {\n",
              "        background-color: #E8F0FE;\n",
              "        border: none;\n",
              "        border-radius: 50%;\n",
              "        cursor: pointer;\n",
              "        display: none;\n",
              "        fill: #1967D2;\n",
              "        height: 32px;\n",
              "        padding: 0 0 0 0;\n",
              "        width: 32px;\n",
              "      }\n",
              "\n",
              "      .colab-df-generate:hover {\n",
              "        background-color: #E2EBFA;\n",
              "        box-shadow: 0px 1px 2px rgba(60, 64, 67, 0.3), 0px 1px 3px 1px rgba(60, 64, 67, 0.15);\n",
              "        fill: #174EA6;\n",
              "      }\n",
              "\n",
              "      [theme=dark] .colab-df-generate {\n",
              "        background-color: #3B4455;\n",
              "        fill: #D2E3FC;\n",
              "      }\n",
              "\n",
              "      [theme=dark] .colab-df-generate:hover {\n",
              "        background-color: #434B5C;\n",
              "        box-shadow: 0px 1px 3px 1px rgba(0, 0, 0, 0.15);\n",
              "        filter: drop-shadow(0px 1px 2px rgba(0, 0, 0, 0.3));\n",
              "        fill: #FFFFFF;\n",
              "      }\n",
              "    </style>\n",
              "    <button class=\"colab-df-generate\" onclick=\"generateWithVariable('df_vhm_process')\"\n",
              "            title=\"Generate code using this dataframe.\"\n",
              "            style=\"display:none;\">\n",
              "\n",
              "  <svg xmlns=\"http://www.w3.org/2000/svg\" height=\"24px\"viewBox=\"0 0 24 24\"\n",
              "       width=\"24px\">\n",
              "    <path d=\"M7,19H8.4L18.45,9,17,7.55,7,17.6ZM5,21V16.75L18.45,3.32a2,2,0,0,1,2.83,0l1.4,1.43a1.91,1.91,0,0,1,.58,1.4,1.91,1.91,0,0,1-.58,1.4L9.25,21ZM18.45,9,17,7.55Zm-12,3A5.31,5.31,0,0,0,4.9,8.1,5.31,5.31,0,0,0,1,6.5,5.31,5.31,0,0,0,4.9,4.9,5.31,5.31,0,0,0,6.5,1,5.31,5.31,0,0,0,8.1,4.9,5.31,5.31,0,0,0,12,6.5,5.46,5.46,0,0,0,6.5,12Z\"/>\n",
              "  </svg>\n",
              "    </button>\n",
              "    <script>\n",
              "      (() => {\n",
              "      const buttonEl =\n",
              "        document.querySelector('#id_75ee6859-3737-48b3-aa3c-8cf6e76aa902 button.colab-df-generate');\n",
              "      buttonEl.style.display =\n",
              "        google.colab.kernel.accessAllowed ? 'block' : 'none';\n",
              "\n",
              "      buttonEl.onclick = () => {\n",
              "        google.colab.notebook.generateWithVariable('df_vhm_process');\n",
              "      }\n",
              "      })();\n",
              "    </script>\n",
              "  </div>\n",
              "\n",
              "    </div>\n",
              "  </div>\n"
            ],
            "application/vnd.google.colaboratory.intrinsic+json": {
              "type": "dataframe",
              "variable_name": "df_vhm_process"
            }
          },
          "metadata": {},
          "execution_count": 15
        }
      ]
    },
    {
      "cell_type": "code",
      "source": [
        "#  Hàm xử lý và chuẩn hóa dữ liệu\n",
        "scaler = None\n",
        "def process_and_create_lstm_data(symbol, features, target, time_steps=5, scaler=None, drop_na=True, file_path = '/content/drive/MyDrive/thacsi/LuanVan/PredictStock/TA/v1/train_data'):\n",
        "    df = load_and_process_data(symbol, drop_na, file_path= file_path)\n",
        "    if df is None or len(df) < time_steps:\n",
        "        return None, None  # Trả về None nếu dữ liệu không đủ dài\n",
        "    if scaler is None:\n",
        "        # scaler = RobustScaler()\n",
        "        scaler = StandardScaler()\n",
        "        # scaler = MinMaxScaler()\n",
        "        df[features] = scaler.fit_transform(df[features])\n",
        "    else:\n",
        "        df[features] = scaler.transform(df[features])\n",
        "\n",
        "    X, y = [], []\n",
        "    # sua\n",
        "    for i in range(time_steps, len(df)):\n",
        "        X.append(df[features].iloc[i-time_steps:i].values)\n",
        "        y.append(df[target].iloc[i])\n",
        "    return np.array(X), np.array(y), scaler"
      ],
      "metadata": {
        "id": "jWHLGio23al5"
      },
      "execution_count": 13,
      "outputs": []
    },
    {
      "cell_type": "code",
      "source": [
        "# Xử lý và kết hợp dữ liệu cho nhiều cổ phiếu để tạo tập dữ liệu\n",
        "# vn30_symbols = [\"ACB\",\"BCM\",\"BID\",\"BVH\",\"CTG\",\"FPT\",\"GAS\",\"GVR\",\"HDB\",\"HPG\",\"MBB\",\"MSN\",\"MWG\",\"PLX\",\"POW\",\"SAB\",\"SHB\",\"SSB\",\"SSI\",\"STB\",\"TCB\",\"TPB\",\"VCB\",\"VHM\",\"VIB\",\"VIC\",\"VJC\",\"VNM\",\"VPB\",\"VRE\"]\n",
        "vn30_symbols = ['ACB', 'BCM', 'BID','BVH','CTG','FPT','GAS','GVR','HDB','HPG','LPB','MBB','MSN','MWG','PLX','SAB','SHB','SSB','SSI','STB','TCB','TPB','VCB','VHM','VIB','VIC','VJC','VNM','VPB','VRE']\n",
        "\n",
        "# Đặc trưng và biến mục tiêu\n",
        "features = ['volume_ma','volume_to_volume_ma_ratio','ema_12','ema_26','sma_20','sma_50','roc_5','%K','%R','cci','obv','macd','signal_line','macd_histogram','rsi','bb_bbm','bb_bbh','bb_bbl','bb_bbp','bb_bbh_bb_bbl_ratio','rsi_vnd','rsi_base_ma_vnd','rsi_rsi_base_ma_ratio_vnd','volume_ma_vnd','volume_to_volume_ma_ratio_vnd','bb_bbm_vnd','bb_bbh_vnd','bb_bbl_vnd','bb_bbp_vnd','bb_bbh_bb_bbl_ratio_vnd','roc_vnd','%K_vnd','%R_vnd','cci_vnd','obv_vnd','ema_12_vnd','ema_26_vnd','sma_20_vnd','sma_50_vnd']\n",
        "target = 'target'\n",
        "\n",
        "# Khởi tạo danh sách để lưu dữ liệu\n",
        "X_all, y_all = [], []\n",
        "scaler = None\n",
        "\n",
        "for symbol in vn30_symbols:\n",
        "    X, y, scaler = process_and_create_lstm_data(symbol, features, target,5, scaler, file_path = '/content/drive/MyDrive/thacsi/LuanVan/PredictStock/TA/v1/train_data')\n",
        "    if X is not None and y is not None:\n",
        "        X_all.append(X)\n",
        "        y_all.append(y)\n",
        "\n",
        "# Kết hợp tất cả dữ liệu lại\n",
        "X_all = np.concatenate(X_all, axis=0)\n",
        "y_all = np.concatenate(y_all, axis=0)\n",
        "\n",
        "# Chia dữ liệu thành tập huấn luyện và tập kiểm tra\n",
        "X_train, X_val, y_train, y_val = train_test_split(X_all, y_all, test_size=0.2, random_state=42, stratify=y_all)"
      ],
      "metadata": {
        "colab": {
          "base_uri": "https://localhost:8080/"
        },
        "id": "01d1FAaG37Jl",
        "outputId": "5ef5440e-70bf-4bdf-81df-b37e7328abe8"
      },
      "execution_count": 16,
      "outputs": [
        {
          "output_type": "stream",
          "name": "stdout",
          "text": [
            "✅ Đã load dữ liệu cho mã: ACB\n",
            "✅ Đã load dữ liệu cho mã: VNINDEX\n",
            "✅ Đã load dữ liệu cho mã: BCM\n",
            "✅ Đã load dữ liệu cho mã: VNINDEX\n",
            "✅ Đã load dữ liệu cho mã: BID\n",
            "✅ Đã load dữ liệu cho mã: VNINDEX\n",
            "✅ Đã load dữ liệu cho mã: BVH\n",
            "✅ Đã load dữ liệu cho mã: VNINDEX\n",
            "✅ Đã load dữ liệu cho mã: CTG\n",
            "✅ Đã load dữ liệu cho mã: VNINDEX\n",
            "✅ Đã load dữ liệu cho mã: FPT\n",
            "✅ Đã load dữ liệu cho mã: VNINDEX\n",
            "✅ Đã load dữ liệu cho mã: GAS\n",
            "✅ Đã load dữ liệu cho mã: VNINDEX\n",
            "✅ Đã load dữ liệu cho mã: GVR\n",
            "✅ Đã load dữ liệu cho mã: VNINDEX\n",
            "✅ Đã load dữ liệu cho mã: HDB\n",
            "✅ Đã load dữ liệu cho mã: VNINDEX\n",
            "✅ Đã load dữ liệu cho mã: HPG\n",
            "✅ Đã load dữ liệu cho mã: VNINDEX\n",
            "✅ Đã load dữ liệu cho mã: LPB\n",
            "✅ Đã load dữ liệu cho mã: VNINDEX\n",
            "✅ Đã load dữ liệu cho mã: MBB\n",
            "✅ Đã load dữ liệu cho mã: VNINDEX\n",
            "✅ Đã load dữ liệu cho mã: MSN\n",
            "✅ Đã load dữ liệu cho mã: VNINDEX\n",
            "✅ Đã load dữ liệu cho mã: MWG\n",
            "✅ Đã load dữ liệu cho mã: VNINDEX\n",
            "✅ Đã load dữ liệu cho mã: PLX\n",
            "✅ Đã load dữ liệu cho mã: VNINDEX\n",
            "✅ Đã load dữ liệu cho mã: SAB\n",
            "✅ Đã load dữ liệu cho mã: VNINDEX\n",
            "✅ Đã load dữ liệu cho mã: SHB\n",
            "✅ Đã load dữ liệu cho mã: VNINDEX\n",
            "✅ Đã load dữ liệu cho mã: SSB\n",
            "✅ Đã load dữ liệu cho mã: VNINDEX\n",
            "✅ Đã load dữ liệu cho mã: SSI\n",
            "✅ Đã load dữ liệu cho mã: VNINDEX\n",
            "✅ Đã load dữ liệu cho mã: STB\n",
            "✅ Đã load dữ liệu cho mã: VNINDEX\n",
            "✅ Đã load dữ liệu cho mã: TCB\n",
            "✅ Đã load dữ liệu cho mã: VNINDEX\n",
            "✅ Đã load dữ liệu cho mã: TPB\n",
            "✅ Đã load dữ liệu cho mã: VNINDEX\n",
            "✅ Đã load dữ liệu cho mã: VCB\n",
            "✅ Đã load dữ liệu cho mã: VNINDEX\n",
            "✅ Đã load dữ liệu cho mã: VHM\n",
            "✅ Đã load dữ liệu cho mã: VNINDEX\n",
            "✅ Đã load dữ liệu cho mã: VIB\n",
            "✅ Đã load dữ liệu cho mã: VNINDEX\n",
            "✅ Đã load dữ liệu cho mã: VIC\n",
            "✅ Đã load dữ liệu cho mã: VNINDEX\n",
            "✅ Đã load dữ liệu cho mã: VJC\n",
            "✅ Đã load dữ liệu cho mã: VNINDEX\n",
            "✅ Đã load dữ liệu cho mã: VNM\n",
            "✅ Đã load dữ liệu cho mã: VNINDEX\n",
            "✅ Đã load dữ liệu cho mã: VPB\n",
            "✅ Đã load dữ liệu cho mã: VNINDEX\n",
            "✅ Đã load dữ liệu cho mã: VRE\n",
            "✅ Đã load dữ liệu cho mã: VNINDEX\n"
          ]
        }
      ]
    },
    {
      "cell_type": "code",
      "source": [
        "X_train.shape"
      ],
      "metadata": {
        "colab": {
          "base_uri": "https://localhost:8080/"
        },
        "id": "5v6QvqYq9ZNh",
        "outputId": "d80ed0d6-e4fc-4cd3-88b7-d89dc594ab4b"
      },
      "execution_count": 17,
      "outputs": [
        {
          "output_type": "execute_result",
          "data": {
            "text/plain": [
              "(22638, 5, 39)"
            ]
          },
          "metadata": {},
          "execution_count": 17
        }
      ]
    },
    {
      "cell_type": "code",
      "source": [
        "counts = Counter(y_train)\n",
        "\n",
        "print(f\"Số lượng 2 (Sell): {counts[2]}\")\n",
        "print(f\"Số lượng  0 (Hold): {counts[0]}\")\n",
        "print(f\"Số lượng  1 (Buy):  {counts[1]}\")"
      ],
      "metadata": {
        "colab": {
          "base_uri": "https://localhost:8080/"
        },
        "id": "6EmS4VzO97Hl",
        "outputId": "3fe3c292-b734-4be4-c6f2-e53dd3f79670"
      },
      "execution_count": 18,
      "outputs": [
        {
          "output_type": "stream",
          "name": "stdout",
          "text": [
            "Số lượng 2 (Sell): 5531\n",
            "Số lượng  0 (Hold): 11131\n",
            "Số lượng  1 (Buy):  5976\n"
          ]
        }
      ]
    },
    {
      "cell_type": "code",
      "source": [
        "# =========================================Sử dụng SMOTE để cân bằng lớp [Option]==========================================="
      ],
      "metadata": {
        "id": "Kn2wo69SsVpb"
      },
      "execution_count": null,
      "outputs": []
    },
    {
      "cell_type": "code",
      "source": [
        "# Ví dụ: chỉ cân bằng lớp 2 (Sell) và lớp 1 (Buy) lên mức 5000 mẫu\n",
        "smote = SMOTE(sampling_strategy={1: 5000, 2: 5000}, random_state=42)"
      ],
      "metadata": {
        "id": "zIDHHsrViTbb"
      },
      "execution_count": null,
      "outputs": []
    },
    {
      "cell_type": "code",
      "source": [
        "# Chuyển về 2D\n",
        "X_train_reshaped = X_train.reshape((X_train.shape[0], -1))\n",
        "\n"
      ],
      "metadata": {
        "id": "5Jy4TyxjiXKI"
      },
      "execution_count": null,
      "outputs": []
    },
    {
      "cell_type": "code",
      "source": [
        "# Áp dụng SMOTE\n",
        "X_train_resampled, y_train_resampled = smote.fit_resample(X_train_reshaped, y_train)"
      ],
      "metadata": {
        "id": "m8qv4QSUjaWs"
      },
      "execution_count": null,
      "outputs": []
    },
    {
      "cell_type": "code",
      "source": [
        "# Sau đó reshape lại để đưa vào mô hình (nếu cần)\n",
        "X_train_resampled = X_train_resampled.reshape((-1, 5, len(features)))"
      ],
      "metadata": {
        "id": "nF3YFoQsjcPX"
      },
      "execution_count": null,
      "outputs": []
    },
    {
      "cell_type": "code",
      "source": [
        "# In lại phân phối nhãn sau khi cân bằng\n",
        "print(\"Phân phối sau SMOTE:\", Counter(y_train_resampled))"
      ],
      "metadata": {
        "colab": {
          "base_uri": "https://localhost:8080/"
        },
        "id": "6u6r11Uujr-t",
        "outputId": "3ffac604-e71a-4ceb-a865-395091e1896a"
      },
      "execution_count": null,
      "outputs": [
        {
          "output_type": "stream",
          "name": "stdout",
          "text": [
            "Phân phối sau SMOTE: Counter({0: 16709, 1: 5000, 2: 5000})\n"
          ]
        }
      ]
    },
    {
      "cell_type": "code",
      "source": [
        "# =========================================Sử dụng SMOTE để cân bằng lớp [Option]==========================================="
      ],
      "metadata": {
        "id": "PJgh3JH4seyl"
      },
      "execution_count": null,
      "outputs": []
    },
    {
      "cell_type": "code",
      "source": [
        "def build_lstm_model(input_shape):\n",
        "    # Input layer\n",
        "    inputs = Input(shape=input_shape)\n",
        "\n",
        "    # LSTM layers\n",
        "    lstm_layer = LSTM(50, return_sequences=True)(inputs)\n",
        "    lstm_layer = LSTM(50)(lstm_layer)\n",
        "\n",
        "    # Fully connected layer\n",
        "    fc_layer = Dense(100, activation='relu')(lstm_layer)\n",
        "    fc_layer = Dropout(0.2)(fc_layer)\n",
        "\n",
        "    # Output layer (3 classes)\n",
        "    output = Dense(3, activation='softmax')(fc_layer)\n",
        "\n",
        "    # Compile model\n",
        "    model = Model(inputs=inputs, outputs=output)\n",
        "    model.compile(optimizer='adam', loss='categorical_crossentropy', metrics=['accuracy'])\n",
        "\n",
        "    return model\n"
      ],
      "metadata": {
        "id": "aFKCBq7p_i5Q"
      },
      "execution_count": 39,
      "outputs": []
    },
    {
      "cell_type": "code",
      "source": [
        "# Hàm xây dựng mô hình\n",
        "def build_model(input_shape):\n",
        "    # Input layer\n",
        "    inputs = Input(shape=input_shape)\n",
        "\n",
        "    # FastRNN Layer\n",
        "    # Assuming FastRNN is implemented as a custom RNN cell\n",
        "    @register_keras_serializable()\n",
        "    class FastRNNCell(tf.keras.layers.Layer):\n",
        "        def __init__(self, units):\n",
        "            super(FastRNNCell, self).__init__()\n",
        "            self.units = units\n",
        "            self.state_size = units\n",
        "\n",
        "        def build(self, input_shape):\n",
        "            self.U = self.add_weight(shape=(input_shape[-1], self.units), initializer='random_normal', trainable=True)\n",
        "            self.W = self.add_weight(shape=(self.units, self.units), initializer='random_normal', trainable=True)\n",
        "            self.alpha = self.add_weight(shape=(1,), initializer='random_normal', trainable=True)\n",
        "            self.beta = self.add_weight(shape=(1,), initializer='random_normal', trainable=True)\n",
        "\n",
        "        def call(self, inputs, states):\n",
        "            prev_state = states[0]\n",
        "            ht = self.alpha * tf.matmul(inputs, self.U) + self.beta * tf.matmul(prev_state, self.W)\n",
        "            return ht, [ht]\n",
        "\n",
        "    fast_rnn_layer = tf.keras.layers.RNN(FastRNNCell(64), return_sequences=True)(inputs)\n",
        "\n",
        "    # Bi-LSTM Layers\n",
        "    bi_lstm_layer = Bidirectional(LSTM(50, return_sequences=True))(fast_rnn_layer)\n",
        "    bi_lstm_layer = Bidirectional(LSTM(50))(bi_lstm_layer)\n",
        "\n",
        "\n",
        "    # Fully connected layer\n",
        "    fc_layer = Dense(100, activation='relu')(bi_lstm_layer)\n",
        "    fc_layer = Dropout(0.4)(fc_layer)\n",
        "\n",
        "    # Output layer\n",
        "    output = Dense(3, activation='softmax')(fc_layer)\n",
        "\n",
        "    # Create model\n",
        "    model = Model(inputs=inputs, outputs=output)\n",
        "    model.compile(optimizer='adam', loss='categorical_crossentropy', metrics=['accuracy'])\n",
        "\n",
        "    return model"
      ],
      "metadata": {
        "id": "4U2W1xwT9_Ne"
      },
      "execution_count": 19,
      "outputs": []
    },
    {
      "cell_type": "code",
      "source": [
        "# Load dữ liệu test\n",
        "# Xử lý và kết hợp dữ liệu cho nhiều cổ phiếu để tạo tập dữ liệu\n",
        "# vn30_symbols = [\"ACB\",\"BCM\",\"BID\",\"BVH\",\"CTG\",\"FPT\",\"GAS\",\"GVR\",\"HDB\",\"HPG\",\"MBB\",\"MSN\",\"MWG\",\"PLX\",\"POW\",\"SAB\",\"SHB\",\"SSB\",\"SSI\",\"STB\",\"TCB\",\"TPB\",\"VCB\",\"VHM\",\"VIB\",\"VIC\",\"VJC\",\"VNM\",\"VPB\",\"VRE\"]\n",
        "vn30_symbols = ['ACB', 'BCM', 'BID','BVH','CTG','FPT','GAS','GVR','HDB','HPG','LPB','MBB','MSN','MWG','PLX','SAB','SHB','SSB','SSI','STB','TCB','TPB','VCB','VHM','VIB','VIC','VJC','VNM','VPB','VRE']\n",
        "\n",
        "# Đặc trưng và biến mục tiêu\n",
        "features = ['volume_ma','volume_to_volume_ma_ratio','ema_12','ema_26','sma_20','sma_50','roc_5','%K','%R','cci','obv','macd','signal_line','macd_histogram','rsi','bb_bbm','bb_bbh','bb_bbl','bb_bbp','bb_bbh_bb_bbl_ratio','rsi_vnd','rsi_base_ma_vnd','rsi_rsi_base_ma_ratio_vnd','volume_ma_vnd','volume_to_volume_ma_ratio_vnd','bb_bbm_vnd','bb_bbh_vnd','bb_bbl_vnd','bb_bbp_vnd','bb_bbh_bb_bbl_ratio_vnd','roc_vnd','%K_vnd','%R_vnd','cci_vnd','obv_vnd','ema_12_vnd','ema_26_vnd','sma_20_vnd','sma_50_vnd']\n",
        "target = 'target'\n",
        "\n",
        "# Khởi tạo danh sách để lưu dữ liệu\n",
        "X_all, y_all = [], []\n",
        "# scaler = None\n",
        "\n",
        "for symbol in vn30_symbols:\n",
        "    X, y, scaler = process_and_create_lstm_data(symbol, features, target,5, scaler, file_path = '/content/drive/MyDrive/thacsi/LuanVan/PredictStock/TA/v1/test_data')\n",
        "    if X is not None and y is not None:\n",
        "        X_all.append(X)\n",
        "        y_all.append(y)\n",
        "\n",
        "# Kết hợp tất cả dữ liệu lại\n",
        "X_test = np.concatenate(X_all, axis=0)\n",
        "y_test = np.concatenate(y_all, axis=0)\n",
        "\n"
      ],
      "metadata": {
        "colab": {
          "base_uri": "https://localhost:8080/"
        },
        "id": "AcnG6t_FBA_J",
        "outputId": "db001e13-591a-4423-8ed1-200d789f6ff4"
      },
      "execution_count": 20,
      "outputs": [
        {
          "output_type": "stream",
          "name": "stdout",
          "text": [
            "✅ Đã load dữ liệu cho mã: ACB\n",
            "✅ Đã load dữ liệu cho mã: VNINDEX\n",
            "✅ Đã load dữ liệu cho mã: BCM\n",
            "✅ Đã load dữ liệu cho mã: VNINDEX\n",
            "✅ Đã load dữ liệu cho mã: BID\n",
            "✅ Đã load dữ liệu cho mã: VNINDEX\n",
            "✅ Đã load dữ liệu cho mã: BVH\n",
            "✅ Đã load dữ liệu cho mã: VNINDEX\n",
            "✅ Đã load dữ liệu cho mã: CTG\n",
            "✅ Đã load dữ liệu cho mã: VNINDEX\n",
            "✅ Đã load dữ liệu cho mã: FPT\n",
            "✅ Đã load dữ liệu cho mã: VNINDEX\n",
            "✅ Đã load dữ liệu cho mã: GAS\n",
            "✅ Đã load dữ liệu cho mã: VNINDEX\n",
            "✅ Đã load dữ liệu cho mã: GVR\n",
            "✅ Đã load dữ liệu cho mã: VNINDEX\n",
            "✅ Đã load dữ liệu cho mã: HDB\n",
            "✅ Đã load dữ liệu cho mã: VNINDEX\n",
            "✅ Đã load dữ liệu cho mã: HPG\n",
            "✅ Đã load dữ liệu cho mã: VNINDEX\n",
            "✅ Đã load dữ liệu cho mã: LPB\n",
            "✅ Đã load dữ liệu cho mã: VNINDEX\n",
            "✅ Đã load dữ liệu cho mã: MBB\n",
            "✅ Đã load dữ liệu cho mã: VNINDEX\n",
            "✅ Đã load dữ liệu cho mã: MSN\n",
            "✅ Đã load dữ liệu cho mã: VNINDEX\n",
            "✅ Đã load dữ liệu cho mã: MWG\n",
            "✅ Đã load dữ liệu cho mã: VNINDEX\n",
            "✅ Đã load dữ liệu cho mã: PLX\n",
            "✅ Đã load dữ liệu cho mã: VNINDEX\n",
            "✅ Đã load dữ liệu cho mã: SAB\n",
            "✅ Đã load dữ liệu cho mã: VNINDEX\n",
            "✅ Đã load dữ liệu cho mã: SHB\n",
            "✅ Đã load dữ liệu cho mã: VNINDEX\n",
            "✅ Đã load dữ liệu cho mã: SSB\n",
            "✅ Đã load dữ liệu cho mã: VNINDEX\n",
            "✅ Đã load dữ liệu cho mã: SSI\n",
            "✅ Đã load dữ liệu cho mã: VNINDEX\n",
            "✅ Đã load dữ liệu cho mã: STB\n",
            "✅ Đã load dữ liệu cho mã: VNINDEX\n",
            "✅ Đã load dữ liệu cho mã: TCB\n",
            "✅ Đã load dữ liệu cho mã: VNINDEX\n",
            "✅ Đã load dữ liệu cho mã: TPB\n",
            "✅ Đã load dữ liệu cho mã: VNINDEX\n",
            "✅ Đã load dữ liệu cho mã: VCB\n",
            "✅ Đã load dữ liệu cho mã: VNINDEX\n",
            "✅ Đã load dữ liệu cho mã: VHM\n",
            "✅ Đã load dữ liệu cho mã: VNINDEX\n",
            "✅ Đã load dữ liệu cho mã: VIB\n",
            "✅ Đã load dữ liệu cho mã: VNINDEX\n",
            "✅ Đã load dữ liệu cho mã: VIC\n",
            "✅ Đã load dữ liệu cho mã: VNINDEX\n",
            "✅ Đã load dữ liệu cho mã: VJC\n",
            "✅ Đã load dữ liệu cho mã: VNINDEX\n",
            "✅ Đã load dữ liệu cho mã: VNM\n",
            "✅ Đã load dữ liệu cho mã: VNINDEX\n",
            "✅ Đã load dữ liệu cho mã: VPB\n",
            "✅ Đã load dữ liệu cho mã: VNINDEX\n",
            "✅ Đã load dữ liệu cho mã: VRE\n",
            "✅ Đã load dữ liệu cho mã: VNINDEX\n"
          ]
        }
      ]
    },
    {
      "cell_type": "code",
      "source": [
        "X_test.shape"
      ],
      "metadata": {
        "colab": {
          "base_uri": "https://localhost:8080/"
        },
        "id": "kfUsi2r6Byx3",
        "outputId": "b7f35d30-97c3-4983-e569-8d6cd436abc6"
      },
      "execution_count": 21,
      "outputs": [
        {
          "output_type": "execute_result",
          "data": {
            "text/plain": [
              "(5850, 5, 39)"
            ]
          },
          "metadata": {},
          "execution_count": 21
        }
      ]
    },
    {
      "cell_type": "code",
      "source": [
        "counts = Counter(y_test)\n",
        "\n",
        "print(f\"Số lượng 2 (Sell): {counts[2]}\")\n",
        "print(f\"Số lượng  0 (Hold): {counts[0]}\")\n",
        "print(f\"Số lượng  1 (Buy):  {counts[1]}\")"
      ],
      "metadata": {
        "colab": {
          "base_uri": "https://localhost:8080/"
        },
        "id": "qEEZEG_MY2Gv",
        "outputId": "2b570367-afae-4574-d1b7-8fe2e693e6bb"
      },
      "execution_count": 22,
      "outputs": [
        {
          "output_type": "stream",
          "name": "stdout",
          "text": [
            "Số lượng 2 (Sell): 1027\n",
            "Số lượng  0 (Hold): 3728\n",
            "Số lượng  1 (Buy):  1095\n"
          ]
        }
      ]
    },
    {
      "cell_type": "code",
      "source": [
        "# ==============================================LSTM Model==========================================================="
      ],
      "metadata": {
        "id": "DhDJKrlGx20O"
      },
      "execution_count": null,
      "outputs": []
    },
    {
      "cell_type": "code",
      "source": [
        "input_shape = (5, len(features))  # Cập nhật len(features) với số lượng đặc trưng của bạn\n",
        "lstm_model = build_lstm_model(input_shape) # Build model\n",
        "lstm_model.summary()"
      ],
      "metadata": {
        "colab": {
          "base_uri": "https://localhost:8080/",
          "height": 321
        },
        "id": "LnTBfQqrxxLr",
        "outputId": "1e874822-4eac-452a-c364-08c04f38d374"
      },
      "execution_count": 40,
      "outputs": [
        {
          "output_type": "display_data",
          "data": {
            "text/plain": [
              "\u001b[1mModel: \"functional_2\"\u001b[0m\n"
            ],
            "text/html": [
              "<pre style=\"white-space:pre;overflow-x:auto;line-height:normal;font-family:Menlo,'DejaVu Sans Mono',consolas,'Courier New',monospace\"><span style=\"font-weight: bold\">Model: \"functional_2\"</span>\n",
              "</pre>\n"
            ]
          },
          "metadata": {}
        },
        {
          "output_type": "display_data",
          "data": {
            "text/plain": [
              "┏━━━━━━━━━━━━━━━━━━━━━━━━━━━━━━━━━┳━━━━━━━━━━━━━━━━━━━━━━━━┳━━━━━━━━━━━━━━━┓\n",
              "┃\u001b[1m \u001b[0m\u001b[1mLayer (type)                   \u001b[0m\u001b[1m \u001b[0m┃\u001b[1m \u001b[0m\u001b[1mOutput Shape          \u001b[0m\u001b[1m \u001b[0m┃\u001b[1m \u001b[0m\u001b[1m      Param #\u001b[0m\u001b[1m \u001b[0m┃\n",
              "┡━━━━━━━━━━━━━━━━━━━━━━━━━━━━━━━━━╇━━━━━━━━━━━━━━━━━━━━━━━━╇━━━━━━━━━━━━━━━┩\n",
              "│ input_layer_2 (\u001b[38;5;33mInputLayer\u001b[0m)      │ (\u001b[38;5;45mNone\u001b[0m, \u001b[38;5;34m5\u001b[0m, \u001b[38;5;34m39\u001b[0m)          │             \u001b[38;5;34m0\u001b[0m │\n",
              "├─────────────────────────────────┼────────────────────────┼───────────────┤\n",
              "│ lstm_4 (\u001b[38;5;33mLSTM\u001b[0m)                   │ (\u001b[38;5;45mNone\u001b[0m, \u001b[38;5;34m5\u001b[0m, \u001b[38;5;34m50\u001b[0m)          │        \u001b[38;5;34m18,000\u001b[0m │\n",
              "├─────────────────────────────────┼────────────────────────┼───────────────┤\n",
              "│ lstm_5 (\u001b[38;5;33mLSTM\u001b[0m)                   │ (\u001b[38;5;45mNone\u001b[0m, \u001b[38;5;34m50\u001b[0m)             │        \u001b[38;5;34m20,200\u001b[0m │\n",
              "├─────────────────────────────────┼────────────────────────┼───────────────┤\n",
              "│ dense_4 (\u001b[38;5;33mDense\u001b[0m)                 │ (\u001b[38;5;45mNone\u001b[0m, \u001b[38;5;34m100\u001b[0m)            │         \u001b[38;5;34m5,100\u001b[0m │\n",
              "├─────────────────────────────────┼────────────────────────┼───────────────┤\n",
              "│ dropout_2 (\u001b[38;5;33mDropout\u001b[0m)             │ (\u001b[38;5;45mNone\u001b[0m, \u001b[38;5;34m100\u001b[0m)            │             \u001b[38;5;34m0\u001b[0m │\n",
              "├─────────────────────────────────┼────────────────────────┼───────────────┤\n",
              "│ dense_5 (\u001b[38;5;33mDense\u001b[0m)                 │ (\u001b[38;5;45mNone\u001b[0m, \u001b[38;5;34m3\u001b[0m)              │           \u001b[38;5;34m303\u001b[0m │\n",
              "└─────────────────────────────────┴────────────────────────┴───────────────┘\n"
            ],
            "text/html": [
              "<pre style=\"white-space:pre;overflow-x:auto;line-height:normal;font-family:Menlo,'DejaVu Sans Mono',consolas,'Courier New',monospace\">┏━━━━━━━━━━━━━━━━━━━━━━━━━━━━━━━━━┳━━━━━━━━━━━━━━━━━━━━━━━━┳━━━━━━━━━━━━━━━┓\n",
              "┃<span style=\"font-weight: bold\"> Layer (type)                    </span>┃<span style=\"font-weight: bold\"> Output Shape           </span>┃<span style=\"font-weight: bold\">       Param # </span>┃\n",
              "┡━━━━━━━━━━━━━━━━━━━━━━━━━━━━━━━━━╇━━━━━━━━━━━━━━━━━━━━━━━━╇━━━━━━━━━━━━━━━┩\n",
              "│ input_layer_2 (<span style=\"color: #0087ff; text-decoration-color: #0087ff\">InputLayer</span>)      │ (<span style=\"color: #00d7ff; text-decoration-color: #00d7ff\">None</span>, <span style=\"color: #00af00; text-decoration-color: #00af00\">5</span>, <span style=\"color: #00af00; text-decoration-color: #00af00\">39</span>)          │             <span style=\"color: #00af00; text-decoration-color: #00af00\">0</span> │\n",
              "├─────────────────────────────────┼────────────────────────┼───────────────┤\n",
              "│ lstm_4 (<span style=\"color: #0087ff; text-decoration-color: #0087ff\">LSTM</span>)                   │ (<span style=\"color: #00d7ff; text-decoration-color: #00d7ff\">None</span>, <span style=\"color: #00af00; text-decoration-color: #00af00\">5</span>, <span style=\"color: #00af00; text-decoration-color: #00af00\">50</span>)          │        <span style=\"color: #00af00; text-decoration-color: #00af00\">18,000</span> │\n",
              "├─────────────────────────────────┼────────────────────────┼───────────────┤\n",
              "│ lstm_5 (<span style=\"color: #0087ff; text-decoration-color: #0087ff\">LSTM</span>)                   │ (<span style=\"color: #00d7ff; text-decoration-color: #00d7ff\">None</span>, <span style=\"color: #00af00; text-decoration-color: #00af00\">50</span>)             │        <span style=\"color: #00af00; text-decoration-color: #00af00\">20,200</span> │\n",
              "├─────────────────────────────────┼────────────────────────┼───────────────┤\n",
              "│ dense_4 (<span style=\"color: #0087ff; text-decoration-color: #0087ff\">Dense</span>)                 │ (<span style=\"color: #00d7ff; text-decoration-color: #00d7ff\">None</span>, <span style=\"color: #00af00; text-decoration-color: #00af00\">100</span>)            │         <span style=\"color: #00af00; text-decoration-color: #00af00\">5,100</span> │\n",
              "├─────────────────────────────────┼────────────────────────┼───────────────┤\n",
              "│ dropout_2 (<span style=\"color: #0087ff; text-decoration-color: #0087ff\">Dropout</span>)             │ (<span style=\"color: #00d7ff; text-decoration-color: #00d7ff\">None</span>, <span style=\"color: #00af00; text-decoration-color: #00af00\">100</span>)            │             <span style=\"color: #00af00; text-decoration-color: #00af00\">0</span> │\n",
              "├─────────────────────────────────┼────────────────────────┼───────────────┤\n",
              "│ dense_5 (<span style=\"color: #0087ff; text-decoration-color: #0087ff\">Dense</span>)                 │ (<span style=\"color: #00d7ff; text-decoration-color: #00d7ff\">None</span>, <span style=\"color: #00af00; text-decoration-color: #00af00\">3</span>)              │           <span style=\"color: #00af00; text-decoration-color: #00af00\">303</span> │\n",
              "└─────────────────────────────────┴────────────────────────┴───────────────┘\n",
              "</pre>\n"
            ]
          },
          "metadata": {}
        },
        {
          "output_type": "display_data",
          "data": {
            "text/plain": [
              "\u001b[1m Total params: \u001b[0m\u001b[38;5;34m43,603\u001b[0m (170.32 KB)\n"
            ],
            "text/html": [
              "<pre style=\"white-space:pre;overflow-x:auto;line-height:normal;font-family:Menlo,'DejaVu Sans Mono',consolas,'Courier New',monospace\"><span style=\"font-weight: bold\"> Total params: </span><span style=\"color: #00af00; text-decoration-color: #00af00\">43,603</span> (170.32 KB)\n",
              "</pre>\n"
            ]
          },
          "metadata": {}
        },
        {
          "output_type": "display_data",
          "data": {
            "text/plain": [
              "\u001b[1m Trainable params: \u001b[0m\u001b[38;5;34m43,603\u001b[0m (170.32 KB)\n"
            ],
            "text/html": [
              "<pre style=\"white-space:pre;overflow-x:auto;line-height:normal;font-family:Menlo,'DejaVu Sans Mono',consolas,'Courier New',monospace\"><span style=\"font-weight: bold\"> Trainable params: </span><span style=\"color: #00af00; text-decoration-color: #00af00\">43,603</span> (170.32 KB)\n",
              "</pre>\n"
            ]
          },
          "metadata": {}
        },
        {
          "output_type": "display_data",
          "data": {
            "text/plain": [
              "\u001b[1m Non-trainable params: \u001b[0m\u001b[38;5;34m0\u001b[0m (0.00 B)\n"
            ],
            "text/html": [
              "<pre style=\"white-space:pre;overflow-x:auto;line-height:normal;font-family:Menlo,'DejaVu Sans Mono',consolas,'Courier New',monospace\"><span style=\"font-weight: bold\"> Non-trainable params: </span><span style=\"color: #00af00; text-decoration-color: #00af00\">0</span> (0.00 B)\n",
              "</pre>\n"
            ]
          },
          "metadata": {}
        }
      ]
    },
    {
      "cell_type": "code",
      "source": [
        "# Callbacks\n",
        "lstm_early_stopping = EarlyStopping(monitor='val_loss', patience=10, restore_best_weights=True)\n",
        "\n",
        "lstm_checkpoint_cb = ModelCheckpoint(\"/content/drive/MyDrive/thacsi/LuanVan/PredictStock/TA/v1/best_lstm_model_v2.keras\", monitor='val_loss', save_best_only=True, mode='min', verbose=1)\n",
        "\n",
        "lstm_lr_schedule_cb = ReduceLROnPlateau(monitor='val_loss', factor=0.5, patience=5, min_lr=1e-6, verbose=1)\n"
      ],
      "metadata": {
        "id": "SEHbkjM4yIYV"
      },
      "execution_count": 41,
      "outputs": []
    },
    {
      "cell_type": "code",
      "source": [
        "# Huấn luyện mô hình\n",
        "lstm_history = lstm_model.fit(\n",
        "    X_train, tf.keras.utils.to_categorical(y_train),\n",
        "    epochs=100,\n",
        "    batch_size=64,\n",
        "    validation_data=(X_val, tf.keras.utils.to_categorical(y_val)),\n",
        "    callbacks=[lstm_early_stopping, lstm_checkpoint_cb, lstm_lr_schedule_cb]\n",
        ")"
      ],
      "metadata": {
        "colab": {
          "base_uri": "https://localhost:8080/"
        },
        "id": "2ZCcdvK_yVxt",
        "outputId": "80ffbecb-969e-4bcd-9cc7-b2be4e88effa"
      },
      "execution_count": 42,
      "outputs": [
        {
          "output_type": "stream",
          "name": "stdout",
          "text": [
            "Epoch 1/100\n",
            "\u001b[1m352/354\u001b[0m \u001b[32m━━━━━━━━━━━━━━━━━━━\u001b[0m\u001b[37m━\u001b[0m \u001b[1m0s\u001b[0m 9ms/step - accuracy: 0.4958 - loss: 1.0329\n",
            "Epoch 1: val_loss improved from inf to 1.02018, saving model to /content/drive/MyDrive/thacsi/LuanVan/PredictStock/TA/v1/best_lstm_model_v2.keras\n",
            "\u001b[1m354/354\u001b[0m \u001b[32m━━━━━━━━━━━━━━━━━━━━\u001b[0m\u001b[37m\u001b[0m \u001b[1m8s\u001b[0m 13ms/step - accuracy: 0.4959 - loss: 1.0329 - val_accuracy: 0.5005 - val_loss: 1.0202 - learning_rate: 0.0010\n",
            "Epoch 2/100\n",
            "\u001b[1m349/354\u001b[0m \u001b[32m━━━━━━━━━━━━━━━━━━━\u001b[0m\u001b[37m━\u001b[0m \u001b[1m0s\u001b[0m 11ms/step - accuracy: 0.5020 - loss: 1.0195\n",
            "Epoch 2: val_loss improved from 1.02018 to 1.01954, saving model to /content/drive/MyDrive/thacsi/LuanVan/PredictStock/TA/v1/best_lstm_model_v2.keras\n",
            "\u001b[1m354/354\u001b[0m \u001b[32m━━━━━━━━━━━━━━━━━━━━\u001b[0m\u001b[37m\u001b[0m \u001b[1m5s\u001b[0m 13ms/step - accuracy: 0.5021 - loss: 1.0195 - val_accuracy: 0.4943 - val_loss: 1.0195 - learning_rate: 0.0010\n",
            "Epoch 3/100\n",
            "\u001b[1m353/354\u001b[0m \u001b[32m━━━━━━━━━━━━━━━━━━━\u001b[0m\u001b[37m━\u001b[0m \u001b[1m0s\u001b[0m 9ms/step - accuracy: 0.5086 - loss: 1.0095\n",
            "Epoch 3: val_loss improved from 1.01954 to 1.01672, saving model to /content/drive/MyDrive/thacsi/LuanVan/PredictStock/TA/v1/best_lstm_model_v2.keras\n",
            "\u001b[1m354/354\u001b[0m \u001b[32m━━━━━━━━━━━━━━━━━━━━\u001b[0m\u001b[37m\u001b[0m \u001b[1m4s\u001b[0m 11ms/step - accuracy: 0.5086 - loss: 1.0095 - val_accuracy: 0.5030 - val_loss: 1.0167 - learning_rate: 0.0010\n",
            "Epoch 4/100\n",
            "\u001b[1m353/354\u001b[0m \u001b[32m━━━━━━━━━━━━━━━━━━━\u001b[0m\u001b[37m━\u001b[0m \u001b[1m0s\u001b[0m 11ms/step - accuracy: 0.5094 - loss: 1.0064\n",
            "Epoch 4: val_loss improved from 1.01672 to 1.01454, saving model to /content/drive/MyDrive/thacsi/LuanVan/PredictStock/TA/v1/best_lstm_model_v2.keras\n",
            "\u001b[1m354/354\u001b[0m \u001b[32m━━━━━━━━━━━━━━━━━━━━\u001b[0m\u001b[37m\u001b[0m \u001b[1m6s\u001b[0m 13ms/step - accuracy: 0.5094 - loss: 1.0064 - val_accuracy: 0.5058 - val_loss: 1.0145 - learning_rate: 0.0010\n",
            "Epoch 5/100\n",
            "\u001b[1m349/354\u001b[0m \u001b[32m━━━━━━━━━━━━━━━━━━━\u001b[0m\u001b[37m━\u001b[0m \u001b[1m0s\u001b[0m 10ms/step - accuracy: 0.5174 - loss: 1.0008\n",
            "Epoch 5: val_loss improved from 1.01454 to 1.01103, saving model to /content/drive/MyDrive/thacsi/LuanVan/PredictStock/TA/v1/best_lstm_model_v2.keras\n",
            "\u001b[1m354/354\u001b[0m \u001b[32m━━━━━━━━━━━━━━━━━━━━\u001b[0m\u001b[37m\u001b[0m \u001b[1m4s\u001b[0m 11ms/step - accuracy: 0.5174 - loss: 1.0009 - val_accuracy: 0.5111 - val_loss: 1.0110 - learning_rate: 0.0010\n",
            "Epoch 6/100\n",
            "\u001b[1m350/354\u001b[0m \u001b[32m━━━━━━━━━━━━━━━━━━━\u001b[0m\u001b[37m━\u001b[0m \u001b[1m0s\u001b[0m 9ms/step - accuracy: 0.5152 - loss: 0.9972\n",
            "Epoch 6: val_loss did not improve from 1.01103\n",
            "\u001b[1m354/354\u001b[0m \u001b[32m━━━━━━━━━━━━━━━━━━━━\u001b[0m\u001b[37m\u001b[0m \u001b[1m5s\u001b[0m 10ms/step - accuracy: 0.5152 - loss: 0.9972 - val_accuracy: 0.5071 - val_loss: 1.0115 - learning_rate: 0.0010\n",
            "Epoch 7/100\n",
            "\u001b[1m351/354\u001b[0m \u001b[32m━━━━━━━━━━━━━━━━━━━\u001b[0m\u001b[37m━\u001b[0m \u001b[1m0s\u001b[0m 11ms/step - accuracy: 0.5290 - loss: 0.9875\n",
            "Epoch 7: val_loss did not improve from 1.01103\n",
            "\u001b[1m354/354\u001b[0m \u001b[32m━━━━━━━━━━━━━━━━━━━━\u001b[0m\u001b[37m\u001b[0m \u001b[1m5s\u001b[0m 13ms/step - accuracy: 0.5289 - loss: 0.9875 - val_accuracy: 0.5072 - val_loss: 1.0122 - learning_rate: 0.0010\n",
            "Epoch 8/100\n",
            "\u001b[1m351/354\u001b[0m \u001b[32m━━━━━━━━━━━━━━━━━━━\u001b[0m\u001b[37m━\u001b[0m \u001b[1m0s\u001b[0m 10ms/step - accuracy: 0.5280 - loss: 0.9820\n",
            "Epoch 8: val_loss did not improve from 1.01103\n",
            "\u001b[1m354/354\u001b[0m \u001b[32m━━━━━━━━━━━━━━━━━━━━\u001b[0m\u001b[37m\u001b[0m \u001b[1m4s\u001b[0m 11ms/step - accuracy: 0.5280 - loss: 0.9820 - val_accuracy: 0.5090 - val_loss: 1.0141 - learning_rate: 0.0010\n",
            "Epoch 9/100\n",
            "\u001b[1m351/354\u001b[0m \u001b[32m━━━━━━━━━━━━━━━━━━━\u001b[0m\u001b[37m━\u001b[0m \u001b[1m0s\u001b[0m 9ms/step - accuracy: 0.5333 - loss: 0.9767\n",
            "Epoch 9: val_loss did not improve from 1.01103\n",
            "\u001b[1m354/354\u001b[0m \u001b[32m━━━━━━━━━━━━━━━━━━━━\u001b[0m\u001b[37m\u001b[0m \u001b[1m5s\u001b[0m 11ms/step - accuracy: 0.5333 - loss: 0.9767 - val_accuracy: 0.5145 - val_loss: 1.0120 - learning_rate: 0.0010\n",
            "Epoch 10/100\n",
            "\u001b[1m354/354\u001b[0m \u001b[32m━━━━━━━━━━━━━━━━━━━━\u001b[0m\u001b[37m\u001b[0m \u001b[1m0s\u001b[0m 11ms/step - accuracy: 0.5381 - loss: 0.9727\n",
            "Epoch 10: val_loss improved from 1.01103 to 1.00791, saving model to /content/drive/MyDrive/thacsi/LuanVan/PredictStock/TA/v1/best_lstm_model_v2.keras\n",
            "\u001b[1m354/354\u001b[0m \u001b[32m━━━━━━━━━━━━━━━━━━━━\u001b[0m\u001b[37m\u001b[0m \u001b[1m5s\u001b[0m 13ms/step - accuracy: 0.5381 - loss: 0.9727 - val_accuracy: 0.5133 - val_loss: 1.0079 - learning_rate: 0.0010\n",
            "Epoch 11/100\n",
            "\u001b[1m348/354\u001b[0m \u001b[32m━━━━━━━━━━━━━━━━━━━\u001b[0m\u001b[37m━\u001b[0m \u001b[1m0s\u001b[0m 10ms/step - accuracy: 0.5473 - loss: 0.9607\n",
            "Epoch 11: val_loss did not improve from 1.00791\n",
            "\u001b[1m354/354\u001b[0m \u001b[32m━━━━━━━━━━━━━━━━━━━━\u001b[0m\u001b[37m\u001b[0m \u001b[1m4s\u001b[0m 11ms/step - accuracy: 0.5472 - loss: 0.9609 - val_accuracy: 0.5113 - val_loss: 1.0146 - learning_rate: 0.0010\n",
            "Epoch 12/100\n",
            "\u001b[1m349/354\u001b[0m \u001b[32m━━━━━━━━━━━━━━━━━━━\u001b[0m\u001b[37m━\u001b[0m \u001b[1m0s\u001b[0m 9ms/step - accuracy: 0.5451 - loss: 0.9605\n",
            "Epoch 12: val_loss did not improve from 1.00791\n",
            "\u001b[1m354/354\u001b[0m \u001b[32m━━━━━━━━━━━━━━━━━━━━\u001b[0m\u001b[37m\u001b[0m \u001b[1m5s\u001b[0m 11ms/step - accuracy: 0.5451 - loss: 0.9605 - val_accuracy: 0.5129 - val_loss: 1.0116 - learning_rate: 0.0010\n",
            "Epoch 13/100\n",
            "\u001b[1m352/354\u001b[0m \u001b[32m━━━━━━━━━━━━━━━━━━━\u001b[0m\u001b[37m━\u001b[0m \u001b[1m0s\u001b[0m 14ms/step - accuracy: 0.5505 - loss: 0.9512\n",
            "Epoch 13: val_loss did not improve from 1.00791\n",
            "\u001b[1m354/354\u001b[0m \u001b[32m━━━━━━━━━━━━━━━━━━━━\u001b[0m\u001b[37m\u001b[0m \u001b[1m7s\u001b[0m 15ms/step - accuracy: 0.5505 - loss: 0.9512 - val_accuracy: 0.5145 - val_loss: 1.0131 - learning_rate: 0.0010\n",
            "Epoch 14/100\n",
            "\u001b[1m350/354\u001b[0m \u001b[32m━━━━━━━━━━━━━━━━━━━\u001b[0m\u001b[37m━\u001b[0m \u001b[1m0s\u001b[0m 9ms/step - accuracy: 0.5605 - loss: 0.9380\n",
            "Epoch 14: val_loss did not improve from 1.00791\n",
            "\u001b[1m354/354\u001b[0m \u001b[32m━━━━━━━━━━━━━━━━━━━━\u001b[0m\u001b[37m\u001b[0m \u001b[1m4s\u001b[0m 11ms/step - accuracy: 0.5604 - loss: 0.9381 - val_accuracy: 0.5217 - val_loss: 1.0127 - learning_rate: 0.0010\n",
            "Epoch 15/100\n",
            "\u001b[1m350/354\u001b[0m \u001b[32m━━━━━━━━━━━━━━━━━━━\u001b[0m\u001b[37m━\u001b[0m \u001b[1m0s\u001b[0m 9ms/step - accuracy: 0.5592 - loss: 0.9375\n",
            "Epoch 15: val_loss did not improve from 1.00791\n",
            "\n",
            "Epoch 15: ReduceLROnPlateau reducing learning rate to 0.0005000000237487257.\n",
            "\u001b[1m354/354\u001b[0m \u001b[32m━━━━━━━━━━━━━━━━━━━━\u001b[0m\u001b[37m\u001b[0m \u001b[1m5s\u001b[0m 10ms/step - accuracy: 0.5591 - loss: 0.9375 - val_accuracy: 0.5133 - val_loss: 1.0187 - learning_rate: 0.0010\n",
            "Epoch 16/100\n",
            "\u001b[1m352/354\u001b[0m \u001b[32m━━━━━━━━━━━━━━━━━━━\u001b[0m\u001b[37m━\u001b[0m \u001b[1m0s\u001b[0m 13ms/step - accuracy: 0.5682 - loss: 0.9157\n",
            "Epoch 16: val_loss did not improve from 1.00791\n",
            "\u001b[1m354/354\u001b[0m \u001b[32m━━━━━━━━━━━━━━━━━━━━\u001b[0m\u001b[37m\u001b[0m \u001b[1m7s\u001b[0m 14ms/step - accuracy: 0.5682 - loss: 0.9158 - val_accuracy: 0.5148 - val_loss: 1.0147 - learning_rate: 5.0000e-04\n",
            "Epoch 17/100\n",
            "\u001b[1m349/354\u001b[0m \u001b[32m━━━━━━━━━━━━━━━━━━━\u001b[0m\u001b[37m━\u001b[0m \u001b[1m0s\u001b[0m 9ms/step - accuracy: 0.5794 - loss: 0.9032\n",
            "Epoch 17: val_loss did not improve from 1.00791\n",
            "\u001b[1m354/354\u001b[0m \u001b[32m━━━━━━━━━━━━━━━━━━━━\u001b[0m\u001b[37m\u001b[0m \u001b[1m4s\u001b[0m 10ms/step - accuracy: 0.5793 - loss: 0.9033 - val_accuracy: 0.5196 - val_loss: 1.0249 - learning_rate: 5.0000e-04\n",
            "Epoch 18/100\n",
            "\u001b[1m349/354\u001b[0m \u001b[32m━━━━━━━━━━━━━━━━━━━\u001b[0m\u001b[37m━\u001b[0m \u001b[1m0s\u001b[0m 9ms/step - accuracy: 0.5796 - loss: 0.9009\n",
            "Epoch 18: val_loss did not improve from 1.00791\n",
            "\u001b[1m354/354\u001b[0m \u001b[32m━━━━━━━━━━━━━━━━━━━━\u001b[0m\u001b[37m\u001b[0m \u001b[1m5s\u001b[0m 10ms/step - accuracy: 0.5796 - loss: 0.9010 - val_accuracy: 0.5120 - val_loss: 1.0214 - learning_rate: 5.0000e-04\n",
            "Epoch 19/100\n",
            "\u001b[1m354/354\u001b[0m \u001b[32m━━━━━━━━━━━━━━━━━━━━\u001b[0m\u001b[37m\u001b[0m \u001b[1m0s\u001b[0m 10ms/step - accuracy: 0.5874 - loss: 0.8901\n",
            "Epoch 19: val_loss did not improve from 1.00791\n",
            "\u001b[1m354/354\u001b[0m \u001b[32m━━━━━━━━━━━━━━━━━━━━\u001b[0m\u001b[37m\u001b[0m \u001b[1m6s\u001b[0m 12ms/step - accuracy: 0.5874 - loss: 0.8901 - val_accuracy: 0.5145 - val_loss: 1.0239 - learning_rate: 5.0000e-04\n",
            "Epoch 20/100\n",
            "\u001b[1m351/354\u001b[0m \u001b[32m━━━━━━━━━━━━━━━━━━━\u001b[0m\u001b[37m━\u001b[0m \u001b[1m0s\u001b[0m 9ms/step - accuracy: 0.5913 - loss: 0.8807\n",
            "Epoch 20: val_loss did not improve from 1.00791\n",
            "\n",
            "Epoch 20: ReduceLROnPlateau reducing learning rate to 0.0002500000118743628.\n",
            "\u001b[1m354/354\u001b[0m \u001b[32m━━━━━━━━━━━━━━━━━━━━\u001b[0m\u001b[37m\u001b[0m \u001b[1m3s\u001b[0m 10ms/step - accuracy: 0.5913 - loss: 0.8809 - val_accuracy: 0.5175 - val_loss: 1.0278 - learning_rate: 5.0000e-04\n"
          ]
        }
      ]
    },
    {
      "cell_type": "code",
      "source": [
        "# Lấy giá trị loss và val_loss từ lịch sử huấn luyện\n",
        "loss = lstm_history.history['loss']\n",
        "val_loss = lstm_history.history['val_loss']\n",
        "epochs = range(1, len(loss) + 1)\n",
        "\n",
        "# Vẽ biểu đồ\n",
        "plt.figure(figsize=(8, 5))\n",
        "plt.plot(epochs, loss, 'bo-', label='Training loss')\n",
        "plt.plot(epochs, val_loss, 'ro-', label='Validation loss')\n",
        "plt.title('Training and Validation Loss')\n",
        "plt.xlabel('Epochs')\n",
        "plt.ylabel('Loss')\n",
        "plt.legend()\n",
        "plt.grid(True)\n",
        "plt.tight_layout()\n",
        "plt.show()"
      ],
      "metadata": {
        "colab": {
          "base_uri": "https://localhost:8080/",
          "height": 507
        },
        "id": "Y7Tan-K_y_2N",
        "outputId": "5dd317e0-0bb3-4994-876a-a21bb24a7e00"
      },
      "execution_count": 43,
      "outputs": [
        {
          "output_type": "display_data",
          "data": {
            "text/plain": [
              "<Figure size 800x500 with 1 Axes>"
            ],
            "image/png": "[encoded data removed]"
          },
          "metadata": {}
        }
      ]
    },
    {
      "cell_type": "code",
      "source": [
        "input_shape = (5, len(features))  # Cập nhật len(features) với số lượng đặc trưng của bạn\n",
        "lstm_model = build_lstm_model(input_shape) # Build model\n",
        "lstm_model.summary()"
      ],
      "metadata": {
        "colab": {
          "base_uri": "https://localhost:8080/",
          "height": 321
        },
        "id": "d4d4U1Lnzdmm",
        "outputId": "6df09cd8-1627-4270-a84e-c8e5e8f5fe84"
      },
      "execution_count": 44,
      "outputs": [
        {
          "output_type": "display_data",
          "data": {
            "text/plain": [
              "\u001b[1mModel: \"functional_3\"\u001b[0m\n"
            ],
            "text/html": [
              "<pre style=\"white-space:pre;overflow-x:auto;line-height:normal;font-family:Menlo,'DejaVu Sans Mono',consolas,'Courier New',monospace\"><span style=\"font-weight: bold\">Model: \"functional_3\"</span>\n",
              "</pre>\n"
            ]
          },
          "metadata": {}
        },
        {
          "output_type": "display_data",
          "data": {
            "text/plain": [
              "┏━━━━━━━━━━━━━━━━━━━━━━━━━━━━━━━━━┳━━━━━━━━━━━━━━━━━━━━━━━━┳━━━━━━━━━━━━━━━┓\n",
              "┃\u001b[1m \u001b[0m\u001b[1mLayer (type)                   \u001b[0m\u001b[1m \u001b[0m┃\u001b[1m \u001b[0m\u001b[1mOutput Shape          \u001b[0m\u001b[1m \u001b[0m┃\u001b[1m \u001b[0m\u001b[1m      Param #\u001b[0m\u001b[1m \u001b[0m┃\n",
              "┡━━━━━━━━━━━━━━━━━━━━━━━━━━━━━━━━━╇━━━━━━━━━━━━━━━━━━━━━━━━╇━━━━━━━━━━━━━━━┩\n",
              "│ input_layer_3 (\u001b[38;5;33mInputLayer\u001b[0m)      │ (\u001b[38;5;45mNone\u001b[0m, \u001b[38;5;34m5\u001b[0m, \u001b[38;5;34m39\u001b[0m)          │             \u001b[38;5;34m0\u001b[0m │\n",
              "├─────────────────────────────────┼────────────────────────┼───────────────┤\n",
              "│ lstm_6 (\u001b[38;5;33mLSTM\u001b[0m)                   │ (\u001b[38;5;45mNone\u001b[0m, \u001b[38;5;34m5\u001b[0m, \u001b[38;5;34m50\u001b[0m)          │        \u001b[38;5;34m18,000\u001b[0m │\n",
              "├─────────────────────────────────┼────────────────────────┼───────────────┤\n",
              "│ lstm_7 (\u001b[38;5;33mLSTM\u001b[0m)                   │ (\u001b[38;5;45mNone\u001b[0m, \u001b[38;5;34m50\u001b[0m)             │        \u001b[38;5;34m20,200\u001b[0m │\n",
              "├─────────────────────────────────┼────────────────────────┼───────────────┤\n",
              "│ dense_6 (\u001b[38;5;33mDense\u001b[0m)                 │ (\u001b[38;5;45mNone\u001b[0m, \u001b[38;5;34m100\u001b[0m)            │         \u001b[38;5;34m5,100\u001b[0m │\n",
              "├─────────────────────────────────┼────────────────────────┼───────────────┤\n",
              "│ dropout_3 (\u001b[38;5;33mDropout\u001b[0m)             │ (\u001b[38;5;45mNone\u001b[0m, \u001b[38;5;34m100\u001b[0m)            │             \u001b[38;5;34m0\u001b[0m │\n",
              "├─────────────────────────────────┼────────────────────────┼───────────────┤\n",
              "│ dense_7 (\u001b[38;5;33mDense\u001b[0m)                 │ (\u001b[38;5;45mNone\u001b[0m, \u001b[38;5;34m3\u001b[0m)              │           \u001b[38;5;34m303\u001b[0m │\n",
              "└─────────────────────────────────┴────────────────────────┴───────────────┘\n"
            ],
            "text/html": [
              "<pre style=\"white-space:pre;overflow-x:auto;line-height:normal;font-family:Menlo,'DejaVu Sans Mono',consolas,'Courier New',monospace\">┏━━━━━━━━━━━━━━━━━━━━━━━━━━━━━━━━━┳━━━━━━━━━━━━━━━━━━━━━━━━┳━━━━━━━━━━━━━━━┓\n",
              "┃<span style=\"font-weight: bold\"> Layer (type)                    </span>┃<span style=\"font-weight: bold\"> Output Shape           </span>┃<span style=\"font-weight: bold\">       Param # </span>┃\n",
              "┡━━━━━━━━━━━━━━━━━━━━━━━━━━━━━━━━━╇━━━━━━━━━━━━━━━━━━━━━━━━╇━━━━━━━━━━━━━━━┩\n",
              "│ input_layer_3 (<span style=\"color: #0087ff; text-decoration-color: #0087ff\">InputLayer</span>)      │ (<span style=\"color: #00d7ff; text-decoration-color: #00d7ff\">None</span>, <span style=\"color: #00af00; text-decoration-color: #00af00\">5</span>, <span style=\"color: #00af00; text-decoration-color: #00af00\">39</span>)          │             <span style=\"color: #00af00; text-decoration-color: #00af00\">0</span> │\n",
              "├─────────────────────────────────┼────────────────────────┼───────────────┤\n",
              "│ lstm_6 (<span style=\"color: #0087ff; text-decoration-color: #0087ff\">LSTM</span>)                   │ (<span style=\"color: #00d7ff; text-decoration-color: #00d7ff\">None</span>, <span style=\"color: #00af00; text-decoration-color: #00af00\">5</span>, <span style=\"color: #00af00; text-decoration-color: #00af00\">50</span>)          │        <span style=\"color: #00af00; text-decoration-color: #00af00\">18,000</span> │\n",
              "├─────────────────────────────────┼────────────────────────┼───────────────┤\n",
              "│ lstm_7 (<span style=\"color: #0087ff; text-decoration-color: #0087ff\">LSTM</span>)                   │ (<span style=\"color: #00d7ff; text-decoration-color: #00d7ff\">None</span>, <span style=\"color: #00af00; text-decoration-color: #00af00\">50</span>)             │        <span style=\"color: #00af00; text-decoration-color: #00af00\">20,200</span> │\n",
              "├─────────────────────────────────┼────────────────────────┼───────────────┤\n",
              "│ dense_6 (<span style=\"color: #0087ff; text-decoration-color: #0087ff\">Dense</span>)                 │ (<span style=\"color: #00d7ff; text-decoration-color: #00d7ff\">None</span>, <span style=\"color: #00af00; text-decoration-color: #00af00\">100</span>)            │         <span style=\"color: #00af00; text-decoration-color: #00af00\">5,100</span> │\n",
              "├─────────────────────────────────┼────────────────────────┼───────────────┤\n",
              "│ dropout_3 (<span style=\"color: #0087ff; text-decoration-color: #0087ff\">Dropout</span>)             │ (<span style=\"color: #00d7ff; text-decoration-color: #00d7ff\">None</span>, <span style=\"color: #00af00; text-decoration-color: #00af00\">100</span>)            │             <span style=\"color: #00af00; text-decoration-color: #00af00\">0</span> │\n",
              "├─────────────────────────────────┼────────────────────────┼───────────────┤\n",
              "│ dense_7 (<span style=\"color: #0087ff; text-decoration-color: #0087ff\">Dense</span>)                 │ (<span style=\"color: #00d7ff; text-decoration-color: #00d7ff\">None</span>, <span style=\"color: #00af00; text-decoration-color: #00af00\">3</span>)              │           <span style=\"color: #00af00; text-decoration-color: #00af00\">303</span> │\n",
              "└─────────────────────────────────┴────────────────────────┴───────────────┘\n",
              "</pre>\n"
            ]
          },
          "metadata": {}
        },
        {
          "output_type": "display_data",
          "data": {
            "text/plain": [
              "\u001b[1m Total params: \u001b[0m\u001b[38;5;34m43,603\u001b[0m (170.32 KB)\n"
            ],
            "text/html": [
              "<pre style=\"white-space:pre;overflow-x:auto;line-height:normal;font-family:Menlo,'DejaVu Sans Mono',consolas,'Courier New',monospace\"><span style=\"font-weight: bold\"> Total params: </span><span style=\"color: #00af00; text-decoration-color: #00af00\">43,603</span> (170.32 KB)\n",
              "</pre>\n"
            ]
          },
          "metadata": {}
        },
        {
          "output_type": "display_data",
          "data": {
            "text/plain": [
              "\u001b[1m Trainable params: \u001b[0m\u001b[38;5;34m43,603\u001b[0m (170.32 KB)\n"
            ],
            "text/html": [
              "<pre style=\"white-space:pre;overflow-x:auto;line-height:normal;font-family:Menlo,'DejaVu Sans Mono',consolas,'Courier New',monospace\"><span style=\"font-weight: bold\"> Trainable params: </span><span style=\"color: #00af00; text-decoration-color: #00af00\">43,603</span> (170.32 KB)\n",
              "</pre>\n"
            ]
          },
          "metadata": {}
        },
        {
          "output_type": "display_data",
          "data": {
            "text/plain": [
              "\u001b[1m Non-trainable params: \u001b[0m\u001b[38;5;34m0\u001b[0m (0.00 B)\n"
            ],
            "text/html": [
              "<pre style=\"white-space:pre;overflow-x:auto;line-height:normal;font-family:Menlo,'DejaVu Sans Mono',consolas,'Courier New',monospace\"><span style=\"font-weight: bold\"> Non-trainable params: </span><span style=\"color: #00af00; text-decoration-color: #00af00\">0</span> (0.00 B)\n",
              "</pre>\n"
            ]
          },
          "metadata": {}
        }
      ]
    },
    {
      "cell_type": "code",
      "source": [
        "lstm_model.load_weights(\"/content/drive/MyDrive/thacsi/LuanVan/PredictStock/TA/v1/best_lstm_model_v2.keras\")"
      ],
      "metadata": {
        "colab": {
          "base_uri": "https://localhost:8080/"
        },
        "id": "3p2ZewGvzogf",
        "outputId": "c7851552-abb3-47c0-efba-e0c54e021643"
      },
      "execution_count": 45,
      "outputs": [
        {
          "output_type": "stream",
          "name": "stderr",
          "text": [
            "Skipping variable loading for optimizer 'adam', because it has 2 variables whereas the saved optimizer has 22 variables. \n"
          ]
        }
      ]
    },
    {
      "cell_type": "code",
      "source": [
        "y_train_oh = to_categorical(y_train, num_classes=3)\n",
        "y_test_oh = to_categorical(y_test, num_classes=3)"
      ],
      "metadata": {
        "id": "HyYtCfayz4Aw"
      },
      "execution_count": 46,
      "outputs": []
    },
    {
      "cell_type": "code",
      "source": [
        "lstm_loss, lstm_accuracy = lstm_model.evaluate(X_test, y_test_oh, verbose=1)\n",
        "print(f\"LSTM Loss: {lstm_loss:.4f}\")\n",
        "print(f\"LSTM Accuracy: {lstm_accuracy:.4f}\")"
      ],
      "metadata": {
        "colab": {
          "base_uri": "https://localhost:8080/"
        },
        "id": "Osaygyje0B66",
        "outputId": "18feac85-5c1e-4cc5-daa6-1832c713bca0"
      },
      "execution_count": 50,
      "outputs": [
        {
          "output_type": "stream",
          "name": "stdout",
          "text": [
            "\u001b[1m183/183\u001b[0m \u001b[32m━━━━━━━━━━━━━━━━━━━━\u001b[0m\u001b[37m\u001b[0m \u001b[1m1s\u001b[0m 3ms/step - accuracy: 0.5991 - loss: 0.9491\n",
            "LSTM Loss: 0.9451\n",
            "LSTM Accuracy: 0.6063\n"
          ]
        }
      ]
    },
    {
      "cell_type": "code",
      "source": [
        "# Nếu output là xác suất (sử dụng softmax), cần lấy chỉ số nhãn lớn nhất\n",
        "y_pred_probs_lstm = lstm_model.predict(X_test)\n",
        "y_pred_lstm = np.argmax(y_pred_probs_lstm, axis=1)  # Chọn lớp có xác suất cao nhất"
      ],
      "metadata": {
        "colab": {
          "base_uri": "https://localhost:8080/"
        },
        "id": "XIQz9L0H0h4W",
        "outputId": "9ca63b6c-001e-49f1-8c7f-63b0954cf90a"
      },
      "execution_count": 51,
      "outputs": [
        {
          "output_type": "stream",
          "name": "stdout",
          "text": [
            "\u001b[1m183/183\u001b[0m \u001b[32m━━━━━━━━━━━━━━━━━━━━\u001b[0m\u001b[37m\u001b[0m \u001b[1m1s\u001b[0m 4ms/step\n"
          ]
        }
      ]
    },
    {
      "cell_type": "code",
      "source": [
        "# Tạo ma trận nhầm lẫn\n",
        "cm = confusion_matrix(y_test, y_pred_lstm)\n",
        "\n",
        "# Hiển thị ma trận nhầm lẫn\n",
        "disp = ConfusionMatrixDisplay(confusion_matrix=cm, display_labels=[0, 1, 2])\n",
        "disp.plot(cmap='Blues')\n",
        "plt.title('Ma trận nhầm lẫn')\n",
        "plt.xlabel('Dự đoán')\n",
        "plt.ylabel('Thực tế')\n",
        "plt.show()"
      ],
      "metadata": {
        "colab": {
          "base_uri": "https://localhost:8080/",
          "height": 473
        },
        "id": "-axyiN1105QG",
        "outputId": "7c28b97f-9904-46b0-b4da-a74f369ef719"
      },
      "execution_count": 52,
      "outputs": [
        {
          "output_type": "display_data",
          "data": {
            "text/plain": [
              "<Figure size 640x480 with 2 Axes>"
            ],
            "image/png": "[encoded data removed]"
          },
          "metadata": {}
        }
      ]
    },
    {
      "cell_type": "code",
      "source": [
        "print(classification_report(y_test, y_pred_lstm, target_names=['Hold (0)', 'Buy (1)', 'Sell (2)']))"
      ],
      "metadata": {
        "colab": {
          "base_uri": "https://localhost:8080/"
        },
        "id": "UkTZqKUL1EHc",
        "outputId": "bed2fb91-0be2-4d35-9e89-f8da0b6fda47"
      },
      "execution_count": 53,
      "outputs": [
        {
          "output_type": "stream",
          "name": "stdout",
          "text": [
            "              precision    recall  f1-score   support\n",
            "\n",
            "    Hold (0)       0.65      0.91      0.76      3728\n",
            "     Buy (1)       0.24      0.13      0.16      1095\n",
            "    Sell (2)       0.08      0.00      0.00      1027\n",
            "\n",
            "    accuracy                           0.61      5850\n",
            "   macro avg       0.32      0.35      0.31      5850\n",
            "weighted avg       0.47      0.61      0.51      5850\n",
            "\n"
          ]
        }
      ]
    },
    {
      "cell_type": "code",
      "source": [
        "# =================================================Hybrid Model========================================================"
      ],
      "metadata": {
        "id": "rSIBnHRWxy1x"
      },
      "execution_count": null,
      "outputs": []
    },
    {
      "cell_type": "code",
      "source": [
        "input_shape = (5, len(features))  # Cập nhật len(features) với số lượng đặc trưng của bạn\n",
        "model = build_model(input_shape) # Build model\n",
        "model.summary()"
      ],
      "metadata": {
        "colab": {
          "base_uri": "https://localhost:8080/",
          "height": 353
        },
        "id": "QzGBbMm9I9om",
        "outputId": "385f93c2-3867-428a-cdc7-0792fcd2435a"
      },
      "execution_count": 27,
      "outputs": [
        {
          "output_type": "display_data",
          "data": {
            "text/plain": [
              "\u001b[1mModel: \"functional\"\u001b[0m\n"
            ],
            "text/html": [
              "<pre style=\"white-space:pre;overflow-x:auto;line-height:normal;font-family:Menlo,'DejaVu Sans Mono',consolas,'Courier New',monospace\"><span style=\"font-weight: bold\">Model: \"functional\"</span>\n",
              "</pre>\n"
            ]
          },
          "metadata": {}
        },
        {
          "output_type": "display_data",
          "data": {
            "text/plain": [
              "┏━━━━━━━━━━━━━━━━━━━━━━━━━━━━━━━━━┳━━━━━━━━━━━━━━━━━━━━━━━━┳━━━━━━━━━━━━━━━┓\n",
              "┃\u001b[1m \u001b[0m\u001b[1mLayer (type)                   \u001b[0m\u001b[1m \u001b[0m┃\u001b[1m \u001b[0m\u001b[1mOutput Shape          \u001b[0m\u001b[1m \u001b[0m┃\u001b[1m \u001b[0m\u001b[1m      Param #\u001b[0m\u001b[1m \u001b[0m┃\n",
              "┡━━━━━━━━━━━━━━━━━━━━━━━━━━━━━━━━━╇━━━━━━━━━━━━━━━━━━━━━━━━╇━━━━━━━━━━━━━━━┩\n",
              "│ input_layer (\u001b[38;5;33mInputLayer\u001b[0m)        │ (\u001b[38;5;45mNone\u001b[0m, \u001b[38;5;34m5\u001b[0m, \u001b[38;5;34m39\u001b[0m)          │             \u001b[38;5;34m0\u001b[0m │\n",
              "├─────────────────────────────────┼────────────────────────┼───────────────┤\n",
              "│ rnn (\u001b[38;5;33mRNN\u001b[0m)                       │ (\u001b[38;5;45mNone\u001b[0m, \u001b[38;5;34m5\u001b[0m, \u001b[38;5;34m64\u001b[0m)          │         \u001b[38;5;34m6,594\u001b[0m │\n",
              "├─────────────────────────────────┼────────────────────────┼───────────────┤\n",
              "│ bidirectional (\u001b[38;5;33mBidirectional\u001b[0m)   │ (\u001b[38;5;45mNone\u001b[0m, \u001b[38;5;34m5\u001b[0m, \u001b[38;5;34m100\u001b[0m)         │        \u001b[38;5;34m46,000\u001b[0m │\n",
              "├─────────────────────────────────┼────────────────────────┼───────────────┤\n",
              "│ bidirectional_1 (\u001b[38;5;33mBidirectional\u001b[0m) │ (\u001b[38;5;45mNone\u001b[0m, \u001b[38;5;34m100\u001b[0m)            │        \u001b[38;5;34m60,400\u001b[0m │\n",
              "├─────────────────────────────────┼────────────────────────┼───────────────┤\n",
              "│ dense (\u001b[38;5;33mDense\u001b[0m)                   │ (\u001b[38;5;45mNone\u001b[0m, \u001b[38;5;34m100\u001b[0m)            │        \u001b[38;5;34m10,100\u001b[0m │\n",
              "├─────────────────────────────────┼────────────────────────┼───────────────┤\n",
              "│ dropout (\u001b[38;5;33mDropout\u001b[0m)               │ (\u001b[38;5;45mNone\u001b[0m, \u001b[38;5;34m100\u001b[0m)            │             \u001b[38;5;34m0\u001b[0m │\n",
              "├─────────────────────────────────┼────────────────────────┼───────────────┤\n",
              "│ dense_1 (\u001b[38;5;33mDense\u001b[0m)                 │ (\u001b[38;5;45mNone\u001b[0m, \u001b[38;5;34m3\u001b[0m)              │           \u001b[38;5;34m303\u001b[0m │\n",
              "└─────────────────────────────────┴────────────────────────┴───────────────┘\n"
            ],
            "text/html": [
              "<pre style=\"white-space:pre;overflow-x:auto;line-height:normal;font-family:Menlo,'DejaVu Sans Mono',consolas,'Courier New',monospace\">┏━━━━━━━━━━━━━━━━━━━━━━━━━━━━━━━━━┳━━━━━━━━━━━━━━━━━━━━━━━━┳━━━━━━━━━━━━━━━┓\n",
              "┃<span style=\"font-weight: bold\"> Layer (type)                    </span>┃<span style=\"font-weight: bold\"> Output Shape           </span>┃<span style=\"font-weight: bold\">       Param # </span>┃\n",
              "┡━━━━━━━━━━━━━━━━━━━━━━━━━━━━━━━━━╇━━━━━━━━━━━━━━━━━━━━━━━━╇━━━━━━━━━━━━━━━┩\n",
              "│ input_layer (<span style=\"color: #0087ff; text-decoration-color: #0087ff\">InputLayer</span>)        │ (<span style=\"color: #00d7ff; text-decoration-color: #00d7ff\">None</span>, <span style=\"color: #00af00; text-decoration-color: #00af00\">5</span>, <span style=\"color: #00af00; text-decoration-color: #00af00\">39</span>)          │             <span style=\"color: #00af00; text-decoration-color: #00af00\">0</span> │\n",
              "├─────────────────────────────────┼────────────────────────┼───────────────┤\n",
              "│ rnn (<span style=\"color: #0087ff; text-decoration-color: #0087ff\">RNN</span>)                       │ (<span style=\"color: #00d7ff; text-decoration-color: #00d7ff\">None</span>, <span style=\"color: #00af00; text-decoration-color: #00af00\">5</span>, <span style=\"color: #00af00; text-decoration-color: #00af00\">64</span>)          │         <span style=\"color: #00af00; text-decoration-color: #00af00\">6,594</span> │\n",
              "├─────────────────────────────────┼────────────────────────┼───────────────┤\n",
              "│ bidirectional (<span style=\"color: #0087ff; text-decoration-color: #0087ff\">Bidirectional</span>)   │ (<span style=\"color: #00d7ff; text-decoration-color: #00d7ff\">None</span>, <span style=\"color: #00af00; text-decoration-color: #00af00\">5</span>, <span style=\"color: #00af00; text-decoration-color: #00af00\">100</span>)         │        <span style=\"color: #00af00; text-decoration-color: #00af00\">46,000</span> │\n",
              "├─────────────────────────────────┼────────────────────────┼───────────────┤\n",
              "│ bidirectional_1 (<span style=\"color: #0087ff; text-decoration-color: #0087ff\">Bidirectional</span>) │ (<span style=\"color: #00d7ff; text-decoration-color: #00d7ff\">None</span>, <span style=\"color: #00af00; text-decoration-color: #00af00\">100</span>)            │        <span style=\"color: #00af00; text-decoration-color: #00af00\">60,400</span> │\n",
              "├─────────────────────────────────┼────────────────────────┼───────────────┤\n",
              "│ dense (<span style=\"color: #0087ff; text-decoration-color: #0087ff\">Dense</span>)                   │ (<span style=\"color: #00d7ff; text-decoration-color: #00d7ff\">None</span>, <span style=\"color: #00af00; text-decoration-color: #00af00\">100</span>)            │        <span style=\"color: #00af00; text-decoration-color: #00af00\">10,100</span> │\n",
              "├─────────────────────────────────┼────────────────────────┼───────────────┤\n",
              "│ dropout (<span style=\"color: #0087ff; text-decoration-color: #0087ff\">Dropout</span>)               │ (<span style=\"color: #00d7ff; text-decoration-color: #00d7ff\">None</span>, <span style=\"color: #00af00; text-decoration-color: #00af00\">100</span>)            │             <span style=\"color: #00af00; text-decoration-color: #00af00\">0</span> │\n",
              "├─────────────────────────────────┼────────────────────────┼───────────────┤\n",
              "│ dense_1 (<span style=\"color: #0087ff; text-decoration-color: #0087ff\">Dense</span>)                 │ (<span style=\"color: #00d7ff; text-decoration-color: #00d7ff\">None</span>, <span style=\"color: #00af00; text-decoration-color: #00af00\">3</span>)              │           <span style=\"color: #00af00; text-decoration-color: #00af00\">303</span> │\n",
              "└─────────────────────────────────┴────────────────────────┴───────────────┘\n",
              "</pre>\n"
            ]
          },
          "metadata": {}
        },
        {
          "output_type": "display_data",
          "data": {
            "text/plain": [
              "\u001b[1m Total params: \u001b[0m\u001b[38;5;34m123,397\u001b[0m (482.02 KB)\n"
            ],
            "text/html": [
              "<pre style=\"white-space:pre;overflow-x:auto;line-height:normal;font-family:Menlo,'DejaVu Sans Mono',consolas,'Courier New',monospace\"><span style=\"font-weight: bold\"> Total params: </span><span style=\"color: #00af00; text-decoration-color: #00af00\">123,397</span> (482.02 KB)\n",
              "</pre>\n"
            ]
          },
          "metadata": {}
        },
        {
          "output_type": "display_data",
          "data": {
            "text/plain": [
              "\u001b[1m Trainable params: \u001b[0m\u001b[38;5;34m123,397\u001b[0m (482.02 KB)\n"
            ],
            "text/html": [
              "<pre style=\"white-space:pre;overflow-x:auto;line-height:normal;font-family:Menlo,'DejaVu Sans Mono',consolas,'Courier New',monospace\"><span style=\"font-weight: bold\"> Trainable params: </span><span style=\"color: #00af00; text-decoration-color: #00af00\">123,397</span> (482.02 KB)\n",
              "</pre>\n"
            ]
          },
          "metadata": {}
        },
        {
          "output_type": "display_data",
          "data": {
            "text/plain": [
              "\u001b[1m Non-trainable params: \u001b[0m\u001b[38;5;34m0\u001b[0m (0.00 B)\n"
            ],
            "text/html": [
              "<pre style=\"white-space:pre;overflow-x:auto;line-height:normal;font-family:Menlo,'DejaVu Sans Mono',consolas,'Courier New',monospace\"><span style=\"font-weight: bold\"> Non-trainable params: </span><span style=\"color: #00af00; text-decoration-color: #00af00\">0</span> (0.00 B)\n",
              "</pre>\n"
            ]
          },
          "metadata": {}
        }
      ]
    },
    {
      "cell_type": "code",
      "source": [
        "# Callbacks\n",
        "early_stopping = EarlyStopping(monitor='val_loss', patience=10, restore_best_weights=True)\n",
        "\n",
        "checkpoint_cb = ModelCheckpoint(\"/content/drive/MyDrive/thacsi/LuanVan/PredictStock/TA/v1/best_model_v2.keras\", monitor='val_loss', save_best_only=True, mode='min', verbose=1)\n",
        "\n",
        "lr_schedule_cb = ReduceLROnPlateau(monitor='val_loss', factor=0.5, patience=5, min_lr=1e-6, verbose=1)\n"
      ],
      "metadata": {
        "id": "QTvmlP71dZnl"
      },
      "execution_count": 28,
      "outputs": []
    },
    {
      "cell_type": "code",
      "source": [
        "# Huấn luyện mô hình\n",
        "history = model.fit(\n",
        "    X_train, tf.keras.utils.to_categorical(y_train),\n",
        "    epochs=100,\n",
        "    batch_size=64,\n",
        "    validation_data=(X_val, tf.keras.utils.to_categorical(y_val)),\n",
        "    callbacks=[early_stopping, checkpoint_cb, lr_schedule_cb]\n",
        ")"
      ],
      "metadata": {
        "colab": {
          "base_uri": "https://localhost:8080/"
        },
        "id": "PTEzX29Jdd6-",
        "outputId": "6c985c8d-cb3d-4f01-fa14-cbad41dc1eaf"
      },
      "execution_count": 30,
      "outputs": [
        {
          "output_type": "stream",
          "name": "stdout",
          "text": [
            "Epoch 1/100\n",
            "\u001b[1m354/354\u001b[0m \u001b[32m━━━━━━━━━━━━━━━━━━━━\u001b[0m\u001b[37m\u001b[0m \u001b[1m0s\u001b[0m 24ms/step - accuracy: 0.4913 - loss: 1.0422\n",
            "Epoch 1: val_loss improved from inf to 1.02944, saving model to /content/drive/MyDrive/thacsi/LuanVan/PredictStock/TA/v1/best_model_v2.keras\n",
            "\u001b[1m354/354\u001b[0m \u001b[32m━━━━━━━━━━━━━━━━━━━━\u001b[0m\u001b[37m\u001b[0m \u001b[1m20s\u001b[0m 30ms/step - accuracy: 0.4913 - loss: 1.0422 - val_accuracy: 0.4954 - val_loss: 1.0294 - learning_rate: 0.0010\n",
            "Epoch 2/100\n",
            "\u001b[1m354/354\u001b[0m \u001b[32m━━━━━━━━━━━━━━━━━━━━\u001b[0m\u001b[37m\u001b[0m \u001b[1m0s\u001b[0m 19ms/step - accuracy: 0.4996 - loss: 1.0242\n",
            "Epoch 2: val_loss improved from 1.02944 to 1.02434, saving model to /content/drive/MyDrive/thacsi/LuanVan/PredictStock/TA/v1/best_model_v2.keras\n",
            "\u001b[1m354/354\u001b[0m \u001b[32m━━━━━━━━━━━━━━━━━━━━\u001b[0m\u001b[37m\u001b[0m \u001b[1m17s\u001b[0m 21ms/step - accuracy: 0.4996 - loss: 1.0242 - val_accuracy: 0.4929 - val_loss: 1.0243 - learning_rate: 0.0010\n",
            "Epoch 3/100\n",
            "\u001b[1m354/354\u001b[0m \u001b[32m━━━━━━━━━━━━━━━━━━━━\u001b[0m\u001b[37m\u001b[0m \u001b[1m0s\u001b[0m 24ms/step - accuracy: 0.4952 - loss: 1.0229\n",
            "Epoch 3: val_loss improved from 1.02434 to 1.02346, saving model to /content/drive/MyDrive/thacsi/LuanVan/PredictStock/TA/v1/best_model_v2.keras\n",
            "\u001b[1m354/354\u001b[0m \u001b[32m━━━━━━━━━━━━━━━━━━━━\u001b[0m\u001b[37m\u001b[0m \u001b[1m9s\u001b[0m 27ms/step - accuracy: 0.4952 - loss: 1.0229 - val_accuracy: 0.4949 - val_loss: 1.0235 - learning_rate: 0.0010\n",
            "Epoch 4/100\n",
            "\u001b[1m354/354\u001b[0m \u001b[32m━━━━━━━━━━━━━━━━━━━━\u001b[0m\u001b[37m\u001b[0m \u001b[1m0s\u001b[0m 19ms/step - accuracy: 0.4993 - loss: 1.0195\n",
            "Epoch 4: val_loss improved from 1.02346 to 1.02271, saving model to /content/drive/MyDrive/thacsi/LuanVan/PredictStock/TA/v1/best_model_v2.keras\n",
            "\u001b[1m354/354\u001b[0m \u001b[32m━━━━━━━━━━━━━━━━━━━━\u001b[0m\u001b[37m\u001b[0m \u001b[1m9s\u001b[0m 23ms/step - accuracy: 0.4993 - loss: 1.0195 - val_accuracy: 0.4928 - val_loss: 1.0227 - learning_rate: 0.0010\n",
            "Epoch 5/100\n",
            "\u001b[1m354/354\u001b[0m \u001b[32m━━━━━━━━━━━━━━━━━━━━\u001b[0m\u001b[37m\u001b[0m \u001b[1m0s\u001b[0m 19ms/step - accuracy: 0.4974 - loss: 1.0220\n",
            "Epoch 5: val_loss did not improve from 1.02271\n",
            "\u001b[1m354/354\u001b[0m \u001b[32m━━━━━━━━━━━━━━━━━━━━\u001b[0m\u001b[37m\u001b[0m \u001b[1m9s\u001b[0m 20ms/step - accuracy: 0.4974 - loss: 1.0220 - val_accuracy: 0.4986 - val_loss: 1.0237 - learning_rate: 0.0010\n",
            "Epoch 6/100\n",
            "\u001b[1m352/354\u001b[0m \u001b[32m━━━━━━━━━━━━━━━━━━━\u001b[0m\u001b[37m━\u001b[0m \u001b[1m0s\u001b[0m 22ms/step - accuracy: 0.4996 - loss: 1.0186\n",
            "Epoch 6: val_loss improved from 1.02271 to 1.02079, saving model to /content/drive/MyDrive/thacsi/LuanVan/PredictStock/TA/v1/best_model_v2.keras\n",
            "\u001b[1m354/354\u001b[0m \u001b[32m━━━━━━━━━━━━━━━━━━━━\u001b[0m\u001b[37m\u001b[0m \u001b[1m12s\u001b[0m 24ms/step - accuracy: 0.4996 - loss: 1.0186 - val_accuracy: 0.5002 - val_loss: 1.0208 - learning_rate: 0.0010\n",
            "Epoch 7/100\n",
            "\u001b[1m354/354\u001b[0m \u001b[32m━━━━━━━━━━━━━━━━━━━━\u001b[0m\u001b[37m\u001b[0m \u001b[1m0s\u001b[0m 24ms/step - accuracy: 0.5051 - loss: 1.0156\n",
            "Epoch 7: val_loss did not improve from 1.02079\n",
            "\u001b[1m354/354\u001b[0m \u001b[32m━━━━━━━━━━━━━━━━━━━━\u001b[0m\u001b[37m\u001b[0m \u001b[1m10s\u001b[0m 28ms/step - accuracy: 0.5051 - loss: 1.0156 - val_accuracy: 0.5004 - val_loss: 1.0247 - learning_rate: 0.0010\n",
            "Epoch 8/100\n",
            "\u001b[1m353/354\u001b[0m \u001b[32m━━━━━━━━━━━━━━━━━━━\u001b[0m\u001b[37m━\u001b[0m \u001b[1m0s\u001b[0m 19ms/step - accuracy: 0.5056 - loss: 1.0156\n",
            "Epoch 8: val_loss improved from 1.02079 to 1.02052, saving model to /content/drive/MyDrive/thacsi/LuanVan/PredictStock/TA/v1/best_model_v2.keras\n",
            "\u001b[1m354/354\u001b[0m \u001b[32m━━━━━━━━━━━━━━━━━━━━\u001b[0m\u001b[37m\u001b[0m \u001b[1m8s\u001b[0m 20ms/step - accuracy: 0.5056 - loss: 1.0156 - val_accuracy: 0.5009 - val_loss: 1.0205 - learning_rate: 0.0010\n",
            "Epoch 9/100\n",
            "\u001b[1m352/354\u001b[0m \u001b[32m━━━━━━━━━━━━━━━━━━━\u001b[0m\u001b[37m━\u001b[0m \u001b[1m0s\u001b[0m 20ms/step - accuracy: 0.5106 - loss: 1.0098\n",
            "Epoch 9: val_loss improved from 1.02052 to 1.01913, saving model to /content/drive/MyDrive/thacsi/LuanVan/PredictStock/TA/v1/best_model_v2.keras\n",
            "\u001b[1m354/354\u001b[0m \u001b[32m━━━━━━━━━━━━━━━━━━━━\u001b[0m\u001b[37m\u001b[0m \u001b[1m11s\u001b[0m 22ms/step - accuracy: 0.5106 - loss: 1.0098 - val_accuracy: 0.4995 - val_loss: 1.0191 - learning_rate: 0.0010\n",
            "Epoch 10/100\n",
            "\u001b[1m354/354\u001b[0m \u001b[32m━━━━━━━━━━━━━━━━━━━━\u001b[0m\u001b[37m\u001b[0m \u001b[1m0s\u001b[0m 25ms/step - accuracy: 0.5073 - loss: 1.0134\n",
            "Epoch 10: val_loss improved from 1.01913 to 1.01786, saving model to /content/drive/MyDrive/thacsi/LuanVan/PredictStock/TA/v1/best_model_v2.keras\n",
            "\u001b[1m354/354\u001b[0m \u001b[32m━━━━━━━━━━━━━━━━━━━━\u001b[0m\u001b[37m\u001b[0m \u001b[1m10s\u001b[0m 27ms/step - accuracy: 0.5073 - loss: 1.0134 - val_accuracy: 0.4996 - val_loss: 1.0179 - learning_rate: 0.0010\n",
            "Epoch 11/100\n",
            "\u001b[1m354/354\u001b[0m \u001b[32m━━━━━━━━━━━━━━━━━━━━\u001b[0m\u001b[37m\u001b[0m \u001b[1m0s\u001b[0m 19ms/step - accuracy: 0.5068 - loss: 1.0113\n",
            "Epoch 11: val_loss did not improve from 1.01786\n",
            "\u001b[1m354/354\u001b[0m \u001b[32m━━━━━━━━━━━━━━━━━━━━\u001b[0m\u001b[37m\u001b[0m \u001b[1m7s\u001b[0m 21ms/step - accuracy: 0.5068 - loss: 1.0113 - val_accuracy: 0.4977 - val_loss: 1.0205 - learning_rate: 0.0010\n",
            "Epoch 12/100\n",
            "\u001b[1m353/354\u001b[0m \u001b[32m━━━━━━━━━━━━━━━━━━━\u001b[0m\u001b[37m━\u001b[0m \u001b[1m0s\u001b[0m 24ms/step - accuracy: 0.5003 - loss: 1.0143\n",
            "Epoch 12: val_loss improved from 1.01786 to 1.01639, saving model to /content/drive/MyDrive/thacsi/LuanVan/PredictStock/TA/v1/best_model_v2.keras\n",
            "\u001b[1m354/354\u001b[0m \u001b[32m━━━━━━━━━━━━━━━━━━━━\u001b[0m\u001b[37m\u001b[0m \u001b[1m9s\u001b[0m 26ms/step - accuracy: 0.5003 - loss: 1.0143 - val_accuracy: 0.5072 - val_loss: 1.0164 - learning_rate: 0.0010\n",
            "Epoch 13/100\n",
            "\u001b[1m354/354\u001b[0m \u001b[32m━━━━━━━━━━━━━━━━━━━━\u001b[0m\u001b[37m\u001b[0m \u001b[1m0s\u001b[0m 21ms/step - accuracy: 0.5111 - loss: 1.0078\n",
            "Epoch 13: val_loss improved from 1.01639 to 1.01627, saving model to /content/drive/MyDrive/thacsi/LuanVan/PredictStock/TA/v1/best_model_v2.keras\n",
            "\u001b[1m354/354\u001b[0m \u001b[32m━━━━━━━━━━━━━━━━━━━━\u001b[0m\u001b[37m\u001b[0m \u001b[1m10s\u001b[0m 25ms/step - accuracy: 0.5111 - loss: 1.0078 - val_accuracy: 0.5071 - val_loss: 1.0163 - learning_rate: 0.0010\n",
            "Epoch 14/100\n",
            "\u001b[1m354/354\u001b[0m \u001b[32m━━━━━━━━━━━━━━━━━━━━\u001b[0m\u001b[37m\u001b[0m \u001b[1m0s\u001b[0m 20ms/step - accuracy: 0.5116 - loss: 1.0058\n",
            "Epoch 14: val_loss improved from 1.01627 to 1.01556, saving model to /content/drive/MyDrive/thacsi/LuanVan/PredictStock/TA/v1/best_model_v2.keras\n",
            "\u001b[1m354/354\u001b[0m \u001b[32m━━━━━━━━━━━━━━━━━━━━\u001b[0m\u001b[37m\u001b[0m \u001b[1m8s\u001b[0m 22ms/step - accuracy: 0.5116 - loss: 1.0058 - val_accuracy: 0.5037 - val_loss: 1.0156 - learning_rate: 0.0010\n",
            "Epoch 15/100\n",
            "\u001b[1m353/354\u001b[0m \u001b[32m━━━━━━━━━━━━━━━━━━━\u001b[0m\u001b[37m━\u001b[0m \u001b[1m0s\u001b[0m 24ms/step - accuracy: 0.5050 - loss: 1.0105\n",
            "Epoch 15: val_loss improved from 1.01556 to 1.01511, saving model to /content/drive/MyDrive/thacsi/LuanVan/PredictStock/TA/v1/best_model_v2.keras\n",
            "\u001b[1m354/354\u001b[0m \u001b[32m━━━━━━━━━━━━━━━━━━━━\u001b[0m\u001b[37m\u001b[0m \u001b[1m9s\u001b[0m 26ms/step - accuracy: 0.5050 - loss: 1.0105 - val_accuracy: 0.5051 - val_loss: 1.0151 - learning_rate: 0.0010\n",
            "Epoch 16/100\n",
            "\u001b[1m352/354\u001b[0m \u001b[32m━━━━━━━━━━━━━━━━━━━\u001b[0m\u001b[37m━\u001b[0m \u001b[1m0s\u001b[0m 19ms/step - accuracy: 0.5171 - loss: 1.0016\n",
            "Epoch 16: val_loss improved from 1.01511 to 1.01184, saving model to /content/drive/MyDrive/thacsi/LuanVan/PredictStock/TA/v1/best_model_v2.keras\n",
            "\u001b[1m354/354\u001b[0m \u001b[32m━━━━━━━━━━━━━━━━━━━━\u001b[0m\u001b[37m\u001b[0m \u001b[1m8s\u001b[0m 21ms/step - accuracy: 0.5170 - loss: 1.0017 - val_accuracy: 0.5065 - val_loss: 1.0118 - learning_rate: 0.0010\n",
            "Epoch 17/100\n",
            "\u001b[1m354/354\u001b[0m \u001b[32m━━━━━━━━━━━━━━━━━━━━\u001b[0m\u001b[37m\u001b[0m \u001b[1m0s\u001b[0m 18ms/step - accuracy: 0.5189 - loss: 1.0002\n",
            "Epoch 17: val_loss did not improve from 1.01184\n",
            "\u001b[1m354/354\u001b[0m \u001b[32m━━━━━━━━━━━━━━━━━━━━\u001b[0m\u001b[37m\u001b[0m \u001b[1m10s\u001b[0m 20ms/step - accuracy: 0.5189 - loss: 1.0002 - val_accuracy: 0.5058 - val_loss: 1.0130 - learning_rate: 0.0010\n",
            "Epoch 18/100\n",
            "\u001b[1m353/354\u001b[0m \u001b[32m━━━━━━━━━━━━━━━━━━━\u001b[0m\u001b[37m━\u001b[0m \u001b[1m0s\u001b[0m 25ms/step - accuracy: 0.5152 - loss: 1.0007\n",
            "Epoch 18: val_loss improved from 1.01184 to 1.00700, saving model to /content/drive/MyDrive/thacsi/LuanVan/PredictStock/TA/v1/best_model_v2.keras\n",
            "\u001b[1m354/354\u001b[0m \u001b[32m━━━━━━━━━━━━━━━━━━━━\u001b[0m\u001b[37m\u001b[0m \u001b[1m9s\u001b[0m 27ms/step - accuracy: 0.5153 - loss: 1.0007 - val_accuracy: 0.5115 - val_loss: 1.0070 - learning_rate: 0.0010\n",
            "Epoch 19/100\n",
            "\u001b[1m352/354\u001b[0m \u001b[32m━━━━━━━━━━━━━━━━━━━\u001b[0m\u001b[37m━\u001b[0m \u001b[1m0s\u001b[0m 19ms/step - accuracy: 0.5207 - loss: 0.9936\n",
            "Epoch 19: val_loss improved from 1.00700 to 1.00578, saving model to /content/drive/MyDrive/thacsi/LuanVan/PredictStock/TA/v1/best_model_v2.keras\n",
            "\u001b[1m354/354\u001b[0m \u001b[32m━━━━━━━━━━━━━━━━━━━━\u001b[0m\u001b[37m\u001b[0m \u001b[1m7s\u001b[0m 21ms/step - accuracy: 0.5207 - loss: 0.9936 - val_accuracy: 0.5161 - val_loss: 1.0058 - learning_rate: 0.0010\n",
            "Epoch 20/100\n",
            "\u001b[1m354/354\u001b[0m \u001b[32m━━━━━━━━━━━━━━━━━━━━\u001b[0m\u001b[37m\u001b[0m \u001b[1m0s\u001b[0m 19ms/step - accuracy: 0.5342 - loss: 0.9790\n",
            "Epoch 20: val_loss improved from 1.00578 to 0.99621, saving model to /content/drive/MyDrive/thacsi/LuanVan/PredictStock/TA/v1/best_model_v2.keras\n",
            "\u001b[1m354/354\u001b[0m \u001b[32m━━━━━━━━━━━━━━━━━━━━\u001b[0m\u001b[37m\u001b[0m \u001b[1m10s\u001b[0m 21ms/step - accuracy: 0.5342 - loss: 0.9790 - val_accuracy: 0.5159 - val_loss: 0.9962 - learning_rate: 0.0010\n",
            "Epoch 21/100\n",
            "\u001b[1m352/354\u001b[0m \u001b[32m━━━━━━━━━━━━━━━━━━━\u001b[0m\u001b[37m━\u001b[0m \u001b[1m0s\u001b[0m 23ms/step - accuracy: 0.5401 - loss: 0.9689\n",
            "Epoch 21: val_loss improved from 0.99621 to 0.98409, saving model to /content/drive/MyDrive/thacsi/LuanVan/PredictStock/TA/v1/best_model_v2.keras\n",
            "\u001b[1m354/354\u001b[0m \u001b[32m━━━━━━━━━━━━━━━━━━━━\u001b[0m\u001b[37m\u001b[0m \u001b[1m12s\u001b[0m 25ms/step - accuracy: 0.5401 - loss: 0.9689 - val_accuracy: 0.5279 - val_loss: 0.9841 - learning_rate: 0.0010\n",
            "Epoch 22/100\n",
            "\u001b[1m353/354\u001b[0m \u001b[32m━━━━━━━━━━━━━━━━━━━\u001b[0m\u001b[37m━\u001b[0m \u001b[1m0s\u001b[0m 25ms/step - accuracy: 0.5462 - loss: 0.9586\n",
            "Epoch 22: val_loss improved from 0.98409 to 0.98010, saving model to /content/drive/MyDrive/thacsi/LuanVan/PredictStock/TA/v1/best_model_v2.keras\n",
            "\u001b[1m354/354\u001b[0m \u001b[32m━━━━━━━━━━━━━━━━━━━━\u001b[0m\u001b[37m\u001b[0m \u001b[1m11s\u001b[0m 27ms/step - accuracy: 0.5462 - loss: 0.9585 - val_accuracy: 0.5332 - val_loss: 0.9801 - learning_rate: 0.0010\n",
            "Epoch 23/100\n",
            "\u001b[1m354/354\u001b[0m \u001b[32m━━━━━━━━━━━━━━━━━━━━\u001b[0m\u001b[37m\u001b[0m \u001b[1m0s\u001b[0m 19ms/step - accuracy: 0.5618 - loss: 0.9362\n",
            "Epoch 23: val_loss improved from 0.98010 to 0.96730, saving model to /content/drive/MyDrive/thacsi/LuanVan/PredictStock/TA/v1/best_model_v2.keras\n",
            "\u001b[1m354/354\u001b[0m \u001b[32m━━━━━━━━━━━━━━━━━━━━\u001b[0m\u001b[37m\u001b[0m \u001b[1m8s\u001b[0m 21ms/step - accuracy: 0.5618 - loss: 0.9362 - val_accuracy: 0.5426 - val_loss: 0.9673 - learning_rate: 0.0010\n",
            "Epoch 24/100\n",
            "\u001b[1m353/354\u001b[0m \u001b[32m━━━━━━━━━━━━━━━━━━━\u001b[0m\u001b[37m━\u001b[0m \u001b[1m0s\u001b[0m 19ms/step - accuracy: 0.5694 - loss: 0.9185\n",
            "Epoch 24: val_loss improved from 0.96730 to 0.96072, saving model to /content/drive/MyDrive/thacsi/LuanVan/PredictStock/TA/v1/best_model_v2.keras\n",
            "\u001b[1m354/354\u001b[0m \u001b[32m━━━━━━━━━━━━━━━━━━━━\u001b[0m\u001b[37m\u001b[0m \u001b[1m10s\u001b[0m 21ms/step - accuracy: 0.5694 - loss: 0.9185 - val_accuracy: 0.5459 - val_loss: 0.9607 - learning_rate: 0.0010\n",
            "Epoch 25/100\n",
            "\u001b[1m353/354\u001b[0m \u001b[32m━━━━━━━━━━━━━━━━━━━\u001b[0m\u001b[37m━\u001b[0m \u001b[1m0s\u001b[0m 23ms/step - accuracy: 0.5873 - loss: 0.8967\n",
            "Epoch 25: val_loss improved from 0.96072 to 0.95071, saving model to /content/drive/MyDrive/thacsi/LuanVan/PredictStock/TA/v1/best_model_v2.keras\n",
            "\u001b[1m354/354\u001b[0m \u001b[32m━━━━━━━━━━━━━━━━━━━━\u001b[0m\u001b[37m\u001b[0m \u001b[1m12s\u001b[0m 25ms/step - accuracy: 0.5873 - loss: 0.8968 - val_accuracy: 0.5507 - val_loss: 0.9507 - learning_rate: 0.0010\n",
            "Epoch 26/100\n",
            "\u001b[1m352/354\u001b[0m \u001b[32m━━━━━━━━━━━━━━━━━━━\u001b[0m\u001b[37m━\u001b[0m \u001b[1m0s\u001b[0m 24ms/step - accuracy: 0.5967 - loss: 0.8796\n",
            "Epoch 26: val_loss did not improve from 0.95071\n",
            "\u001b[1m354/354\u001b[0m \u001b[32m━━━━━━━━━━━━━━━━━━━━\u001b[0m\u001b[37m\u001b[0m \u001b[1m11s\u001b[0m 26ms/step - accuracy: 0.5967 - loss: 0.8797 - val_accuracy: 0.5514 - val_loss: 0.9516 - learning_rate: 0.0010\n",
            "Epoch 27/100\n",
            "\u001b[1m354/354\u001b[0m \u001b[32m━━━━━━━━━━━━━━━━━━━━\u001b[0m\u001b[37m\u001b[0m \u001b[1m0s\u001b[0m 19ms/step - accuracy: 0.6016 - loss: 0.8626\n",
            "Epoch 27: val_loss improved from 0.95071 to 0.94714, saving model to /content/drive/MyDrive/thacsi/LuanVan/PredictStock/TA/v1/best_model_v2.keras\n",
            "\u001b[1m354/354\u001b[0m \u001b[32m━━━━━━━━━━━━━━━━━━━━\u001b[0m\u001b[37m\u001b[0m \u001b[1m8s\u001b[0m 21ms/step - accuracy: 0.6016 - loss: 0.8626 - val_accuracy: 0.5537 - val_loss: 0.9471 - learning_rate: 0.0010\n",
            "Epoch 28/100\n",
            "\u001b[1m353/354\u001b[0m \u001b[32m━━━━━━━━━━━━━━━━━━━\u001b[0m\u001b[37m━\u001b[0m \u001b[1m0s\u001b[0m 19ms/step - accuracy: 0.6089 - loss: 0.8446\n",
            "Epoch 28: val_loss did not improve from 0.94714\n",
            "\u001b[1m354/354\u001b[0m \u001b[32m━━━━━━━━━━━━━━━━━━━━\u001b[0m\u001b[37m\u001b[0m \u001b[1m10s\u001b[0m 21ms/step - accuracy: 0.6089 - loss: 0.8447 - val_accuracy: 0.5569 - val_loss: 0.9547 - learning_rate: 0.0010\n",
            "Epoch 29/100\n",
            "\u001b[1m353/354\u001b[0m \u001b[32m━━━━━━━━━━━━━━━━━━━\u001b[0m\u001b[37m━\u001b[0m \u001b[1m0s\u001b[0m 25ms/step - accuracy: 0.6197 - loss: 0.8195\n",
            "Epoch 29: val_loss did not improve from 0.94714\n",
            "\u001b[1m354/354\u001b[0m \u001b[32m━━━━━━━━━━━━━━━━━━━━\u001b[0m\u001b[37m\u001b[0m \u001b[1m9s\u001b[0m 26ms/step - accuracy: 0.6197 - loss: 0.8195 - val_accuracy: 0.5544 - val_loss: 0.9608 - learning_rate: 0.0010\n",
            "Epoch 30/100\n",
            "\u001b[1m354/354\u001b[0m \u001b[32m━━━━━━━━━━━━━━━━━━━━\u001b[0m\u001b[37m\u001b[0m \u001b[1m0s\u001b[0m 19ms/step - accuracy: 0.6283 - loss: 0.8056\n",
            "Epoch 30: val_loss did not improve from 0.94714\n",
            "\u001b[1m354/354\u001b[0m \u001b[32m━━━━━━━━━━━━━━━━━━━━\u001b[0m\u001b[37m\u001b[0m \u001b[1m7s\u001b[0m 21ms/step - accuracy: 0.6283 - loss: 0.8056 - val_accuracy: 0.5627 - val_loss: 0.9679 - learning_rate: 0.0010\n",
            "Epoch 31/100\n",
            "\u001b[1m353/354\u001b[0m \u001b[32m━━━━━━━━━━━━━━━━━━━\u001b[0m\u001b[37m━\u001b[0m \u001b[1m0s\u001b[0m 24ms/step - accuracy: 0.6447 - loss: 0.7763\n",
            "Epoch 31: val_loss did not improve from 0.94714\n",
            "\u001b[1m354/354\u001b[0m \u001b[32m━━━━━━━━━━━━━━━━━━━━\u001b[0m\u001b[37m\u001b[0m \u001b[1m9s\u001b[0m 26ms/step - accuracy: 0.6447 - loss: 0.7764 - val_accuracy: 0.5634 - val_loss: 0.9736 - learning_rate: 0.0010\n",
            "Epoch 32/100\n",
            "\u001b[1m353/354\u001b[0m \u001b[32m━━━━━━━━━━━━━━━━━━━\u001b[0m\u001b[37m━\u001b[0m \u001b[1m0s\u001b[0m 23ms/step - accuracy: 0.6579 - loss: 0.7542\n",
            "Epoch 32: val_loss did not improve from 0.94714\n",
            "\n",
            "Epoch 32: ReduceLROnPlateau reducing learning rate to 0.0005000000237487257.\n",
            "\u001b[1m354/354\u001b[0m \u001b[32m━━━━━━━━━━━━━━━━━━━━\u001b[0m\u001b[37m\u001b[0m \u001b[1m11s\u001b[0m 27ms/step - accuracy: 0.6578 - loss: 0.7542 - val_accuracy: 0.5633 - val_loss: 0.9836 - learning_rate: 0.0010\n",
            "Epoch 33/100\n",
            "\u001b[1m354/354\u001b[0m \u001b[32m━━━━━━━━━━━━━━━━━━━━\u001b[0m\u001b[37m\u001b[0m \u001b[1m0s\u001b[0m 19ms/step - accuracy: 0.6786 - loss: 0.7094\n",
            "Epoch 33: val_loss did not improve from 0.94714\n",
            "\u001b[1m354/354\u001b[0m \u001b[32m━━━━━━━━━━━━━━━━━━━━\u001b[0m\u001b[37m\u001b[0m \u001b[1m8s\u001b[0m 21ms/step - accuracy: 0.6786 - loss: 0.7094 - val_accuracy: 0.5627 - val_loss: 1.0112 - learning_rate: 5.0000e-04\n",
            "Epoch 34/100\n",
            "\u001b[1m353/354\u001b[0m \u001b[32m━━━━━━━━━━━━━━━━━━━\u001b[0m\u001b[37m━\u001b[0m \u001b[1m0s\u001b[0m 21ms/step - accuracy: 0.6978 - loss: 0.6770\n",
            "Epoch 34: val_loss did not improve from 0.94714\n",
            "\u001b[1m354/354\u001b[0m \u001b[32m━━━━━━━━━━━━━━━━━━━━\u001b[0m\u001b[37m\u001b[0m \u001b[1m11s\u001b[0m 23ms/step - accuracy: 0.6977 - loss: 0.6771 - val_accuracy: 0.5717 - val_loss: 1.0403 - learning_rate: 5.0000e-04\n",
            "Epoch 35/100\n",
            "\u001b[1m353/354\u001b[0m \u001b[32m━━━━━━━━━━━━━━━━━━━\u001b[0m\u001b[37m━\u001b[0m \u001b[1m0s\u001b[0m 25ms/step - accuracy: 0.7076 - loss: 0.6581\n",
            "Epoch 35: val_loss did not improve from 0.94714\n",
            "\u001b[1m354/354\u001b[0m \u001b[32m━━━━━━━━━━━━━━━━━━━━\u001b[0m\u001b[37m\u001b[0m \u001b[1m9s\u001b[0m 27ms/step - accuracy: 0.7075 - loss: 0.6581 - val_accuracy: 0.5641 - val_loss: 1.0611 - learning_rate: 5.0000e-04\n",
            "Epoch 36/100\n",
            "\u001b[1m352/354\u001b[0m \u001b[32m━━━━━━━━━━━━━━━━━━━\u001b[0m\u001b[37m━\u001b[0m \u001b[1m0s\u001b[0m 19ms/step - accuracy: 0.7198 - loss: 0.6410\n",
            "Epoch 36: val_loss did not improve from 0.94714\n",
            "\u001b[1m354/354\u001b[0m \u001b[32m━━━━━━━━━━━━━━━━━━━━\u001b[0m\u001b[37m\u001b[0m \u001b[1m8s\u001b[0m 21ms/step - accuracy: 0.7197 - loss: 0.6411 - val_accuracy: 0.5668 - val_loss: 1.0874 - learning_rate: 5.0000e-04\n",
            "Epoch 37/100\n",
            "\u001b[1m354/354\u001b[0m \u001b[32m━━━━━━━━━━━━━━━━━━━━\u001b[0m\u001b[37m\u001b[0m \u001b[1m0s\u001b[0m 19ms/step - accuracy: 0.7275 - loss: 0.6167\n",
            "Epoch 37: val_loss did not improve from 0.94714\n",
            "\n",
            "Epoch 37: ReduceLROnPlateau reducing learning rate to 0.0002500000118743628.\n",
            "\u001b[1m354/354\u001b[0m \u001b[32m━━━━━━━━━━━━━━━━━━━━\u001b[0m\u001b[37m\u001b[0m \u001b[1m10s\u001b[0m 21ms/step - accuracy: 0.7275 - loss: 0.6167 - val_accuracy: 0.5661 - val_loss: 1.1231 - learning_rate: 5.0000e-04\n"
          ]
        }
      ]
    },
    {
      "cell_type": "code",
      "source": [
        "# Lấy giá trị loss và val_loss từ lịch sử huấn luyện\n",
        "loss = history.history['loss']\n",
        "val_loss = history.history['val_loss']\n",
        "epochs = range(1, len(loss) + 1)\n",
        "\n",
        "# Vẽ biểu đồ\n",
        "plt.figure(figsize=(8, 5))\n",
        "plt.plot(epochs, loss, 'bo-', label='Training loss')\n",
        "plt.plot(epochs, val_loss, 'ro-', label='Validation loss')\n",
        "plt.title('Training and Validation Loss')\n",
        "plt.xlabel('Epochs')\n",
        "plt.ylabel('Loss')\n",
        "plt.legend()\n",
        "plt.grid(True)\n",
        "plt.tight_layout()\n",
        "plt.show()"
      ],
      "metadata": {
        "colab": {
          "base_uri": "https://localhost:8080/",
          "height": 507
        },
        "id": "Q6IL750rv0W9",
        "outputId": "8cbda2c9-2150-473b-d2db-71817f56e12f"
      },
      "execution_count": 31,
      "outputs": [
        {
          "output_type": "display_data",
          "data": {
            "text/plain": [
              "<Figure size 800x500 with 1 Axes>"
            ],
            "image/png": "[encoded data removed]"
          },
          "metadata": {}
        }
      ]
    },
    {
      "cell_type": "code",
      "source": [],
      "metadata": {
        "id": "pT3ynpPVf-yf"
      },
      "execution_count": null,
      "outputs": []
    },
    {
      "cell_type": "code",
      "source": [
        "input_shape = (5, len(features))  # Cập nhật len(features) với số lượng đặc trưng của bạn\n",
        "model = build_model(input_shape) # Build model\n",
        "model.summary()"
      ],
      "metadata": {
        "colab": {
          "base_uri": "https://localhost:8080/",
          "height": 353
        },
        "id": "wuCiycvZg4dv",
        "outputId": "3084a75d-a327-427e-edb5-2f16416289d5"
      },
      "execution_count": 32,
      "outputs": [
        {
          "output_type": "display_data",
          "data": {
            "text/plain": [
              "\u001b[1mModel: \"functional_1\"\u001b[0m\n"
            ],
            "text/html": [
              "<pre style=\"white-space:pre;overflow-x:auto;line-height:normal;font-family:Menlo,'DejaVu Sans Mono',consolas,'Courier New',monospace\"><span style=\"font-weight: bold\">Model: \"functional_1\"</span>\n",
              "</pre>\n"
            ]
          },
          "metadata": {}
        },
        {
          "output_type": "display_data",
          "data": {
            "text/plain": [
              "┏━━━━━━━━━━━━━━━━━━━━━━━━━━━━━━━━━┳━━━━━━━━━━━━━━━━━━━━━━━━┳━━━━━━━━━━━━━━━┓\n",
              "┃\u001b[1m \u001b[0m\u001b[1mLayer (type)                   \u001b[0m\u001b[1m \u001b[0m┃\u001b[1m \u001b[0m\u001b[1mOutput Shape          \u001b[0m\u001b[1m \u001b[0m┃\u001b[1m \u001b[0m\u001b[1m      Param #\u001b[0m\u001b[1m \u001b[0m┃\n",
              "┡━━━━━━━━━━━━━━━━━━━━━━━━━━━━━━━━━╇━━━━━━━━━━━━━━━━━━━━━━━━╇━━━━━━━━━━━━━━━┩\n",
              "│ input_layer_1 (\u001b[38;5;33mInputLayer\u001b[0m)      │ (\u001b[38;5;45mNone\u001b[0m, \u001b[38;5;34m5\u001b[0m, \u001b[38;5;34m39\u001b[0m)          │             \u001b[38;5;34m0\u001b[0m │\n",
              "├─────────────────────────────────┼────────────────────────┼───────────────┤\n",
              "│ rnn_1 (\u001b[38;5;33mRNN\u001b[0m)                     │ (\u001b[38;5;45mNone\u001b[0m, \u001b[38;5;34m5\u001b[0m, \u001b[38;5;34m64\u001b[0m)          │         \u001b[38;5;34m6,594\u001b[0m │\n",
              "├─────────────────────────────────┼────────────────────────┼───────────────┤\n",
              "│ bidirectional_2 (\u001b[38;5;33mBidirectional\u001b[0m) │ (\u001b[38;5;45mNone\u001b[0m, \u001b[38;5;34m5\u001b[0m, \u001b[38;5;34m100\u001b[0m)         │        \u001b[38;5;34m46,000\u001b[0m │\n",
              "├─────────────────────────────────┼────────────────────────┼───────────────┤\n",
              "│ bidirectional_3 (\u001b[38;5;33mBidirectional\u001b[0m) │ (\u001b[38;5;45mNone\u001b[0m, \u001b[38;5;34m100\u001b[0m)            │        \u001b[38;5;34m60,400\u001b[0m │\n",
              "├─────────────────────────────────┼────────────────────────┼───────────────┤\n",
              "│ dense_2 (\u001b[38;5;33mDense\u001b[0m)                 │ (\u001b[38;5;45mNone\u001b[0m, \u001b[38;5;34m100\u001b[0m)            │        \u001b[38;5;34m10,100\u001b[0m │\n",
              "├─────────────────────────────────┼────────────────────────┼───────────────┤\n",
              "│ dropout_1 (\u001b[38;5;33mDropout\u001b[0m)             │ (\u001b[38;5;45mNone\u001b[0m, \u001b[38;5;34m100\u001b[0m)            │             \u001b[38;5;34m0\u001b[0m │\n",
              "├─────────────────────────────────┼────────────────────────┼───────────────┤\n",
              "│ dense_3 (\u001b[38;5;33mDense\u001b[0m)                 │ (\u001b[38;5;45mNone\u001b[0m, \u001b[38;5;34m3\u001b[0m)              │           \u001b[38;5;34m303\u001b[0m │\n",
              "└─────────────────────────────────┴────────────────────────┴───────────────┘\n"
            ],
            "text/html": [
              "<pre style=\"white-space:pre;overflow-x:auto;line-height:normal;font-family:Menlo,'DejaVu Sans Mono',consolas,'Courier New',monospace\">┏━━━━━━━━━━━━━━━━━━━━━━━━━━━━━━━━━┳━━━━━━━━━━━━━━━━━━━━━━━━┳━━━━━━━━━━━━━━━┓\n",
              "┃<span style=\"font-weight: bold\"> Layer (type)                    </span>┃<span style=\"font-weight: bold\"> Output Shape           </span>┃<span style=\"font-weight: bold\">       Param # </span>┃\n",
              "┡━━━━━━━━━━━━━━━━━━━━━━━━━━━━━━━━━╇━━━━━━━━━━━━━━━━━━━━━━━━╇━━━━━━━━━━━━━━━┩\n",
              "│ input_layer_1 (<span style=\"color: #0087ff; text-decoration-color: #0087ff\">InputLayer</span>)      │ (<span style=\"color: #00d7ff; text-decoration-color: #00d7ff\">None</span>, <span style=\"color: #00af00; text-decoration-color: #00af00\">5</span>, <span style=\"color: #00af00; text-decoration-color: #00af00\">39</span>)          │             <span style=\"color: #00af00; text-decoration-color: #00af00\">0</span> │\n",
              "├─────────────────────────────────┼────────────────────────┼───────────────┤\n",
              "│ rnn_1 (<span style=\"color: #0087ff; text-decoration-color: #0087ff\">RNN</span>)                     │ (<span style=\"color: #00d7ff; text-decoration-color: #00d7ff\">None</span>, <span style=\"color: #00af00; text-decoration-color: #00af00\">5</span>, <span style=\"color: #00af00; text-decoration-color: #00af00\">64</span>)          │         <span style=\"color: #00af00; text-decoration-color: #00af00\">6,594</span> │\n",
              "├─────────────────────────────────┼────────────────────────┼───────────────┤\n",
              "│ bidirectional_2 (<span style=\"color: #0087ff; text-decoration-color: #0087ff\">Bidirectional</span>) │ (<span style=\"color: #00d7ff; text-decoration-color: #00d7ff\">None</span>, <span style=\"color: #00af00; text-decoration-color: #00af00\">5</span>, <span style=\"color: #00af00; text-decoration-color: #00af00\">100</span>)         │        <span style=\"color: #00af00; text-decoration-color: #00af00\">46,000</span> │\n",
              "├─────────────────────────────────┼────────────────────────┼───────────────┤\n",
              "│ bidirectional_3 (<span style=\"color: #0087ff; text-decoration-color: #0087ff\">Bidirectional</span>) │ (<span style=\"color: #00d7ff; text-decoration-color: #00d7ff\">None</span>, <span style=\"color: #00af00; text-decoration-color: #00af00\">100</span>)            │        <span style=\"color: #00af00; text-decoration-color: #00af00\">60,400</span> │\n",
              "├─────────────────────────────────┼────────────────────────┼───────────────┤\n",
              "│ dense_2 (<span style=\"color: #0087ff; text-decoration-color: #0087ff\">Dense</span>)                 │ (<span style=\"color: #00d7ff; text-decoration-color: #00d7ff\">None</span>, <span style=\"color: #00af00; text-decoration-color: #00af00\">100</span>)            │        <span style=\"color: #00af00; text-decoration-color: #00af00\">10,100</span> │\n",
              "├─────────────────────────────────┼────────────────────────┼───────────────┤\n",
              "│ dropout_1 (<span style=\"color: #0087ff; text-decoration-color: #0087ff\">Dropout</span>)             │ (<span style=\"color: #00d7ff; text-decoration-color: #00d7ff\">None</span>, <span style=\"color: #00af00; text-decoration-color: #00af00\">100</span>)            │             <span style=\"color: #00af00; text-decoration-color: #00af00\">0</span> │\n",
              "├─────────────────────────────────┼────────────────────────┼───────────────┤\n",
              "│ dense_3 (<span style=\"color: #0087ff; text-decoration-color: #0087ff\">Dense</span>)                 │ (<span style=\"color: #00d7ff; text-decoration-color: #00d7ff\">None</span>, <span style=\"color: #00af00; text-decoration-color: #00af00\">3</span>)              │           <span style=\"color: #00af00; text-decoration-color: #00af00\">303</span> │\n",
              "└─────────────────────────────────┴────────────────────────┴───────────────┘\n",
              "</pre>\n"
            ]
          },
          "metadata": {}
        },
        {
          "output_type": "display_data",
          "data": {
            "text/plain": [
              "\u001b[1m Total params: \u001b[0m\u001b[38;5;34m123,397\u001b[0m (482.02 KB)\n"
            ],
            "text/html": [
              "<pre style=\"white-space:pre;overflow-x:auto;line-height:normal;font-family:Menlo,'DejaVu Sans Mono',consolas,'Courier New',monospace\"><span style=\"font-weight: bold\"> Total params: </span><span style=\"color: #00af00; text-decoration-color: #00af00\">123,397</span> (482.02 KB)\n",
              "</pre>\n"
            ]
          },
          "metadata": {}
        },
        {
          "output_type": "display_data",
          "data": {
            "text/plain": [
              "\u001b[1m Trainable params: \u001b[0m\u001b[38;5;34m123,397\u001b[0m (482.02 KB)\n"
            ],
            "text/html": [
              "<pre style=\"white-space:pre;overflow-x:auto;line-height:normal;font-family:Menlo,'DejaVu Sans Mono',consolas,'Courier New',monospace\"><span style=\"font-weight: bold\"> Trainable params: </span><span style=\"color: #00af00; text-decoration-color: #00af00\">123,397</span> (482.02 KB)\n",
              "</pre>\n"
            ]
          },
          "metadata": {}
        },
        {
          "output_type": "display_data",
          "data": {
            "text/plain": [
              "\u001b[1m Non-trainable params: \u001b[0m\u001b[38;5;34m0\u001b[0m (0.00 B)\n"
            ],
            "text/html": [
              "<pre style=\"white-space:pre;overflow-x:auto;line-height:normal;font-family:Menlo,'DejaVu Sans Mono',consolas,'Courier New',monospace\"><span style=\"font-weight: bold\"> Non-trainable params: </span><span style=\"color: #00af00; text-decoration-color: #00af00\">0</span> (0.00 B)\n",
              "</pre>\n"
            ]
          },
          "metadata": {}
        }
      ]
    },
    {
      "cell_type": "code",
      "source": [
        "model.load_weights(\"/content/drive/MyDrive/thacsi/LuanVan/PredictStock/TA/v1/best_model_v2.keras\")"
      ],
      "metadata": {
        "colab": {
          "base_uri": "https://localhost:8080/"
        },
        "id": "7jlyZ7_Fg7F_",
        "outputId": "8e8778ff-206c-4156-d3b8-be9f9276e784"
      },
      "execution_count": 33,
      "outputs": [
        {
          "output_type": "stream",
          "name": "stderr",
          "text": [
            "Skipping variable loading for optimizer 'adam', because it has 2 variables whereas the saved optimizer has 42 variables. \n"
          ]
        }
      ]
    },
    {
      "cell_type": "code",
      "source": [
        "y_train_oh = to_categorical(y_train, num_classes=3)\n",
        "y_test_oh = to_categorical(y_test, num_classes=3)"
      ],
      "metadata": {
        "id": "MGurs9VPtyHA"
      },
      "execution_count": 34,
      "outputs": []
    },
    {
      "cell_type": "code",
      "source": [
        "loss, accuracy = model.evaluate(X_test, y_test_oh, verbose=1)\n",
        "print(f\"Loss: {loss:.4f}\")\n",
        "print(f\"Accuracy: {accuracy:.4f}\")"
      ],
      "metadata": {
        "colab": {
          "base_uri": "https://localhost:8080/"
        },
        "id": "_XCW2xe4mD7K",
        "outputId": "33a8d4f5-43bd-49af-b466-d0029da64cbe"
      },
      "execution_count": 35,
      "outputs": [
        {
          "output_type": "stream",
          "name": "stdout",
          "text": [
            "\u001b[1m183/183\u001b[0m \u001b[32m━━━━━━━━━━━━━━━━━━━━\u001b[0m\u001b[37m\u001b[0m \u001b[1m3s\u001b[0m 5ms/step - accuracy: 0.5606 - loss: 1.0372\n",
            "Loss: 1.0569\n",
            "Accuracy: 0.5564\n"
          ]
        }
      ]
    },
    {
      "cell_type": "code",
      "source": [
        "# Nếu output là xác suất (sử dụng softmax), cần lấy chỉ số nhãn lớn nhất\n",
        "y_pred_probs = model.predict(X_test)\n",
        "y_pred = np.argmax(y_pred_probs, axis=1)  # Chọn lớp có xác suất cao nhất"
      ],
      "metadata": {
        "colab": {
          "base_uri": "https://localhost:8080/"
        },
        "id": "M86XDJpPcB0L",
        "outputId": "05192402-a572-4c50-8288-91e86337297b"
      },
      "execution_count": 36,
      "outputs": [
        {
          "output_type": "stream",
          "name": "stdout",
          "text": [
            "\u001b[1m183/183\u001b[0m \u001b[32m━━━━━━━━━━━━━━━━━━━━\u001b[0m\u001b[37m\u001b[0m \u001b[1m2s\u001b[0m 8ms/step\n"
          ]
        }
      ]
    },
    {
      "cell_type": "code",
      "source": [
        "# Tạo ma trận nhầm lẫn\n",
        "cm = confusion_matrix(y_test, y_pred)\n",
        "\n",
        "# Hiển thị ma trận nhầm lẫn\n",
        "disp = ConfusionMatrixDisplay(confusion_matrix=cm, display_labels=[0, 1, 2])\n",
        "disp.plot(cmap='Blues')\n",
        "plt.title('Ma trận nhầm lẫn')\n",
        "plt.xlabel('Dự đoán')\n",
        "plt.ylabel('Thực tế')\n",
        "plt.show()"
      ],
      "metadata": {
        "colab": {
          "base_uri": "https://localhost:8080/",
          "height": 473
        },
        "id": "RrANvOcscJRQ",
        "outputId": "384fef21-94e8-457b-d544-985ed599de94"
      },
      "execution_count": 37,
      "outputs": [
        {
          "output_type": "display_data",
          "data": {
            "text/plain": [
              "<Figure size 640x480 with 2 Axes>"
            ],
            "image/png": "[encoded data removed]"
          },
          "metadata": {}
        }
      ]
    },
    {
      "cell_type": "code",
      "source": [
        "print(classification_report(y_test, y_pred, target_names=['Hold (0)', 'Buy (1)', 'Sell (2)']))"
      ],
      "metadata": {
        "colab": {
          "base_uri": "https://localhost:8080/"
        },
        "id": "uBFpWDlQcNVJ",
        "outputId": "45a0cdc4-9172-4807-e8e7-6cd2f5d98fbf"
      },
      "execution_count": 38,
      "outputs": [
        {
          "output_type": "stream",
          "name": "stdout",
          "text": [
            "              precision    recall  f1-score   support\n",
            "\n",
            "    Hold (0)       0.66      0.79      0.72      3728\n",
            "     Buy (1)       0.23      0.25      0.24      1095\n",
            "    Sell (2)       0.18      0.03      0.06      1027\n",
            "\n",
            "    accuracy                           0.56      5850\n",
            "   macro avg       0.36      0.36      0.34      5850\n",
            "weighted avg       0.49      0.56      0.51      5850\n",
            "\n"
          ]
        }
      ]
    },
    {
      "cell_type": "code",
      "source": [],
      "metadata": {
        "id": "HzGWQmCjmd3S"
      },
      "execution_count": null,
      "outputs": []
    }
  ]
}