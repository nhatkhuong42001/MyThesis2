{
  "cells": [
    {
      "cell_type": "markdown",
      "metadata": {
        "id": "cLNVn_5nAdIT"
      },
      "source": []
    },
    {
      "cell_type": "code",
      "execution_count": null,
      "metadata": {
        "colab": {
          "base_uri": "https://localhost:8080/"
        },
        "execution": {
          "iopub.execute_input": "2025-06-20T20:58:08.735948Z",
          "iopub.status.busy": "2025-06-20T20:58:08.735669Z",
          "iopub.status.idle": "2025-06-20T20:58:14.405761Z",
          "shell.execute_reply": "2025-06-20T20:58:14.404961Z",
          "shell.execute_reply.started": "2025-06-20T20:58:08.735919Z"
        },
        "id": "Okm4_Fz0m1-2",
        "outputId": "b9912095-2811-4d6c-cff5-720d10001a10",
        "trusted": true
      },
      "outputs": [
        {
          "name": "stdout",
          "output_type": "stream",
          "text": [
            "Collecting vnstock\n",
            "  Downloading vnstock-3.2.6-py3-none-any.whl.metadata (42 kB)\n",
            "\u001b[2K     \u001b[90m━━━━━━━━━━━━━━━━━━━━━━━━━━━━━━━━━━━━━━━━\u001b[0m \u001b[32m42.5/42.5 kB\u001b[0m \u001b[31m2.5 MB/s\u001b[0m eta \u001b[36m0:00:00\u001b[0m\n",
            "\u001b[?25hRequirement already satisfied: requests in /usr/local/lib/python3.11/dist-packages (from vnstock) (2.32.3)\n",
            "Requirement already satisfied: beautifulsoup4 in /usr/local/lib/python3.11/dist-packages (from vnstock) (4.13.3)\n",
            "Requirement already satisfied: pandas in /usr/local/lib/python3.11/dist-packages (from vnstock) (2.2.3)\n",
            "Requirement already satisfied: seaborn in /usr/local/lib/python3.11/dist-packages (from vnstock) (0.12.2)\n",
            "Requirement already satisfied: openpyxl in /usr/local/lib/python3.11/dist-packages (from vnstock) (3.1.5)\n",
            "Requirement already satisfied: pydantic in /usr/local/lib/python3.11/dist-packages (from vnstock) (2.11.4)\n",
            "Requirement already satisfied: psutil in /usr/local/lib/python3.11/dist-packages (from vnstock) (7.0.0)\n",
            "Collecting fake_useragent (from vnstock)\n",
            "  Downloading fake_useragent-2.2.0-py3-none-any.whl.metadata (17 kB)\n",
            "Collecting vnstock_ezchart (from vnstock)\n",
            "  Downloading vnstock_ezchart-0.0.2-py3-none-any.whl.metadata (6.6 kB)\n",
            "Requirement already satisfied: click in /usr/local/lib/python3.11/dist-packages (from vnstock) (8.1.8)\n",
            "Requirement already satisfied: packaging>=20.0 in /usr/local/lib/python3.11/dist-packages (from vnstock) (25.0)\n",
            "Requirement already satisfied: importlib-metadata>=1.0 in /usr/local/lib/python3.11/dist-packages (from vnstock) (8.7.0)\n",
            "Requirement already satisfied: tenacity in /usr/local/lib/python3.11/dist-packages (from vnstock) (9.1.2)\n",
            "Collecting vnai>=2.0.3 (from vnstock)\n",
            "  Downloading vnai-2.0.4-py3-none-any.whl.metadata (988 bytes)\n",
            "Requirement already satisfied: zipp>=3.20 in /usr/local/lib/python3.11/dist-packages (from importlib-metadata>=1.0->vnstock) (3.21.0)\n",
            "Requirement already satisfied: charset-normalizer<4,>=2 in /usr/local/lib/python3.11/dist-packages (from requests->vnstock) (3.4.2)\n",
            "Requirement already satisfied: idna<4,>=2.5 in /usr/local/lib/python3.11/dist-packages (from requests->vnstock) (3.10)\n",
            "Requirement already satisfied: urllib3<3,>=1.21.1 in /usr/local/lib/python3.11/dist-packages (from requests->vnstock) (2.4.0)\n",
            "Requirement already satisfied: certifi>=2017.4.17 in /usr/local/lib/python3.11/dist-packages (from requests->vnstock) (2025.4.26)\n",
            "Requirement already satisfied: soupsieve>1.2 in /usr/local/lib/python3.11/dist-packages (from beautifulsoup4->vnstock) (2.6)\n",
            "Requirement already satisfied: typing-extensions>=4.0.0 in /usr/local/lib/python3.11/dist-packages (from beautifulsoup4->vnstock) (4.13.2)\n",
            "Requirement already satisfied: et-xmlfile in /usr/local/lib/python3.11/dist-packages (from openpyxl->vnstock) (2.0.0)\n",
            "Requirement already satisfied: numpy>=1.23.2 in /usr/local/lib/python3.11/dist-packages (from pandas->vnstock) (1.26.4)\n",
            "Requirement already satisfied: python-dateutil>=2.8.2 in /usr/local/lib/python3.11/dist-packages (from pandas->vnstock) (2.9.0.post0)\n",
            "Requirement already satisfied: pytz>=2020.1 in /usr/local/lib/python3.11/dist-packages (from pandas->vnstock) (2025.2)\n",
            "Requirement already satisfied: tzdata>=2022.7 in /usr/local/lib/python3.11/dist-packages (from pandas->vnstock) (2025.2)\n",
            "Requirement already satisfied: annotated-types>=0.6.0 in /usr/local/lib/python3.11/dist-packages (from pydantic->vnstock) (0.7.0)\n",
            "Requirement already satisfied: pydantic-core==2.33.2 in /usr/local/lib/python3.11/dist-packages (from pydantic->vnstock) (2.33.2)\n",
            "Requirement already satisfied: typing-inspection>=0.4.0 in /usr/local/lib/python3.11/dist-packages (from pydantic->vnstock) (0.4.0)\n",
            "Requirement already satisfied: matplotlib!=3.6.1,>=3.1 in /usr/local/lib/python3.11/dist-packages (from seaborn->vnstock) (3.7.2)\n",
            "Requirement already satisfied: squarify in /usr/local/lib/python3.11/dist-packages (from vnstock_ezchart->vnstock) (0.4.4)\n",
            "Requirement already satisfied: wordcloud in /usr/local/lib/python3.11/dist-packages (from vnstock_ezchart->vnstock) (1.9.4)\n",
            "Requirement already satisfied: contourpy>=1.0.1 in /usr/local/lib/python3.11/dist-packages (from matplotlib!=3.6.1,>=3.1->seaborn->vnstock) (1.3.1)\n",
            "Requirement already satisfied: cycler>=0.10 in /usr/local/lib/python3.11/dist-packages (from matplotlib!=3.6.1,>=3.1->seaborn->vnstock) (0.12.1)\n",
            "Requirement already satisfied: fonttools>=4.22.0 in /usr/local/lib/python3.11/dist-packages (from matplotlib!=3.6.1,>=3.1->seaborn->vnstock) (4.57.0)\n",
            "Requirement already satisfied: kiwisolver>=1.0.1 in /usr/local/lib/python3.11/dist-packages (from matplotlib!=3.6.1,>=3.1->seaborn->vnstock) (1.4.8)\n",
            "Requirement already satisfied: pillow>=6.2.0 in /usr/local/lib/python3.11/dist-packages (from matplotlib!=3.6.1,>=3.1->seaborn->vnstock) (11.1.0)\n",
            "Requirement already satisfied: pyparsing<3.1,>=2.3.1 in /usr/local/lib/python3.11/dist-packages (from matplotlib!=3.6.1,>=3.1->seaborn->vnstock) (3.0.9)\n",
            "Requirement already satisfied: mkl_fft in /usr/local/lib/python3.11/dist-packages (from numpy>=1.23.2->pandas->vnstock) (1.3.8)\n",
            "Requirement already satisfied: mkl_random in /usr/local/lib/python3.11/dist-packages (from numpy>=1.23.2->pandas->vnstock) (1.2.4)\n",
            "Requirement already satisfied: mkl_umath in /usr/local/lib/python3.11/dist-packages (from numpy>=1.23.2->pandas->vnstock) (0.1.1)\n",
            "Requirement already satisfied: mkl in /usr/local/lib/python3.11/dist-packages (from numpy>=1.23.2->pandas->vnstock) (2025.1.0)\n",
            "Requirement already satisfied: tbb4py in /usr/local/lib/python3.11/dist-packages (from numpy>=1.23.2->pandas->vnstock) (2022.1.0)\n",
            "Requirement already satisfied: mkl-service in /usr/local/lib/python3.11/dist-packages (from numpy>=1.23.2->pandas->vnstock) (2.4.1)\n",
            "Requirement already satisfied: six>=1.5 in /usr/local/lib/python3.11/dist-packages (from python-dateutil>=2.8.2->pandas->vnstock) (1.17.0)\n",
            "Requirement already satisfied: intel-openmp<2026,>=2024 in /usr/local/lib/python3.11/dist-packages (from mkl->numpy>=1.23.2->pandas->vnstock) (2024.2.0)\n",
            "Requirement already satisfied: tbb==2022.* in /usr/local/lib/python3.11/dist-packages (from mkl->numpy>=1.23.2->pandas->vnstock) (2022.1.0)\n",
            "Requirement already satisfied: tcmlib==1.* in /usr/local/lib/python3.11/dist-packages (from tbb==2022.*->mkl->numpy>=1.23.2->pandas->vnstock) (1.3.0)\n",
            "Requirement already satisfied: intel-cmplr-lib-rt in /usr/local/lib/python3.11/dist-packages (from mkl_umath->numpy>=1.23.2->pandas->vnstock) (2024.2.0)\n",
            "Requirement already satisfied: intel-cmplr-lib-ur==2024.2.0 in /usr/local/lib/python3.11/dist-packages (from intel-openmp<2026,>=2024->mkl->numpy>=1.23.2->pandas->vnstock) (2024.2.0)\n",
            "Downloading vnstock-3.2.6-py3-none-any.whl (121 kB)\n",
            "\u001b[2K   \u001b[90m━━━━━━━━━━━━━━━━━━━━━━━━━━━━━━━━━━━━━━━━\u001b[0m \u001b[32m121.8/121.8 kB\u001b[0m \u001b[31m8.9 MB/s\u001b[0m eta \u001b[36m0:00:00\u001b[0m\n",
            "\u001b[?25hDownloading vnai-2.0.4-py3-none-any.whl (32 kB)\n",
            "Downloading fake_useragent-2.2.0-py3-none-any.whl (161 kB)\n",
            "\u001b[2K   \u001b[90m━━━━━━━━━━━━━━━━━━━━━━━━━━━━━━━━━━━━━━━━\u001b[0m \u001b[32m161.7/161.7 kB\u001b[0m \u001b[31m12.2 MB/s\u001b[0m eta \u001b[36m0:00:00\u001b[0m\n",
            "\u001b[?25hDownloading vnstock_ezchart-0.0.2-py3-none-any.whl (14 kB)\n",
            "Installing collected packages: fake_useragent, vnai, vnstock_ezchart, vnstock\n",
            "Successfully installed fake_useragent-2.2.0 vnai-2.0.4 vnstock-3.2.6 vnstock_ezchart-0.0.2\n",
            "Note: you may need to restart the kernel to use updated packages.\n"
          ]
        }
      ],
      "source": [
        "pip install -U vnstock"
      ]
    },
    {
      "cell_type": "code",
      "execution_count": null,
      "metadata": {
        "colab": {
          "base_uri": "https://localhost:8080/"
        },
        "execution": {
          "iopub.execute_input": "2025-06-20T20:58:14.406869Z",
          "iopub.status.busy": "2025-06-20T20:58:14.406657Z",
          "iopub.status.idle": "2025-06-20T20:58:17.437592Z",
          "shell.execute_reply": "2025-06-20T20:58:17.43665Z",
          "shell.execute_reply.started": "2025-06-20T20:58:14.406847Z"
        },
        "id": "a50KDExwzi2l",
        "outputId": "4169dd5a-71f6-40a8-dc0f-0c4f8d67600b",
        "trusted": true
      },
      "outputs": [
        {
          "name": "stdout",
          "output_type": "stream",
          "text": [
            "Requirement already satisfied: optuna in /usr/local/lib/python3.11/dist-packages (4.3.0)\n",
            "Requirement already satisfied: alembic>=1.5.0 in /usr/local/lib/python3.11/dist-packages (from optuna) (1.15.2)\n",
            "Requirement already satisfied: colorlog in /usr/local/lib/python3.11/dist-packages (from optuna) (6.9.0)\n",
            "Requirement already satisfied: numpy in /usr/local/lib/python3.11/dist-packages (from optuna) (1.26.4)\n",
            "Requirement already satisfied: packaging>=20.0 in /usr/local/lib/python3.11/dist-packages (from optuna) (25.0)\n",
            "Requirement already satisfied: sqlalchemy>=1.4.2 in /usr/local/lib/python3.11/dist-packages (from optuna) (2.0.40)\n",
            "Requirement already satisfied: tqdm in /usr/local/lib/python3.11/dist-packages (from optuna) (4.67.1)\n",
            "Requirement already satisfied: PyYAML in /usr/local/lib/python3.11/dist-packages (from optuna) (6.0.2)\n",
            "Requirement already satisfied: Mako in /usr/local/lib/python3.11/dist-packages (from alembic>=1.5.0->optuna) (1.3.10)\n",
            "Requirement already satisfied: typing-extensions>=4.12 in /usr/local/lib/python3.11/dist-packages (from alembic>=1.5.0->optuna) (4.13.2)\n",
            "Requirement already satisfied: greenlet>=1 in /usr/local/lib/python3.11/dist-packages (from sqlalchemy>=1.4.2->optuna) (3.1.1)\n",
            "Requirement already satisfied: mkl_fft in /usr/local/lib/python3.11/dist-packages (from numpy->optuna) (1.3.8)\n",
            "Requirement already satisfied: mkl_random in /usr/local/lib/python3.11/dist-packages (from numpy->optuna) (1.2.4)\n",
            "Requirement already satisfied: mkl_umath in /usr/local/lib/python3.11/dist-packages (from numpy->optuna) (0.1.1)\n",
            "Requirement already satisfied: mkl in /usr/local/lib/python3.11/dist-packages (from numpy->optuna) (2025.1.0)\n",
            "Requirement already satisfied: tbb4py in /usr/local/lib/python3.11/dist-packages (from numpy->optuna) (2022.1.0)\n",
            "Requirement already satisfied: mkl-service in /usr/local/lib/python3.11/dist-packages (from numpy->optuna) (2.4.1)\n",
            "Requirement already satisfied: MarkupSafe>=0.9.2 in /usr/local/lib/python3.11/dist-packages (from Mako->alembic>=1.5.0->optuna) (3.0.2)\n",
            "Requirement already satisfied: intel-openmp<2026,>=2024 in /usr/local/lib/python3.11/dist-packages (from mkl->numpy->optuna) (2024.2.0)\n",
            "Requirement already satisfied: tbb==2022.* in /usr/local/lib/python3.11/dist-packages (from mkl->numpy->optuna) (2022.1.0)\n",
            "Requirement already satisfied: tcmlib==1.* in /usr/local/lib/python3.11/dist-packages (from tbb==2022.*->mkl->numpy->optuna) (1.3.0)\n",
            "Requirement already satisfied: intel-cmplr-lib-rt in /usr/local/lib/python3.11/dist-packages (from mkl_umath->numpy->optuna) (2024.2.0)\n",
            "Requirement already satisfied: intel-cmplr-lib-ur==2024.2.0 in /usr/local/lib/python3.11/dist-packages (from intel-openmp<2026,>=2024->mkl->numpy->optuna) (2024.2.0)\n",
            "Note: you may need to restart the kernel to use updated packages.\n"
          ]
        }
      ],
      "source": [
        "pip install optuna"
      ]
    },
    {
      "cell_type": "code",
      "execution_count": null,
      "metadata": {
        "colab": {
          "base_uri": "https://localhost:8080/"
        },
        "execution": {
          "iopub.execute_input": "2025-06-20T20:58:17.439997Z",
          "iopub.status.busy": "2025-06-20T20:58:17.439765Z",
          "iopub.status.idle": "2025-06-20T20:58:22.52086Z",
          "shell.execute_reply": "2025-06-20T20:58:22.520125Z",
          "shell.execute_reply.started": "2025-06-20T20:58:17.439974Z"
        },
        "id": "wh4DI2CwnSEF",
        "outputId": "30b2a971-16a7-4931-d041-cddba828a1e7",
        "trusted": true
      },
      "outputs": [
        {
          "name": "stdout",
          "output_type": "stream",
          "text": [
            "Collecting ta\n",
            "  Downloading ta-0.11.0.tar.gz (25 kB)\n",
            "  Preparing metadata (setup.py) ... \u001b[?25l\u001b[?25hdone\n",
            "Requirement already satisfied: numpy in /usr/local/lib/python3.11/dist-packages (from ta) (1.26.4)\n",
            "Requirement already satisfied: pandas in /usr/local/lib/python3.11/dist-packages (from ta) (2.2.3)\n",
            "Requirement already satisfied: mkl_fft in /usr/local/lib/python3.11/dist-packages (from numpy->ta) (1.3.8)\n",
            "Requirement already satisfied: mkl_random in /usr/local/lib/python3.11/dist-packages (from numpy->ta) (1.2.4)\n",
            "Requirement already satisfied: mkl_umath in /usr/local/lib/python3.11/dist-packages (from numpy->ta) (0.1.1)\n",
            "Requirement already satisfied: mkl in /usr/local/lib/python3.11/dist-packages (from numpy->ta) (2025.1.0)\n",
            "Requirement already satisfied: tbb4py in /usr/local/lib/python3.11/dist-packages (from numpy->ta) (2022.1.0)\n",
            "Requirement already satisfied: mkl-service in /usr/local/lib/python3.11/dist-packages (from numpy->ta) (2.4.1)\n",
            "Requirement already satisfied: python-dateutil>=2.8.2 in /usr/local/lib/python3.11/dist-packages (from pandas->ta) (2.9.0.post0)\n",
            "Requirement already satisfied: pytz>=2020.1 in /usr/local/lib/python3.11/dist-packages (from pandas->ta) (2025.2)\n",
            "Requirement already satisfied: tzdata>=2022.7 in /usr/local/lib/python3.11/dist-packages (from pandas->ta) (2025.2)\n",
            "Requirement already satisfied: six>=1.5 in /usr/local/lib/python3.11/dist-packages (from python-dateutil>=2.8.2->pandas->ta) (1.17.0)\n",
            "Requirement already satisfied: intel-openmp<2026,>=2024 in /usr/local/lib/python3.11/dist-packages (from mkl->numpy->ta) (2024.2.0)\n",
            "Requirement already satisfied: tbb==2022.* in /usr/local/lib/python3.11/dist-packages (from mkl->numpy->ta) (2022.1.0)\n",
            "Requirement already satisfied: tcmlib==1.* in /usr/local/lib/python3.11/dist-packages (from tbb==2022.*->mkl->numpy->ta) (1.3.0)\n",
            "Requirement already satisfied: intel-cmplr-lib-rt in /usr/local/lib/python3.11/dist-packages (from mkl_umath->numpy->ta) (2024.2.0)\n",
            "Requirement already satisfied: intel-cmplr-lib-ur==2024.2.0 in /usr/local/lib/python3.11/dist-packages (from intel-openmp<2026,>=2024->mkl->numpy->ta) (2024.2.0)\n",
            "Building wheels for collected packages: ta\n",
            "  Building wheel for ta (setup.py) ... \u001b[?25l\u001b[?25hdone\n",
            "  Created wheel for ta: filename=ta-0.11.0-py3-none-any.whl size=29412 sha256=8466d3fa17a197b5197759465d180a206a41d97f8a5a738c35436b1da99ebc61\n",
            "  Stored in directory: /root/.cache/pip/wheels/a1/d7/29/7781cc5eb9a3659d032d7d15bdd0f49d07d2b24fec29f44bc4\n",
            "Successfully built ta\n",
            "Installing collected packages: ta\n",
            "Successfully installed ta-0.11.0\n",
            "Note: you may need to restart the kernel to use updated packages.\n"
          ]
        }
      ],
      "source": [
        "pip install ta"
      ]
    },
    {
      "cell_type": "code",
      "execution_count": null,
      "metadata": {
        "colab": {
          "base_uri": "https://localhost:8080/"
        },
        "execution": {
          "iopub.execute_input": "2025-06-20T20:58:22.522483Z",
          "iopub.status.busy": "2025-06-20T20:58:22.52183Z",
          "iopub.status.idle": "2025-06-20T20:58:25.576998Z",
          "shell.execute_reply": "2025-06-20T20:58:25.576289Z",
          "shell.execute_reply.started": "2025-06-20T20:58:22.522452Z"
        },
        "id": "bh2_oFeynbcj",
        "outputId": "7a177a51-6d71-4930-8d26-de06d003a32f",
        "trusted": true
      },
      "outputs": [
        {
          "name": "stdout",
          "output_type": "stream",
          "text": [
            "Requirement already satisfied: tensorflow in /usr/local/lib/python3.11/dist-packages (2.18.0)\n",
            "Requirement already satisfied: absl-py>=1.0.0 in /usr/local/lib/python3.11/dist-packages (from tensorflow) (1.4.0)\n",
            "Requirement already satisfied: astunparse>=1.6.0 in /usr/local/lib/python3.11/dist-packages (from tensorflow) (1.6.3)\n",
            "Requirement already satisfied: flatbuffers>=24.3.25 in /usr/local/lib/python3.11/dist-packages (from tensorflow) (25.2.10)\n",
            "Requirement already satisfied: gast!=0.5.0,!=0.5.1,!=0.5.2,>=0.2.1 in /usr/local/lib/python3.11/dist-packages (from tensorflow) (0.6.0)\n",
            "Requirement already satisfied: google-pasta>=0.1.1 in /usr/local/lib/python3.11/dist-packages (from tensorflow) (0.2.0)\n",
            "Requirement already satisfied: libclang>=13.0.0 in /usr/local/lib/python3.11/dist-packages (from tensorflow) (18.1.1)\n",
            "Requirement already satisfied: opt-einsum>=2.3.2 in /usr/local/lib/python3.11/dist-packages (from tensorflow) (3.4.0)\n",
            "Requirement already satisfied: packaging in /usr/local/lib/python3.11/dist-packages (from tensorflow) (25.0)\n",
            "Requirement already satisfied: protobuf!=4.21.0,!=4.21.1,!=4.21.2,!=4.21.3,!=4.21.4,!=4.21.5,<6.0.0dev,>=3.20.3 in /usr/local/lib/python3.11/dist-packages (from tensorflow) (3.20.3)\n",
            "Requirement already satisfied: requests<3,>=2.21.0 in /usr/local/lib/python3.11/dist-packages (from tensorflow) (2.32.3)\n",
            "Requirement already satisfied: setuptools in /usr/local/lib/python3.11/dist-packages (from tensorflow) (75.2.0)\n",
            "Requirement already satisfied: six>=1.12.0 in /usr/local/lib/python3.11/dist-packages (from tensorflow) (1.17.0)\n",
            "Requirement already satisfied: termcolor>=1.1.0 in /usr/local/lib/python3.11/dist-packages (from tensorflow) (3.0.1)\n",
            "Requirement already satisfied: typing-extensions>=3.6.6 in /usr/local/lib/python3.11/dist-packages (from tensorflow) (4.13.2)\n",
            "Requirement already satisfied: wrapt>=1.11.0 in /usr/local/lib/python3.11/dist-packages (from tensorflow) (1.17.2)\n",
            "Requirement already satisfied: grpcio<2.0,>=1.24.3 in /usr/local/lib/python3.11/dist-packages (from tensorflow) (1.72.0rc1)\n",
            "Requirement already satisfied: tensorboard<2.19,>=2.18 in /usr/local/lib/python3.11/dist-packages (from tensorflow) (2.18.0)\n",
            "Requirement already satisfied: keras>=3.5.0 in /usr/local/lib/python3.11/dist-packages (from tensorflow) (3.8.0)\n",
            "Requirement already satisfied: numpy<2.1.0,>=1.26.0 in /usr/local/lib/python3.11/dist-packages (from tensorflow) (1.26.4)\n",
            "Requirement already satisfied: h5py>=3.11.0 in /usr/local/lib/python3.11/dist-packages (from tensorflow) (3.13.0)\n",
            "Requirement already satisfied: ml-dtypes<0.5.0,>=0.4.0 in /usr/local/lib/python3.11/dist-packages (from tensorflow) (0.4.1)\n",
            "Requirement already satisfied: tensorflow-io-gcs-filesystem>=0.23.1 in /usr/local/lib/python3.11/dist-packages (from tensorflow) (0.37.1)\n",
            "Requirement already satisfied: wheel<1.0,>=0.23.0 in /usr/local/lib/python3.11/dist-packages (from astunparse>=1.6.0->tensorflow) (0.45.1)\n",
            "Requirement already satisfied: rich in /usr/local/lib/python3.11/dist-packages (from keras>=3.5.0->tensorflow) (14.0.0)\n",
            "Requirement already satisfied: namex in /usr/local/lib/python3.11/dist-packages (from keras>=3.5.0->tensorflow) (0.0.8)\n",
            "Requirement already satisfied: optree in /usr/local/lib/python3.11/dist-packages (from keras>=3.5.0->tensorflow) (0.14.1)\n",
            "Requirement already satisfied: mkl_fft in /usr/local/lib/python3.11/dist-packages (from numpy<2.1.0,>=1.26.0->tensorflow) (1.3.8)\n",
            "Requirement already satisfied: mkl_random in /usr/local/lib/python3.11/dist-packages (from numpy<2.1.0,>=1.26.0->tensorflow) (1.2.4)\n",
            "Requirement already satisfied: mkl_umath in /usr/local/lib/python3.11/dist-packages (from numpy<2.1.0,>=1.26.0->tensorflow) (0.1.1)\n",
            "Requirement already satisfied: mkl in /usr/local/lib/python3.11/dist-packages (from numpy<2.1.0,>=1.26.0->tensorflow) (2025.1.0)\n",
            "Requirement already satisfied: tbb4py in /usr/local/lib/python3.11/dist-packages (from numpy<2.1.0,>=1.26.0->tensorflow) (2022.1.0)\n",
            "Requirement already satisfied: mkl-service in /usr/local/lib/python3.11/dist-packages (from numpy<2.1.0,>=1.26.0->tensorflow) (2.4.1)\n",
            "Requirement already satisfied: charset-normalizer<4,>=2 in /usr/local/lib/python3.11/dist-packages (from requests<3,>=2.21.0->tensorflow) (3.4.2)\n",
            "Requirement already satisfied: idna<4,>=2.5 in /usr/local/lib/python3.11/dist-packages (from requests<3,>=2.21.0->tensorflow) (3.10)\n",
            "Requirement already satisfied: urllib3<3,>=1.21.1 in /usr/local/lib/python3.11/dist-packages (from requests<3,>=2.21.0->tensorflow) (2.4.0)\n",
            "Requirement already satisfied: certifi>=2017.4.17 in /usr/local/lib/python3.11/dist-packages (from requests<3,>=2.21.0->tensorflow) (2025.4.26)\n",
            "Requirement already satisfied: markdown>=2.6.8 in /usr/local/lib/python3.11/dist-packages (from tensorboard<2.19,>=2.18->tensorflow) (3.7)\n",
            "Requirement already satisfied: tensorboard-data-server<0.8.0,>=0.7.0 in /usr/local/lib/python3.11/dist-packages (from tensorboard<2.19,>=2.18->tensorflow) (0.7.2)\n",
            "Requirement already satisfied: werkzeug>=1.0.1 in /usr/local/lib/python3.11/dist-packages (from tensorboard<2.19,>=2.18->tensorflow) (3.1.3)\n",
            "Requirement already satisfied: MarkupSafe>=2.1.1 in /usr/local/lib/python3.11/dist-packages (from werkzeug>=1.0.1->tensorboard<2.19,>=2.18->tensorflow) (3.0.2)\n",
            "Requirement already satisfied: intel-openmp<2026,>=2024 in /usr/local/lib/python3.11/dist-packages (from mkl->numpy<2.1.0,>=1.26.0->tensorflow) (2024.2.0)\n",
            "Requirement already satisfied: tbb==2022.* in /usr/local/lib/python3.11/dist-packages (from mkl->numpy<2.1.0,>=1.26.0->tensorflow) (2022.1.0)\n",
            "Requirement already satisfied: tcmlib==1.* in /usr/local/lib/python3.11/dist-packages (from tbb==2022.*->mkl->numpy<2.1.0,>=1.26.0->tensorflow) (1.3.0)\n",
            "Requirement already satisfied: intel-cmplr-lib-rt in /usr/local/lib/python3.11/dist-packages (from mkl_umath->numpy<2.1.0,>=1.26.0->tensorflow) (2024.2.0)\n",
            "Requirement already satisfied: markdown-it-py>=2.2.0 in /usr/local/lib/python3.11/dist-packages (from rich->keras>=3.5.0->tensorflow) (3.0.0)\n",
            "Requirement already satisfied: pygments<3.0.0,>=2.13.0 in /usr/local/lib/python3.11/dist-packages (from rich->keras>=3.5.0->tensorflow) (2.19.1)\n",
            "Requirement already satisfied: intel-cmplr-lib-ur==2024.2.0 in /usr/local/lib/python3.11/dist-packages (from intel-openmp<2026,>=2024->mkl->numpy<2.1.0,>=1.26.0->tensorflow) (2024.2.0)\n",
            "Requirement already satisfied: mdurl~=0.1 in /usr/local/lib/python3.11/dist-packages (from markdown-it-py>=2.2.0->rich->keras>=3.5.0->tensorflow) (0.1.2)\n",
            "Note: you may need to restart the kernel to use updated packages.\n"
          ]
        }
      ],
      "source": [
        "pip install tensorflow"
      ]
    },
    {
      "cell_type": "code",
      "execution_count": null,
      "metadata": {
        "colab": {
          "base_uri": "https://localhost:8080/"
        },
        "execution": {
          "iopub.execute_input": "2025-06-20T20:58:25.578232Z",
          "iopub.status.busy": "2025-06-20T20:58:25.577951Z",
          "iopub.status.idle": "2025-06-20T20:58:30.453866Z",
          "shell.execute_reply": "2025-06-20T20:58:30.452971Z",
          "shell.execute_reply.started": "2025-06-20T20:58:25.578187Z"
        },
        "id": "mC0cd0c0ngqo",
        "outputId": "1730e9f2-e1c7-4acd-d969-cfa173befde9",
        "trusted": true
      },
      "outputs": [
        {
          "name": "stdout",
          "output_type": "stream",
          "text": [
            "Collecting keras-self-attention\n",
            "  Downloading keras-self-attention-0.51.0.tar.gz (11 kB)\n",
            "  Preparing metadata (setup.py) ... \u001b[?25l\u001b[?25hdone\n",
            "Requirement already satisfied: numpy in /usr/local/lib/python3.11/dist-packages (from keras-self-attention) (1.26.4)\n",
            "Requirement already satisfied: mkl_fft in /usr/local/lib/python3.11/dist-packages (from numpy->keras-self-attention) (1.3.8)\n",
            "Requirement already satisfied: mkl_random in /usr/local/lib/python3.11/dist-packages (from numpy->keras-self-attention) (1.2.4)\n",
            "Requirement already satisfied: mkl_umath in /usr/local/lib/python3.11/dist-packages (from numpy->keras-self-attention) (0.1.1)\n",
            "Requirement already satisfied: mkl in /usr/local/lib/python3.11/dist-packages (from numpy->keras-self-attention) (2025.1.0)\n",
            "Requirement already satisfied: tbb4py in /usr/local/lib/python3.11/dist-packages (from numpy->keras-self-attention) (2022.1.0)\n",
            "Requirement already satisfied: mkl-service in /usr/local/lib/python3.11/dist-packages (from numpy->keras-self-attention) (2.4.1)\n",
            "Requirement already satisfied: intel-openmp<2026,>=2024 in /usr/local/lib/python3.11/dist-packages (from mkl->numpy->keras-self-attention) (2024.2.0)\n",
            "Requirement already satisfied: tbb==2022.* in /usr/local/lib/python3.11/dist-packages (from mkl->numpy->keras-self-attention) (2022.1.0)\n",
            "Requirement already satisfied: tcmlib==1.* in /usr/local/lib/python3.11/dist-packages (from tbb==2022.*->mkl->numpy->keras-self-attention) (1.3.0)\n",
            "Requirement already satisfied: intel-cmplr-lib-rt in /usr/local/lib/python3.11/dist-packages (from mkl_umath->numpy->keras-self-attention) (2024.2.0)\n",
            "Requirement already satisfied: intel-cmplr-lib-ur==2024.2.0 in /usr/local/lib/python3.11/dist-packages (from intel-openmp<2026,>=2024->mkl->numpy->keras-self-attention) (2024.2.0)\n",
            "Building wheels for collected packages: keras-self-attention\n",
            "  Building wheel for keras-self-attention (setup.py) ... \u001b[?25l\u001b[?25hdone\n",
            "  Created wheel for keras-self-attention: filename=keras_self_attention-0.51.0-py3-none-any.whl size=18895 sha256=56d42544d69dd81a962cc4b2dbf7c87d53bdb8001666ddc46d6b9d08caaa8cf2\n",
            "  Stored in directory: /root/.cache/pip/wheels/46/f9/96/709295c836133071c12a300729fed4027757f889c01695feea\n",
            "Successfully built keras-self-attention\n",
            "Installing collected packages: keras-self-attention\n",
            "Successfully installed keras-self-attention-0.51.0\n",
            "Note: you may need to restart the kernel to use updated packages.\n"
          ]
        }
      ],
      "source": [
        "pip install keras-self-attention"
      ]
    },
    {
      "cell_type": "code",
      "execution_count": null,
      "metadata": {
        "colab": {
          "base_uri": "https://localhost:8080/"
        },
        "execution": {
          "iopub.execute_input": "2025-06-20T20:58:30.455178Z",
          "iopub.status.busy": "2025-06-20T20:58:30.454888Z",
          "iopub.status.idle": "2025-06-20T20:58:33.474306Z",
          "shell.execute_reply": "2025-06-20T20:58:33.473331Z",
          "shell.execute_reply.started": "2025-06-20T20:58:30.455151Z"
        },
        "id": "G8llwhZWnj0i",
        "outputId": "cc6a76fe-1f85-4c33-d240-04d13c4e38dd",
        "trusted": true
      },
      "outputs": [
        {
          "name": "stdout",
          "output_type": "stream",
          "text": [
            "Requirement already satisfied: keras-tuner in /usr/local/lib/python3.11/dist-packages (1.4.7)\n",
            "Requirement already satisfied: keras in /usr/local/lib/python3.11/dist-packages (from keras-tuner) (3.8.0)\n",
            "Requirement already satisfied: packaging in /usr/local/lib/python3.11/dist-packages (from keras-tuner) (25.0)\n",
            "Requirement already satisfied: requests in /usr/local/lib/python3.11/dist-packages (from keras-tuner) (2.32.3)\n",
            "Requirement already satisfied: kt-legacy in /usr/local/lib/python3.11/dist-packages (from keras-tuner) (1.0.5)\n",
            "Requirement already satisfied: absl-py in /usr/local/lib/python3.11/dist-packages (from keras->keras-tuner) (1.4.0)\n",
            "Requirement already satisfied: numpy in /usr/local/lib/python3.11/dist-packages (from keras->keras-tuner) (1.26.4)\n",
            "Requirement already satisfied: rich in /usr/local/lib/python3.11/dist-packages (from keras->keras-tuner) (14.0.0)\n",
            "Requirement already satisfied: namex in /usr/local/lib/python3.11/dist-packages (from keras->keras-tuner) (0.0.8)\n",
            "Requirement already satisfied: h5py in /usr/local/lib/python3.11/dist-packages (from keras->keras-tuner) (3.13.0)\n",
            "Requirement already satisfied: optree in /usr/local/lib/python3.11/dist-packages (from keras->keras-tuner) (0.14.1)\n",
            "Requirement already satisfied: ml-dtypes in /usr/local/lib/python3.11/dist-packages (from keras->keras-tuner) (0.4.1)\n",
            "Requirement already satisfied: charset-normalizer<4,>=2 in /usr/local/lib/python3.11/dist-packages (from requests->keras-tuner) (3.4.2)\n",
            "Requirement already satisfied: idna<4,>=2.5 in /usr/local/lib/python3.11/dist-packages (from requests->keras-tuner) (3.10)\n",
            "Requirement already satisfied: urllib3<3,>=1.21.1 in /usr/local/lib/python3.11/dist-packages (from requests->keras-tuner) (2.4.0)\n",
            "Requirement already satisfied: certifi>=2017.4.17 in /usr/local/lib/python3.11/dist-packages (from requests->keras-tuner) (2025.4.26)\n",
            "Requirement already satisfied: mkl_fft in /usr/local/lib/python3.11/dist-packages (from numpy->keras->keras-tuner) (1.3.8)\n",
            "Requirement already satisfied: mkl_random in /usr/local/lib/python3.11/dist-packages (from numpy->keras->keras-tuner) (1.2.4)\n",
            "Requirement already satisfied: mkl_umath in /usr/local/lib/python3.11/dist-packages (from numpy->keras->keras-tuner) (0.1.1)\n",
            "Requirement already satisfied: mkl in /usr/local/lib/python3.11/dist-packages (from numpy->keras->keras-tuner) (2025.1.0)\n",
            "Requirement already satisfied: tbb4py in /usr/local/lib/python3.11/dist-packages (from numpy->keras->keras-tuner) (2022.1.0)\n",
            "Requirement already satisfied: mkl-service in /usr/local/lib/python3.11/dist-packages (from numpy->keras->keras-tuner) (2.4.1)\n",
            "Requirement already satisfied: typing-extensions>=4.5.0 in /usr/local/lib/python3.11/dist-packages (from optree->keras->keras-tuner) (4.13.2)\n",
            "Requirement already satisfied: markdown-it-py>=2.2.0 in /usr/local/lib/python3.11/dist-packages (from rich->keras->keras-tuner) (3.0.0)\n",
            "Requirement already satisfied: pygments<3.0.0,>=2.13.0 in /usr/local/lib/python3.11/dist-packages (from rich->keras->keras-tuner) (2.19.1)\n",
            "Requirement already satisfied: mdurl~=0.1 in /usr/local/lib/python3.11/dist-packages (from markdown-it-py>=2.2.0->rich->keras->keras-tuner) (0.1.2)\n",
            "Requirement already satisfied: intel-openmp<2026,>=2024 in /usr/local/lib/python3.11/dist-packages (from mkl->numpy->keras->keras-tuner) (2024.2.0)\n",
            "Requirement already satisfied: tbb==2022.* in /usr/local/lib/python3.11/dist-packages (from mkl->numpy->keras->keras-tuner) (2022.1.0)\n",
            "Requirement already satisfied: tcmlib==1.* in /usr/local/lib/python3.11/dist-packages (from tbb==2022.*->mkl->numpy->keras->keras-tuner) (1.3.0)\n",
            "Requirement already satisfied: intel-cmplr-lib-rt in /usr/local/lib/python3.11/dist-packages (from mkl_umath->numpy->keras->keras-tuner) (2024.2.0)\n",
            "Requirement already satisfied: intel-cmplr-lib-ur==2024.2.0 in /usr/local/lib/python3.11/dist-packages (from intel-openmp<2026,>=2024->mkl->numpy->keras->keras-tuner) (2024.2.0)\n",
            "Note: you may need to restart the kernel to use updated packages.\n"
          ]
        }
      ],
      "source": [
        "pip install keras-tuner"
      ]
    },
    {
      "cell_type": "code",
      "execution_count": null,
      "metadata": {
        "colab": {
          "base_uri": "https://localhost:8080/",
          "height": 284
        },
        "execution": {
          "iopub.execute_input": "2025-06-20T20:58:33.475661Z",
          "iopub.status.busy": "2025-06-20T20:58:33.475423Z",
          "iopub.status.idle": "2025-06-20T20:58:54.455375Z",
          "shell.execute_reply": "2025-06-20T20:58:54.454757Z",
          "shell.execute_reply.started": "2025-06-20T20:58:33.475634Z"
        },
        "id": "h22olX_0nnuK",
        "outputId": "f901db33-9d0a-4a33-9a59-a9c36fb728ec",
        "trusted": true
      },
      "outputs": [
        {
          "name": "stderr",
          "output_type": "stream",
          "text": [
            "2025-06-20 20:58:35.686134: E external/local_xla/xla/stream_executor/cuda/cuda_fft.cc:477] Unable to register cuFFT factory: Attempting to register factory for plugin cuFFT when one has already been registered\n",
            "WARNING: All log messages before absl::InitializeLog() is called are written to STDERR\n",
            "E0000 00:00:1750453115.878238      35 cuda_dnn.cc:8310] Unable to register cuDNN factory: Attempting to register factory for plugin cuDNN when one has already been registered\n",
            "E0000 00:00:1750453115.932895      35 cuda_blas.cc:1418] Unable to register cuBLAS factory: Attempting to register factory for plugin cuBLAS when one has already been registered\n"
          ]
        },
        {
          "data": {
            "text/html": [
              "<!DOCTYPE html>\n",
              "<html>\n",
              "<head>\n",
              "    <meta charset=\"UTF-8\">\n",
              "    <meta name=\"viewport\" content=\"width=device-width, initial-scale=1.0\">\n",
              "    <link href=\"https://fonts.googleapis.com/css2?family=Lexend:wght@400;500;600;700&display=swap\" rel=\"stylesheet\">\n",
              "    <style>\n",
              "        .vnstock-ad-banner {\n",
              "            all: initial;\n",
              "            font-family: 'Lexend', sans-serif;\n",
              "            display: flex;\n",
              "            flex-wrap: wrap;\n",
              "            max-width: 100%;\n",
              "            margin: 12px 0;\n",
              "            border-radius: 10px;\n",
              "            overflow: hidden;\n",
              "            background: #ffffff;\n",
              "            box-shadow: 0 4px 12px rgba(0,0,0,0.08);\n",
              "            color: #333;\n",
              "        }\n",
              "\n",
              "        .vnstock-ad-content {\n",
              "            flex: 1;\n",
              "            padding: 12px 16px;\n",
              "            display: flex;\n",
              "            flex-direction: column;\n",
              "            justify-content: center;\n",
              "        }\n",
              "\n",
              "        .vnstock-ad-title {\n",
              "            margin: 0 0 10px 0;\n",
              "            line-height: 1.3;\n",
              "            font-size: 18px;\n",
              "            font-weight: 700;\n",
              "            color: #4CAF50;\n",
              "        }\n",
              "\n",
              "        .title-highlight {\n",
              "            color: #8C52FF;\n",
              "        }\n",
              "\n",
              "        .vnstock-ad-features {\n",
              "            list-style: none;\n",
              "            padding-left: 0;\n",
              "            margin: 10px 0 12px 0;\n",
              "            font-size: 13px;\n",
              "            line-height: 1.4;\n",
              "        }\n",
              "\n",
              "        .vnstock-ad-features li {\n",
              "            margin-bottom: 6px;\n",
              "        }\n",
              "\n",
              "        .feature-highlight {\n",
              "            color: #8C52FF;\n",
              "            font-weight: 600;\n",
              "        }\n",
              "\n",
              "        .button-container {\n",
              "            text-align: center;\n",
              "        }\n",
              "\n",
              "        .vnstock-ad-button {\n",
              "            display: inline-block;\n",
              "            background-color: #4CAF50;\n",
              "            color: #fff;\n",
              "            padding: 6px 16px;\n",
              "            text-decoration: none;\n",
              "            font-size: 13px;\n",
              "            border-radius: 20px;\n",
              "            font-weight: 600;\n",
              "            transition: all 0.2s;\n",
              "            box-shadow: 0 2px 6px rgba(76, 175, 80, 0.2);\n",
              "        }\n",
              "\n",
              "        .vnstock-ad-button:hover {\n",
              "            background-color: #8C52FF;\n",
              "            color: white;\n",
              "            transform: translateY(-1px);\n",
              "            box-shadow: 0 4px 8px rgba(140, 82, 255, 0.3);\n",
              "        }\n",
              "\n",
              "        .vnstock-ad-image {\n",
              "            flex: 1;\n",
              "            min-width: 180px;\n",
              "            max-width: 45%;\n",
              "        }\n",
              "\n",
              "        .vnstock-ad-image img {\n",
              "            width: 100%;\n",
              "            height: 100%;\n",
              "            max-height: 250px;\n",
              "            object-fit: cover;\n",
              "            display: block;\n",
              "        }\n",
              "\n",
              "        @media (max-width: 768px) {\n",
              "            .vnstock-ad-banner {\n",
              "                flex-direction: column;\n",
              "            }\n",
              "            \n",
              "            .vnstock-ad-image {\n",
              "                min-width: auto;\n",
              "                max-width: 100%;\n",
              "            }\n",
              "        }\n",
              "    </style>\n",
              "</head>\n",
              "<body>\n",
              "    <div class=\"vnstock-ad-banner\">\n",
              "        <div class=\"vnstock-ad-content\">\n",
              "            <h2 class=\"vnstock-ad-title\">\n",
              "                <span class=\"title-highlight\">🤖 Python Coding với AI:</span> Phân Tích Dữ liệu & Bot Chứng Khoán K11\n",
              "            </h2>\n",
              "            <ul class=\"vnstock-ad-features\">\n",
              "                <li><span class=\"feature-highlight\">⚡ Điều khiển AI viết code Python:</span> Không cần thuộc lòng cú pháp, học cách dùng AI agent</li>\n",
              "                <li><span class=\"feature-highlight\">🎯 Từ ý tưởng đến sản phẩm:</span> 15+ bot & chương trình thực tế hoàn chỉnh trong 10 buổi học</li>\n",
              "                <li><span class=\"feature-highlight\">🚀 Giáo trình mới tập trung vào AI:</span> Áp dụng cách tiếp cận AI thực chiến từ 15/6/2025. Truy cập trước nội dung khóa 10 ngay khi đăng ký.</li>\n",
              "                <li><span class=\"feature-highlight\">💡 Cộng đồng chất lượng cao:</span> 100+ nhà đầu tư, chuyên gia & lập trình viên cùng học hỏi</li>\n",
              "            </ul>\n",
              "            <div class=\"button-container\">\n",
              "                <a href=\"https://vnstocks.com/lp-khoa-hoc-python-chung-khoan\" class=\"vnstock-ad-button\">\n",
              "                    Đăng ký ngay ›\n",
              "                </a>\n",
              "            </div>\n",
              "        </div>\n",
              "        <a href=\"https://vnstocks.com/lp-khoa-hoc-python-chung-khoan\" class=\"vnstock-ad-image\">\n",
              "            <img src=\"https://vnstocks.com/img/cta-python-chung-khoan-k11-start-now.jpg\" alt=\"Khóa học Python Coding với AI\" style=\"width: 100%; height: 100%; max-height: 250px; object-fit: cover; display: block;\">\n",
              "        </a>\n",
              "    </div>\n",
              "</body>\n",
              "</html>"
            ],
            "text/plain": [
              "<IPython.core.display.HTML object>"
            ]
          },
          "metadata": {},
          "output_type": "display_data"
        }
      ],
      "source": [
        "import numpy as np\n",
        "import pandas as pd\n",
        "from ta.momentum import RSIIndicator\n",
        "from sklearn.preprocessing import RobustScaler\n",
        "from sklearn.model_selection import train_test_split\n",
        "import tensorflow as tf\n",
        "from tensorflow.keras.models import Sequential\n",
        "from tensorflow.keras.layers import LSTM, Dropout, Dense, RNN, concatenate\n",
        "from tensorflow.keras.optimizers import RMSprop\n",
        "from vnstock import *\n",
        "from ta.volatility import BollingerBands\n",
        "from tensorflow.keras.layers import Layer\n",
        "import tensorflow as tf\n",
        "from keras.layers import Input, Conv1D, MaxPooling1D, Bidirectional, Flatten, BatchNormalization\n",
        "from sklearn.model_selection import RandomizedSearchCV\n",
        "# from scikeras.wrappers import KerasClassifier\n",
        "\n",
        "from ta.momentum import StochasticOscillator\n",
        "from ta.volume import OnBalanceVolumeIndicator\n",
        "from ta.trend import CCIIndicator\n",
        "from sklearn.preprocessing import StandardScaler\n",
        "from ta.volume import ChaikinMoneyFlowIndicator\n",
        "from tensorflow.keras.regularizers import l2\n",
        "from tensorflow.keras.regularizers import l1\n",
        "from tensorflow.keras.regularizers import l1_l2\n",
        "from tensorflow.keras import regularizers\n",
        "from keras_self_attention import SeqSelfAttention\n",
        "from tensorflow.keras.models import Model\n",
        "from sklearn.preprocessing import MinMaxScaler\n",
        "from sklearn.metrics import roc_auc_score\n",
        "import keras_tuner as kt\n",
        "from tensorflow.keras.optimizers import Adam\n",
        "from sklearn.feature_selection import SequentialFeatureSelector\n",
        "from sklearn.base import BaseEstimator, ClassifierMixin\n",
        "from tensorflow.keras.saving import register_keras_serializable\n",
        "import matplotlib.pyplot as plt\n",
        "# from imblearn.over_sampling import SMOTE\n",
        "from sklearn.metrics import confusion_matrix, ConfusionMatrixDisplay\n",
        "from tensorflow.keras.utils import to_categorical\n",
        "from tensorflow.keras.callbacks import EarlyStopping, ModelCheckpoint, ReduceLROnPlateau\n",
        "from sklearn.metrics import f1_score\n",
        "from sklearn.ensemble import RandomForestClassifier, AdaBoostClassifier\n",
        "from xgboost import XGBClassifier\n",
        "from lightgbm import LGBMClassifier\n",
        "from catboost import CatBoostClassifier\n",
        "from sklearn.model_selection import cross_val_score\n",
        "from vnstock import *\n",
        "import pandas as pd\n",
        "import os\n",
        "from collections import Counter\n",
        "from tensorflow.keras.models import load_model\n",
        "from sklearn.metrics import classification_report\n",
        "from sklearn.utils.class_weight import compute_class_weight\n",
        "from sklearn.ensemble import RandomForestClassifier # Import RandomForestClassifier\n",
        "from sklearn.metrics import accuracy_score # Import accuracy\n",
        "from sklearn.metrics import log_loss\n",
        "from sklearn.linear_model import LinearRegression\n",
        "from xgboost import XGBClassifier\n",
        "import optuna\n",
        "import joblib\n",
        "from sklearn.metrics import (\n",
        "    f1_score, accuracy_score, classification_report, roc_auc_score,\n",
        "    roc_curve, auc\n",
        ")\n",
        "from sklearn.preprocessing import label_binarize\n",
        "from sklearn.model_selection import TimeSeriesSplit\n",
        "from sklearn.tree import DecisionTreeClassifier"
      ]
    },
    {
      "cell_type": "code",
      "execution_count": null,
      "metadata": {
        "colab": {
          "base_uri": "https://localhost:8080/"
        },
        "execution": {
          "iopub.execute_input": "2025-06-20T20:58:54.456907Z",
          "iopub.status.busy": "2025-06-20T20:58:54.456173Z",
          "iopub.status.idle": "2025-06-20T20:58:57.486207Z",
          "shell.execute_reply": "2025-06-20T20:58:57.485112Z",
          "shell.execute_reply.started": "2025-06-20T20:58:54.456884Z"
        },
        "id": "DhOiC4ER62Ea",
        "outputId": "d91e008e-1516-4723-f38e-904e79a53423",
        "trusted": true
      },
      "outputs": [
        {
          "name": "stdout",
          "output_type": "stream",
          "text": [
            "Requirement already satisfied: xgboost in /usr/local/lib/python3.11/dist-packages (2.0.3)\n",
            "Requirement already satisfied: numpy in /usr/local/lib/python3.11/dist-packages (from xgboost) (1.26.4)\n",
            "Requirement already satisfied: scipy in /usr/local/lib/python3.11/dist-packages (from xgboost) (1.15.2)\n",
            "Requirement already satisfied: mkl_fft in /usr/local/lib/python3.11/dist-packages (from numpy->xgboost) (1.3.8)\n",
            "Requirement already satisfied: mkl_random in /usr/local/lib/python3.11/dist-packages (from numpy->xgboost) (1.2.4)\n",
            "Requirement already satisfied: mkl_umath in /usr/local/lib/python3.11/dist-packages (from numpy->xgboost) (0.1.1)\n",
            "Requirement already satisfied: mkl in /usr/local/lib/python3.11/dist-packages (from numpy->xgboost) (2025.1.0)\n",
            "Requirement already satisfied: tbb4py in /usr/local/lib/python3.11/dist-packages (from numpy->xgboost) (2022.1.0)\n",
            "Requirement already satisfied: mkl-service in /usr/local/lib/python3.11/dist-packages (from numpy->xgboost) (2.4.1)\n",
            "Requirement already satisfied: intel-openmp<2026,>=2024 in /usr/local/lib/python3.11/dist-packages (from mkl->numpy->xgboost) (2024.2.0)\n",
            "Requirement already satisfied: tbb==2022.* in /usr/local/lib/python3.11/dist-packages (from mkl->numpy->xgboost) (2022.1.0)\n",
            "Requirement already satisfied: tcmlib==1.* in /usr/local/lib/python3.11/dist-packages (from tbb==2022.*->mkl->numpy->xgboost) (1.3.0)\n",
            "Requirement already satisfied: intel-cmplr-lib-rt in /usr/local/lib/python3.11/dist-packages (from mkl_umath->numpy->xgboost) (2024.2.0)\n",
            "Requirement already satisfied: intel-cmplr-lib-ur==2024.2.0 in /usr/local/lib/python3.11/dist-packages (from intel-openmp<2026,>=2024->mkl->numpy->xgboost) (2024.2.0)\n",
            "Note: you may need to restart the kernel to use updated packages.\n"
          ]
        }
      ],
      "source": [
        "pip install xgboost"
      ]
    },
    {
      "cell_type": "code",
      "execution_count": null,
      "metadata": {
        "execution": {
          "iopub.execute_input": "2025-06-20T20:58:57.489389Z",
          "iopub.status.busy": "2025-06-20T20:58:57.489174Z",
          "iopub.status.idle": "2025-06-20T20:58:57.493974Z",
          "shell.execute_reply": "2025-06-20T20:58:57.493364Z",
          "shell.execute_reply.started": "2025-06-20T20:58:57.489368Z"
        },
        "id": "krdyQYcda4pU",
        "trusted": true
      },
      "outputs": [],
      "source": [
        "def dataframe_to_x_y(df, feature, target):\n",
        "  X_train, y_train = [], []\n",
        "  X_val, y_val = [], []\n",
        "  n = len(df)\n",
        "  split_index = int(n * 0.8)\n",
        "  X_train = df[feature][:split_index]\n",
        "  y_train = df[target][:split_index]\n",
        "  X_val = df[feature][split_index:]\n",
        "  y_val = df[target][split_index:]\n",
        "  return X_train, y_train, X_val, y_val"
      ]
    },
    {
      "cell_type": "code",
      "execution_count": null,
      "metadata": {
        "execution": {
          "iopub.execute_input": "2025-06-20T20:58:57.495761Z",
          "iopub.status.busy": "2025-06-20T20:58:57.494833Z",
          "iopub.status.idle": "2025-06-20T20:58:57.510708Z",
          "shell.execute_reply": "2025-06-20T20:58:57.510001Z",
          "shell.execute_reply.started": "2025-06-20T20:58:57.495742Z"
        },
        "id": "Mwbwp8-Wa5mj",
        "trusted": true
      },
      "outputs": [],
      "source": [
        "\n",
        "sentiment_columns = [\n",
        "        'Reputation', 'Company Communication', 'Appointment', 'Financial', 'Regulatory',\n",
        "        'Sales', 'M&A', 'Legal', 'Dividend Policy', 'Risks', 'Rumors', 'Strategy',\n",
        "        'Options', 'IPO', 'Signal', 'Coverage', 'Fundamentals', 'Insider Activity',\n",
        "        'Price Action', 'Buyside', 'Technical Analysis', 'Trade', 'Central Banks',\n",
        "        'Currency', 'Conditions', 'Market', 'Volatility', 'Investor Sentiment', 'Retail Investor Behavior',\n",
        "        'Speculation', 'Domestic Institutional Behavior', 'Foreign Institutional Behavior', 'Black Swan Event',\n",
        "    ]\n",
        "\n",
        "sentiment_p1d_columns = [\n",
        "        'reputation_p1d', 'company_communication_p1d', 'appointment_p1d', 'financial_p1d', 'regulatory_p1d',\n",
        "        'sales_p1d', 'm&a_p1d', 'legal_p1d', 'dividend_policy_p1d', 'risks_p1d', 'rumors_p1d', 'strategy_p1d',\n",
        "        'options_p1d', 'ipo_p1d', 'signal_p1d', 'coverage_p1d', 'fundamentals_p1d', 'insider_activity_p1d',\n",
        "        'price_action_p1d', 'buyside_p1d', 'technical_analysis_p1d', 'trade_p1d', 'central_banks_p1d',\n",
        "        'currency_p1d', 'conditions_p1d', 'market_p1d', 'volatility_p1d', 'investor_sentiment_p1d', 'retail_investor_behavior_p1d',\n",
        "        'speculation_p1d', 'domestic_institutional_behavior_p1d', 'foreign_institutional_behavior_p1d', 'black_swan_event_p1d',\n",
        "    ]\n",
        "meta_cols = ['num_sa_news', 'mean_sentiment_norm', 'max_sentiment_norm', 'std_sentiment_score', 'sum_positive_sa', 'sum_negative_sa', 'time_distance_from_sa_to_close_minutes']\n",
        "meta_p1d_cols = ['num_sa_news_p1d', 'mean_sentiment_norm_p1d', 'max_sentiment_norm_p1d', 'std_sentiment_score_p1d', 'sum_positive_sa_p1d', 'sum_negative_sa_p1d', 'time_distance_from_sa_to_close_minutes_p1d']\n",
        "\n",
        "sentiment_feature_selected =  sentiment_columns + sentiment_p1d_columns + meta_cols + meta_p1d_cols\n",
        "ta_features = ['volume_ma','volume_to_volume_ma_ratio','ema_12','ema_26','sma_20','sma_50','roc_5','roc_1','roc_9','%K','%R','cci','obv','macd','signal_line','macd_histogram','rsi','rsi_base_ma','rsi_rsi_base_ma_ratio','bb_bbm','bb_bbh','bb_bbl','bb_bbp','bb_bbh_bb_bbl_ratio','hl_ratio', 'co_ratio', 'price_range', 'sma_ratio_20_50', 'ema_ratio_12_26', 'bb_width', 'bb_position', 'rsi_overbought', 'rsi_oversold', 'rsi_neutral', 'macd_bullish', 'momentum_5', 'momentum_10','log_return','volatility_5d','volatility_10d','volatility_20d','volatility_30d','mean_log_return_5d','mean_log_return_10d','mean_log_return_20d','mean_log_return_30d','sharpe_like_5d','sharpe_like_10d','sharpe_like_20d','sharpe_like_30d','up_streak','pos_log_return_ratio_20d','z_score_5d','z_score_10d','z_score_20d','z_score_30d','annual_return','daily_return','sharpe_ratio',\n",
        "               'rsi_vn30','rsi_base_ma_vn30','rsi_rsi_base_ma_ratio_vn30','volume_ma_vn30','volume_to_volume_ma_ratio_vn30','bb_bbm_vn30','bb_bbh_vn30','bb_bbl_vn30','bb_bbp_vn30','bb_bbh_bb_bbl_ratio_vn30','roc_1_vn30', 'roc_5_vn30', 'roc_9_vn30','%K_vn30','%R_vn30','cci_vn30','obv_vn30','ema_12_vn30','ema_26_vn30','sma_20_vn30','sma_50_vn30', 'hl_ratio_vn30', 'co_ratio_vn30', 'price_range_vn30', 'sma_ratio_20_50_vn30', 'ema_ratio_12_26_vn30', 'bb_width_vn30', 'bb_position_vn30', 'rsi_overbought_vn30', 'rsi_oversold_vn30', 'rsi_neutral_vn30', 'momentum_5_vn30', 'momentum_10_vn30', 'log_return_vn30','volatility_5d_vn30','volatility_10d_vn30','volatility_20d_vn30','volatility_30d_vn30','mean_log_return_5d_vn30','mean_log_return_10d_vn30','mean_log_return_20d_vn30','mean_log_return_30d_vn30','sharpe_like_5d_vn30','sharpe_like_10d_vn30','sharpe_like_20d_vn30','sharpe_like_30d_vn30','up_streak_vn30','pos_log_return_ratio_20d_vn30','z_score_5d_vn30','z_score_10d_vn30','z_score_20d_vn30','z_score_30d_vn30','annual_return_vn30','daily_return_vn30','sharpe_ratio_vn30',\n",
        "               'rsi_vni','rsi_base_ma_vni','rsi_rsi_base_ma_ratio_vni','volume_ma_vni','volume_to_volume_ma_ratio_vni','bb_bbm_vni','bb_bbh_vni','bb_bbl_vni','bb_bbp_vni','bb_bbh_bb_bbl_ratio_vni','roc_1_vni', 'roc_5_vni', 'roc_9_vni','%K_vni','%R_vni','cci_vni','obv_vni','ema_12_vni','ema_26_vni','sma_20_vni','sma_50_vni', 'hl_ratio_vni', 'co_ratio_vni', 'price_range_vni', 'sma_ratio_20_50_vni', 'ema_ratio_12_26_vni', 'bb_width_vni', 'bb_position_vni', 'rsi_overbought_vni', 'rsi_oversold_vni', 'rsi_neutral_vni', 'momentum_5_vni', 'momentum_10_vni','log_return_vni','volatility_5d_vni','volatility_10d_vni','volatility_20d_vni','volatility_30d_vni','mean_log_return_5d_vni','mean_log_return_10d_vni','mean_log_return_20d_vni','mean_log_return_30d_vni','sharpe_like_5d_vni','sharpe_like_10d_vni','sharpe_like_20d_vni','sharpe_like_30d_vni','up_streak_vni','pos_log_return_ratio_20d_vni','z_score_5d_vni','z_score_10d_vni','z_score_20d_vni','z_score_30d_vni','annual_return_vni','daily_return_vni','sharpe_ratio_vni']\n",
        "fa_features = ['p/b_previous_quarter', 'p/b_change_rate','p/b_change_rate_flag','p/e_previous_quarter','p/e_change_rate','p/e_change_rate_flag','p/s_previous_quarter','p/s_change_rate','p/s_change_rate_flag','p/cash_flow_previous_quarter','p/cash_flow_change_rate','p/cash_flow_change_rate_flag','eps_previous_quarter','eps_change_rate', 'eps_change_rate_flag','bvps_previous_quarter','bvps_change_rate', 'bvps_change_rate_flag','roe_previous_quarter','roe_change_rate','roe_change_rate_flag','roa_previous_quarter','roa_change_rate','roa_change_rate_flag','coefficient_p/b','coefficient_p/e','coefficient_p/s','coefficient_p/cash_flow','coefficient_eps','coefficient_bvps','coefficient_roe','coefficient_roa','distance_to_nearest_quarter']\n",
        "ta_fa_feature_selected = ta_features + fa_features\n",
        "features = ta_fa_feature_selected + sentiment_feature_selected\n",
        "target = 'target'\n",
        "scaler = StandardScaler()"
      ]
    },
    {
      "cell_type": "code",
      "execution_count": null,
      "metadata": {
        "execution": {
          "iopub.execute_input": "2025-06-20T20:58:57.512416Z",
          "iopub.status.busy": "2025-06-20T20:58:57.511612Z",
          "iopub.status.idle": "2025-06-20T20:58:57.526537Z",
          "shell.execute_reply": "2025-06-20T20:58:57.525872Z",
          "shell.execute_reply.started": "2025-06-20T20:58:57.512378Z"
        },
        "id": "Om4bjGVoAdIX",
        "trusted": true
      },
      "outputs": [],
      "source": [
        "def load_data_for_analysis(tickers, folder_path):\n",
        "\n",
        "    df_all = []\n",
        "\n",
        "    for ticker in tickers:\n",
        "        file_path = os.path.join(folder_path, f\"{ticker}.xlsx\")\n",
        "        if os.path.exists(file_path):\n",
        "            df = pd.read_excel(file_path)\n",
        "            df[\"ticker\"] = ticker  # thêm cột ticker\n",
        "            df_all.append(df)\n",
        "        else:\n",
        "            print(f\"⚠️ Không tìm thấy: {file_path}\")\n",
        "\n",
        "    # Gộp lại thành 1 DataFrame\n",
        "    df_global = pd.concat(df_all, ignore_index=True)\n",
        "    print(f\"✅ Đã load xong {len(df_global)} dòng dữ liệu từ {len(df_all)} cổ phiếu.\")\n",
        "    return df_global"
      ]
    },
    {
      "cell_type": "code",
      "execution_count": null,
      "metadata": {
        "execution": {
          "iopub.execute_input": "2025-06-20T20:58:57.527524Z",
          "iopub.status.busy": "2025-06-20T20:58:57.527306Z",
          "iopub.status.idle": "2025-06-20T21:01:49.20979Z",
          "shell.execute_reply": "2025-06-20T21:01:49.209085Z",
          "shell.execute_reply.started": "2025-06-20T20:58:57.527508Z"
        },
        "id": "O76XzdDDfyOI",
        "outputId": "a80f34a3-96b6-4c58-fc68-3640927af39b",
        "trusted": true
      },
      "outputs": [
        {
          "name": "stdout",
          "output_type": "stream",
          "text": [
            "✅ Đã load xong 35865 dòng dữ liệu từ 30 cổ phiếu.\n",
            "✅ Đã load xong 7380 dòng dữ liệu từ 30 cổ phiếu.\n"
          ]
        }
      ],
      "source": [
        "tickers = ['ACB', 'BCM', 'BID','BVH','CTG','FPT','GAS','GVR','HDB','HPG',\n",
        "                    'LPB','MBB','MSN','MWG','PLX','SAB','SHB','SSB','SSI','STB',\n",
        "                    'TCB','TPB','VCB','VHM','VIB','VIC','VJC','VNM','VPB','VRE']\n",
        "folder_path_train = \"/kaggle/input/vn30-dataset/v6 - Copy/out_performance_vn30/train_data\"\n",
        "folder_path_test = \"/kaggle/input/vn30-dataset/v6 - Copy/out_performance_vn30/test_data\"\n",
        "df_global_train = load_data_for_analysis(tickers, folder_path_train)\n",
        "df_global_test = load_data_for_analysis(tickers, folder_path_test)\n"
      ]
    },
    {
      "cell_type": "code",
      "execution_count": null,
      "metadata": {
        "execution": {
          "iopub.execute_input": "2025-06-20T21:01:49.211238Z",
          "iopub.status.busy": "2025-06-20T21:01:49.21093Z",
          "iopub.status.idle": "2025-06-20T21:01:49.240235Z",
          "shell.execute_reply": "2025-06-20T21:01:49.239365Z",
          "shell.execute_reply.started": "2025-06-20T21:01:49.211217Z"
        },
        "id": "ZvuatiXrAdIY",
        "trusted": true
      },
      "outputs": [],
      "source": [
        "# Danh sách các mô hình\n",
        "models = {\n",
        "    \"Random Forest\": RandomForestClassifier(n_jobs=-1, random_state=42, class_weight='balanced'),\n",
        "    \"XGBoost\": XGBClassifier(n_jobs=-1, random_state=42, use_label_encoder=False, eval_metric='mlogloss'),\n",
        "    \"LightGBM\": LGBMClassifier(n_jobs=-1, random_state=42),\n",
        "    \"CatBoost\": CatBoostClassifier(verbose=0, random_state=42),\n",
        "    \"AdaBoost\": AdaBoostClassifier(random_state=42),\n",
        "}"
      ]
    },
    {
      "cell_type": "code",
      "execution_count": null,
      "metadata": {
        "execution": {
          "iopub.execute_input": "2025-06-20T21:01:49.241363Z",
          "iopub.status.busy": "2025-06-20T21:01:49.241056Z",
          "iopub.status.idle": "2025-06-20T21:01:49.484791Z",
          "shell.execute_reply": "2025-06-20T21:01:49.484037Z",
          "shell.execute_reply.started": "2025-06-20T21:01:49.241342Z"
        },
        "id": "O2Wa5ZrKAdIY",
        "trusted": true
      },
      "outputs": [],
      "source": [
        "X_train_no_sa = df_global_train[ta_fa_feature_selected]\n",
        "X_test_no_sa = df_global_test[ta_fa_feature_selected]\n",
        "y_train = df_global_train[target]\n",
        "y_test = df_global_test[target]\n",
        "scaler = StandardScaler()\n",
        "X_train_no_sa_scaled = scaler.fit_transform(X_train_no_sa)\n",
        "X_test_no_sa_scaled = scaler.transform(X_test_no_sa)"
      ]
    },
    {
      "cell_type": "code",
      "execution_count": null,
      "metadata": {
        "execution": {
          "iopub.execute_input": "2025-06-20T21:01:49.485993Z",
          "iopub.status.busy": "2025-06-20T21:01:49.485687Z",
          "iopub.status.idle": "2025-06-20T21:01:49.850663Z",
          "shell.execute_reply": "2025-06-20T21:01:49.849807Z",
          "shell.execute_reply.started": "2025-06-20T21:01:49.485964Z"
        },
        "id": "VM4ByHLeAdIY",
        "trusted": true
      },
      "outputs": [],
      "source": [
        "X_train_with_sa = df_global_train[features]  # features = ta + fa + sa\n",
        "X_test_with_sa = df_global_test[features]\n",
        "y_train = df_global_train[target]\n",
        "y_test = df_global_test[target]\n",
        "\n",
        "scaler = StandardScaler()\n",
        "X_train_with_sa_scaled = scaler.fit_transform(X_train_with_sa)   # Fit scaler trên train, scale train luôn\n",
        "X_test_with_sa_scaled = scaler.transform(X_test_with_sa)"
      ]
    },
    {
      "cell_type": "code",
      "execution_count": null,
      "metadata": {
        "execution": {
          "iopub.execute_input": "2025-06-20T21:01:49.851767Z",
          "iopub.status.busy": "2025-06-20T21:01:49.851513Z",
          "iopub.status.idle": "2025-06-20T21:01:49.855697Z",
          "shell.execute_reply": "2025-06-20T21:01:49.854886Z",
          "shell.execute_reply.started": "2025-06-20T21:01:49.851743Z"
        },
        "id": "rtd-wPXdAdIY",
        "trusted": true
      },
      "outputs": [],
      "source": [
        "# ==============================================Tuning with Optuna + TimeSeriesSplit validate (AUC macro) ==============================================="
      ]
    },
    {
      "cell_type": "markdown",
      "metadata": {
        "id": "NjLBOHyBAdIY"
      },
      "source": [
        "Divide 5 fold to cross validation though tuning parameters"
      ]
    },
    {
      "cell_type": "code",
      "execution_count": null,
      "metadata": {
        "execution": {
          "iopub.execute_input": "2025-06-20T21:01:49.857024Z",
          "iopub.status.busy": "2025-06-20T21:01:49.856616Z",
          "iopub.status.idle": "2025-06-20T21:01:49.872295Z",
          "shell.execute_reply": "2025-06-20T21:01:49.871595Z",
          "shell.execute_reply.started": "2025-06-20T21:01:49.856994Z"
        },
        "id": "5W9TkJwaAdIY",
        "trusted": true
      },
      "outputs": [],
      "source": [
        "def get_grouped_time_series_folds(df, ticker_col='ticker', n_splits=5):\n",
        "    tickers = df[ticker_col].unique()\n",
        "    fold_indices = [[] for _ in range(n_splits)]  # List chứa n_splits fold tổng\n",
        "    for ticker in tickers:\n",
        "        idx = df[df[ticker_col] == ticker].index.values\n",
        "        tscv = TimeSeriesSplit(n_splits=n_splits)\n",
        "        for fold_num, (train_idx, val_idx) in enumerate(tscv.split(idx)):\n",
        "            # Gộp index thực tế vào fold tổng tương ứng\n",
        "            fold_indices[fold_num].append((idx[train_idx], idx[val_idx]))\n",
        "    # Gộp index của từng fold tổng lại thành mảng train/val duy nhất\n",
        "    grouped_folds = []\n",
        "    for fold in fold_indices:\n",
        "        train_idx = np.concatenate([item[0] for item in fold])\n",
        "        val_idx = np.concatenate([item[1] for item in fold])\n",
        "        grouped_folds.append((train_idx, val_idx))\n",
        "    return grouped_folds"
      ]
    },
    {
      "cell_type": "code",
      "execution_count": null,
      "metadata": {
        "execution": {
          "iopub.execute_input": "2025-06-20T21:01:49.873233Z",
          "iopub.status.busy": "2025-06-20T21:01:49.872961Z",
          "iopub.status.idle": "2025-06-20T21:01:50.076957Z",
          "shell.execute_reply": "2025-06-20T21:01:50.076047Z",
          "shell.execute_reply.started": "2025-06-20T21:01:49.873208Z"
        },
        "id": "e87jj_iCAdIY",
        "trusted": true
      },
      "outputs": [],
      "source": [
        "folds = get_grouped_time_series_folds(df_global_train, ticker_col='ticker', n_splits=5)"
      ]
    },
    {
      "cell_type": "markdown",
      "metadata": {
        "id": "IiqW4wdOAdIZ"
      },
      "source": [
        "Tuning random forest for stock trend with ta + fa data"
      ]
    },
    {
      "cell_type": "markdown",
      "metadata": {
        "id": "STCdOEMEAdIZ"
      },
      "source": [
        "Tuning random forest for stock trend with ta + fa + sa data"
      ]
    },
    {
      "cell_type": "code",
      "execution_count": null,
      "metadata": {
        "execution": {
          "iopub.execute_input": "2025-06-20T21:01:50.078387Z",
          "iopub.status.busy": "2025-06-20T21:01:50.078105Z",
          "iopub.status.idle": "2025-06-20T21:01:50.08239Z",
          "shell.execute_reply": "2025-06-20T21:01:50.081454Z",
          "shell.execute_reply.started": "2025-06-20T21:01:50.078367Z"
        },
        "id": "as5g4x_NAdIZ",
        "trusted": true
      },
      "outputs": [],
      "source": [
        "X_with_sa = X_train_with_sa_scaled\n",
        "y = y_train"
      ]
    },
    {
      "cell_type": "code",
      "execution_count": null,
      "metadata": {
        "execution": {
          "iopub.execute_input": "2025-06-20T21:01:50.083673Z",
          "iopub.status.busy": "2025-06-20T21:01:50.083385Z",
          "iopub.status.idle": "2025-06-21T00:07:22.583552Z",
          "shell.execute_reply": "2025-06-21T00:07:22.582759Z",
          "shell.execute_reply.started": "2025-06-20T21:01:50.083654Z"
        },
        "id": "KnGazfg4AdIZ",
        "outputId": "e62df98f-23ff-4485-eb7d-bbc525242157",
        "trusted": true
      },
      "outputs": [
        {
          "name": "stderr",
          "output_type": "stream",
          "text": [
            "[I 2025-06-20 21:01:50,095] A new study created in memory with name: no-name-0f854c5d-2fba-4d84-85ce-aa1ba7cb95f7\n"
          ]
        },
        {
          "name": "stdout",
          "output_type": "stream",
          "text": [
            "Tuning AdaBoost with Optuna (AUC macro) ta + fa + sa features\n"
          ]
        },
        {
          "name": "stderr",
          "output_type": "stream",
          "text": [
            "[I 2025-06-20 21:19:14,780] Trial 0 finished with value: -0.525580809547243 and parameters: {'n_estimators': 332, 'learning_rate': 0.4926962197348606, 'algorithm': 'SAMME.R', 'max_depth': 2}. Best is trial 0 with value: -0.525580809547243.\n"
          ]
        },
        {
          "name": "stdout",
          "output_type": "stream",
          "text": [
            "Trial 0: AUC macro=0.52558, params={'n_estimators': 332, 'learning_rate': 0.4926962197348606, 'algorithm': 'SAMME.R', 'max_depth': 2}\n"
          ]
        },
        {
          "name": "stderr",
          "output_type": "stream",
          "text": [
            "[I 2025-06-20 21:19:18,350] Trial 1 finished with value: -0.5443716752084365 and parameters: {'n_estimators': 353, 'learning_rate': 0.7605086520754557, 'algorithm': 'SAMME', 'max_depth': 1}. Best is trial 1 with value: -0.5443716752084365.\n"
          ]
        },
        {
          "name": "stdout",
          "output_type": "stream",
          "text": [
            "Trial 1: AUC macro=0.54437, params={'n_estimators': 353, 'learning_rate': 0.7605086520754557, 'algorithm': 'SAMME', 'max_depth': 1}\n"
          ]
        },
        {
          "name": "stderr",
          "output_type": "stream",
          "text": [
            "[I 2025-06-20 21:51:46,933] Trial 2 finished with value: -0.5068840951363892 and parameters: {'n_estimators': 324, 'learning_rate': 0.35001357740633565, 'algorithm': 'SAMME.R', 'max_depth': 4}. Best is trial 1 with value: -0.5443716752084365.\n"
          ]
        },
        {
          "name": "stdout",
          "output_type": "stream",
          "text": [
            "Trial 2: AUC macro=0.50688, params={'n_estimators': 324, 'learning_rate': 0.35001357740633565, 'algorithm': 'SAMME.R', 'max_depth': 4}\n"
          ]
        },
        {
          "name": "stderr",
          "output_type": "stream",
          "text": [
            "[I 2025-06-20 21:51:51,991] Trial 3 finished with value: -0.5602090403851625 and parameters: {'n_estimators': 330, 'learning_rate': 0.36477987252113264, 'algorithm': 'SAMME', 'max_depth': 1}. Best is trial 3 with value: -0.5602090403851625.\n"
          ]
        },
        {
          "name": "stdout",
          "output_type": "stream",
          "text": [
            "Trial 3: AUC macro=0.56021, params={'n_estimators': 330, 'learning_rate': 0.36477987252113264, 'algorithm': 'SAMME', 'max_depth': 1}\n"
          ]
        },
        {
          "name": "stderr",
          "output_type": "stream",
          "text": [
            "[I 2025-06-20 21:51:55,457] Trial 4 finished with value: -0.5443716752084365 and parameters: {'n_estimators': 112, 'learning_rate': 0.8266797749008274, 'algorithm': 'SAMME', 'max_depth': 1}. Best is trial 3 with value: -0.5602090403851625.\n"
          ]
        },
        {
          "name": "stdout",
          "output_type": "stream",
          "text": [
            "Trial 4: AUC macro=0.54437, params={'n_estimators': 112, 'learning_rate': 0.8266797749008274, 'algorithm': 'SAMME', 'max_depth': 1}\n"
          ]
        },
        {
          "name": "stderr",
          "output_type": "stream",
          "text": [
            "[I 2025-06-20 21:52:03,529] Trial 5 finished with value: -0.5457346462309258 and parameters: {'n_estimators': 271, 'learning_rate': 0.9288041121392525, 'algorithm': 'SAMME', 'max_depth': 2}. Best is trial 3 with value: -0.5602090403851625.\n"
          ]
        },
        {
          "name": "stdout",
          "output_type": "stream",
          "text": [
            "Trial 5: AUC macro=0.54573, params={'n_estimators': 271, 'learning_rate': 0.9288041121392525, 'algorithm': 'SAMME', 'max_depth': 2}\n"
          ]
        },
        {
          "name": "stderr",
          "output_type": "stream",
          "text": [
            "[I 2025-06-20 21:52:29,172] Trial 6 finished with value: -0.5709246182712622 and parameters: {'n_estimators': 373, 'learning_rate': 0.40549705131265157, 'algorithm': 'SAMME', 'max_depth': 4}. Best is trial 6 with value: -0.5709246182712622.\n"
          ]
        },
        {
          "name": "stdout",
          "output_type": "stream",
          "text": [
            "Trial 6: AUC macro=0.57092, params={'n_estimators': 373, 'learning_rate': 0.40549705131265157, 'algorithm': 'SAMME', 'max_depth': 4}\n"
          ]
        },
        {
          "name": "stderr",
          "output_type": "stream",
          "text": [
            "[I 2025-06-20 21:53:10,886] Trial 7 finished with value: -0.5604372456088724 and parameters: {'n_estimators': 138, 'learning_rate': 0.7367163421025169, 'algorithm': 'SAMME', 'max_depth': 5}. Best is trial 6 with value: -0.5709246182712622.\n"
          ]
        },
        {
          "name": "stdout",
          "output_type": "stream",
          "text": [
            "Trial 7: AUC macro=0.56044, params={'n_estimators': 138, 'learning_rate': 0.7367163421025169, 'algorithm': 'SAMME', 'max_depth': 5}\n"
          ]
        },
        {
          "name": "stderr",
          "output_type": "stream",
          "text": [
            "[I 2025-06-20 21:55:07,761] Trial 8 finished with value: -0.5861560398012411 and parameters: {'n_estimators': 391, 'learning_rate': 0.056550327769629344, 'algorithm': 'SAMME', 'max_depth': 3}. Best is trial 8 with value: -0.5861560398012411.\n"
          ]
        },
        {
          "name": "stdout",
          "output_type": "stream",
          "text": [
            "Trial 8: AUC macro=0.58616, params={'n_estimators': 391, 'learning_rate': 0.056550327769629344, 'algorithm': 'SAMME', 'max_depth': 3}\n"
          ]
        },
        {
          "name": "stderr",
          "output_type": "stream",
          "text": [
            "[I 2025-06-20 21:55:23,316] Trial 9 finished with value: -0.5822555807705083 and parameters: {'n_estimators': 337, 'learning_rate': 0.08049117810555995, 'algorithm': 'SAMME', 'max_depth': 1}. Best is trial 8 with value: -0.5861560398012411.\n"
          ]
        },
        {
          "name": "stdout",
          "output_type": "stream",
          "text": [
            "Trial 9: AUC macro=0.58226, params={'n_estimators': 337, 'learning_rate': 0.08049117810555995, 'algorithm': 'SAMME', 'max_depth': 1}\n"
          ]
        },
        {
          "name": "stderr",
          "output_type": "stream",
          "text": [
            "[I 2025-06-20 22:10:26,782] Trial 10 finished with value: -0.5818979272158151 and parameters: {'n_estimators': 201, 'learning_rate': 0.033930749261035384, 'algorithm': 'SAMME.R', 'max_depth': 3}. Best is trial 8 with value: -0.5861560398012411.\n"
          ]
        },
        {
          "name": "stdout",
          "output_type": "stream",
          "text": [
            "Trial 10: AUC macro=0.58190, params={'n_estimators': 201, 'learning_rate': 0.033930749261035384, 'algorithm': 'SAMME.R', 'max_depth': 3}\n"
          ]
        },
        {
          "name": "stderr",
          "output_type": "stream",
          "text": [
            "[I 2025-06-20 22:21:36,302] Trial 11 finished with value: -0.5878076910248977 and parameters: {'n_estimators': 397, 'learning_rate': 0.010340757975254994, 'algorithm': 'SAMME', 'max_depth': 3}. Best is trial 11 with value: -0.5878076910248977.\n"
          ]
        },
        {
          "name": "stdout",
          "output_type": "stream",
          "text": [
            "Trial 11: AUC macro=0.58781, params={'n_estimators': 397, 'learning_rate': 0.010340757975254994, 'algorithm': 'SAMME', 'max_depth': 3}\n"
          ]
        },
        {
          "name": "stderr",
          "output_type": "stream",
          "text": [
            "[I 2025-06-20 22:22:08,084] Trial 12 finished with value: -0.579705536508173 and parameters: {'n_estimators': 390, 'learning_rate': 0.1935262784095668, 'algorithm': 'SAMME', 'max_depth': 3}. Best is trial 11 with value: -0.5878076910248977.\n"
          ]
        },
        {
          "name": "stdout",
          "output_type": "stream",
          "text": [
            "Trial 12: AUC macro=0.57971, params={'n_estimators': 390, 'learning_rate': 0.1935262784095668, 'algorithm': 'SAMME', 'max_depth': 3}\n"
          ]
        },
        {
          "name": "stderr",
          "output_type": "stream",
          "text": [
            "[I 2025-06-20 22:22:56,587] Trial 13 finished with value: -0.5791744846690401 and parameters: {'n_estimators': 269, 'learning_rate': 0.2011149680221418, 'algorithm': 'SAMME', 'max_depth': 4}. Best is trial 11 with value: -0.5878076910248977.\n"
          ]
        },
        {
          "name": "stdout",
          "output_type": "stream",
          "text": [
            "Trial 13: AUC macro=0.57917, params={'n_estimators': 269, 'learning_rate': 0.2011149680221418, 'algorithm': 'SAMME', 'max_depth': 4}\n"
          ]
        },
        {
          "name": "stderr",
          "output_type": "stream",
          "text": [
            "[I 2025-06-20 22:43:18,024] Trial 14 finished with value: -0.5497914293055005 and parameters: {'n_estimators': 399, 'learning_rate': 0.18246652079182799, 'algorithm': 'SAMME.R', 'max_depth': 2}. Best is trial 11 with value: -0.5878076910248977.\n"
          ]
        },
        {
          "name": "stdout",
          "output_type": "stream",
          "text": [
            "Trial 14: AUC macro=0.54979, params={'n_estimators': 399, 'learning_rate': 0.18246652079182799, 'algorithm': 'SAMME.R', 'max_depth': 2}\n"
          ]
        },
        {
          "name": "stderr",
          "output_type": "stream",
          "text": [
            "[I 2025-06-20 22:45:07,375] Trial 15 finished with value: -0.5865475309556155 and parameters: {'n_estimators': 55, 'learning_rate': 0.05623377206433439, 'algorithm': 'SAMME', 'max_depth': 3}. Best is trial 11 with value: -0.5878076910248977.\n"
          ]
        },
        {
          "name": "stdout",
          "output_type": "stream",
          "text": [
            "Trial 15: AUC macro=0.58655, params={'n_estimators': 55, 'learning_rate': 0.05623377206433439, 'algorithm': 'SAMME', 'max_depth': 3}\n"
          ]
        },
        {
          "name": "stderr",
          "output_type": "stream",
          "text": [
            "[I 2025-06-20 22:45:38,096] Trial 16 finished with value: -0.577896690789536 and parameters: {'n_estimators': 72, 'learning_rate': 0.24860158422158168, 'algorithm': 'SAMME', 'max_depth': 3}. Best is trial 11 with value: -0.5878076910248977.\n"
          ]
        },
        {
          "name": "stdout",
          "output_type": "stream",
          "text": [
            "Trial 16: AUC macro=0.57790, params={'n_estimators': 72, 'learning_rate': 0.24860158422158168, 'algorithm': 'SAMME', 'max_depth': 3}\n"
          ]
        },
        {
          "name": "stderr",
          "output_type": "stream",
          "text": [
            "[I 2025-06-20 22:46:17,757] Trial 17 finished with value: -0.5666978325064576 and parameters: {'n_estimators': 195, 'learning_rate': 0.6214854945430567, 'algorithm': 'SAMME', 'max_depth': 5}. Best is trial 11 with value: -0.5878076910248977.\n"
          ]
        },
        {
          "name": "stdout",
          "output_type": "stream",
          "text": [
            "Trial 17: AUC macro=0.56670, params={'n_estimators': 195, 'learning_rate': 0.6214854945430567, 'algorithm': 'SAMME', 'max_depth': 5}\n"
          ]
        },
        {
          "name": "stderr",
          "output_type": "stream",
          "text": [
            "[I 2025-06-20 22:51:37,584] Trial 18 finished with value: -0.5864424329593925 and parameters: {'n_estimators': 57, 'learning_rate': 0.018981935252116236, 'algorithm': 'SAMME.R', 'max_depth': 4}. Best is trial 11 with value: -0.5878076910248977.\n"
          ]
        },
        {
          "name": "stdout",
          "output_type": "stream",
          "text": [
            "Trial 18: AUC macro=0.58644, params={'n_estimators': 57, 'learning_rate': 0.018981935252116236, 'algorithm': 'SAMME.R', 'max_depth': 4}\n"
          ]
        },
        {
          "name": "stderr",
          "output_type": "stream",
          "text": [
            "[I 2025-06-20 22:51:45,770] Trial 19 finished with value: -0.5516984635847422 and parameters: {'n_estimators': 266, 'learning_rate': 0.5587166808397125, 'algorithm': 'SAMME', 'max_depth': 2}. Best is trial 11 with value: -0.5878076910248977.\n"
          ]
        },
        {
          "name": "stdout",
          "output_type": "stream",
          "text": [
            "Trial 19: AUC macro=0.55170, params={'n_estimators': 266, 'learning_rate': 0.5587166808397125, 'algorithm': 'SAMME', 'max_depth': 2}\n"
          ]
        },
        {
          "name": "stderr",
          "output_type": "stream",
          "text": [
            "[I 2025-06-20 22:52:33,356] Trial 20 finished with value: -0.5808592988882677 and parameters: {'n_estimators': 160, 'learning_rate': 0.1420173266313767, 'algorithm': 'SAMME', 'max_depth': 4}. Best is trial 11 with value: -0.5878076910248977.\n"
          ]
        },
        {
          "name": "stdout",
          "output_type": "stream",
          "text": [
            "Trial 20: AUC macro=0.58086, params={'n_estimators': 160, 'learning_rate': 0.1420173266313767, 'algorithm': 'SAMME', 'max_depth': 4}\n"
          ]
        },
        {
          "name": "stderr",
          "output_type": "stream",
          "text": [
            "[I 2025-06-20 22:57:10,281] Trial 21 finished with value: -0.5840405463255662 and parameters: {'n_estimators': 50, 'learning_rate': 0.018147648921877035, 'algorithm': 'SAMME.R', 'max_depth': 4}. Best is trial 11 with value: -0.5878076910248977.\n"
          ]
        },
        {
          "name": "stdout",
          "output_type": "stream",
          "text": [
            "Trial 21: AUC macro=0.58404, params={'n_estimators': 50, 'learning_rate': 0.018147648921877035, 'algorithm': 'SAMME.R', 'max_depth': 4}\n"
          ]
        },
        {
          "name": "stderr",
          "output_type": "stream",
          "text": [
            "[I 2025-06-20 23:02:44,611] Trial 22 finished with value: -0.5534333975717021 and parameters: {'n_estimators': 80, 'learning_rate': 0.27206865081505854, 'algorithm': 'SAMME.R', 'max_depth': 3}. Best is trial 11 with value: -0.5878076910248977.\n"
          ]
        },
        {
          "name": "stdout",
          "output_type": "stream",
          "text": [
            "Trial 22: AUC macro=0.55343, params={'n_estimators': 80, 'learning_rate': 0.27206865081505854, 'algorithm': 'SAMME.R', 'max_depth': 3}\n"
          ]
        },
        {
          "name": "stderr",
          "output_type": "stream",
          "text": [
            "[I 2025-06-20 23:15:29,489] Trial 23 finished with value: -0.5327521763216415 and parameters: {'n_estimators': 105, 'learning_rate': 0.1177995465653538, 'algorithm': 'SAMME.R', 'max_depth': 5}. Best is trial 11 with value: -0.5878076910248977.\n"
          ]
        },
        {
          "name": "stdout",
          "output_type": "stream",
          "text": [
            "Trial 23: AUC macro=0.53275, params={'n_estimators': 105, 'learning_rate': 0.1177995465653538, 'algorithm': 'SAMME.R', 'max_depth': 5}\n"
          ]
        },
        {
          "name": "stderr",
          "output_type": "stream",
          "text": [
            "[I 2025-06-20 23:20:25,550] Trial 24 finished with value: -0.5850280577235422 and parameters: {'n_estimators': 51, 'learning_rate': 0.014500823101106376, 'algorithm': 'SAMME.R', 'max_depth': 4}. Best is trial 11 with value: -0.5878076910248977.\n"
          ]
        },
        {
          "name": "stdout",
          "output_type": "stream",
          "text": [
            "Trial 24: AUC macro=0.58503, params={'n_estimators': 51, 'learning_rate': 0.014500823101106376, 'algorithm': 'SAMME.R', 'max_depth': 4}\n"
          ]
        },
        {
          "name": "stderr",
          "output_type": "stream",
          "text": [
            "[I 2025-06-20 23:31:48,569] Trial 25 finished with value: -0.5405766782995398 and parameters: {'n_estimators': 152, 'learning_rate': 0.29688012350748466, 'algorithm': 'SAMME.R', 'max_depth': 3}. Best is trial 11 with value: -0.5878076910248977.\n"
          ]
        },
        {
          "name": "stdout",
          "output_type": "stream",
          "text": [
            "Trial 25: AUC macro=0.54058, params={'n_estimators': 152, 'learning_rate': 0.29688012350748466, 'algorithm': 'SAMME.R', 'max_depth': 3}\n"
          ]
        },
        {
          "name": "stderr",
          "output_type": "stream",
          "text": [
            "[I 2025-06-20 23:49:00,125] Trial 26 finished with value: -0.5350983884900185 and parameters: {'n_estimators': 232, 'learning_rate': 0.12523328241032694, 'algorithm': 'SAMME.R', 'max_depth': 3}. Best is trial 11 with value: -0.5878076910248977.\n"
          ]
        },
        {
          "name": "stdout",
          "output_type": "stream",
          "text": [
            "Trial 26: AUC macro=0.53510, params={'n_estimators': 232, 'learning_rate': 0.12523328241032694, 'algorithm': 'SAMME.R', 'max_depth': 3}\n"
          ]
        },
        {
          "name": "stderr",
          "output_type": "stream",
          "text": [
            "[I 2025-06-20 23:50:44,923] Trial 27 finished with value: -0.578055001668273 and parameters: {'n_estimators': 110, 'learning_rate': 0.10893683656904544, 'algorithm': 'SAMME', 'max_depth': 2}. Best is trial 11 with value: -0.5878076910248977.\n"
          ]
        },
        {
          "name": "stdout",
          "output_type": "stream",
          "text": [
            "Trial 27: AUC macro=0.57806, params={'n_estimators': 110, 'learning_rate': 0.10893683656904544, 'algorithm': 'SAMME', 'max_depth': 2}\n"
          ]
        },
        {
          "name": "stderr",
          "output_type": "stream",
          "text": [
            "[I 2025-06-20 23:58:47,058] Trial 28 finished with value: -0.5855318543084002 and parameters: {'n_estimators': 84, 'learning_rate': 0.010864716185468212, 'algorithm': 'SAMME.R', 'max_depth': 4}. Best is trial 11 with value: -0.5878076910248977.\n"
          ]
        },
        {
          "name": "stdout",
          "output_type": "stream",
          "text": [
            "Trial 28: AUC macro=0.58553, params={'n_estimators': 84, 'learning_rate': 0.010864716185468212, 'algorithm': 'SAMME.R', 'max_depth': 4}\n"
          ]
        },
        {
          "name": "stderr",
          "output_type": "stream",
          "text": [
            "[I 2025-06-21 00:07:22,579] Trial 29 finished with value: -0.5583530885813566 and parameters: {'n_estimators': 175, 'learning_rate': 0.43948357339335037, 'algorithm': 'SAMME.R', 'max_depth': 2}. Best is trial 11 with value: -0.5878076910248977.\n"
          ]
        },
        {
          "name": "stdout",
          "output_type": "stream",
          "text": [
            "Trial 29: AUC macro=0.55835, params={'n_estimators': 175, 'learning_rate': 0.43948357339335037, 'algorithm': 'SAMME.R', 'max_depth': 2}\n",
            "Best AUC macro (AdaBoost): 0.5878076910248977\n",
            "Best params (AdaBoost): {'n_estimators': 397, 'learning_rate': 0.010340757975254994, 'algorithm': 'SAMME', 'max_depth': 3}\n"
          ]
        }
      ],
      "source": [
        "print(\"Tuning AdaBoost with Optuna (AUC macro) ta + fa + sa features\")\n",
        "\n",
        "def objective_adaboost(trial):\n",
        "    params = {\n",
        "        \"n_estimators\": trial.suggest_int(\"n_estimators\", 50, 400),\n",
        "        \"learning_rate\": trial.suggest_float(\"learning_rate\", 0.01, 1.0),\n",
        "        \"algorithm\": trial.suggest_categorical(\"algorithm\", [\"SAMME\", \"SAMME.R\"]),\n",
        "        # Nếu muốn giảm mất cân bằng, có thể dùng estimator có class_weight:\n",
        "        \"estimator\": DecisionTreeClassifier(max_depth=trial.suggest_int(\"max_depth\", 1, 5), class_weight=\"balanced\"),\n",
        "        \"random_state\": 42,\n",
        "    }\n",
        "\n",
        "    aucs = []\n",
        "    for train_idx, val_idx in folds:\n",
        "        X_train, X_val = X_with_sa[train_idx], X_with_sa[val_idx]\n",
        "        y_train_fold, y_val_fold = y.iloc[train_idx], y.iloc[val_idx]\n",
        "        model = AdaBoostClassifier(**params)\n",
        "        model.fit(X_train, y_train_fold)\n",
        "        # One-hot encode y_val_fold\n",
        "        y_val_bin = label_binarize(y_val_fold, classes=[0,1,2])\n",
        "        y_pred_proba = model.predict_proba(X_val)\n",
        "        # Nếu predict_proba trả về list (multioutput), cần stack lại\n",
        "        if isinstance(y_pred_proba, list):\n",
        "            y_pred_proba = np.stack([p[:,1] for p in y_pred_proba], axis=1)\n",
        "        auc_macro = roc_auc_score(y_val_bin, y_pred_proba, average=\"macro\", multi_class=\"ovr\")\n",
        "        aucs.append(auc_macro)\n",
        "    mean_auc = np.mean(aucs)\n",
        "    print(f\"Trial {trial.number}: AUC macro={mean_auc:.5f}, params={trial.params}\")\n",
        "    # Optuna sẽ maximize AUC macro\n",
        "    return -mean_auc\n",
        "\n",
        "study = optuna.create_study(direction=\"minimize\")\n",
        "study.optimize(objective_adaboost, n_trials=30)\n",
        "\n",
        "print(\"Best AUC macro (AdaBoost):\", -study.best_value)\n",
        "print(\"Best params (AdaBoost):\", study.best_trial.params)"
      ]
    },
    {
      "cell_type": "code",
      "execution_count": null,
      "metadata": {
        "execution": {
          "iopub.execute_input": "2025-06-21T00:31:19.17322Z",
          "iopub.status.busy": "2025-06-21T00:31:19.172718Z"
        },
        "id": "AwYuGffheuRN",
        "outputId": "36f69d23-5a3c-49f9-c411-ccca9ded04cb",
        "trusted": true
      },
      "outputs": [
        {
          "name": "stderr",
          "output_type": "stream",
          "text": [
            "[I 2025-06-21 00:32:03,679] Trial 30 finished with value: -0.5763197567943056 and parameters: {'n_estimators': 309, 'learning_rate': 0.21426487250081888, 'algorithm': 'SAMME', 'max_depth': 5}. Best is trial 11 with value: -0.5878076910248977.\n"
          ]
        },
        {
          "name": "stdout",
          "output_type": "stream",
          "text": [
            "Trial 30: AUC macro=0.57632, params={'n_estimators': 309, 'learning_rate': 0.21426487250081888, 'algorithm': 'SAMME', 'max_depth': 5}\n"
          ]
        },
        {
          "name": "stderr",
          "output_type": "stream",
          "text": [
            "[I 2025-06-21 00:33:19,007] Trial 31 finished with value: -0.5845517485785112 and parameters: {'n_estimators': 360, 'learning_rate': 0.07854990911030538, 'algorithm': 'SAMME', 'max_depth': 3}. Best is trial 11 with value: -0.5878076910248977.\n"
          ]
        },
        {
          "name": "stdout",
          "output_type": "stream",
          "text": [
            "Trial 31: AUC macro=0.58455, params={'n_estimators': 360, 'learning_rate': 0.07854990911030538, 'algorithm': 'SAMME', 'max_depth': 3}\n"
          ]
        },
        {
          "name": "stderr",
          "output_type": "stream",
          "text": [
            "[I 2025-06-21 00:39:28,363] Trial 32 finished with value: -0.5788408763832807 and parameters: {'n_estimators': 302, 'learning_rate': 0.1538448070643585, 'algorithm': 'SAMME', 'max_depth': 3}. Best is trial 11 with value: -0.5878076910248977.\n"
          ]
        },
        {
          "name": "stdout",
          "output_type": "stream",
          "text": [
            "Trial 32: AUC macro=0.57884, params={'n_estimators': 302, 'learning_rate': 0.1538448070643585, 'algorithm': 'SAMME', 'max_depth': 3}\n"
          ]
        },
        {
          "name": "stderr",
          "output_type": "stream",
          "text": [
            "[I 2025-06-21 00:40:36,410] Trial 33 finished with value: -0.5846023354796464 and parameters: {'n_estimators': 383, 'learning_rate': 0.07703534680717515, 'algorithm': 'SAMME', 'max_depth': 3}. Best is trial 11 with value: -0.5878076910248977.\n"
          ]
        },
        {
          "name": "stdout",
          "output_type": "stream",
          "text": [
            "Trial 33: AUC macro=0.58460, params={'n_estimators': 383, 'learning_rate': 0.07703534680717515, 'algorithm': 'SAMME', 'max_depth': 3}\n"
          ]
        },
        {
          "name": "stderr",
          "output_type": "stream",
          "text": [
            "[I 2025-06-21 00:40:55,616] Trial 34 finished with value: -0.5681185143715923 and parameters: {'n_estimators': 351, 'learning_rate': 0.3246441387617365, 'algorithm': 'SAMME', 'max_depth': 3}. Best is trial 11 with value: -0.5878076910248977.\n"
          ]
        },
        {
          "name": "stdout",
          "output_type": "stream",
          "text": [
            "Trial 34: AUC macro=0.56812, params={'n_estimators': 351, 'learning_rate': 0.3246441387617365, 'algorithm': 'SAMME', 'max_depth': 3}\n"
          ]
        },
        {
          "name": "stderr",
          "output_type": "stream",
          "text": [
            "[I 2025-06-21 00:44:53,987] Trial 35 finished with value: -0.5846970733148971 and parameters: {'n_estimators': 128, 'learning_rate': 0.06801224828703992, 'algorithm': 'SAMME', 'max_depth': 2}. Best is trial 11 with value: -0.5878076910248977.\n"
          ]
        },
        {
          "name": "stdout",
          "output_type": "stream",
          "text": [
            "Trial 35: AUC macro=0.58470, params={'n_estimators': 128, 'learning_rate': 0.06801224828703992, 'algorithm': 'SAMME', 'max_depth': 2}\n"
          ]
        },
        {
          "name": "stderr",
          "output_type": "stream",
          "text": [
            "[I 2025-06-21 00:45:31,605] Trial 36 finished with value: -0.5831576961724241 and parameters: {'n_estimators': 241, 'learning_rate': 0.22615839099374957, 'algorithm': 'SAMME', 'max_depth': 4}. Best is trial 11 with value: -0.5878076910248977.\n"
          ]
        },
        {
          "name": "stdout",
          "output_type": "stream",
          "text": [
            "Trial 36: AUC macro=0.58316, params={'n_estimators': 241, 'learning_rate': 0.22615839099374957, 'algorithm': 'SAMME', 'max_depth': 4}\n"
          ]
        },
        {
          "name": "stderr",
          "output_type": "stream",
          "text": [
            "[I 2025-06-21 00:45:56,462] Trial 37 finished with value: -0.5519643574673333 and parameters: {'n_estimators': 297, 'learning_rate': 0.9641158043738305, 'algorithm': 'SAMME', 'max_depth': 4}. Best is trial 11 with value: -0.5878076910248977.\n"
          ]
        },
        {
          "name": "stdout",
          "output_type": "stream",
          "text": [
            "Trial 37: AUC macro=0.55196, params={'n_estimators': 297, 'learning_rate': 0.9641158043738305, 'algorithm': 'SAMME', 'max_depth': 4}\n"
          ]
        },
        {
          "name": "stderr",
          "output_type": "stream",
          "text": [
            "[I 2025-06-21 00:46:06,268] Trial 38 finished with value: -0.5534762722948086 and parameters: {'n_estimators': 366, 'learning_rate': 0.496625567346272, 'algorithm': 'SAMME', 'max_depth': 2}. Best is trial 11 with value: -0.5878076910248977.\n"
          ]
        },
        {
          "name": "stdout",
          "output_type": "stream",
          "text": [
            "Trial 38: AUC macro=0.55348, params={'n_estimators': 366, 'learning_rate': 0.496625567346272, 'algorithm': 'SAMME', 'max_depth': 2}\n"
          ]
        },
        {
          "name": "stderr",
          "output_type": "stream",
          "text": [
            "[I 2025-06-21 01:10:06,829] Trial 39 finished with value: -0.5221281253557889 and parameters: {'n_estimators': 345, 'learning_rate': 0.38335677768564597, 'algorithm': 'SAMME.R', 'max_depth': 3}. Best is trial 11 with value: -0.5878076910248977.\n"
          ]
        },
        {
          "name": "stdout",
          "output_type": "stream",
          "text": [
            "Trial 39: AUC macro=0.52213, params={'n_estimators': 345, 'learning_rate': 0.38335677768564597, 'algorithm': 'SAMME.R', 'max_depth': 3}\n"
          ]
        },
        {
          "name": "stderr",
          "output_type": "stream",
          "text": [
            "[I 2025-06-21 01:10:32,306] Trial 40 finished with value: -0.5574941561093554 and parameters: {'n_estimators': 324, 'learning_rate': 0.6623907261506332, 'algorithm': 'SAMME', 'max_depth': 4}. Best is trial 11 with value: -0.5878076910248977.\n"
          ]
        },
        {
          "name": "stdout",
          "output_type": "stream",
          "text": [
            "Trial 40: AUC macro=0.55749, params={'n_estimators': 324, 'learning_rate': 0.6623907261506332, 'algorithm': 'SAMME', 'max_depth': 4}\n"
          ]
        },
        {
          "name": "stderr",
          "output_type": "stream",
          "text": [
            "[I 2025-06-21 01:17:11,101] Trial 41 finished with value: -0.5840656389146079 and parameters: {'n_estimators': 73, 'learning_rate': 0.013941904084560579, 'algorithm': 'SAMME.R', 'max_depth': 4}. Best is trial 11 with value: -0.5878076910248977.\n"
          ]
        },
        {
          "name": "stdout",
          "output_type": "stream",
          "text": [
            "Trial 41: AUC macro=0.58407, params={'n_estimators': 73, 'learning_rate': 0.013941904084560579, 'algorithm': 'SAMME.R', 'max_depth': 4}\n"
          ]
        },
        {
          "name": "stderr",
          "output_type": "stream",
          "text": [
            "[I 2025-06-21 01:25:15,513] Trial 42 finished with value: -0.5672874394564765 and parameters: {'n_estimators': 88, 'learning_rate': 0.05564351311307061, 'algorithm': 'SAMME.R', 'max_depth': 4}. Best is trial 11 with value: -0.5878076910248977.\n"
          ]
        },
        {
          "name": "stdout",
          "output_type": "stream",
          "text": [
            "Trial 42: AUC macro=0.56729, params={'n_estimators': 88, 'learning_rate': 0.05564351311307061, 'algorithm': 'SAMME.R', 'max_depth': 4}\n"
          ]
        },
        {
          "name": "stderr",
          "output_type": "stream",
          "text": [
            "[I 2025-06-21 01:29:54,359] Trial 43 finished with value: -0.5774285542517398 and parameters: {'n_estimators': 64, 'learning_rate': 0.16205894591200737, 'algorithm': 'SAMME.R', 'max_depth': 3}. Best is trial 11 with value: -0.5878076910248977.\n"
          ]
        },
        {
          "name": "stdout",
          "output_type": "stream",
          "text": [
            "Trial 43: AUC macro=0.57743, params={'n_estimators': 64, 'learning_rate': 0.16205894591200737, 'algorithm': 'SAMME.R', 'max_depth': 3}\n"
          ]
        },
        {
          "name": "stderr",
          "output_type": "stream",
          "text": [
            "[I 2025-06-21 01:41:55,313] Trial 44 finished with value: -0.5550755538777806 and parameters: {'n_estimators': 126, 'learning_rate': 0.10771855752236018, 'algorithm': 'SAMME.R', 'max_depth': 4}. Best is trial 11 with value: -0.5878076910248977.\n"
          ]
        },
        {
          "name": "stdout",
          "output_type": "stream",
          "text": [
            "Trial 44: AUC macro=0.55508, params={'n_estimators': 126, 'learning_rate': 0.10771855752236018, 'algorithm': 'SAMME.R', 'max_depth': 4}\n"
          ]
        },
        {
          "name": "stderr",
          "output_type": "stream",
          "text": [
            "[I 2025-06-21 01:52:56,526] Trial 45 finished with value: -0.5120669265409321 and parameters: {'n_estimators': 94, 'learning_rate': 0.8771789665668993, 'algorithm': 'SAMME.R', 'max_depth': 5}. Best is trial 11 with value: -0.5878076910248977.\n"
          ]
        },
        {
          "name": "stdout",
          "output_type": "stream",
          "text": [
            "Trial 45: AUC macro=0.51207, params={'n_estimators': 94, 'learning_rate': 0.8771789665668993, 'algorithm': 'SAMME.R', 'max_depth': 5}\n"
          ]
        },
        {
          "name": "stderr",
          "output_type": "stream",
          "text": [
            "[I 2025-06-21 01:56:01,064] Trial 46 finished with value: -0.585227896300929 and parameters: {'n_estimators': 96, 'learning_rate': 0.06420611454096764, 'algorithm': 'SAMME', 'max_depth': 3}. Best is trial 11 with value: -0.5878076910248977.\n"
          ]
        },
        {
          "name": "stdout",
          "output_type": "stream",
          "text": [
            "Trial 46: AUC macro=0.58523, params={'n_estimators': 96, 'learning_rate': 0.06420611454096764, 'algorithm': 'SAMME', 'max_depth': 3}\n"
          ]
        }
      ],
      "source": [
        "study.optimize(objective_adaboost, n_trials=20)\n",
        "print(\"Best AUC macro (AdaBoost):\", -study.best_value)\n",
        "print(\"Best params (AdaBoost):\", study.best_trial.params)"
      ]
    },
    {
      "cell_type": "markdown",
      "metadata": {
        "id": "fB8JpvL86Xeg"
      },
      "source": []
    }
  ],
  "metadata": {
    "colab": {
      "name": "AdaBoost_bayes_optimization_out_perf_vn30_with_sa",
      "provenance": []
    },
    "kaggle": {
      "accelerator": "gpu",
      "dataSources": [
        {
          "datasetId": 7701856,
          "sourceId": 12224613,
          "sourceType": "datasetVersion"
        },
        {
          "datasetId": 7701863,
          "sourceId": 12224622,
          "sourceType": "datasetVersion"
        }
      ],
      "dockerImageVersionId": 31041,
      "isGpuEnabled": true,
      "isInternetEnabled": true,
      "language": "python",
      "sourceType": "notebook"
    },
    "kernelspec": {
      "display_name": "Python 3",
      "language": "python",
      "name": "python3"
    },
    "language_info": {
      "codemirror_mode": {
        "name": "ipython",
        "version": 3
      },
      "file_extension": ".py",
      "mimetype": "text/x-python",
      "name": "python",
      "nbconvert_exporter": "python",
      "pygments_lexer": "ipython3",
      "version": "3.11.11"
    }
  },
  "nbformat": 4,
  "nbformat_minor": 0
}
